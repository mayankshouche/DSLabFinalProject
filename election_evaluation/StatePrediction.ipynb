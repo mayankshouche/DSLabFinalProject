{
  "nbformat": 4,
  "nbformat_minor": 0,
  "metadata": {
    "colab": {
      "name": "StatePrediction.ipynb",
      "provenance": [],
      "toc_visible": true
    },
    "kernelspec": {
      "name": "python3",
      "display_name": "Python 3"
    },
    "accelerator": "GPU"
  },
  "cells": [
    {
      "cell_type": "code",
      "metadata": {
        "colab": {
          "base_uri": "https://localhost:8080/"
        },
        "id": "XXAIQvn6xKMk",
        "outputId": "2556c1d3-75dc-4a3d-9f77-fe4ef6df25ff"
      },
      "source": [
        "!pip install transformers tweet-preprocessor "
      ],
      "execution_count": 4,
      "outputs": [
        {
          "output_type": "stream",
          "text": [
            "Collecting transformers\n",
            "\u001b[?25l  Downloading https://files.pythonhosted.org/packages/ed/db/98c3ea1a78190dac41c0127a063abf92bd01b4b0b6970a6db1c2f5b66fa0/transformers-4.0.1-py3-none-any.whl (1.4MB)\n",
            "\r\u001b[K     |▎                               | 10kB 21.0MB/s eta 0:00:01\r\u001b[K     |▌                               | 20kB 15.6MB/s eta 0:00:01\r\u001b[K     |▊                               | 30kB 15.0MB/s eta 0:00:01\r\u001b[K     |█                               | 40kB 14.8MB/s eta 0:00:01\r\u001b[K     |█▏                              | 51kB 11.5MB/s eta 0:00:01\r\u001b[K     |█▌                              | 61kB 11.6MB/s eta 0:00:01\r\u001b[K     |█▊                              | 71kB 11.2MB/s eta 0:00:01\r\u001b[K     |██                              | 81kB 12.3MB/s eta 0:00:01\r\u001b[K     |██▏                             | 92kB 13.1MB/s eta 0:00:01\r\u001b[K     |██▍                             | 102kB 12.3MB/s eta 0:00:01\r\u001b[K     |██▋                             | 112kB 12.3MB/s eta 0:00:01\r\u001b[K     |███                             | 122kB 12.3MB/s eta 0:00:01\r\u001b[K     |███▏                            | 133kB 12.3MB/s eta 0:00:01\r\u001b[K     |███▍                            | 143kB 12.3MB/s eta 0:00:01\r\u001b[K     |███▋                            | 153kB 12.3MB/s eta 0:00:01\r\u001b[K     |███▉                            | 163kB 12.3MB/s eta 0:00:01\r\u001b[K     |████▏                           | 174kB 12.3MB/s eta 0:00:01\r\u001b[K     |████▍                           | 184kB 12.3MB/s eta 0:00:01\r\u001b[K     |████▋                           | 194kB 12.3MB/s eta 0:00:01\r\u001b[K     |████▉                           | 204kB 12.3MB/s eta 0:00:01\r\u001b[K     |█████                           | 215kB 12.3MB/s eta 0:00:01\r\u001b[K     |█████▎                          | 225kB 12.3MB/s eta 0:00:01\r\u001b[K     |█████▋                          | 235kB 12.3MB/s eta 0:00:01\r\u001b[K     |█████▉                          | 245kB 12.3MB/s eta 0:00:01\r\u001b[K     |██████                          | 256kB 12.3MB/s eta 0:00:01\r\u001b[K     |██████▎                         | 266kB 12.3MB/s eta 0:00:01\r\u001b[K     |██████▌                         | 276kB 12.3MB/s eta 0:00:01\r\u001b[K     |██████▉                         | 286kB 12.3MB/s eta 0:00:01\r\u001b[K     |███████                         | 296kB 12.3MB/s eta 0:00:01\r\u001b[K     |███████▎                        | 307kB 12.3MB/s eta 0:00:01\r\u001b[K     |███████▌                        | 317kB 12.3MB/s eta 0:00:01\r\u001b[K     |███████▊                        | 327kB 12.3MB/s eta 0:00:01\r\u001b[K     |████████                        | 337kB 12.3MB/s eta 0:00:01\r\u001b[K     |████████▎                       | 348kB 12.3MB/s eta 0:00:01\r\u001b[K     |████████▌                       | 358kB 12.3MB/s eta 0:00:01\r\u001b[K     |████████▊                       | 368kB 12.3MB/s eta 0:00:01\r\u001b[K     |█████████                       | 378kB 12.3MB/s eta 0:00:01\r\u001b[K     |█████████▏                      | 389kB 12.3MB/s eta 0:00:01\r\u001b[K     |█████████▌                      | 399kB 12.3MB/s eta 0:00:01\r\u001b[K     |█████████▊                      | 409kB 12.3MB/s eta 0:00:01\r\u001b[K     |██████████                      | 419kB 12.3MB/s eta 0:00:01\r\u001b[K     |██████████▏                     | 430kB 12.3MB/s eta 0:00:01\r\u001b[K     |██████████▍                     | 440kB 12.3MB/s eta 0:00:01\r\u001b[K     |██████████▋                     | 450kB 12.3MB/s eta 0:00:01\r\u001b[K     |███████████                     | 460kB 12.3MB/s eta 0:00:01\r\u001b[K     |███████████▏                    | 471kB 12.3MB/s eta 0:00:01\r\u001b[K     |███████████▍                    | 481kB 12.3MB/s eta 0:00:01\r\u001b[K     |███████████▋                    | 491kB 12.3MB/s eta 0:00:01\r\u001b[K     |███████████▉                    | 501kB 12.3MB/s eta 0:00:01\r\u001b[K     |████████████▏                   | 512kB 12.3MB/s eta 0:00:01\r\u001b[K     |████████████▍                   | 522kB 12.3MB/s eta 0:00:01\r\u001b[K     |████████████▋                   | 532kB 12.3MB/s eta 0:00:01\r\u001b[K     |████████████▉                   | 542kB 12.3MB/s eta 0:00:01\r\u001b[K     |█████████████                   | 552kB 12.3MB/s eta 0:00:01\r\u001b[K     |█████████████▎                  | 563kB 12.3MB/s eta 0:00:01\r\u001b[K     |█████████████▋                  | 573kB 12.3MB/s eta 0:00:01\r\u001b[K     |█████████████▉                  | 583kB 12.3MB/s eta 0:00:01\r\u001b[K     |██████████████                  | 593kB 12.3MB/s eta 0:00:01\r\u001b[K     |██████████████▎                 | 604kB 12.3MB/s eta 0:00:01\r\u001b[K     |██████████████▌                 | 614kB 12.3MB/s eta 0:00:01\r\u001b[K     |██████████████▉                 | 624kB 12.3MB/s eta 0:00:01\r\u001b[K     |███████████████                 | 634kB 12.3MB/s eta 0:00:01\r\u001b[K     |███████████████▎                | 645kB 12.3MB/s eta 0:00:01\r\u001b[K     |███████████████▌                | 655kB 12.3MB/s eta 0:00:01\r\u001b[K     |███████████████▊                | 665kB 12.3MB/s eta 0:00:01\r\u001b[K     |████████████████                | 675kB 12.3MB/s eta 0:00:01\r\u001b[K     |████████████████▎               | 686kB 12.3MB/s eta 0:00:01\r\u001b[K     |████████████████▌               | 696kB 12.3MB/s eta 0:00:01\r\u001b[K     |████████████████▊               | 706kB 12.3MB/s eta 0:00:01\r\u001b[K     |█████████████████               | 716kB 12.3MB/s eta 0:00:01\r\u001b[K     |█████████████████▏              | 727kB 12.3MB/s eta 0:00:01\r\u001b[K     |█████████████████▌              | 737kB 12.3MB/s eta 0:00:01\r\u001b[K     |█████████████████▊              | 747kB 12.3MB/s eta 0:00:01\r\u001b[K     |██████████████████              | 757kB 12.3MB/s eta 0:00:01\r\u001b[K     |██████████████████▏             | 768kB 12.3MB/s eta 0:00:01\r\u001b[K     |██████████████████▍             | 778kB 12.3MB/s eta 0:00:01\r\u001b[K     |██████████████████▋             | 788kB 12.3MB/s eta 0:00:01\r\u001b[K     |███████████████████             | 798kB 12.3MB/s eta 0:00:01\r\u001b[K     |███████████████████▏            | 808kB 12.3MB/s eta 0:00:01\r\u001b[K     |███████████████████▍            | 819kB 12.3MB/s eta 0:00:01\r\u001b[K     |███████████████████▋            | 829kB 12.3MB/s eta 0:00:01\r\u001b[K     |███████████████████▉            | 839kB 12.3MB/s eta 0:00:01\r\u001b[K     |████████████████████▏           | 849kB 12.3MB/s eta 0:00:01\r\u001b[K     |████████████████████▍           | 860kB 12.3MB/s eta 0:00:01\r\u001b[K     |████████████████████▋           | 870kB 12.3MB/s eta 0:00:01\r\u001b[K     |████████████████████▉           | 880kB 12.3MB/s eta 0:00:01\r\u001b[K     |█████████████████████           | 890kB 12.3MB/s eta 0:00:01\r\u001b[K     |█████████████████████▎          | 901kB 12.3MB/s eta 0:00:01\r\u001b[K     |█████████████████████▋          | 911kB 12.3MB/s eta 0:00:01\r\u001b[K     |█████████████████████▉          | 921kB 12.3MB/s eta 0:00:01\r\u001b[K     |██████████████████████          | 931kB 12.3MB/s eta 0:00:01\r\u001b[K     |██████████████████████▎         | 942kB 12.3MB/s eta 0:00:01\r\u001b[K     |██████████████████████▌         | 952kB 12.3MB/s eta 0:00:01\r\u001b[K     |██████████████████████▊         | 962kB 12.3MB/s eta 0:00:01\r\u001b[K     |███████████████████████         | 972kB 12.3MB/s eta 0:00:01\r\u001b[K     |███████████████████████▎        | 983kB 12.3MB/s eta 0:00:01\r\u001b[K     |███████████████████████▌        | 993kB 12.3MB/s eta 0:00:01\r\u001b[K     |███████████████████████▊        | 1.0MB 12.3MB/s eta 0:00:01\r\u001b[K     |████████████████████████        | 1.0MB 12.3MB/s eta 0:00:01\r\u001b[K     |████████████████████████▎       | 1.0MB 12.3MB/s eta 0:00:01\r\u001b[K     |████████████████████████▌       | 1.0MB 12.3MB/s eta 0:00:01\r\u001b[K     |████████████████████████▊       | 1.0MB 12.3MB/s eta 0:00:01\r\u001b[K     |█████████████████████████       | 1.1MB 12.3MB/s eta 0:00:01\r\u001b[K     |█████████████████████████▏      | 1.1MB 12.3MB/s eta 0:00:01\r\u001b[K     |█████████████████████████▍      | 1.1MB 12.3MB/s eta 0:00:01\r\u001b[K     |█████████████████████████▊      | 1.1MB 12.3MB/s eta 0:00:01\r\u001b[K     |██████████████████████████      | 1.1MB 12.3MB/s eta 0:00:01\r\u001b[K     |██████████████████████████▏     | 1.1MB 12.3MB/s eta 0:00:01\r\u001b[K     |██████████████████████████▍     | 1.1MB 12.3MB/s eta 0:00:01\r\u001b[K     |██████████████████████████▋     | 1.1MB 12.3MB/s eta 0:00:01\r\u001b[K     |███████████████████████████     | 1.1MB 12.3MB/s eta 0:00:01\r\u001b[K     |███████████████████████████▏    | 1.1MB 12.3MB/s eta 0:00:01\r\u001b[K     |███████████████████████████▍    | 1.2MB 12.3MB/s eta 0:00:01\r\u001b[K     |███████████████████████████▋    | 1.2MB 12.3MB/s eta 0:00:01\r\u001b[K     |███████████████████████████▉    | 1.2MB 12.3MB/s eta 0:00:01\r\u001b[K     |████████████████████████████    | 1.2MB 12.3MB/s eta 0:00:01\r\u001b[K     |████████████████████████████▍   | 1.2MB 12.3MB/s eta 0:00:01\r\u001b[K     |████████████████████████████▋   | 1.2MB 12.3MB/s eta 0:00:01\r\u001b[K     |████████████████████████████▉   | 1.2MB 12.3MB/s eta 0:00:01\r\u001b[K     |█████████████████████████████   | 1.2MB 12.3MB/s eta 0:00:01\r\u001b[K     |█████████████████████████████▎  | 1.2MB 12.3MB/s eta 0:00:01\r\u001b[K     |█████████████████████████████▋  | 1.2MB 12.3MB/s eta 0:00:01\r\u001b[K     |█████████████████████████████▉  | 1.3MB 12.3MB/s eta 0:00:01\r\u001b[K     |██████████████████████████████  | 1.3MB 12.3MB/s eta 0:00:01\r\u001b[K     |██████████████████████████████▎ | 1.3MB 12.3MB/s eta 0:00:01\r\u001b[K     |██████████████████████████████▌ | 1.3MB 12.3MB/s eta 0:00:01\r\u001b[K     |██████████████████████████████▊ | 1.3MB 12.3MB/s eta 0:00:01\r\u001b[K     |███████████████████████████████ | 1.3MB 12.3MB/s eta 0:00:01\r\u001b[K     |███████████████████████████████▎| 1.3MB 12.3MB/s eta 0:00:01\r\u001b[K     |███████████████████████████████▌| 1.3MB 12.3MB/s eta 0:00:01\r\u001b[K     |███████████████████████████████▊| 1.3MB 12.3MB/s eta 0:00:01\r\u001b[K     |████████████████████████████████| 1.4MB 12.3MB/s eta 0:00:01\r\u001b[K     |████████████████████████████████| 1.4MB 12.3MB/s \n",
            "\u001b[?25hCollecting tweet-preprocessor\n",
            "  Downloading https://files.pythonhosted.org/packages/17/9d/71bd016a9edcef8860c607e531f30bd09b13103c7951ae73dd2bf174163c/tweet_preprocessor-0.6.0-py3-none-any.whl\n",
            "Requirement already satisfied: dataclasses; python_version < \"3.7\" in /usr/local/lib/python3.6/dist-packages (from transformers) (0.8)\n",
            "Requirement already satisfied: packaging in /usr/local/lib/python3.6/dist-packages (from transformers) (20.4)\n",
            "Collecting tokenizers==0.9.4\n",
            "\u001b[?25l  Downloading https://files.pythonhosted.org/packages/0f/1c/e789a8b12e28be5bc1ce2156cf87cb522b379be9cadc7ad8091a4cc107c4/tokenizers-0.9.4-cp36-cp36m-manylinux2010_x86_64.whl (2.9MB)\n",
            "\u001b[K     |████████████████████████████████| 2.9MB 57.5MB/s \n",
            "\u001b[?25hRequirement already satisfied: tqdm>=4.27 in /usr/local/lib/python3.6/dist-packages (from transformers) (4.41.1)\n",
            "Collecting sacremoses\n",
            "\u001b[?25l  Downloading https://files.pythonhosted.org/packages/7d/34/09d19aff26edcc8eb2a01bed8e98f13a1537005d31e95233fd48216eed10/sacremoses-0.0.43.tar.gz (883kB)\n",
            "\u001b[K     |████████████████████████████████| 890kB 54.0MB/s \n",
            "\u001b[?25hRequirement already satisfied: regex!=2019.12.17 in /usr/local/lib/python3.6/dist-packages (from transformers) (2019.12.20)\n",
            "Requirement already satisfied: filelock in /usr/local/lib/python3.6/dist-packages (from transformers) (3.0.12)\n",
            "Requirement already satisfied: requests in /usr/local/lib/python3.6/dist-packages (from transformers) (2.23.0)\n",
            "Requirement already satisfied: numpy in /usr/local/lib/python3.6/dist-packages (from transformers) (1.18.5)\n",
            "Requirement already satisfied: pyparsing>=2.0.2 in /usr/local/lib/python3.6/dist-packages (from packaging->transformers) (2.4.7)\n",
            "Requirement already satisfied: six in /usr/local/lib/python3.6/dist-packages (from packaging->transformers) (1.15.0)\n",
            "Requirement already satisfied: click in /usr/local/lib/python3.6/dist-packages (from sacremoses->transformers) (7.1.2)\n",
            "Requirement already satisfied: joblib in /usr/local/lib/python3.6/dist-packages (from sacremoses->transformers) (0.17.0)\n",
            "Requirement already satisfied: certifi>=2017.4.17 in /usr/local/lib/python3.6/dist-packages (from requests->transformers) (2020.11.8)\n",
            "Requirement already satisfied: idna<3,>=2.5 in /usr/local/lib/python3.6/dist-packages (from requests->transformers) (2.10)\n",
            "Requirement already satisfied: chardet<4,>=3.0.2 in /usr/local/lib/python3.6/dist-packages (from requests->transformers) (3.0.4)\n",
            "Requirement already satisfied: urllib3!=1.25.0,!=1.25.1,<1.26,>=1.21.1 in /usr/local/lib/python3.6/dist-packages (from requests->transformers) (1.24.3)\n",
            "Building wheels for collected packages: sacremoses\n",
            "  Building wheel for sacremoses (setup.py) ... \u001b[?25l\u001b[?25hdone\n",
            "  Created wheel for sacremoses: filename=sacremoses-0.0.43-cp36-none-any.whl size=893257 sha256=f77ca05520a84f5ca10a9b36be14824dca1f77ea23628567943709e4f26f7109\n",
            "  Stored in directory: /root/.cache/pip/wheels/29/3c/fd/7ce5c3f0666dab31a50123635e6fb5e19ceb42ce38d4e58f45\n",
            "Successfully built sacremoses\n",
            "Installing collected packages: tokenizers, sacremoses, transformers, tweet-preprocessor\n",
            "Successfully installed sacremoses-0.0.43 tokenizers-0.9.4 transformers-4.0.1 tweet-preprocessor-0.6.0\n"
          ],
          "name": "stdout"
        }
      ]
    },
    {
      "cell_type": "code",
      "metadata": {
        "id": "BFMbYORz3AKF"
      },
      "source": [
        "import pandas as pd\n",
        "import numpy as np\n",
        "import matplotlib.pyplot as plt\n",
        "import preprocessor as p # tweet-preprocessor\n",
        "import nltk\n",
        "import re\n",
        "import seaborn as sns\n",
        "import torch\n",
        "\n",
        "from transformers import BertTokenizer, BertForSequenceClassification, AdamW, get_linear_schedule_with_warmup\n",
        "from torch.utils.data import TensorDataset, DataLoader, RandomSampler, SequentialSampler"
      ],
      "execution_count": 5,
      "outputs": []
    },
    {
      "cell_type": "code",
      "metadata": {
        "colab": {
          "base_uri": "https://localhost:8080/",
          "height": 504
        },
        "id": "gUiPP5o88dcn",
        "outputId": "14b6b8d1-90b1-46e2-8d56-9581f2dc8630"
      },
      "source": [
        "# Give colab access to drive to load csv file\n",
        "filename = \"/content/drive/MyDrive/Junior Year/DSP Final Project/election_tweets_1M.csv\"\n",
        "chunksize = 10 ** 6\n",
        "df_main_analysis = pd.DataFrame()\n",
        "for chunk in pd.read_csv(filename, chunksize=chunksize, usecols=['created_at','user_location', 'text']):\n",
        "    df = chunk\n",
        "    df_main_analysis = pd.concat([df_main_analysis,df])\n",
        "    \n",
        "    \n",
        "df_main_analysis.rename(columns={\"user_location\": \"location\", \"text\": \"full_text\"}, inplace=True)\n",
        "df_main_analysis.drop_duplicates(inplace=True)\n",
        "df_main_analysis.reset_index(inplace=True)\n",
        "df_main_analysis['location'] = df_main_analysis['location'].astype(str)\n",
        "df_main_analysis['full_text'] = df_main_analysis['full_text'].astype(str)\n",
        "df_main_analysis['created_at'] = df_main_analysis['created_at'].astype(str)\n",
        "display(df_main_analysis)\n",
        "display(df_main_analysis.dtypes)"
      ],
      "execution_count": 6,
      "outputs": [
        {
          "output_type": "display_data",
          "data": {
            "text/html": [
              "<div>\n",
              "<style scoped>\n",
              "    .dataframe tbody tr th:only-of-type {\n",
              "        vertical-align: middle;\n",
              "    }\n",
              "\n",
              "    .dataframe tbody tr th {\n",
              "        vertical-align: top;\n",
              "    }\n",
              "\n",
              "    .dataframe thead th {\n",
              "        text-align: right;\n",
              "    }\n",
              "</style>\n",
              "<table border=\"1\" class=\"dataframe\">\n",
              "  <thead>\n",
              "    <tr style=\"text-align: right;\">\n",
              "      <th></th>\n",
              "      <th>index</th>\n",
              "      <th>created_at</th>\n",
              "      <th>full_text</th>\n",
              "      <th>location</th>\n",
              "    </tr>\n",
              "  </thead>\n",
              "  <tbody>\n",
              "    <tr>\n",
              "      <th>0</th>\n",
              "      <td>0</td>\n",
              "      <td>Sat Oct 24 05:43:05 +0000 2020</td>\n",
              "      <td>RT @MeidasTouch: I already voted for Joe Biden...</td>\n",
              "      <td>nan</td>\n",
              "    </tr>\n",
              "    <tr>\n",
              "      <th>1</th>\n",
              "      <td>1</td>\n",
              "      <td>Sat Oct 24 06:16:50 +0000 2020</td>\n",
              "      <td>RT @poutydobrik: THIS IS A REMINDER THAT KANYE...</td>\n",
              "      <td>Tucson, AZ</td>\n",
              "    </tr>\n",
              "    <tr>\n",
              "      <th>2</th>\n",
              "      <td>2</td>\n",
              "      <td>Thu Oct 22 10:24:17 +0000 2020</td>\n",
              "      <td>@Thorsha07820326 @Baddiel @realDonaldTrump Are...</td>\n",
              "      <td>South West, England</td>\n",
              "    </tr>\n",
              "    <tr>\n",
              "      <th>3</th>\n",
              "      <td>3</td>\n",
              "      <td>Tue Oct 13 04:00:04 +0000 2020</td>\n",
              "      <td>RT @RVAT2020: NEW AD: Former Director of the C...</td>\n",
              "      <td>Third rock from the sun</td>\n",
              "    </tr>\n",
              "    <tr>\n",
              "      <th>4</th>\n",
              "      <td>4</td>\n",
              "      <td>Sat Oct 31 08:44:41 +0000 2020</td>\n",
              "      <td>RT @tribelaw: “America has to be a functioning...</td>\n",
              "      <td>Georgia, USA</td>\n",
              "    </tr>\n",
              "    <tr>\n",
              "      <th>...</th>\n",
              "      <td>...</td>\n",
              "      <td>...</td>\n",
              "      <td>...</td>\n",
              "      <td>...</td>\n",
              "    </tr>\n",
              "    <tr>\n",
              "      <th>882953</th>\n",
              "      <td>948788</td>\n",
              "      <td>Sat Oct 17 19:15:14 +0000 2020</td>\n",
              "      <td>RT @WeHave2BeBetter: This dude every day is in...</td>\n",
              "      <td>nan</td>\n",
              "    </tr>\n",
              "    <tr>\n",
              "      <th>882954</th>\n",
              "      <td>948789</td>\n",
              "      <td>Tue Oct 27 04:09:33 +0000 2020</td>\n",
              "      <td>RT @SenRubioPress: El sen Rubio le envió una c...</td>\n",
              "      <td>Pembroke Pines, FL</td>\n",
              "    </tr>\n",
              "    <tr>\n",
              "      <th>882955</th>\n",
              "      <td>948790</td>\n",
              "      <td>Fri Oct 16 15:02:18 +0000 2020</td>\n",
              "      <td>RT @JoeBiden: President Obama and I left Donal...</td>\n",
              "      <td>nan</td>\n",
              "    </tr>\n",
              "    <tr>\n",
              "      <th>882956</th>\n",
              "      <td>948791</td>\n",
              "      <td>Tue Nov 03 14:22:26 +0000 2020</td>\n",
              "      <td>RT @JTHVerhovek: .@JoeBiden is stopping by Car...</td>\n",
              "      <td>Illinois</td>\n",
              "    </tr>\n",
              "    <tr>\n",
              "      <th>882957</th>\n",
              "      <td>948792</td>\n",
              "      <td>Sat Oct 17 04:02:22 +0000 2020</td>\n",
              "      <td>@benshapiro this is a serious question and I h...</td>\n",
              "      <td>nan</td>\n",
              "    </tr>\n",
              "  </tbody>\n",
              "</table>\n",
              "<p>882958 rows × 4 columns</p>\n",
              "</div>"
            ],
            "text/plain": [
              "         index  ...                 location\n",
              "0            0  ...                      nan\n",
              "1            1  ...               Tucson, AZ\n",
              "2            2  ...      South West, England\n",
              "3            3  ...  Third rock from the sun\n",
              "4            4  ...             Georgia, USA\n",
              "...        ...  ...                      ...\n",
              "882953  948788  ...                      nan\n",
              "882954  948789  ...       Pembroke Pines, FL\n",
              "882955  948790  ...                      nan\n",
              "882956  948791  ...                Illinois \n",
              "882957  948792  ...                      nan\n",
              "\n",
              "[882958 rows x 4 columns]"
            ]
          },
          "metadata": {
            "tags": []
          }
        },
        {
          "output_type": "display_data",
          "data": {
            "text/plain": [
              "index          int64\n",
              "created_at    object\n",
              "full_text     object\n",
              "location      object\n",
              "dtype: object"
            ]
          },
          "metadata": {
            "tags": []
          }
        }
      ]
    },
    {
      "cell_type": "code",
      "metadata": {
        "id": "sM24sHdix5fE"
      },
      "source": [
        "STATES_ABBREVIATIONS = [\"AL\", \"AK\", \"AZ\", \"AR\", \"CA\", \"CO\", \"CT\", \"DC\", \"DE\", \"FL\", \"GA\", \n",
        "          \"HI\", \"ID\", \"IL\", \"IN\", \"IA\", \"KS\", \"KY\", \"LA\", \"ME\", \"MD\", \n",
        "          \"MA\", \"MI\", \"MN\", \"MS\", \"MO\", \"MT\", \"NE\", \"NV\", \"NH\", \"NJ\", \n",
        "          \"NM\", \"NY\", \"NC\", \"ND\", \"OH\", \"OK\", \"OR\", \"PA\", \"RI\", \"SC\", \n",
        "          \"SD\", \"TN\", \"TX\", \"UT\", \"VT\", \"VA\", \"WA\", \"WV\", \"WI\", \"WY\"]\n",
        "\n",
        "STATE_NAMES = [\"Alaska\", \"Alabama\", \"Arkansas\", \"Arizona\", \n",
        "               \"California\", \"Colorado\", \"Connecticut\", \"Delaware\", \n",
        "               \"Florida\", \"Georgia\", \"Hawaii\", \"Iowa\", \"Idaho\", \n",
        "               \"Illinois\", \"Indiana\", \"Kansas\", \"Kentucky\", \"Louisiana\", \n",
        "               \"Massachusetts\", \"Maryland\", \"Maine\", \"Michigan\", \"Minnesota\", \n",
        "               \"Missouri\", \"Mississippi\", \"Montana\", \"North Carolina\", \n",
        "               \"North Dakota\", \"Nebraska\", \"New Hampshire\", \"New Jersey\", \n",
        "               \"New Mexico\", \"Nevada\", \"New York\", \"Ohio\", \"Oklahoma\", \"Oregon\", \n",
        "               \"Pennsylvania\", \"Rhode Island\", \"South Carolina\", \n",
        "               \"South Dakota\", \"Tennessee\", \"Texas\", \"Utah\", \"Virginia\", \n",
        "               \"Vermont\", \"Washington\", \"Wisconsin\", \"West Virginia\", \"Wyoming\"]\n",
        "\n",
        "STATES_FULL = {\"AL\":\"Alabama\",\"AK\":\"Alaska\",\"AZ\":\"Arizona\",\"AR\":\"Arkansas\",\n",
        "                        \"CA\":\"California\",\"CO\":\"Colorado\",\"CT\":\"Connecticut\",\n",
        "                        \"DE\":\"Delaware\", \"FL\":\"Florida\",\"GA\":\"Georgia\",\"HI\":\"Hawaii\",\n",
        "                        \"ID\":\"Idaho\",\"IL\":\"Illinois\",\"IN\":\"Indiana\",\"IA\":\"Iowa\",\n",
        "                        \"KS\":\"Kansas\",\"KY\":\"Kentucky\",\"LA\":\"Louisiana\",\"ME\":\"Maine\",\n",
        "                        \"MD\":\"Maryland\",\"MA\":\"Massachusetts\",\"MI\":\"Michigan\",\n",
        "                        \"MN\":\"Minnesota\",\"MS\":\"Mississippi\",\"MO\":\"Missouri\",\n",
        "                        \"MT\":\"Montana\",\"NE\":\"Nebraska\",\"NV\":\"Nevada\",\n",
        "                        \"NH\":\"New Hampshire\",\"NJ\":\"New Jersey\",\"NM\":\"New Mexico\",\n",
        "                        \"NY\":\"New York\",\"NC\":\"North Carolina\",\"ND\":\"North Dakota\",\n",
        "                        \"OH\":\"Ohio\",\"OK\":\"Oklahoma\",\"OR\":\"Oregon\",\"PA\":\"Pennsylvania\",\n",
        "                        \"RI\":\"Rhode Island\",\"SC\":\"South Carolina\",\"SD\":\"South Dakota\",\n",
        "                        \"TN\":\"Tennessee\",\"TX\":\"Texas\",\"UT\":\"Utah\",\"VT\":\"Vermont\",\n",
        "                        \"VA\":\"Virginia\",\"WA\":\"Washington\",\"WV\":\"West Virginia\",\n",
        "                        \"WI\":\"Wisconsin\",\"WY\":\"Wyoming\"}\n",
        "\n",
        "state_regex = re.compile('|'.join(STATES_ABBREVIATIONS + STATE_NAMES))\n",
        "STATES_ABBREVIATIONS = set(STATES_ABBREVIATIONS)"
      ],
      "execution_count": 7,
      "outputs": []
    },
    {
      "cell_type": "code",
      "metadata": {
        "id": "sMp2hzRwzjGu"
      },
      "source": [
        "for idx, row in df_main_analysis.iterrows():\n",
        "    state_match = state_regex.search(row[\"location\"])\n",
        "    if state_match:\n",
        "        df_main_analysis.at[idx, \"state\"] = state_match.group(0)\n",
        "#     else:\n",
        "#         df_main_analysis.at[idx, \"state\"] = state_match.group(0)\n",
        "\n",
        "        \n",
        "df_main_analysis.drop(df_main_analysis.index[df_main_analysis[\"state\"] == None], inplace=True)\n",
        "df_main_analysis.reset_index(drop=True, inplace=True)\n",
        "\n",
        "for idx, row in df_main_analysis.iterrows():\n",
        "    if row[\"state\"] in STATES_ABBREVIATIONS:\n",
        "        df_main_analysis.at[idx, \"state\"] = STATES_FULL.get(row[\"state\"], \"\")"
      ],
      "execution_count": 8,
      "outputs": []
    },
    {
      "cell_type": "code",
      "metadata": {
        "id": "LPirLgQq868o",
        "colab": {
          "base_uri": "https://localhost:8080/",
          "height": 419
        },
        "outputId": "b918eff4-2f2e-4923-a211-447c58be5e4a"
      },
      "source": [
        "df_main_analysis.dropna(inplace=True)\n",
        "df_main_analysis.reset_index(drop=True, inplace=True)\n",
        "\n",
        "df_main_analysis.drop(columns=[\"location\"], inplace=True)\n",
        "display(df_main_analysis)"
      ],
      "execution_count": 9,
      "outputs": [
        {
          "output_type": "display_data",
          "data": {
            "text/html": [
              "<div>\n",
              "<style scoped>\n",
              "    .dataframe tbody tr th:only-of-type {\n",
              "        vertical-align: middle;\n",
              "    }\n",
              "\n",
              "    .dataframe tbody tr th {\n",
              "        vertical-align: top;\n",
              "    }\n",
              "\n",
              "    .dataframe thead th {\n",
              "        text-align: right;\n",
              "    }\n",
              "</style>\n",
              "<table border=\"1\" class=\"dataframe\">\n",
              "  <thead>\n",
              "    <tr style=\"text-align: right;\">\n",
              "      <th></th>\n",
              "      <th>index</th>\n",
              "      <th>created_at</th>\n",
              "      <th>full_text</th>\n",
              "      <th>state</th>\n",
              "    </tr>\n",
              "  </thead>\n",
              "  <tbody>\n",
              "    <tr>\n",
              "      <th>0</th>\n",
              "      <td>1</td>\n",
              "      <td>Sat Oct 24 06:16:50 +0000 2020</td>\n",
              "      <td>RT @poutydobrik: THIS IS A REMINDER THAT KANYE...</td>\n",
              "      <td>Arizona</td>\n",
              "    </tr>\n",
              "    <tr>\n",
              "      <th>1</th>\n",
              "      <td>4</td>\n",
              "      <td>Sat Oct 31 08:44:41 +0000 2020</td>\n",
              "      <td>RT @tribelaw: “America has to be a functioning...</td>\n",
              "      <td>Georgia</td>\n",
              "    </tr>\n",
              "    <tr>\n",
              "      <th>2</th>\n",
              "      <td>6</td>\n",
              "      <td>Tue Oct 13 21:38:18 +0000 2020</td>\n",
              "      <td>@Cockofthewalk00 @ericsslater @ChuckGrassley @...</td>\n",
              "      <td>Indiana</td>\n",
              "    </tr>\n",
              "    <tr>\n",
              "      <th>3</th>\n",
              "      <td>7</td>\n",
              "      <td>Sun Nov 01 16:37:38 +0000 2020</td>\n",
              "      <td>RT @444findinghope: According to public record...</td>\n",
              "      <td>Maryland</td>\n",
              "    </tr>\n",
              "    <tr>\n",
              "      <th>4</th>\n",
              "      <td>9</td>\n",
              "      <td>Mon Oct 26 20:10:39 +0000 2020</td>\n",
              "      <td>RT @ProjectLincoln: This is Joe Biden’s moment...</td>\n",
              "      <td>North Carolina</td>\n",
              "    </tr>\n",
              "    <tr>\n",
              "      <th>...</th>\n",
              "      <td>...</td>\n",
              "      <td>...</td>\n",
              "      <td>...</td>\n",
              "      <td>...</td>\n",
              "    </tr>\n",
              "    <tr>\n",
              "      <th>281741</th>\n",
              "      <td>948777</td>\n",
              "      <td>Tue Oct 13 14:52:54 +0000 2020</td>\n",
              "      <td>RT @Jord_45: @JoeBiden China sure hopes so.</td>\n",
              "      <td>West Virginia</td>\n",
              "    </tr>\n",
              "    <tr>\n",
              "      <th>281742</th>\n",
              "      <td>948779</td>\n",
              "      <td>Sat Oct 17 14:54:19 +0000 2020</td>\n",
              "      <td>The man is delusional and should be removed fr...</td>\n",
              "      <td>Washington</td>\n",
              "    </tr>\n",
              "    <tr>\n",
              "      <th>281743</th>\n",
              "      <td>948784</td>\n",
              "      <td>Wed Oct 14 17:51:39 +0000 2020</td>\n",
              "      <td>@Adam_Puzio @ErrolWebber Riiiight, yet you’re ...</td>\n",
              "      <td>California</td>\n",
              "    </tr>\n",
              "    <tr>\n",
              "      <th>281744</th>\n",
              "      <td>948789</td>\n",
              "      <td>Tue Oct 27 04:09:33 +0000 2020</td>\n",
              "      <td>RT @SenRubioPress: El sen Rubio le envió una c...</td>\n",
              "      <td>Florida</td>\n",
              "    </tr>\n",
              "    <tr>\n",
              "      <th>281745</th>\n",
              "      <td>948791</td>\n",
              "      <td>Tue Nov 03 14:22:26 +0000 2020</td>\n",
              "      <td>RT @JTHVerhovek: .@JoeBiden is stopping by Car...</td>\n",
              "      <td>Illinois</td>\n",
              "    </tr>\n",
              "  </tbody>\n",
              "</table>\n",
              "<p>281746 rows × 4 columns</p>\n",
              "</div>"
            ],
            "text/plain": [
              "         index  ...           state\n",
              "0            1  ...         Arizona\n",
              "1            4  ...         Georgia\n",
              "2            6  ...         Indiana\n",
              "3            7  ...        Maryland\n",
              "4            9  ...  North Carolina\n",
              "...        ...  ...             ...\n",
              "281741  948777  ...   West Virginia\n",
              "281742  948779  ...      Washington\n",
              "281743  948784  ...      California\n",
              "281744  948789  ...         Florida\n",
              "281745  948791  ...        Illinois\n",
              "\n",
              "[281746 rows x 4 columns]"
            ]
          },
          "metadata": {
            "tags": []
          }
        }
      ]
    },
    {
      "cell_type": "code",
      "metadata": {
        "colab": {
          "base_uri": "https://localhost:8080/",
          "height": 221
        },
        "id": "VMQEgOn4zvNC",
        "outputId": "dbabf574-7714-4c78-bbfc-e482d880de52"
      },
      "source": [
        "def cleanTweet(row):\n",
        "    tweet = row[\"full_text\"]\n",
        "    tweet = str(p.clean(tweet))\n",
        "    tweet = re.sub(r'[^\\w\\s]', '', tweet) # punctuation\n",
        "    tweet = re.sub(\"^\\d+\\s|\\s\\d+\\s|\\s\\d+$\", \" \", tweet) # numbers\n",
        "    return tweet\n",
        "\n",
        "\n",
        "df_main_analysis[\"clean_text\"] = df_main_analysis.apply(lambda row: cleanTweet(row), axis=1)\n",
        "df_main_analysis['data_type'] = 'test'\n",
        "df_main_analysis['label'] = 'Democrat'\n",
        "display(df_main_analysis[\"clean_text\"])"
      ],
      "execution_count": 10,
      "outputs": [
        {
          "output_type": "display_data",
          "data": {
            "text/plain": [
              "0          THIS IS A REMINDER THAT KANYE WEST ADMITTED T...\n",
              "1          America has to be a functioning democracy bef...\n",
              "2                                                      True\n",
              "3          According to public record the big black truc...\n",
              "4                                 This is Joe Bidens moment\n",
              "                                ...                        \n",
              "281741                                  China sure hopes so\n",
              "281742    The man is delusional and should be removed fr...\n",
              "281743    Riiiight yet youre not citing your sources eit...\n",
              "281744     El sen Rubio le envi una carta a instndolo a ...\n",
              "281745      is stopping by Carpenters Local Union Hall i...\n",
              "Name: clean_text, Length: 281746, dtype: object"
            ]
          },
          "metadata": {
            "tags": []
          }
        }
      ]
    },
    {
      "cell_type": "code",
      "metadata": {
        "id": "_tE6C4XSz09I"
      },
      "source": [
        "LABEL_MAP = {\n",
        "    \"Democrat\": 0,\n",
        "    \"Republican\": 1\n",
        "}\n",
        "\n",
        "def buildLabels(row):\n",
        "    return LABEL_MAP.get(row[\"label\"])\n",
        "\n",
        "df_main_analysis[\"label\"] = df_main_analysis.apply(lambda row: buildLabels(row), axis=1)"
      ],
      "execution_count": 11,
      "outputs": []
    },
    {
      "cell_type": "code",
      "metadata": {
        "id": "qGcqr5lF4FcU"
      },
      "source": [
        "def get_dataloaders(data, batch_size):\n",
        "    tokenizer = BertTokenizer.from_pretrained('bert-base-uncased', \n",
        "                                            do_lower_case=True)\n",
        "    # tokenize train and test data so BERT can understand it\n",
        "\n",
        "    encoded_data_test = tokenizer.batch_encode_plus(\n",
        "      data[data.data_type=='test'].clean_text.values, \n",
        "      add_special_tokens=True, \n",
        "      return_attention_mask=True, \n",
        "      padding=True, \n",
        "      max_length=64, \n",
        "      return_tensors='pt'\n",
        "    )\n",
        "\n",
        "\n",
        "\n",
        "    input_ids_test = encoded_data_test['input_ids']\n",
        "    attention_masks_test = encoded_data_test['attention_mask']\n",
        "    labels_test = torch.tensor(data[data.data_type=='test'].label.values)\n",
        "\n",
        "    test_data = TensorDataset(input_ids_test, attention_masks_test, labels_test)\n",
        "\n",
        "    test_dataloader = DataLoader(test_data,\n",
        "                              sampler=SequentialSampler(test_data),\n",
        "                              batch_size=batch_size)\n",
        "\n",
        "    return test_dataloader"
      ],
      "execution_count": 14,
      "outputs": []
    },
    {
      "cell_type": "code",
      "metadata": {
        "id": "r-kYTPzQ4KGw"
      },
      "source": [
        "def evaluate(model, dataloader, device):\n",
        "    model.eval()\n",
        "\n",
        "    loss_val_total = 0\n",
        "    predictions, true_vals = [], []\n",
        "\n",
        "    for batch in dataloader:\n",
        "\n",
        "      # convert data to CUDA\n",
        "        batch = tuple(b.to(device) for b in batch)\n",
        "\n",
        "        inputs = {\n",
        "          'input_ids':      batch[0],\n",
        "          'attention_mask': batch[1],\n",
        "          'labels':         batch[2],\n",
        "        }\n",
        "        \n",
        "        with torch.no_grad():        \n",
        "            outputs = model(**inputs) # get predictions\n",
        "\n",
        "        loss = outputs[0]\n",
        "        logits = outputs[1]\n",
        "        loss_val_total += loss.item()\n",
        "\n",
        "        logits = logits.detach().cpu().numpy()\n",
        "        label_ids = inputs['labels'].cpu().numpy()\n",
        "        predictions.append(logits)\n",
        "        true_vals.append(label_ids)\n",
        "\n",
        "    loss_val_avg = loss_val_total/len(dataloader) \n",
        "\n",
        "    predictions = np.concatenate(predictions, axis=0)\n",
        "    true_vals = np.concatenate(true_vals, axis=0)\n",
        "\n",
        "    return predictions, true_vals"
      ],
      "execution_count": 24,
      "outputs": []
    },
    {
      "cell_type": "code",
      "metadata": {
        "colab": {
          "base_uri": "https://localhost:8080/",
          "height": 139
        },
        "id": "sYPqMdnA0FNE",
        "outputId": "0bd3fa63-1fdd-45f7-943d-ae20555539cd"
      },
      "source": [
        "model = BertForSequenceClassification.from_pretrained('bert-base-uncased',\n",
        "                                                        num_labels=2,\n",
        "                                                        output_attentions=False,\n",
        "                                                        output_hidden_states=False)   \n",
        "model.load_state_dict(torch.load(\"/content/drive/MyDrive/Junior Year/DSP Final Project/finetuned_BERT_epoch_2.model\", map_location=torch.device('cuda')))\n",
        "model.to(device)\n",
        "BATCH_SIZE = 16\n",
        "device = torch.device('cuda' if torch.cuda.is_available() else 'cpu')\n",
        "display(device)\n",
        "test_dataloader = get_dataloaders(df_main_analysis, BATCH_SIZE)\n",
        "\n",
        "preds, labels = evaluate(model, test_dataloader, device)"
      ],
      "execution_count": 25,
      "outputs": [
        {
          "output_type": "stream",
          "text": [
            "Some weights of the model checkpoint at bert-base-uncased were not used when initializing BertForSequenceClassification: ['cls.predictions.bias', 'cls.predictions.transform.dense.weight', 'cls.predictions.transform.dense.bias', 'cls.predictions.decoder.weight', 'cls.seq_relationship.weight', 'cls.seq_relationship.bias', 'cls.predictions.transform.LayerNorm.weight', 'cls.predictions.transform.LayerNorm.bias']\n",
            "- This IS expected if you are initializing BertForSequenceClassification from the checkpoint of a model trained on another task or with another architecture (e.g. initializing a BertForSequenceClassification model from a BertForPreTraining model).\n",
            "- This IS NOT expected if you are initializing BertForSequenceClassification from the checkpoint of a model that you expect to be exactly identical (initializing a BertForSequenceClassification model from a BertForSequenceClassification model).\n",
            "Some weights of BertForSequenceClassification were not initialized from the model checkpoint at bert-base-uncased and are newly initialized: ['classifier.weight', 'classifier.bias']\n",
            "You should probably TRAIN this model on a down-stream task to be able to use it for predictions and inference.\n"
          ],
          "name": "stderr"
        },
        {
          "output_type": "display_data",
          "data": {
            "text/plain": [
              "device(type='cuda')"
            ]
          },
          "metadata": {
            "tags": []
          }
        }
      ]
    },
    {
      "cell_type": "code",
      "metadata": {
        "colab": {
          "base_uri": "https://localhost:8080/",
          "height": 419
        },
        "id": "ZT8Z7gSc0OHW",
        "outputId": "45b3cd91-f478-4f99-a2a8-88c55be93008"
      },
      "source": [
        "df_main_analysis[\"label\"] = np.argmax(preds,axis=1)\n",
        "\n",
        "LABEL_MAP_REVERSED = {\n",
        "    0: \"Democrat\",\n",
        "    1: \"Republican\"\n",
        "}\n",
        "\n",
        "def buildLabelsReversed(row):\n",
        "    return LABEL_MAP_REVERSED.get(row[\"label\"])\n",
        "\n",
        "df_results = pd.DataFrame()\n",
        "df_results[\"clean_text\"] = df_main_analysis[\"clean_text\"]\n",
        "df_results[\"label\"] = df_main_analysis.apply(lambda row: buildLabelsReversed(row), axis=1)\n",
        "df_results[\"state\"] = df_main_analysis[\"state\"]\n",
        "display(df_results)"
      ],
      "execution_count": 28,
      "outputs": [
        {
          "output_type": "display_data",
          "data": {
            "text/html": [
              "<div>\n",
              "<style scoped>\n",
              "    .dataframe tbody tr th:only-of-type {\n",
              "        vertical-align: middle;\n",
              "    }\n",
              "\n",
              "    .dataframe tbody tr th {\n",
              "        vertical-align: top;\n",
              "    }\n",
              "\n",
              "    .dataframe thead th {\n",
              "        text-align: right;\n",
              "    }\n",
              "</style>\n",
              "<table border=\"1\" class=\"dataframe\">\n",
              "  <thead>\n",
              "    <tr style=\"text-align: right;\">\n",
              "      <th></th>\n",
              "      <th>clean_text</th>\n",
              "      <th>label</th>\n",
              "      <th>state</th>\n",
              "    </tr>\n",
              "  </thead>\n",
              "  <tbody>\n",
              "    <tr>\n",
              "      <th>0</th>\n",
              "      <td>THIS IS A REMINDER THAT KANYE WEST ADMITTED T...</td>\n",
              "      <td>Democrat</td>\n",
              "      <td>Arizona</td>\n",
              "    </tr>\n",
              "    <tr>\n",
              "      <th>1</th>\n",
              "      <td>America has to be a functioning democracy bef...</td>\n",
              "      <td>Democrat</td>\n",
              "      <td>Georgia</td>\n",
              "    </tr>\n",
              "    <tr>\n",
              "      <th>2</th>\n",
              "      <td>True</td>\n",
              "      <td>Republican</td>\n",
              "      <td>Indiana</td>\n",
              "    </tr>\n",
              "    <tr>\n",
              "      <th>3</th>\n",
              "      <td>According to public record the big black truc...</td>\n",
              "      <td>Republican</td>\n",
              "      <td>Maryland</td>\n",
              "    </tr>\n",
              "    <tr>\n",
              "      <th>4</th>\n",
              "      <td>This is Joe Bidens moment</td>\n",
              "      <td>Republican</td>\n",
              "      <td>North Carolina</td>\n",
              "    </tr>\n",
              "    <tr>\n",
              "      <th>...</th>\n",
              "      <td>...</td>\n",
              "      <td>...</td>\n",
              "      <td>...</td>\n",
              "    </tr>\n",
              "    <tr>\n",
              "      <th>281741</th>\n",
              "      <td>China sure hopes so</td>\n",
              "      <td>Democrat</td>\n",
              "      <td>West Virginia</td>\n",
              "    </tr>\n",
              "    <tr>\n",
              "      <th>281742</th>\n",
              "      <td>The man is delusional and should be removed fr...</td>\n",
              "      <td>Democrat</td>\n",
              "      <td>Washington</td>\n",
              "    </tr>\n",
              "    <tr>\n",
              "      <th>281743</th>\n",
              "      <td>Riiiight yet youre not citing your sources eit...</td>\n",
              "      <td>Democrat</td>\n",
              "      <td>California</td>\n",
              "    </tr>\n",
              "    <tr>\n",
              "      <th>281744</th>\n",
              "      <td>El sen Rubio le envi una carta a instndolo a ...</td>\n",
              "      <td>Democrat</td>\n",
              "      <td>Florida</td>\n",
              "    </tr>\n",
              "    <tr>\n",
              "      <th>281745</th>\n",
              "      <td>is stopping by Carpenters Local Union Hall i...</td>\n",
              "      <td>Republican</td>\n",
              "      <td>Illinois</td>\n",
              "    </tr>\n",
              "  </tbody>\n",
              "</table>\n",
              "<p>281746 rows × 3 columns</p>\n",
              "</div>"
            ],
            "text/plain": [
              "                                               clean_text  ...           state\n",
              "0        THIS IS A REMINDER THAT KANYE WEST ADMITTED T...  ...         Arizona\n",
              "1        America has to be a functioning democracy bef...  ...         Georgia\n",
              "2                                                    True  ...         Indiana\n",
              "3        According to public record the big black truc...  ...        Maryland\n",
              "4                               This is Joe Bidens moment  ...  North Carolina\n",
              "...                                                   ...  ...             ...\n",
              "281741                                China sure hopes so  ...   West Virginia\n",
              "281742  The man is delusional and should be removed fr...  ...      Washington\n",
              "281743  Riiiight yet youre not citing your sources eit...  ...      California\n",
              "281744   El sen Rubio le envi una carta a instndolo a ...  ...         Florida\n",
              "281745    is stopping by Carpenters Local Union Hall i...  ...        Illinois\n",
              "\n",
              "[281746 rows x 3 columns]"
            ]
          },
          "metadata": {
            "tags": []
          }
        }
      ]
    },
    {
      "cell_type": "code",
      "metadata": {
        "colab": {
          "base_uri": "https://localhost:8080/",
          "height": 1000
        },
        "id": "HWDO2FRy0am0",
        "outputId": "3d59ae39-c1e3-49ca-d1aa-acab4ee9d6ab"
      },
      "source": [
        "#create unique list of names\n",
        "uniqueStates = df_results.state.unique()\n",
        "\n",
        "#create a data frame dictionary to store your data frames\n",
        "DataFrameDict = {elem : pd.DataFrame for elem in uniqueStates}\n",
        "\n",
        "for key in DataFrameDict.keys():\n",
        "    DataFrameDict[key] = df_results[:][df_results.state == key]\n",
        "    \n",
        "for state in STATE_NAMES:\n",
        "    value_counts = DataFrameDict[state][\"label\"].value_counts(normalize=True)\n",
        "#     if value_counts[\"Republican\"] > value_counts[\"Democrat\"]:\n",
        "    display(state, value_counts)"
      ],
      "execution_count": 29,
      "outputs": [
        {
          "output_type": "display_data",
          "data": {
            "application/vnd.google.colaboratory.intrinsic+json": {
              "type": "string"
            },
            "text/plain": [
              "'Alaska'"
            ]
          },
          "metadata": {
            "tags": []
          }
        },
        {
          "output_type": "display_data",
          "data": {
            "text/plain": [
              "Democrat      0.713789\n",
              "Republican    0.286211\n",
              "Name: label, dtype: float64"
            ]
          },
          "metadata": {
            "tags": []
          }
        },
        {
          "output_type": "display_data",
          "data": {
            "application/vnd.google.colaboratory.intrinsic+json": {
              "type": "string"
            },
            "text/plain": [
              "'Alabama'"
            ]
          },
          "metadata": {
            "tags": []
          }
        },
        {
          "output_type": "display_data",
          "data": {
            "text/plain": [
              "Democrat      0.677578\n",
              "Republican    0.322422\n",
              "Name: label, dtype: float64"
            ]
          },
          "metadata": {
            "tags": []
          }
        },
        {
          "output_type": "display_data",
          "data": {
            "application/vnd.google.colaboratory.intrinsic+json": {
              "type": "string"
            },
            "text/plain": [
              "'Arkansas'"
            ]
          },
          "metadata": {
            "tags": []
          }
        },
        {
          "output_type": "display_data",
          "data": {
            "text/plain": [
              "Democrat      0.711111\n",
              "Republican    0.288889\n",
              "Name: label, dtype: float64"
            ]
          },
          "metadata": {
            "tags": []
          }
        },
        {
          "output_type": "display_data",
          "data": {
            "application/vnd.google.colaboratory.intrinsic+json": {
              "type": "string"
            },
            "text/plain": [
              "'Arizona'"
            ]
          },
          "metadata": {
            "tags": []
          }
        },
        {
          "output_type": "display_data",
          "data": {
            "text/plain": [
              "Democrat      0.715541\n",
              "Republican    0.284459\n",
              "Name: label, dtype: float64"
            ]
          },
          "metadata": {
            "tags": []
          }
        },
        {
          "output_type": "display_data",
          "data": {
            "application/vnd.google.colaboratory.intrinsic+json": {
              "type": "string"
            },
            "text/plain": [
              "'California'"
            ]
          },
          "metadata": {
            "tags": []
          }
        },
        {
          "output_type": "display_data",
          "data": {
            "text/plain": [
              "Democrat      0.739798\n",
              "Republican    0.260202\n",
              "Name: label, dtype: float64"
            ]
          },
          "metadata": {
            "tags": []
          }
        },
        {
          "output_type": "display_data",
          "data": {
            "application/vnd.google.colaboratory.intrinsic+json": {
              "type": "string"
            },
            "text/plain": [
              "'Colorado'"
            ]
          },
          "metadata": {
            "tags": []
          }
        },
        {
          "output_type": "display_data",
          "data": {
            "text/plain": [
              "Democrat      0.742547\n",
              "Republican    0.257453\n",
              "Name: label, dtype: float64"
            ]
          },
          "metadata": {
            "tags": []
          }
        },
        {
          "output_type": "display_data",
          "data": {
            "application/vnd.google.colaboratory.intrinsic+json": {
              "type": "string"
            },
            "text/plain": [
              "'Connecticut'"
            ]
          },
          "metadata": {
            "tags": []
          }
        },
        {
          "output_type": "display_data",
          "data": {
            "text/plain": [
              "Democrat      0.730568\n",
              "Republican    0.269432\n",
              "Name: label, dtype: float64"
            ]
          },
          "metadata": {
            "tags": []
          }
        },
        {
          "output_type": "display_data",
          "data": {
            "application/vnd.google.colaboratory.intrinsic+json": {
              "type": "string"
            },
            "text/plain": [
              "'Delaware'"
            ]
          },
          "metadata": {
            "tags": []
          }
        },
        {
          "output_type": "display_data",
          "data": {
            "text/plain": [
              "Democrat      0.720365\n",
              "Republican    0.279635\n",
              "Name: label, dtype: float64"
            ]
          },
          "metadata": {
            "tags": []
          }
        },
        {
          "output_type": "display_data",
          "data": {
            "application/vnd.google.colaboratory.intrinsic+json": {
              "type": "string"
            },
            "text/plain": [
              "'Florida'"
            ]
          },
          "metadata": {
            "tags": []
          }
        },
        {
          "output_type": "display_data",
          "data": {
            "text/plain": [
              "Democrat      0.686455\n",
              "Republican    0.313545\n",
              "Name: label, dtype: float64"
            ]
          },
          "metadata": {
            "tags": []
          }
        },
        {
          "output_type": "display_data",
          "data": {
            "application/vnd.google.colaboratory.intrinsic+json": {
              "type": "string"
            },
            "text/plain": [
              "'Georgia'"
            ]
          },
          "metadata": {
            "tags": []
          }
        },
        {
          "output_type": "display_data",
          "data": {
            "text/plain": [
              "Democrat      0.700945\n",
              "Republican    0.299055\n",
              "Name: label, dtype: float64"
            ]
          },
          "metadata": {
            "tags": []
          }
        },
        {
          "output_type": "display_data",
          "data": {
            "application/vnd.google.colaboratory.intrinsic+json": {
              "type": "string"
            },
            "text/plain": [
              "'Hawaii'"
            ]
          },
          "metadata": {
            "tags": []
          }
        },
        {
          "output_type": "display_data",
          "data": {
            "text/plain": [
              "Democrat      0.730842\n",
              "Republican    0.269158\n",
              "Name: label, dtype: float64"
            ]
          },
          "metadata": {
            "tags": []
          }
        },
        {
          "output_type": "display_data",
          "data": {
            "application/vnd.google.colaboratory.intrinsic+json": {
              "type": "string"
            },
            "text/plain": [
              "'Iowa'"
            ]
          },
          "metadata": {
            "tags": []
          }
        },
        {
          "output_type": "display_data",
          "data": {
            "text/plain": [
              "Democrat      0.731407\n",
              "Republican    0.268593\n",
              "Name: label, dtype: float64"
            ]
          },
          "metadata": {
            "tags": []
          }
        },
        {
          "output_type": "display_data",
          "data": {
            "application/vnd.google.colaboratory.intrinsic+json": {
              "type": "string"
            },
            "text/plain": [
              "'Idaho'"
            ]
          },
          "metadata": {
            "tags": []
          }
        },
        {
          "output_type": "display_data",
          "data": {
            "text/plain": [
              "Democrat      0.683636\n",
              "Republican    0.316364\n",
              "Name: label, dtype: float64"
            ]
          },
          "metadata": {
            "tags": []
          }
        },
        {
          "output_type": "display_data",
          "data": {
            "application/vnd.google.colaboratory.intrinsic+json": {
              "type": "string"
            },
            "text/plain": [
              "'Illinois'"
            ]
          },
          "metadata": {
            "tags": []
          }
        },
        {
          "output_type": "display_data",
          "data": {
            "text/plain": [
              "Democrat      0.750462\n",
              "Republican    0.249538\n",
              "Name: label, dtype: float64"
            ]
          },
          "metadata": {
            "tags": []
          }
        },
        {
          "output_type": "display_data",
          "data": {
            "application/vnd.google.colaboratory.intrinsic+json": {
              "type": "string"
            },
            "text/plain": [
              "'Indiana'"
            ]
          },
          "metadata": {
            "tags": []
          }
        },
        {
          "output_type": "display_data",
          "data": {
            "text/plain": [
              "Democrat      0.696624\n",
              "Republican    0.303376\n",
              "Name: label, dtype: float64"
            ]
          },
          "metadata": {
            "tags": []
          }
        },
        {
          "output_type": "display_data",
          "data": {
            "application/vnd.google.colaboratory.intrinsic+json": {
              "type": "string"
            },
            "text/plain": [
              "'Kansas'"
            ]
          },
          "metadata": {
            "tags": []
          }
        },
        {
          "output_type": "display_data",
          "data": {
            "text/plain": [
              "Democrat      0.7163\n",
              "Republican    0.2837\n",
              "Name: label, dtype: float64"
            ]
          },
          "metadata": {
            "tags": []
          }
        },
        {
          "output_type": "display_data",
          "data": {
            "application/vnd.google.colaboratory.intrinsic+json": {
              "type": "string"
            },
            "text/plain": [
              "'Kentucky'"
            ]
          },
          "metadata": {
            "tags": []
          }
        },
        {
          "output_type": "display_data",
          "data": {
            "text/plain": [
              "Democrat      0.708645\n",
              "Republican    0.291355\n",
              "Name: label, dtype: float64"
            ]
          },
          "metadata": {
            "tags": []
          }
        },
        {
          "output_type": "display_data",
          "data": {
            "application/vnd.google.colaboratory.intrinsic+json": {
              "type": "string"
            },
            "text/plain": [
              "'Louisiana'"
            ]
          },
          "metadata": {
            "tags": []
          }
        },
        {
          "output_type": "display_data",
          "data": {
            "text/plain": [
              "Democrat      0.691371\n",
              "Republican    0.308629\n",
              "Name: label, dtype: float64"
            ]
          },
          "metadata": {
            "tags": []
          }
        },
        {
          "output_type": "display_data",
          "data": {
            "application/vnd.google.colaboratory.intrinsic+json": {
              "type": "string"
            },
            "text/plain": [
              "'Massachusetts'"
            ]
          },
          "metadata": {
            "tags": []
          }
        },
        {
          "output_type": "display_data",
          "data": {
            "text/plain": [
              "Democrat      0.722197\n",
              "Republican    0.277803\n",
              "Name: label, dtype: float64"
            ]
          },
          "metadata": {
            "tags": []
          }
        },
        {
          "output_type": "display_data",
          "data": {
            "application/vnd.google.colaboratory.intrinsic+json": {
              "type": "string"
            },
            "text/plain": [
              "'Maryland'"
            ]
          },
          "metadata": {
            "tags": []
          }
        },
        {
          "output_type": "display_data",
          "data": {
            "text/plain": [
              "Democrat      0.743407\n",
              "Republican    0.256593\n",
              "Name: label, dtype: float64"
            ]
          },
          "metadata": {
            "tags": []
          }
        },
        {
          "output_type": "display_data",
          "data": {
            "application/vnd.google.colaboratory.intrinsic+json": {
              "type": "string"
            },
            "text/plain": [
              "'Maine'"
            ]
          },
          "metadata": {
            "tags": []
          }
        },
        {
          "output_type": "display_data",
          "data": {
            "text/plain": [
              "Democrat      0.697291\n",
              "Republican    0.302709\n",
              "Name: label, dtype: float64"
            ]
          },
          "metadata": {
            "tags": []
          }
        },
        {
          "output_type": "display_data",
          "data": {
            "application/vnd.google.colaboratory.intrinsic+json": {
              "type": "string"
            },
            "text/plain": [
              "'Michigan'"
            ]
          },
          "metadata": {
            "tags": []
          }
        },
        {
          "output_type": "display_data",
          "data": {
            "text/plain": [
              "Democrat      0.730953\n",
              "Republican    0.269047\n",
              "Name: label, dtype: float64"
            ]
          },
          "metadata": {
            "tags": []
          }
        },
        {
          "output_type": "display_data",
          "data": {
            "application/vnd.google.colaboratory.intrinsic+json": {
              "type": "string"
            },
            "text/plain": [
              "'Minnesota'"
            ]
          },
          "metadata": {
            "tags": []
          }
        },
        {
          "output_type": "display_data",
          "data": {
            "text/plain": [
              "Democrat      0.751118\n",
              "Republican    0.248882\n",
              "Name: label, dtype: float64"
            ]
          },
          "metadata": {
            "tags": []
          }
        },
        {
          "output_type": "display_data",
          "data": {
            "application/vnd.google.colaboratory.intrinsic+json": {
              "type": "string"
            },
            "text/plain": [
              "'Missouri'"
            ]
          },
          "metadata": {
            "tags": []
          }
        },
        {
          "output_type": "display_data",
          "data": {
            "text/plain": [
              "Democrat      0.695815\n",
              "Republican    0.304185\n",
              "Name: label, dtype: float64"
            ]
          },
          "metadata": {
            "tags": []
          }
        },
        {
          "output_type": "display_data",
          "data": {
            "application/vnd.google.colaboratory.intrinsic+json": {
              "type": "string"
            },
            "text/plain": [
              "'Mississippi'"
            ]
          },
          "metadata": {
            "tags": []
          }
        },
        {
          "output_type": "display_data",
          "data": {
            "text/plain": [
              "Democrat      0.683447\n",
              "Republican    0.316553\n",
              "Name: label, dtype: float64"
            ]
          },
          "metadata": {
            "tags": []
          }
        },
        {
          "output_type": "display_data",
          "data": {
            "application/vnd.google.colaboratory.intrinsic+json": {
              "type": "string"
            },
            "text/plain": [
              "'Montana'"
            ]
          },
          "metadata": {
            "tags": []
          }
        },
        {
          "output_type": "display_data",
          "data": {
            "text/plain": [
              "Democrat      0.737452\n",
              "Republican    0.262548\n",
              "Name: label, dtype: float64"
            ]
          },
          "metadata": {
            "tags": []
          }
        },
        {
          "output_type": "display_data",
          "data": {
            "application/vnd.google.colaboratory.intrinsic+json": {
              "type": "string"
            },
            "text/plain": [
              "'North Carolina'"
            ]
          },
          "metadata": {
            "tags": []
          }
        },
        {
          "output_type": "display_data",
          "data": {
            "text/plain": [
              "Democrat      0.712325\n",
              "Republican    0.287675\n",
              "Name: label, dtype: float64"
            ]
          },
          "metadata": {
            "tags": []
          }
        },
        {
          "output_type": "display_data",
          "data": {
            "application/vnd.google.colaboratory.intrinsic+json": {
              "type": "string"
            },
            "text/plain": [
              "'North Dakota'"
            ]
          },
          "metadata": {
            "tags": []
          }
        },
        {
          "output_type": "display_data",
          "data": {
            "text/plain": [
              "Democrat      0.659794\n",
              "Republican    0.340206\n",
              "Name: label, dtype: float64"
            ]
          },
          "metadata": {
            "tags": []
          }
        },
        {
          "output_type": "display_data",
          "data": {
            "application/vnd.google.colaboratory.intrinsic+json": {
              "type": "string"
            },
            "text/plain": [
              "'Nebraska'"
            ]
          },
          "metadata": {
            "tags": []
          }
        },
        {
          "output_type": "display_data",
          "data": {
            "text/plain": [
              "Democrat      0.709273\n",
              "Republican    0.290727\n",
              "Name: label, dtype: float64"
            ]
          },
          "metadata": {
            "tags": []
          }
        },
        {
          "output_type": "display_data",
          "data": {
            "application/vnd.google.colaboratory.intrinsic+json": {
              "type": "string"
            },
            "text/plain": [
              "'New Hampshire'"
            ]
          },
          "metadata": {
            "tags": []
          }
        },
        {
          "output_type": "display_data",
          "data": {
            "text/plain": [
              "Democrat      0.700227\n",
              "Republican    0.299773\n",
              "Name: label, dtype: float64"
            ]
          },
          "metadata": {
            "tags": []
          }
        },
        {
          "output_type": "display_data",
          "data": {
            "application/vnd.google.colaboratory.intrinsic+json": {
              "type": "string"
            },
            "text/plain": [
              "'New Jersey'"
            ]
          },
          "metadata": {
            "tags": []
          }
        },
        {
          "output_type": "display_data",
          "data": {
            "text/plain": [
              "Democrat      0.719866\n",
              "Republican    0.280134\n",
              "Name: label, dtype: float64"
            ]
          },
          "metadata": {
            "tags": []
          }
        },
        {
          "output_type": "display_data",
          "data": {
            "application/vnd.google.colaboratory.intrinsic+json": {
              "type": "string"
            },
            "text/plain": [
              "'New Mexico'"
            ]
          },
          "metadata": {
            "tags": []
          }
        },
        {
          "output_type": "display_data",
          "data": {
            "text/plain": [
              "Democrat      0.754624\n",
              "Republican    0.245376\n",
              "Name: label, dtype: float64"
            ]
          },
          "metadata": {
            "tags": []
          }
        },
        {
          "output_type": "display_data",
          "data": {
            "application/vnd.google.colaboratory.intrinsic+json": {
              "type": "string"
            },
            "text/plain": [
              "'Nevada'"
            ]
          },
          "metadata": {
            "tags": []
          }
        },
        {
          "output_type": "display_data",
          "data": {
            "text/plain": [
              "Democrat      0.725992\n",
              "Republican    0.274008\n",
              "Name: label, dtype: float64"
            ]
          },
          "metadata": {
            "tags": []
          }
        },
        {
          "output_type": "display_data",
          "data": {
            "application/vnd.google.colaboratory.intrinsic+json": {
              "type": "string"
            },
            "text/plain": [
              "'New York'"
            ]
          },
          "metadata": {
            "tags": []
          }
        },
        {
          "output_type": "display_data",
          "data": {
            "text/plain": [
              "Democrat      0.730888\n",
              "Republican    0.269112\n",
              "Name: label, dtype: float64"
            ]
          },
          "metadata": {
            "tags": []
          }
        },
        {
          "output_type": "display_data",
          "data": {
            "application/vnd.google.colaboratory.intrinsic+json": {
              "type": "string"
            },
            "text/plain": [
              "'Ohio'"
            ]
          },
          "metadata": {
            "tags": []
          }
        },
        {
          "output_type": "display_data",
          "data": {
            "text/plain": [
              "Democrat      0.722615\n",
              "Republican    0.277385\n",
              "Name: label, dtype: float64"
            ]
          },
          "metadata": {
            "tags": []
          }
        },
        {
          "output_type": "display_data",
          "data": {
            "application/vnd.google.colaboratory.intrinsic+json": {
              "type": "string"
            },
            "text/plain": [
              "'Oklahoma'"
            ]
          },
          "metadata": {
            "tags": []
          }
        },
        {
          "output_type": "display_data",
          "data": {
            "text/plain": [
              "Democrat      0.704718\n",
              "Republican    0.295282\n",
              "Name: label, dtype: float64"
            ]
          },
          "metadata": {
            "tags": []
          }
        },
        {
          "output_type": "display_data",
          "data": {
            "application/vnd.google.colaboratory.intrinsic+json": {
              "type": "string"
            },
            "text/plain": [
              "'Oregon'"
            ]
          },
          "metadata": {
            "tags": []
          }
        },
        {
          "output_type": "display_data",
          "data": {
            "text/plain": [
              "Democrat      0.754355\n",
              "Republican    0.245645\n",
              "Name: label, dtype: float64"
            ]
          },
          "metadata": {
            "tags": []
          }
        },
        {
          "output_type": "display_data",
          "data": {
            "application/vnd.google.colaboratory.intrinsic+json": {
              "type": "string"
            },
            "text/plain": [
              "'Pennsylvania'"
            ]
          },
          "metadata": {
            "tags": []
          }
        },
        {
          "output_type": "display_data",
          "data": {
            "text/plain": [
              "Democrat      0.723204\n",
              "Republican    0.276796\n",
              "Name: label, dtype: float64"
            ]
          },
          "metadata": {
            "tags": []
          }
        },
        {
          "output_type": "display_data",
          "data": {
            "application/vnd.google.colaboratory.intrinsic+json": {
              "type": "string"
            },
            "text/plain": [
              "'Rhode Island'"
            ]
          },
          "metadata": {
            "tags": []
          }
        },
        {
          "output_type": "display_data",
          "data": {
            "text/plain": [
              "Democrat      0.733068\n",
              "Republican    0.266932\n",
              "Name: label, dtype: float64"
            ]
          },
          "metadata": {
            "tags": []
          }
        },
        {
          "output_type": "display_data",
          "data": {
            "application/vnd.google.colaboratory.intrinsic+json": {
              "type": "string"
            },
            "text/plain": [
              "'South Carolina'"
            ]
          },
          "metadata": {
            "tags": []
          }
        },
        {
          "output_type": "display_data",
          "data": {
            "text/plain": [
              "Democrat      0.682802\n",
              "Republican    0.317198\n",
              "Name: label, dtype: float64"
            ]
          },
          "metadata": {
            "tags": []
          }
        },
        {
          "output_type": "display_data",
          "data": {
            "application/vnd.google.colaboratory.intrinsic+json": {
              "type": "string"
            },
            "text/plain": [
              "'South Dakota'"
            ]
          },
          "metadata": {
            "tags": []
          }
        },
        {
          "output_type": "display_data",
          "data": {
            "text/plain": [
              "Democrat      0.707657\n",
              "Republican    0.292343\n",
              "Name: label, dtype: float64"
            ]
          },
          "metadata": {
            "tags": []
          }
        },
        {
          "output_type": "display_data",
          "data": {
            "application/vnd.google.colaboratory.intrinsic+json": {
              "type": "string"
            },
            "text/plain": [
              "'Tennessee'"
            ]
          },
          "metadata": {
            "tags": []
          }
        },
        {
          "output_type": "display_data",
          "data": {
            "text/plain": [
              "Democrat      0.699734\n",
              "Republican    0.300266\n",
              "Name: label, dtype: float64"
            ]
          },
          "metadata": {
            "tags": []
          }
        },
        {
          "output_type": "display_data",
          "data": {
            "application/vnd.google.colaboratory.intrinsic+json": {
              "type": "string"
            },
            "text/plain": [
              "'Texas'"
            ]
          },
          "metadata": {
            "tags": []
          }
        },
        {
          "output_type": "display_data",
          "data": {
            "text/plain": [
              "Democrat      0.701458\n",
              "Republican    0.298542\n",
              "Name: label, dtype: float64"
            ]
          },
          "metadata": {
            "tags": []
          }
        },
        {
          "output_type": "display_data",
          "data": {
            "application/vnd.google.colaboratory.intrinsic+json": {
              "type": "string"
            },
            "text/plain": [
              "'Utah'"
            ]
          },
          "metadata": {
            "tags": []
          }
        },
        {
          "output_type": "display_data",
          "data": {
            "text/plain": [
              "Democrat      0.732649\n",
              "Republican    0.267351\n",
              "Name: label, dtype: float64"
            ]
          },
          "metadata": {
            "tags": []
          }
        },
        {
          "output_type": "display_data",
          "data": {
            "application/vnd.google.colaboratory.intrinsic+json": {
              "type": "string"
            },
            "text/plain": [
              "'Virginia'"
            ]
          },
          "metadata": {
            "tags": []
          }
        },
        {
          "output_type": "display_data",
          "data": {
            "text/plain": [
              "Democrat      0.72842\n",
              "Republican    0.27158\n",
              "Name: label, dtype: float64"
            ]
          },
          "metadata": {
            "tags": []
          }
        },
        {
          "output_type": "display_data",
          "data": {
            "application/vnd.google.colaboratory.intrinsic+json": {
              "type": "string"
            },
            "text/plain": [
              "'Vermont'"
            ]
          },
          "metadata": {
            "tags": []
          }
        },
        {
          "output_type": "display_data",
          "data": {
            "text/plain": [
              "Democrat      0.758974\n",
              "Republican    0.241026\n",
              "Name: label, dtype: float64"
            ]
          },
          "metadata": {
            "tags": []
          }
        },
        {
          "output_type": "display_data",
          "data": {
            "application/vnd.google.colaboratory.intrinsic+json": {
              "type": "string"
            },
            "text/plain": [
              "'Washington'"
            ]
          },
          "metadata": {
            "tags": []
          }
        },
        {
          "output_type": "display_data",
          "data": {
            "text/plain": [
              "Democrat      0.741186\n",
              "Republican    0.258814\n",
              "Name: label, dtype: float64"
            ]
          },
          "metadata": {
            "tags": []
          }
        },
        {
          "output_type": "display_data",
          "data": {
            "application/vnd.google.colaboratory.intrinsic+json": {
              "type": "string"
            },
            "text/plain": [
              "'Wisconsin'"
            ]
          },
          "metadata": {
            "tags": []
          }
        },
        {
          "output_type": "display_data",
          "data": {
            "text/plain": [
              "Democrat      0.726912\n",
              "Republican    0.273088\n",
              "Name: label, dtype: float64"
            ]
          },
          "metadata": {
            "tags": []
          }
        },
        {
          "output_type": "display_data",
          "data": {
            "application/vnd.google.colaboratory.intrinsic+json": {
              "type": "string"
            },
            "text/plain": [
              "'West Virginia'"
            ]
          },
          "metadata": {
            "tags": []
          }
        },
        {
          "output_type": "display_data",
          "data": {
            "text/plain": [
              "Democrat      0.721103\n",
              "Republican    0.278897\n",
              "Name: label, dtype: float64"
            ]
          },
          "metadata": {
            "tags": []
          }
        },
        {
          "output_type": "display_data",
          "data": {
            "application/vnd.google.colaboratory.intrinsic+json": {
              "type": "string"
            },
            "text/plain": [
              "'Wyoming'"
            ]
          },
          "metadata": {
            "tags": []
          }
        },
        {
          "output_type": "display_data",
          "data": {
            "text/plain": [
              "Democrat      0.699708\n",
              "Republican    0.300292\n",
              "Name: label, dtype: float64"
            ]
          },
          "metadata": {
            "tags": []
          }
        }
      ]
    },
    {
      "cell_type": "code",
      "metadata": {
        "id": "Wb3n-2Tw2shS"
      },
      "source": [
        ""
      ],
      "execution_count": null,
      "outputs": []
    }
  ]
}