{
  "nbformat": 4,
  "nbformat_minor": 0,
  "metadata": {
    "colab": {
      "name": "EvaluateModel.ipynb",
      "provenance": []
    },
    "kernelspec": {
      "name": "python3",
      "display_name": "Python 3"
    },
    "accelerator": "GPU",
    "widgets": {
      "application/vnd.jupyter.widget-state+json": {
        "d0efefc76da14e51b10281ecb3cd7f30": {
          "model_module": "@jupyter-widgets/controls",
          "model_name": "HBoxModel",
          "state": {
            "_view_name": "HBoxView",
            "_dom_classes": [],
            "_model_name": "HBoxModel",
            "_view_module": "@jupyter-widgets/controls",
            "_model_module_version": "1.5.0",
            "_view_count": null,
            "_view_module_version": "1.5.0",
            "box_style": "",
            "layout": "IPY_MODEL_6e8fa84d3c494c87a7145c446869dd4e",
            "_model_module": "@jupyter-widgets/controls",
            "children": [
              "IPY_MODEL_ff4a268353b94576a95806e772b4bf4c",
              "IPY_MODEL_65a773229ea943049fbd1b3d3de89e8d"
            ]
          }
        },
        "6e8fa84d3c494c87a7145c446869dd4e": {
          "model_module": "@jupyter-widgets/base",
          "model_name": "LayoutModel",
          "state": {
            "_view_name": "LayoutView",
            "grid_template_rows": null,
            "right": null,
            "justify_content": null,
            "_view_module": "@jupyter-widgets/base",
            "overflow": null,
            "_model_module_version": "1.2.0",
            "_view_count": null,
            "flex_flow": null,
            "width": null,
            "min_width": null,
            "border": null,
            "align_items": null,
            "bottom": null,
            "_model_module": "@jupyter-widgets/base",
            "top": null,
            "grid_column": null,
            "overflow_y": null,
            "overflow_x": null,
            "grid_auto_flow": null,
            "grid_area": null,
            "grid_template_columns": null,
            "flex": null,
            "_model_name": "LayoutModel",
            "justify_items": null,
            "grid_row": null,
            "max_height": null,
            "align_content": null,
            "visibility": null,
            "align_self": null,
            "height": null,
            "min_height": null,
            "padding": null,
            "grid_auto_rows": null,
            "grid_gap": null,
            "max_width": null,
            "order": null,
            "_view_module_version": "1.2.0",
            "grid_template_areas": null,
            "object_position": null,
            "object_fit": null,
            "grid_auto_columns": null,
            "margin": null,
            "display": null,
            "left": null
          }
        },
        "ff4a268353b94576a95806e772b4bf4c": {
          "model_module": "@jupyter-widgets/controls",
          "model_name": "FloatProgressModel",
          "state": {
            "_view_name": "ProgressView",
            "style": "IPY_MODEL_d98e00b7804149049987266e54211d24",
            "_dom_classes": [],
            "description": "Downloading: 100%",
            "_model_name": "FloatProgressModel",
            "bar_style": "success",
            "max": 231508,
            "_view_module": "@jupyter-widgets/controls",
            "_model_module_version": "1.5.0",
            "value": 231508,
            "_view_count": null,
            "_view_module_version": "1.5.0",
            "orientation": "horizontal",
            "min": 0,
            "description_tooltip": null,
            "_model_module": "@jupyter-widgets/controls",
            "layout": "IPY_MODEL_06ca64cad2b44e3fbabda6f78a274770"
          }
        },
        "65a773229ea943049fbd1b3d3de89e8d": {
          "model_module": "@jupyter-widgets/controls",
          "model_name": "HTMLModel",
          "state": {
            "_view_name": "HTMLView",
            "style": "IPY_MODEL_75e2b30fe5834bd8a6b4c00841ed2ce4",
            "_dom_classes": [],
            "description": "",
            "_model_name": "HTMLModel",
            "placeholder": "​",
            "_view_module": "@jupyter-widgets/controls",
            "_model_module_version": "1.5.0",
            "value": " 232k/232k [00:03&lt;00:00, 72.6kB/s]",
            "_view_count": null,
            "_view_module_version": "1.5.0",
            "description_tooltip": null,
            "_model_module": "@jupyter-widgets/controls",
            "layout": "IPY_MODEL_8756572e1d5e4bf599a610cc102388aa"
          }
        },
        "d98e00b7804149049987266e54211d24": {
          "model_module": "@jupyter-widgets/controls",
          "model_name": "ProgressStyleModel",
          "state": {
            "_view_name": "StyleView",
            "_model_name": "ProgressStyleModel",
            "description_width": "initial",
            "_view_module": "@jupyter-widgets/base",
            "_model_module_version": "1.5.0",
            "_view_count": null,
            "_view_module_version": "1.2.0",
            "bar_color": null,
            "_model_module": "@jupyter-widgets/controls"
          }
        },
        "06ca64cad2b44e3fbabda6f78a274770": {
          "model_module": "@jupyter-widgets/base",
          "model_name": "LayoutModel",
          "state": {
            "_view_name": "LayoutView",
            "grid_template_rows": null,
            "right": null,
            "justify_content": null,
            "_view_module": "@jupyter-widgets/base",
            "overflow": null,
            "_model_module_version": "1.2.0",
            "_view_count": null,
            "flex_flow": null,
            "width": null,
            "min_width": null,
            "border": null,
            "align_items": null,
            "bottom": null,
            "_model_module": "@jupyter-widgets/base",
            "top": null,
            "grid_column": null,
            "overflow_y": null,
            "overflow_x": null,
            "grid_auto_flow": null,
            "grid_area": null,
            "grid_template_columns": null,
            "flex": null,
            "_model_name": "LayoutModel",
            "justify_items": null,
            "grid_row": null,
            "max_height": null,
            "align_content": null,
            "visibility": null,
            "align_self": null,
            "height": null,
            "min_height": null,
            "padding": null,
            "grid_auto_rows": null,
            "grid_gap": null,
            "max_width": null,
            "order": null,
            "_view_module_version": "1.2.0",
            "grid_template_areas": null,
            "object_position": null,
            "object_fit": null,
            "grid_auto_columns": null,
            "margin": null,
            "display": null,
            "left": null
          }
        },
        "75e2b30fe5834bd8a6b4c00841ed2ce4": {
          "model_module": "@jupyter-widgets/controls",
          "model_name": "DescriptionStyleModel",
          "state": {
            "_view_name": "StyleView",
            "_model_name": "DescriptionStyleModel",
            "description_width": "",
            "_view_module": "@jupyter-widgets/base",
            "_model_module_version": "1.5.0",
            "_view_count": null,
            "_view_module_version": "1.2.0",
            "_model_module": "@jupyter-widgets/controls"
          }
        },
        "8756572e1d5e4bf599a610cc102388aa": {
          "model_module": "@jupyter-widgets/base",
          "model_name": "LayoutModel",
          "state": {
            "_view_name": "LayoutView",
            "grid_template_rows": null,
            "right": null,
            "justify_content": null,
            "_view_module": "@jupyter-widgets/base",
            "overflow": null,
            "_model_module_version": "1.2.0",
            "_view_count": null,
            "flex_flow": null,
            "width": null,
            "min_width": null,
            "border": null,
            "align_items": null,
            "bottom": null,
            "_model_module": "@jupyter-widgets/base",
            "top": null,
            "grid_column": null,
            "overflow_y": null,
            "overflow_x": null,
            "grid_auto_flow": null,
            "grid_area": null,
            "grid_template_columns": null,
            "flex": null,
            "_model_name": "LayoutModel",
            "justify_items": null,
            "grid_row": null,
            "max_height": null,
            "align_content": null,
            "visibility": null,
            "align_self": null,
            "height": null,
            "min_height": null,
            "padding": null,
            "grid_auto_rows": null,
            "grid_gap": null,
            "max_width": null,
            "order": null,
            "_view_module_version": "1.2.0",
            "grid_template_areas": null,
            "object_position": null,
            "object_fit": null,
            "grid_auto_columns": null,
            "margin": null,
            "display": null,
            "left": null
          }
        },
        "5a6a8254809f457c883a5630f0de8fc9": {
          "model_module": "@jupyter-widgets/controls",
          "model_name": "HBoxModel",
          "state": {
            "_view_name": "HBoxView",
            "_dom_classes": [],
            "_model_name": "HBoxModel",
            "_view_module": "@jupyter-widgets/controls",
            "_model_module_version": "1.5.0",
            "_view_count": null,
            "_view_module_version": "1.5.0",
            "box_style": "",
            "layout": "IPY_MODEL_ea7654fd13a54bbdbace4c37cd7ec5e8",
            "_model_module": "@jupyter-widgets/controls",
            "children": [
              "IPY_MODEL_0cccbc45f4b241c499cdd72774c99a0b",
              "IPY_MODEL_f9a5dd8e092b4be5a318e54892c38c21"
            ]
          }
        },
        "ea7654fd13a54bbdbace4c37cd7ec5e8": {
          "model_module": "@jupyter-widgets/base",
          "model_name": "LayoutModel",
          "state": {
            "_view_name": "LayoutView",
            "grid_template_rows": null,
            "right": null,
            "justify_content": null,
            "_view_module": "@jupyter-widgets/base",
            "overflow": null,
            "_model_module_version": "1.2.0",
            "_view_count": null,
            "flex_flow": null,
            "width": null,
            "min_width": null,
            "border": null,
            "align_items": null,
            "bottom": null,
            "_model_module": "@jupyter-widgets/base",
            "top": null,
            "grid_column": null,
            "overflow_y": null,
            "overflow_x": null,
            "grid_auto_flow": null,
            "grid_area": null,
            "grid_template_columns": null,
            "flex": null,
            "_model_name": "LayoutModel",
            "justify_items": null,
            "grid_row": null,
            "max_height": null,
            "align_content": null,
            "visibility": null,
            "align_self": null,
            "height": null,
            "min_height": null,
            "padding": null,
            "grid_auto_rows": null,
            "grid_gap": null,
            "max_width": null,
            "order": null,
            "_view_module_version": "1.2.0",
            "grid_template_areas": null,
            "object_position": null,
            "object_fit": null,
            "grid_auto_columns": null,
            "margin": null,
            "display": null,
            "left": null
          }
        },
        "0cccbc45f4b241c499cdd72774c99a0b": {
          "model_module": "@jupyter-widgets/controls",
          "model_name": "FloatProgressModel",
          "state": {
            "_view_name": "ProgressView",
            "style": "IPY_MODEL_04148862f1f04f9999ff5c299e30b747",
            "_dom_classes": [],
            "description": "Downloading: 100%",
            "_model_name": "FloatProgressModel",
            "bar_style": "success",
            "max": 433,
            "_view_module": "@jupyter-widgets/controls",
            "_model_module_version": "1.5.0",
            "value": 433,
            "_view_count": null,
            "_view_module_version": "1.5.0",
            "orientation": "horizontal",
            "min": 0,
            "description_tooltip": null,
            "_model_module": "@jupyter-widgets/controls",
            "layout": "IPY_MODEL_63bed831379d45cf9cc4b3719b42b916"
          }
        },
        "f9a5dd8e092b4be5a318e54892c38c21": {
          "model_module": "@jupyter-widgets/controls",
          "model_name": "HTMLModel",
          "state": {
            "_view_name": "HTMLView",
            "style": "IPY_MODEL_d5d66052732940b6b11e4474106bb3b2",
            "_dom_classes": [],
            "description": "",
            "_model_name": "HTMLModel",
            "placeholder": "​",
            "_view_module": "@jupyter-widgets/controls",
            "_model_module_version": "1.5.0",
            "value": " 433/433 [00:00&lt;00:00, 2.16kB/s]",
            "_view_count": null,
            "_view_module_version": "1.5.0",
            "description_tooltip": null,
            "_model_module": "@jupyter-widgets/controls",
            "layout": "IPY_MODEL_c3731c3358df4737b40380d9f6312043"
          }
        },
        "04148862f1f04f9999ff5c299e30b747": {
          "model_module": "@jupyter-widgets/controls",
          "model_name": "ProgressStyleModel",
          "state": {
            "_view_name": "StyleView",
            "_model_name": "ProgressStyleModel",
            "description_width": "initial",
            "_view_module": "@jupyter-widgets/base",
            "_model_module_version": "1.5.0",
            "_view_count": null,
            "_view_module_version": "1.2.0",
            "bar_color": null,
            "_model_module": "@jupyter-widgets/controls"
          }
        },
        "63bed831379d45cf9cc4b3719b42b916": {
          "model_module": "@jupyter-widgets/base",
          "model_name": "LayoutModel",
          "state": {
            "_view_name": "LayoutView",
            "grid_template_rows": null,
            "right": null,
            "justify_content": null,
            "_view_module": "@jupyter-widgets/base",
            "overflow": null,
            "_model_module_version": "1.2.0",
            "_view_count": null,
            "flex_flow": null,
            "width": null,
            "min_width": null,
            "border": null,
            "align_items": null,
            "bottom": null,
            "_model_module": "@jupyter-widgets/base",
            "top": null,
            "grid_column": null,
            "overflow_y": null,
            "overflow_x": null,
            "grid_auto_flow": null,
            "grid_area": null,
            "grid_template_columns": null,
            "flex": null,
            "_model_name": "LayoutModel",
            "justify_items": null,
            "grid_row": null,
            "max_height": null,
            "align_content": null,
            "visibility": null,
            "align_self": null,
            "height": null,
            "min_height": null,
            "padding": null,
            "grid_auto_rows": null,
            "grid_gap": null,
            "max_width": null,
            "order": null,
            "_view_module_version": "1.2.0",
            "grid_template_areas": null,
            "object_position": null,
            "object_fit": null,
            "grid_auto_columns": null,
            "margin": null,
            "display": null,
            "left": null
          }
        },
        "d5d66052732940b6b11e4474106bb3b2": {
          "model_module": "@jupyter-widgets/controls",
          "model_name": "DescriptionStyleModel",
          "state": {
            "_view_name": "StyleView",
            "_model_name": "DescriptionStyleModel",
            "description_width": "",
            "_view_module": "@jupyter-widgets/base",
            "_model_module_version": "1.5.0",
            "_view_count": null,
            "_view_module_version": "1.2.0",
            "_model_module": "@jupyter-widgets/controls"
          }
        },
        "c3731c3358df4737b40380d9f6312043": {
          "model_module": "@jupyter-widgets/base",
          "model_name": "LayoutModel",
          "state": {
            "_view_name": "LayoutView",
            "grid_template_rows": null,
            "right": null,
            "justify_content": null,
            "_view_module": "@jupyter-widgets/base",
            "overflow": null,
            "_model_module_version": "1.2.0",
            "_view_count": null,
            "flex_flow": null,
            "width": null,
            "min_width": null,
            "border": null,
            "align_items": null,
            "bottom": null,
            "_model_module": "@jupyter-widgets/base",
            "top": null,
            "grid_column": null,
            "overflow_y": null,
            "overflow_x": null,
            "grid_auto_flow": null,
            "grid_area": null,
            "grid_template_columns": null,
            "flex": null,
            "_model_name": "LayoutModel",
            "justify_items": null,
            "grid_row": null,
            "max_height": null,
            "align_content": null,
            "visibility": null,
            "align_self": null,
            "height": null,
            "min_height": null,
            "padding": null,
            "grid_auto_rows": null,
            "grid_gap": null,
            "max_width": null,
            "order": null,
            "_view_module_version": "1.2.0",
            "grid_template_areas": null,
            "object_position": null,
            "object_fit": null,
            "grid_auto_columns": null,
            "margin": null,
            "display": null,
            "left": null
          }
        },
        "7876b96aad5146488289aeb2e84b4f05": {
          "model_module": "@jupyter-widgets/controls",
          "model_name": "HBoxModel",
          "state": {
            "_view_name": "HBoxView",
            "_dom_classes": [],
            "_model_name": "HBoxModel",
            "_view_module": "@jupyter-widgets/controls",
            "_model_module_version": "1.5.0",
            "_view_count": null,
            "_view_module_version": "1.5.0",
            "box_style": "",
            "layout": "IPY_MODEL_c8c00e5176d6486a9e4877ba4cfc7d9b",
            "_model_module": "@jupyter-widgets/controls",
            "children": [
              "IPY_MODEL_4e63fbac886546a9a49c6604d621b78f",
              "IPY_MODEL_450f15f05a344aa29085d6dd1ff170f1"
            ]
          }
        },
        "c8c00e5176d6486a9e4877ba4cfc7d9b": {
          "model_module": "@jupyter-widgets/base",
          "model_name": "LayoutModel",
          "state": {
            "_view_name": "LayoutView",
            "grid_template_rows": null,
            "right": null,
            "justify_content": null,
            "_view_module": "@jupyter-widgets/base",
            "overflow": null,
            "_model_module_version": "1.2.0",
            "_view_count": null,
            "flex_flow": null,
            "width": null,
            "min_width": null,
            "border": null,
            "align_items": null,
            "bottom": null,
            "_model_module": "@jupyter-widgets/base",
            "top": null,
            "grid_column": null,
            "overflow_y": null,
            "overflow_x": null,
            "grid_auto_flow": null,
            "grid_area": null,
            "grid_template_columns": null,
            "flex": null,
            "_model_name": "LayoutModel",
            "justify_items": null,
            "grid_row": null,
            "max_height": null,
            "align_content": null,
            "visibility": null,
            "align_self": null,
            "height": null,
            "min_height": null,
            "padding": null,
            "grid_auto_rows": null,
            "grid_gap": null,
            "max_width": null,
            "order": null,
            "_view_module_version": "1.2.0",
            "grid_template_areas": null,
            "object_position": null,
            "object_fit": null,
            "grid_auto_columns": null,
            "margin": null,
            "display": null,
            "left": null
          }
        },
        "4e63fbac886546a9a49c6604d621b78f": {
          "model_module": "@jupyter-widgets/controls",
          "model_name": "FloatProgressModel",
          "state": {
            "_view_name": "ProgressView",
            "style": "IPY_MODEL_6601fcf258c6445f925f717a5050f130",
            "_dom_classes": [],
            "description": "Downloading: 100%",
            "_model_name": "FloatProgressModel",
            "bar_style": "success",
            "max": 440473133,
            "_view_module": "@jupyter-widgets/controls",
            "_model_module_version": "1.5.0",
            "value": 440473133,
            "_view_count": null,
            "_view_module_version": "1.5.0",
            "orientation": "horizontal",
            "min": 0,
            "description_tooltip": null,
            "_model_module": "@jupyter-widgets/controls",
            "layout": "IPY_MODEL_481de03ec0444d2ba358ed00d75e715f"
          }
        },
        "450f15f05a344aa29085d6dd1ff170f1": {
          "model_module": "@jupyter-widgets/controls",
          "model_name": "HTMLModel",
          "state": {
            "_view_name": "HTMLView",
            "style": "IPY_MODEL_1b51f768a9b44af2938b04d76a295112",
            "_dom_classes": [],
            "description": "",
            "_model_name": "HTMLModel",
            "placeholder": "​",
            "_view_module": "@jupyter-widgets/controls",
            "_model_module_version": "1.5.0",
            "value": " 440M/440M [00:38&lt;00:00, 11.6MB/s]",
            "_view_count": null,
            "_view_module_version": "1.5.0",
            "description_tooltip": null,
            "_model_module": "@jupyter-widgets/controls",
            "layout": "IPY_MODEL_56008962c0eb4564be49c5649c05f44a"
          }
        },
        "6601fcf258c6445f925f717a5050f130": {
          "model_module": "@jupyter-widgets/controls",
          "model_name": "ProgressStyleModel",
          "state": {
            "_view_name": "StyleView",
            "_model_name": "ProgressStyleModel",
            "description_width": "initial",
            "_view_module": "@jupyter-widgets/base",
            "_model_module_version": "1.5.0",
            "_view_count": null,
            "_view_module_version": "1.2.0",
            "bar_color": null,
            "_model_module": "@jupyter-widgets/controls"
          }
        },
        "481de03ec0444d2ba358ed00d75e715f": {
          "model_module": "@jupyter-widgets/base",
          "model_name": "LayoutModel",
          "state": {
            "_view_name": "LayoutView",
            "grid_template_rows": null,
            "right": null,
            "justify_content": null,
            "_view_module": "@jupyter-widgets/base",
            "overflow": null,
            "_model_module_version": "1.2.0",
            "_view_count": null,
            "flex_flow": null,
            "width": null,
            "min_width": null,
            "border": null,
            "align_items": null,
            "bottom": null,
            "_model_module": "@jupyter-widgets/base",
            "top": null,
            "grid_column": null,
            "overflow_y": null,
            "overflow_x": null,
            "grid_auto_flow": null,
            "grid_area": null,
            "grid_template_columns": null,
            "flex": null,
            "_model_name": "LayoutModel",
            "justify_items": null,
            "grid_row": null,
            "max_height": null,
            "align_content": null,
            "visibility": null,
            "align_self": null,
            "height": null,
            "min_height": null,
            "padding": null,
            "grid_auto_rows": null,
            "grid_gap": null,
            "max_width": null,
            "order": null,
            "_view_module_version": "1.2.0",
            "grid_template_areas": null,
            "object_position": null,
            "object_fit": null,
            "grid_auto_columns": null,
            "margin": null,
            "display": null,
            "left": null
          }
        },
        "1b51f768a9b44af2938b04d76a295112": {
          "model_module": "@jupyter-widgets/controls",
          "model_name": "DescriptionStyleModel",
          "state": {
            "_view_name": "StyleView",
            "_model_name": "DescriptionStyleModel",
            "description_width": "",
            "_view_module": "@jupyter-widgets/base",
            "_model_module_version": "1.5.0",
            "_view_count": null,
            "_view_module_version": "1.2.0",
            "_model_module": "@jupyter-widgets/controls"
          }
        },
        "56008962c0eb4564be49c5649c05f44a": {
          "model_module": "@jupyter-widgets/base",
          "model_name": "LayoutModel",
          "state": {
            "_view_name": "LayoutView",
            "grid_template_rows": null,
            "right": null,
            "justify_content": null,
            "_view_module": "@jupyter-widgets/base",
            "overflow": null,
            "_model_module_version": "1.2.0",
            "_view_count": null,
            "flex_flow": null,
            "width": null,
            "min_width": null,
            "border": null,
            "align_items": null,
            "bottom": null,
            "_model_module": "@jupyter-widgets/base",
            "top": null,
            "grid_column": null,
            "overflow_y": null,
            "overflow_x": null,
            "grid_auto_flow": null,
            "grid_area": null,
            "grid_template_columns": null,
            "flex": null,
            "_model_name": "LayoutModel",
            "justify_items": null,
            "grid_row": null,
            "max_height": null,
            "align_content": null,
            "visibility": null,
            "align_self": null,
            "height": null,
            "min_height": null,
            "padding": null,
            "grid_auto_rows": null,
            "grid_gap": null,
            "max_width": null,
            "order": null,
            "_view_module_version": "1.2.0",
            "grid_template_areas": null,
            "object_position": null,
            "object_fit": null,
            "grid_auto_columns": null,
            "margin": null,
            "display": null,
            "left": null
          }
        },
        "649f486b57004172b3eec1567310f811": {
          "model_module": "@jupyter-widgets/controls",
          "model_name": "HBoxModel",
          "state": {
            "_view_name": "HBoxView",
            "_dom_classes": [],
            "_model_name": "HBoxModel",
            "_view_module": "@jupyter-widgets/controls",
            "_model_module_version": "1.5.0",
            "_view_count": null,
            "_view_module_version": "1.5.0",
            "box_style": "",
            "layout": "IPY_MODEL_5291b56a68774eb08a3196cf61d05549",
            "_model_module": "@jupyter-widgets/controls",
            "children": [
              "IPY_MODEL_bd48e818c4fd47bdbe6c19bbadcdd8de",
              "IPY_MODEL_0c86ef6c9ff84d348b181c21a092d22a"
            ]
          }
        },
        "5291b56a68774eb08a3196cf61d05549": {
          "model_module": "@jupyter-widgets/base",
          "model_name": "LayoutModel",
          "state": {
            "_view_name": "LayoutView",
            "grid_template_rows": null,
            "right": null,
            "justify_content": null,
            "_view_module": "@jupyter-widgets/base",
            "overflow": null,
            "_model_module_version": "1.2.0",
            "_view_count": null,
            "flex_flow": null,
            "width": null,
            "min_width": null,
            "border": null,
            "align_items": null,
            "bottom": null,
            "_model_module": "@jupyter-widgets/base",
            "top": null,
            "grid_column": null,
            "overflow_y": null,
            "overflow_x": null,
            "grid_auto_flow": null,
            "grid_area": null,
            "grid_template_columns": null,
            "flex": null,
            "_model_name": "LayoutModel",
            "justify_items": null,
            "grid_row": null,
            "max_height": null,
            "align_content": null,
            "visibility": null,
            "align_self": null,
            "height": null,
            "min_height": null,
            "padding": null,
            "grid_auto_rows": null,
            "grid_gap": null,
            "max_width": null,
            "order": null,
            "_view_module_version": "1.2.0",
            "grid_template_areas": null,
            "object_position": null,
            "object_fit": null,
            "grid_auto_columns": null,
            "margin": null,
            "display": null,
            "left": null
          }
        },
        "bd48e818c4fd47bdbe6c19bbadcdd8de": {
          "model_module": "@jupyter-widgets/controls",
          "model_name": "FloatProgressModel",
          "state": {
            "_view_name": "ProgressView",
            "style": "IPY_MODEL_dfa8a3f1cfcf46b198e92ac067ec029c",
            "_dom_classes": [],
            "description": "100%",
            "_model_name": "FloatProgressModel",
            "bar_style": "success",
            "max": 370,
            "_view_module": "@jupyter-widgets/controls",
            "_model_module_version": "1.5.0",
            "value": 370,
            "_view_count": null,
            "_view_module_version": "1.5.0",
            "orientation": "horizontal",
            "min": 0,
            "description_tooltip": null,
            "_model_module": "@jupyter-widgets/controls",
            "layout": "IPY_MODEL_b29855842a47465bba3375b3490a414f"
          }
        },
        "0c86ef6c9ff84d348b181c21a092d22a": {
          "model_module": "@jupyter-widgets/controls",
          "model_name": "HTMLModel",
          "state": {
            "_view_name": "HTMLView",
            "style": "IPY_MODEL_b53d243e2d104218996b99491da86d81",
            "_dom_classes": [],
            "description": "",
            "_model_name": "HTMLModel",
            "placeholder": "​",
            "_view_module": "@jupyter-widgets/controls",
            "_model_module_version": "1.5.0",
            "value": " 370/370 [09:27&lt;00:00,  1.53s/it]",
            "_view_count": null,
            "_view_module_version": "1.5.0",
            "description_tooltip": null,
            "_model_module": "@jupyter-widgets/controls",
            "layout": "IPY_MODEL_9343cfb1910e444a894365d7a2838b7c"
          }
        },
        "dfa8a3f1cfcf46b198e92ac067ec029c": {
          "model_module": "@jupyter-widgets/controls",
          "model_name": "ProgressStyleModel",
          "state": {
            "_view_name": "StyleView",
            "_model_name": "ProgressStyleModel",
            "description_width": "initial",
            "_view_module": "@jupyter-widgets/base",
            "_model_module_version": "1.5.0",
            "_view_count": null,
            "_view_module_version": "1.2.0",
            "bar_color": null,
            "_model_module": "@jupyter-widgets/controls"
          }
        },
        "b29855842a47465bba3375b3490a414f": {
          "model_module": "@jupyter-widgets/base",
          "model_name": "LayoutModel",
          "state": {
            "_view_name": "LayoutView",
            "grid_template_rows": null,
            "right": null,
            "justify_content": null,
            "_view_module": "@jupyter-widgets/base",
            "overflow": null,
            "_model_module_version": "1.2.0",
            "_view_count": null,
            "flex_flow": null,
            "width": null,
            "min_width": null,
            "border": null,
            "align_items": null,
            "bottom": null,
            "_model_module": "@jupyter-widgets/base",
            "top": null,
            "grid_column": null,
            "overflow_y": null,
            "overflow_x": null,
            "grid_auto_flow": null,
            "grid_area": null,
            "grid_template_columns": null,
            "flex": null,
            "_model_name": "LayoutModel",
            "justify_items": null,
            "grid_row": null,
            "max_height": null,
            "align_content": null,
            "visibility": null,
            "align_self": null,
            "height": null,
            "min_height": null,
            "padding": null,
            "grid_auto_rows": null,
            "grid_gap": null,
            "max_width": null,
            "order": null,
            "_view_module_version": "1.2.0",
            "grid_template_areas": null,
            "object_position": null,
            "object_fit": null,
            "grid_auto_columns": null,
            "margin": null,
            "display": null,
            "left": null
          }
        },
        "b53d243e2d104218996b99491da86d81": {
          "model_module": "@jupyter-widgets/controls",
          "model_name": "DescriptionStyleModel",
          "state": {
            "_view_name": "StyleView",
            "_model_name": "DescriptionStyleModel",
            "description_width": "",
            "_view_module": "@jupyter-widgets/base",
            "_model_module_version": "1.5.0",
            "_view_count": null,
            "_view_module_version": "1.2.0",
            "_model_module": "@jupyter-widgets/controls"
          }
        },
        "9343cfb1910e444a894365d7a2838b7c": {
          "model_module": "@jupyter-widgets/base",
          "model_name": "LayoutModel",
          "state": {
            "_view_name": "LayoutView",
            "grid_template_rows": null,
            "right": null,
            "justify_content": null,
            "_view_module": "@jupyter-widgets/base",
            "overflow": null,
            "_model_module_version": "1.2.0",
            "_view_count": null,
            "flex_flow": null,
            "width": null,
            "min_width": null,
            "border": null,
            "align_items": null,
            "bottom": null,
            "_model_module": "@jupyter-widgets/base",
            "top": null,
            "grid_column": null,
            "overflow_y": null,
            "overflow_x": null,
            "grid_auto_flow": null,
            "grid_area": null,
            "grid_template_columns": null,
            "flex": null,
            "_model_name": "LayoutModel",
            "justify_items": null,
            "grid_row": null,
            "max_height": null,
            "align_content": null,
            "visibility": null,
            "align_self": null,
            "height": null,
            "min_height": null,
            "padding": null,
            "grid_auto_rows": null,
            "grid_gap": null,
            "max_width": null,
            "order": null,
            "_view_module_version": "1.2.0",
            "grid_template_areas": null,
            "object_position": null,
            "object_fit": null,
            "grid_auto_columns": null,
            "margin": null,
            "display": null,
            "left": null
          }
        }
      }
    }
  },
  "cells": [
    {
      "cell_type": "code",
      "metadata": {
        "id": "579bBwcvMU4e"
      },
      "source": [
        "!pip install transformers datasets tweet-preprocessor\n",
        "from google.colab import drive\n",
        "drive.mount('/content/drive')"
      ],
      "execution_count": null,
      "outputs": []
    },
    {
      "cell_type": "code",
      "metadata": {
        "id": "Yce8NM3vYdh7"
      },
      "source": [
        ""
      ],
      "execution_count": null,
      "outputs": []
    },
    {
      "cell_type": "code",
      "metadata": {
        "id": "I0AxO3wpL_oG"
      },
      "source": [
        "import pandas as pd\r\n",
        "import numpy as np\r\n",
        "import matplotlib.pyplot as plt\r\n",
        "import wordcloud\r\n",
        "import preprocessor as p # tweet-preprocessor\r\n",
        "import nltk\r\n",
        "import re\r\n",
        "import seaborn as sns\r\n",
        "import torch\r\n",
        "\r\n",
        "from transformers import BertTokenizer, BertForSequenceClassification, Trainer, TrainingArguments, AdamW, get_linear_schedule_with_warmup\r\n",
        "from sklearn.metrics import accuracy_score, roc_auc_score, confusion_matrix\r\n",
        "from datasets import Dataset\r\n",
        "from sklearn.model_selection import train_test_split\r\n",
        "from scipy.special import softmax\r\n",
        "from torch.utils.data import TensorDataset, DataLoader, RandomSampler, SequentialSampler\r\n",
        "from tqdm.notebook import tqdm"
      ],
      "execution_count": 2,
      "outputs": []
    },
    {
      "cell_type": "code",
      "metadata": {
        "id": "kc3SmAkrPVVi"
      },
      "source": [
        "def auc_score(preds, labels):\r\n",
        "  soft_preds = softmax(preds, axis=1) # logit -> probability\r\n",
        "  print(preds.shape, labels.shape)\r\n",
        "  if np.shape(preds)[1] > 2: # check for multi-class\r\n",
        "    return roc_auc_score(labels, soft_preds, multi_class='ovr')\r\n",
        "  else:\r\n",
        "    soft_preds = soft_preds[:,1]\r\n",
        "    return roc_auc_score(labels, soft_preds)"
      ],
      "execution_count": 3,
      "outputs": []
    },
    {
      "cell_type": "code",
      "metadata": {
        "id": "uzSoqAkAPkq5",
        "outputId": "c4af4e1d-d729-4f3c-cda9-e836002c23ad",
        "colab": {
          "base_uri": "https://localhost:8080/"
        }
      },
      "source": [
        "!ls drive/Shareddrives/"
      ],
      "execution_count": 8,
      "outputs": [
        {
          "output_type": "stream",
          "text": [
            "MyDrive  Shareddrives\n"
          ],
          "name": "stdout"
        }
      ]
    },
    {
      "cell_type": "code",
      "metadata": {
        "id": "Q0yShuXhNH_1"
      },
      "source": [
        "X_val = pd.read_csv(\"/content/drive/MyDrive/EE 460J/X_val.csv.zip\")\r\n",
        "y_val = pd.read_csv(\"/content/drive/MyDrive/EE 460J/y_val.csv.zip\")"
      ],
      "execution_count": 9,
      "outputs": []
    },
    {
      "cell_type": "code",
      "metadata": {
        "id": "g7VS6kLQaF0h"
      },
      "source": [
        "X_val.head()"
      ],
      "execution_count": null,
      "outputs": []
    },
    {
      "cell_type": "code",
      "metadata": {
        "id": "hbqTNj3AMlNP"
      },
      "source": [
        "def preprocess_tweet(tweet):\r\n",
        "  clean_tweet = tweet.replace('@', '')\r\n",
        "  clean_tweet = clean_tweet.replace('#', '')\r\n",
        "  clean_tweet = clean_tweet.replace('&', '')\r\n",
        "  clean_tweet = re.sub(r'[^A-Za-z0-9.!, ]+', '', clean_tweet)\r\n",
        "  split = [word.lower() for word in clean_tweet.split() if 'http' not in word.lower() and 'jpg' not in word.lower() and 'www' not in word.lower() and word.lower() not in['amp', 'qt']]\r\n",
        "  return ' '.join(split)\r\n",
        "\r\n",
        "\r\n",
        "data = [X_val, y_val['party']]\r\n",
        "dataset = pd.concat(data, axis=1)\r\n",
        "dataset = dataset[dataset[\"party\"].isin([\"R\",\"D\"])]\r\n",
        "dataset[\"label\"] = dataset['party'].apply(lambda party: 1 if party=='R' else 0)\r\n",
        "\r\n"
      ],
      "execution_count": 14,
      "outputs": []
    },
    {
      "cell_type": "code",
      "metadata": {
        "colab": {
          "base_uri": "https://localhost:8080/",
          "height": 842
        },
        "id": "-VBJTguPVmJP",
        "outputId": "9dea7d63-3753-41a2-dfc9-2a3fa45d9d2e"
      },
      "source": [
        "dataset_test = dataset.sample(frac=0.4, random_state=42)\r\n",
        "dataset_test"
      ],
      "execution_count": 15,
      "outputs": [
        {
          "output_type": "execute_result",
          "data": {
            "text/html": [
              "<div>\n",
              "<style scoped>\n",
              "    .dataframe tbody tr th:only-of-type {\n",
              "        vertical-align: middle;\n",
              "    }\n",
              "\n",
              "    .dataframe tbody tr th {\n",
              "        vertical-align: top;\n",
              "    }\n",
              "\n",
              "    .dataframe thead th {\n",
              "        text-align: right;\n",
              "    }\n",
              "</style>\n",
              "<table border=\"1\" class=\"dataframe\">\n",
              "  <thead>\n",
              "    <tr style=\"text-align: right;\">\n",
              "      <th></th>\n",
              "      <th>Unnamed: 0</th>\n",
              "      <th>Unnamed: 0.1</th>\n",
              "      <th>id</th>\n",
              "      <th>screen_name</th>\n",
              "      <th>user_id</th>\n",
              "      <th>time</th>\n",
              "      <th>link</th>\n",
              "      <th>text</th>\n",
              "      <th>source</th>\n",
              "      <th>clean_text</th>\n",
              "      <th>party</th>\n",
              "      <th>label</th>\n",
              "    </tr>\n",
              "  </thead>\n",
              "  <tbody>\n",
              "    <tr>\n",
              "      <th>7549</th>\n",
              "      <td>178819</td>\n",
              "      <td>1846</td>\n",
              "      <td>1247320081941569536</td>\n",
              "      <td>RepDonBeyer</td>\n",
              "      <td>2962868158</td>\n",
              "      <td>2020-04-06T20:27:36-04:00</td>\n",
              "      <td>https://www.twitter.com/JECDems/statuses/12473...</td>\n",
              "      <td>RT @JECDems .@RepDonBeyer urges Mnuchin to qui...</td>\n",
              "      <td>Twitter for iPhone</td>\n",
              "      <td>rt jecdems .repdonbeyer urges mnuchin to quick...</td>\n",
              "      <td>D</td>\n",
              "      <td>0</td>\n",
              "    </tr>\n",
              "    <tr>\n",
              "      <th>11119</th>\n",
              "      <td>161401</td>\n",
              "      <td>1218</td>\n",
              "      <td>1244415050108014592</td>\n",
              "      <td>RepKathleenRice</td>\n",
              "      <td>2970462034</td>\n",
              "      <td>2020-03-29T20:04:02-04:00</td>\n",
              "      <td>https://www.twitter.com/RepKathleenRice/status...</td>\n",
              "      <td>It’s National Vietnam War Veterans Day. \\n\\nTo...</td>\n",
              "      <td>Twitter for iPhone</td>\n",
              "      <td>its national vietnam war veterans day. today w...</td>\n",
              "      <td>D</td>\n",
              "      <td>0</td>\n",
              "    </tr>\n",
              "    <tr>\n",
              "      <th>34664</th>\n",
              "      <td>310857</td>\n",
              "      <td>889</td>\n",
              "      <td>1271923075265724416</td>\n",
              "      <td>senrobportman</td>\n",
              "      <td>18915145</td>\n",
              "      <td>2020-06-13T17:51:06-04:00</td>\n",
              "      <td>https://www.twitter.com/senrobportman/statuses...</td>\n",
              "      <td>Heartbreaking news coming out of the Cincinnat...</td>\n",
              "      <td>Twitter for iPhone</td>\n",
              "      <td>heartbreaking news coming out of the cincinnat...</td>\n",
              "      <td>R</td>\n",
              "      <td>1</td>\n",
              "    </tr>\n",
              "    <tr>\n",
              "      <th>100271</th>\n",
              "      <td>377166</td>\n",
              "      <td>456</td>\n",
              "      <td>1285583410845691904</td>\n",
              "      <td>RepJohnYarmuth</td>\n",
              "      <td>384913290</td>\n",
              "      <td>2020-07-21T10:32:24-04:00</td>\n",
              "      <td>https://www.twitter.com/RepJohnYarmuth/statuse...</td>\n",
              "      <td>If Donald Trump is the Grand Canyon of moralit...</td>\n",
              "      <td>Twitter for iPhone</td>\n",
              "      <td>if donald trump is the grand canyon of moralit...</td>\n",
              "      <td>D</td>\n",
              "      <td>0</td>\n",
              "    </tr>\n",
              "    <tr>\n",
              "      <th>52478</th>\n",
              "      <td>75415</td>\n",
              "      <td>3332</td>\n",
              "      <td>1227975742761455616</td>\n",
              "      <td>RepMaloney</td>\n",
              "      <td>258900199</td>\n",
              "      <td>2020-02-13T10:20:06-05:00</td>\n",
              "      <td>https://www.twitter.com/VAratifyERA/statuses/1...</td>\n",
              "      <td>RT @VAratifyERA The ERA is still as relevant a...</td>\n",
              "      <td>Twitter Web App</td>\n",
              "      <td>rt varatifyera the era is still as relevant an...</td>\n",
              "      <td>D</td>\n",
              "      <td>0</td>\n",
              "    </tr>\n",
              "    <tr>\n",
              "      <th>...</th>\n",
              "      <td>...</td>\n",
              "      <td>...</td>\n",
              "      <td>...</td>\n",
              "      <td>...</td>\n",
              "      <td>...</td>\n",
              "      <td>...</td>\n",
              "      <td>...</td>\n",
              "      <td>...</td>\n",
              "      <td>...</td>\n",
              "      <td>...</td>\n",
              "      <td>...</td>\n",
              "      <td>...</td>\n",
              "    </tr>\n",
              "    <tr>\n",
              "      <th>66304</th>\n",
              "      <td>516537</td>\n",
              "      <td>894</td>\n",
              "      <td>1314198822797615104</td>\n",
              "      <td>RepDonBeyer</td>\n",
              "      <td>2962868158</td>\n",
              "      <td>2020-10-08T09:39:50-04:00</td>\n",
              "      <td>https://www.twitter.com/RepDonBeyer/statuses/1...</td>\n",
              "      <td>As the President pitches a tantrum over basic ...</td>\n",
              "      <td>TweetDeck</td>\n",
              "      <td>as the president pitches a tantrum over basic ...</td>\n",
              "      <td>D</td>\n",
              "      <td>0</td>\n",
              "    </tr>\n",
              "    <tr>\n",
              "      <th>72327</th>\n",
              "      <td>150867</td>\n",
              "      <td>4128</td>\n",
              "      <td>1242451346466451456</td>\n",
              "      <td>SenatorTimScott</td>\n",
              "      <td>217543151</td>\n",
              "      <td>2020-03-24T10:00:59-04:00</td>\n",
              "      <td>https://www.twitter.com/SenJohnBarrasso/status...</td>\n",
              "      <td>RT @SenJohnBarrasso You are either helping rig...</td>\n",
              "      <td>TweetDeck</td>\n",
              "      <td>rt senjohnbarrasso you are either helping righ...</td>\n",
              "      <td>R</td>\n",
              "      <td>1</td>\n",
              "    </tr>\n",
              "    <tr>\n",
              "      <th>101080</th>\n",
              "      <td>232348</td>\n",
              "      <td>927</td>\n",
              "      <td>1256245018962137088</td>\n",
              "      <td>RepCasten</td>\n",
              "      <td>1083472286089396224</td>\n",
              "      <td>2020-05-01T11:32:07-04:00</td>\n",
              "      <td>https://www.twitter.com/RepCasten/statuses/125...</td>\n",
              "      <td>May is #MentalHealthMonth. There are simple th...</td>\n",
              "      <td>Twitter Web App</td>\n",
              "      <td>may is mentalhealthmonth. there are simple thi...</td>\n",
              "      <td>D</td>\n",
              "      <td>0</td>\n",
              "    </tr>\n",
              "    <tr>\n",
              "      <th>36654</th>\n",
              "      <td>60058</td>\n",
              "      <td>216</td>\n",
              "      <td>1225501504561438720</td>\n",
              "      <td>NormaJTorres</td>\n",
              "      <td>236279233</td>\n",
              "      <td>2020-02-06T14:28:22-05:00</td>\n",
              "      <td>https://www.twitter.com/NormaJTorres/statuses/...</td>\n",
              "      <td>On International Day of Zero Tolerance for fem...</td>\n",
              "      <td>Twitter Web App</td>\n",
              "      <td>on international day of zero tolerance for fem...</td>\n",
              "      <td>D</td>\n",
              "      <td>0</td>\n",
              "    </tr>\n",
              "    <tr>\n",
              "      <th>73508</th>\n",
              "      <td>279620</td>\n",
              "      <td>542</td>\n",
              "      <td>1265658842408509440</td>\n",
              "      <td>RepGregoryMeeks</td>\n",
              "      <td>22812754</td>\n",
              "      <td>2020-05-27T10:59:17-04:00</td>\n",
              "      <td>https://www.twitter.com/RepJerryNadler/statuse...</td>\n",
              "      <td>RT @RepJerryNadler Eric! So good to hear from ...</td>\n",
              "      <td>Twitter Web App</td>\n",
              "      <td>rt repjerrynadler eric! so good to hear from y...</td>\n",
              "      <td>D</td>\n",
              "      <td>0</td>\n",
              "    </tr>\n",
              "  </tbody>\n",
              "</table>\n",
              "<p>47324 rows × 12 columns</p>\n",
              "</div>"
            ],
            "text/plain": [
              "        Unnamed: 0  Unnamed: 0.1  ...  party label\n",
              "7549        178819          1846  ...      D     0\n",
              "11119       161401          1218  ...      D     0\n",
              "34664       310857           889  ...      R     1\n",
              "100271      377166           456  ...      D     0\n",
              "52478        75415          3332  ...      D     0\n",
              "...            ...           ...  ...    ...   ...\n",
              "66304       516537           894  ...      D     0\n",
              "72327       150867          4128  ...      R     1\n",
              "101080      232348           927  ...      D     0\n",
              "36654        60058           216  ...      D     0\n",
              "73508       279620           542  ...      D     0\n",
              "\n",
              "[47324 rows x 12 columns]"
            ]
          },
          "metadata": {
            "tags": []
          },
          "execution_count": 15
        }
      ]
    },
    {
      "cell_type": "code",
      "metadata": {
        "id": "jFsNKz21OL9F",
        "outputId": "13157a89-1741-497a-b5b4-3b6cc192af5b",
        "colab": {
          "base_uri": "https://localhost:8080/",
          "height": 66,
          "referenced_widgets": [
            "d0efefc76da14e51b10281ecb3cd7f30",
            "6e8fa84d3c494c87a7145c446869dd4e",
            "ff4a268353b94576a95806e772b4bf4c",
            "65a773229ea943049fbd1b3d3de89e8d",
            "d98e00b7804149049987266e54211d24",
            "06ca64cad2b44e3fbabda6f78a274770",
            "75e2b30fe5834bd8a6b4c00841ed2ce4",
            "8756572e1d5e4bf599a610cc102388aa"
          ]
        }
      },
      "source": [
        "tokenizer = BertTokenizer.from_pretrained('bert-base-uncased', \r\n",
        "                                        do_lower_case=True)\r\n",
        "\r\n",
        "encoded_data_test = tokenizer.batch_encode_plus(\r\n",
        "  dataset_test.clean_text.values, \r\n",
        "  add_special_tokens=True, \r\n",
        "  return_attention_mask=True, \r\n",
        "  padding=True, \r\n",
        "  truncation=True, \r\n",
        "  return_tensors='pt'\r\n",
        ")\r\n",
        "\r\n",
        "input_ids_test = encoded_data_test['input_ids']\r\n",
        "attention_masks_test = encoded_data_test['attention_mask']\r\n",
        "labels_test = torch.tensor(dataset_test.label.values)\r\n",
        "\r\n",
        "BATCH_SIZE=128\r\n",
        "\r\n",
        "test_data = TensorDataset(input_ids_test, attention_masks_test, labels_test)\r\n",
        "\r\n",
        "test_dataloader = DataLoader(test_data,\r\n",
        "                             sampler=SequentialSampler(test_data),\r\n",
        "                             batch_size=BATCH_SIZE)"
      ],
      "execution_count": 16,
      "outputs": [
        {
          "output_type": "display_data",
          "data": {
            "application/vnd.jupyter.widget-view+json": {
              "model_id": "d0efefc76da14e51b10281ecb3cd7f30",
              "version_minor": 0,
              "version_major": 2
            },
            "text/plain": [
              "HBox(children=(FloatProgress(value=0.0, description='Downloading', max=231508.0, style=ProgressStyle(descripti…"
            ]
          },
          "metadata": {
            "tags": []
          }
        },
        {
          "output_type": "stream",
          "text": [
            "\n"
          ],
          "name": "stdout"
        }
      ]
    },
    {
      "cell_type": "code",
      "metadata": {
        "id": "lZOdoS6WPV7T"
      },
      "source": [
        "def evaluate(model, dataloader):\r\n",
        "  model.to(device)\r\n",
        "  model.eval()\r\n",
        "\r\n",
        "  loss_val_total = 0\r\n",
        "  predictions, true_vals = [], []\r\n",
        "  \r\n",
        "  progress_bar = tqdm(dataloader)\r\n",
        "  for batch in progress_bar:  \r\n",
        "    # convert data to CUDA\r\n",
        "    batch = tuple(b.to(device) for b in batch)\r\n",
        "    \r\n",
        "    inputs = {\r\n",
        "        'input_ids':      batch[0],\r\n",
        "        'attention_mask': batch[1],\r\n",
        "        'labels':         batch[2],\r\n",
        "    }\r\n",
        "\r\n",
        "    with torch.no_grad():        \r\n",
        "        outputs = model(**inputs) # get predictions\r\n",
        "        \r\n",
        "    loss = outputs[0]\r\n",
        "    logits = outputs[1]\r\n",
        "    loss_val_total += loss.item()\r\n",
        "\r\n",
        "    logits = logits.detach().cpu().numpy()\r\n",
        "    label_ids = inputs['labels'].cpu().numpy()\r\n",
        "    predictions.append(logits)\r\n",
        "    true_vals.append(label_ids)\r\n",
        "\r\n",
        "  loss_val_avg = loss_val_total/len(dataloader) \r\n",
        "\r\n",
        "  predictions = np.concatenate(predictions, axis=0)\r\n",
        "  true_vals = np.concatenate(true_vals, axis=0)\r\n",
        "\r\n",
        "  auc = auc_score(predictions, true_vals)\r\n",
        "\r\n",
        "  print(f'AUC: {auc}')\r\n",
        "  print(f'Cross-entropy loss: {loss_val_avg}')\r\n",
        "  print(f\"Accuracy: {accuracy_score(true_vals, np.argmax(predictions, axis=1))}\")  \r\n",
        "  sns.heatmap(confusion_matrix(true_vals, np.argmax(predictions, axis=1)), annot=True, fmt=\"d\")"
      ],
      "execution_count": 17,
      "outputs": []
    },
    {
      "cell_type": "code",
      "metadata": {
        "id": "Vl0fGXK5cVDt",
        "outputId": "8cc639c8-e31b-4dd1-cc1a-4b740edfbc6b",
        "colab": {
          "base_uri": "https://localhost:8080/"
        }
      },
      "source": [
        "!ls drive/MyDrive/EE\\ 460J"
      ],
      "execution_count": 21,
      "outputs": [
        {
          "output_type": "stream",
          "text": [
            " 10k_tweets_model.model\t\t\t election_tweet_ids_pls_hydrate.txt\n",
            " 2010.00600.pdf\t\t\t\t finetuned_BERT_epoch_1.model\n",
            " 2020_labled_political_tweets.csv.zip\t'Lab 5.gdoc'\n",
            " 290_tweets_with_labels.csv\t\t tweets_3k.csv\n",
            "'460J Final Project Links.docx'\t\t'Twitter API Keys.gdoc'\n",
            "'50k_tweets_model (1).model'\t\t'USElection Data Set Explanation_2.pdf'\n",
            " 50k_tweets_model.model\t\t\t uselection_tweets_1jul_11nov.zip\n",
            " 5k_tweets_model.model\t\t\t X_train.csv.zip\n",
            " Brainstorm.gdoc\t\t\t X_val.csv.zip\n",
            "'Copy of finetuned_BERT_epoch_2.model'\t y_train.csv.zip\n",
            "'Data Collection.ipynb'\t\t\t y_val.csv.zip\n"
          ],
          "name": "stdout"
        }
      ]
    },
    {
      "cell_type": "code",
      "metadata": {
        "colab": {
          "base_uri": "https://localhost:8080/",
          "height": 582,
          "referenced_widgets": [
            "5a6a8254809f457c883a5630f0de8fc9",
            "ea7654fd13a54bbdbace4c37cd7ec5e8",
            "0cccbc45f4b241c499cdd72774c99a0b",
            "f9a5dd8e092b4be5a318e54892c38c21",
            "04148862f1f04f9999ff5c299e30b747",
            "63bed831379d45cf9cc4b3719b42b916",
            "d5d66052732940b6b11e4474106bb3b2",
            "c3731c3358df4737b40380d9f6312043",
            "7876b96aad5146488289aeb2e84b4f05",
            "c8c00e5176d6486a9e4877ba4cfc7d9b",
            "4e63fbac886546a9a49c6604d621b78f",
            "450f15f05a344aa29085d6dd1ff170f1",
            "6601fcf258c6445f925f717a5050f130",
            "481de03ec0444d2ba358ed00d75e715f",
            "1b51f768a9b44af2938b04d76a295112",
            "56008962c0eb4564be49c5649c05f44a",
            "649f486b57004172b3eec1567310f811",
            "5291b56a68774eb08a3196cf61d05549",
            "bd48e818c4fd47bdbe6c19bbadcdd8de",
            "0c86ef6c9ff84d348b181c21a092d22a",
            "dfa8a3f1cfcf46b198e92ac067ec029c",
            "b29855842a47465bba3375b3490a414f",
            "b53d243e2d104218996b99491da86d81",
            "9343cfb1910e444a894365d7a2838b7c"
          ]
        },
        "id": "h9lHwGEtQmxY",
        "outputId": "0bbc1263-366c-4697-df2b-c5d690b4b35c"
      },
      "source": [
        "model = BertForSequenceClassification.from_pretrained(\"bert-base-uncased\",\r\n",
        "                                                      num_labels=2,\r\n",
        "                                                      output_attentions=False,\r\n",
        "                                                      output_hidden_states=False)\r\n",
        "\r\n",
        "model.load_state_dict(torch.load(\"/content/drive/MyDrive/EE 460J/finetuned_BERT_epoch_1.model\"))\r\n",
        "\r\n",
        "evaluate(model, test_dataloader)"
      ],
      "execution_count": 22,
      "outputs": [
        {
          "output_type": "display_data",
          "data": {
            "application/vnd.jupyter.widget-view+json": {
              "model_id": "5a6a8254809f457c883a5630f0de8fc9",
              "version_minor": 0,
              "version_major": 2
            },
            "text/plain": [
              "HBox(children=(FloatProgress(value=0.0, description='Downloading', max=433.0, style=ProgressStyle(description_…"
            ]
          },
          "metadata": {
            "tags": []
          }
        },
        {
          "output_type": "stream",
          "text": [
            "\n"
          ],
          "name": "stdout"
        },
        {
          "output_type": "display_data",
          "data": {
            "application/vnd.jupyter.widget-view+json": {
              "model_id": "7876b96aad5146488289aeb2e84b4f05",
              "version_minor": 0,
              "version_major": 2
            },
            "text/plain": [
              "HBox(children=(FloatProgress(value=0.0, description='Downloading', max=440473133.0, style=ProgressStyle(descri…"
            ]
          },
          "metadata": {
            "tags": []
          }
        },
        {
          "output_type": "stream",
          "text": [
            "\n"
          ],
          "name": "stdout"
        },
        {
          "output_type": "stream",
          "text": [
            "Some weights of the model checkpoint at bert-base-uncased were not used when initializing BertForSequenceClassification: ['cls.predictions.bias', 'cls.predictions.transform.dense.weight', 'cls.predictions.transform.dense.bias', 'cls.predictions.decoder.weight', 'cls.seq_relationship.weight', 'cls.seq_relationship.bias', 'cls.predictions.transform.LayerNorm.weight', 'cls.predictions.transform.LayerNorm.bias']\n",
            "- This IS expected if you are initializing BertForSequenceClassification from the checkpoint of a model trained on another task or with another architecture (e.g. initializing a BertForSequenceClassification model from a BertForPreTraining model).\n",
            "- This IS NOT expected if you are initializing BertForSequenceClassification from the checkpoint of a model that you expect to be exactly identical (initializing a BertForSequenceClassification model from a BertForSequenceClassification model).\n",
            "Some weights of BertForSequenceClassification were not initialized from the model checkpoint at bert-base-uncased and are newly initialized: ['classifier.weight', 'classifier.bias']\n",
            "You should probably TRAIN this model on a down-stream task to be able to use it for predictions and inference.\n"
          ],
          "name": "stderr"
        },
        {
          "output_type": "display_data",
          "data": {
            "application/vnd.jupyter.widget-view+json": {
              "model_id": "649f486b57004172b3eec1567310f811",
              "version_minor": 0,
              "version_major": 2
            },
            "text/plain": [
              "HBox(children=(FloatProgress(value=0.0, max=370.0), HTML(value='')))"
            ]
          },
          "metadata": {
            "tags": []
          }
        },
        {
          "output_type": "stream",
          "text": [
            "\n",
            "(47324, 2) (47324,)\n",
            "AUC: 0.9555589070555484\n",
            "Cross-entropy loss: 0.3090455831305401\n",
            "Accuracy: 0.8831037105908207\n"
          ],
          "name": "stdout"
        },
        {
          "output_type": "display_data",
          "data": {
            "image/png": "[encoded data removed]",
            "text/plain": [
              "<Figure size 432x288 with 2 Axes>"
            ]
          },
          "metadata": {
            "tags": [],
            "needs_background": "light"
          }
        }
      ]
    }
  ]
}