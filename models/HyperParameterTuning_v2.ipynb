{
  "nbformat": 4,
  "nbformat_minor": 0,
  "metadata": {
    "colab": {
      "name": "HyperparamTuning_v2.ipynb",
      "provenance": [],
      "collapsed_sections": []
    },
    "kernelspec": {
      "name": "python3",
      "display_name": "Python 3"
    },
    "accelerator": "GPU",
    "widgets": {
      "application/vnd.jupyter.widget-state+json": {
        "ff073f8ba86c4b2bb38fc5bc0fbccf7e": {
          "model_module": "@jupyter-widgets/controls",
          "model_name": "HBoxModel",
          "state": {
            "_view_name": "HBoxView",
            "_dom_classes": [],
            "_model_name": "HBoxModel",
            "_view_module": "@jupyter-widgets/controls",
            "_model_module_version": "1.5.0",
            "_view_count": null,
            "_view_module_version": "1.5.0",
            "box_style": "",
            "layout": "IPY_MODEL_ab18698b5c4249cd9fd01356e6cb96c0",
            "_model_module": "@jupyter-widgets/controls",
            "children": [
              "IPY_MODEL_49fd37b238094b3b83dbeae3683ce7cf",
              "IPY_MODEL_938e35b03c194aa2887b74e0a3db34b5"
            ]
          }
        },
        "ab18698b5c4249cd9fd01356e6cb96c0": {
          "model_module": "@jupyter-widgets/base",
          "model_name": "LayoutModel",
          "state": {
            "_view_name": "LayoutView",
            "grid_template_rows": null,
            "right": null,
            "justify_content": null,
            "_view_module": "@jupyter-widgets/base",
            "overflow": null,
            "_model_module_version": "1.2.0",
            "_view_count": null,
            "flex_flow": null,
            "width": null,
            "min_width": null,
            "border": null,
            "align_items": null,
            "bottom": null,
            "_model_module": "@jupyter-widgets/base",
            "top": null,
            "grid_column": null,
            "overflow_y": null,
            "overflow_x": null,
            "grid_auto_flow": null,
            "grid_area": null,
            "grid_template_columns": null,
            "flex": null,
            "_model_name": "LayoutModel",
            "justify_items": null,
            "grid_row": null,
            "max_height": null,
            "align_content": null,
            "visibility": null,
            "align_self": null,
            "height": null,
            "min_height": null,
            "padding": null,
            "grid_auto_rows": null,
            "grid_gap": null,
            "max_width": null,
            "order": null,
            "_view_module_version": "1.2.0",
            "grid_template_areas": null,
            "object_position": null,
            "object_fit": null,
            "grid_auto_columns": null,
            "margin": null,
            "display": null,
            "left": null
          }
        },
        "49fd37b238094b3b83dbeae3683ce7cf": {
          "model_module": "@jupyter-widgets/controls",
          "model_name": "FloatProgressModel",
          "state": {
            "_view_name": "ProgressView",
            "style": "IPY_MODEL_559e3b5ab8984b9bb8a5ff65079d1d6c",
            "_dom_classes": [],
            "description": "100%",
            "_model_name": "FloatProgressModel",
            "bar_style": "success",
            "max": 2,
            "_view_module": "@jupyter-widgets/controls",
            "_model_module_version": "1.5.0",
            "value": 2,
            "_view_count": null,
            "_view_module_version": "1.5.0",
            "orientation": "horizontal",
            "min": 0,
            "description_tooltip": null,
            "_model_module": "@jupyter-widgets/controls",
            "layout": "IPY_MODEL_38772bfa604a4b64956f65cf91bf890f"
          }
        },
        "938e35b03c194aa2887b74e0a3db34b5": {
          "model_module": "@jupyter-widgets/controls",
          "model_name": "HTMLModel",
          "state": {
            "_view_name": "HTMLView",
            "style": "IPY_MODEL_74a49679c97d4375853b070d5079e336",
            "_dom_classes": [],
            "description": "",
            "_model_name": "HTMLModel",
            "placeholder": "​",
            "_view_module": "@jupyter-widgets/controls",
            "_model_module_version": "1.5.0",
            "value": " 2/2 [01:17&lt;00:00, 38.93s/it]",
            "_view_count": null,
            "_view_module_version": "1.5.0",
            "description_tooltip": null,
            "_model_module": "@jupyter-widgets/controls",
            "layout": "IPY_MODEL_25a70c69e0f144ab9305c596291cbb22"
          }
        },
        "559e3b5ab8984b9bb8a5ff65079d1d6c": {
          "model_module": "@jupyter-widgets/controls",
          "model_name": "ProgressStyleModel",
          "state": {
            "_view_name": "StyleView",
            "_model_name": "ProgressStyleModel",
            "description_width": "initial",
            "_view_module": "@jupyter-widgets/base",
            "_model_module_version": "1.5.0",
            "_view_count": null,
            "_view_module_version": "1.2.0",
            "bar_color": null,
            "_model_module": "@jupyter-widgets/controls"
          }
        },
        "38772bfa604a4b64956f65cf91bf890f": {
          "model_module": "@jupyter-widgets/base",
          "model_name": "LayoutModel",
          "state": {
            "_view_name": "LayoutView",
            "grid_template_rows": null,
            "right": null,
            "justify_content": null,
            "_view_module": "@jupyter-widgets/base",
            "overflow": null,
            "_model_module_version": "1.2.0",
            "_view_count": null,
            "flex_flow": null,
            "width": null,
            "min_width": null,
            "border": null,
            "align_items": null,
            "bottom": null,
            "_model_module": "@jupyter-widgets/base",
            "top": null,
            "grid_column": null,
            "overflow_y": null,
            "overflow_x": null,
            "grid_auto_flow": null,
            "grid_area": null,
            "grid_template_columns": null,
            "flex": null,
            "_model_name": "LayoutModel",
            "justify_items": null,
            "grid_row": null,
            "max_height": null,
            "align_content": null,
            "visibility": null,
            "align_self": null,
            "height": null,
            "min_height": null,
            "padding": null,
            "grid_auto_rows": null,
            "grid_gap": null,
            "max_width": null,
            "order": null,
            "_view_module_version": "1.2.0",
            "grid_template_areas": null,
            "object_position": null,
            "object_fit": null,
            "grid_auto_columns": null,
            "margin": null,
            "display": null,
            "left": null
          }
        },
        "74a49679c97d4375853b070d5079e336": {
          "model_module": "@jupyter-widgets/controls",
          "model_name": "DescriptionStyleModel",
          "state": {
            "_view_name": "StyleView",
            "_model_name": "DescriptionStyleModel",
            "description_width": "",
            "_view_module": "@jupyter-widgets/base",
            "_model_module_version": "1.5.0",
            "_view_count": null,
            "_view_module_version": "1.2.0",
            "_model_module": "@jupyter-widgets/controls"
          }
        },
        "25a70c69e0f144ab9305c596291cbb22": {
          "model_module": "@jupyter-widgets/base",
          "model_name": "LayoutModel",
          "state": {
            "_view_name": "LayoutView",
            "grid_template_rows": null,
            "right": null,
            "justify_content": null,
            "_view_module": "@jupyter-widgets/base",
            "overflow": null,
            "_model_module_version": "1.2.0",
            "_view_count": null,
            "flex_flow": null,
            "width": null,
            "min_width": null,
            "border": null,
            "align_items": null,
            "bottom": null,
            "_model_module": "@jupyter-widgets/base",
            "top": null,
            "grid_column": null,
            "overflow_y": null,
            "overflow_x": null,
            "grid_auto_flow": null,
            "grid_area": null,
            "grid_template_columns": null,
            "flex": null,
            "_model_name": "LayoutModel",
            "justify_items": null,
            "grid_row": null,
            "max_height": null,
            "align_content": null,
            "visibility": null,
            "align_self": null,
            "height": null,
            "min_height": null,
            "padding": null,
            "grid_auto_rows": null,
            "grid_gap": null,
            "max_width": null,
            "order": null,
            "_view_module_version": "1.2.0",
            "grid_template_areas": null,
            "object_position": null,
            "object_fit": null,
            "grid_auto_columns": null,
            "margin": null,
            "display": null,
            "left": null
          }
        },
        "ce5ff017c53e448896e48fa6202ed538": {
          "model_module": "@jupyter-widgets/controls",
          "model_name": "HBoxModel",
          "state": {
            "_view_name": "HBoxView",
            "_dom_classes": [],
            "_model_name": "HBoxModel",
            "_view_module": "@jupyter-widgets/controls",
            "_model_module_version": "1.5.0",
            "_view_count": null,
            "_view_module_version": "1.5.0",
            "box_style": "",
            "layout": "IPY_MODEL_a497672500fc4ebd875ce3c4e90d38bc",
            "_model_module": "@jupyter-widgets/controls",
            "children": [
              "IPY_MODEL_bbcd9558b3f84d28a0fb840d27fc75d5",
              "IPY_MODEL_adf722a7c1b14bd6b9cfcac5ad8200a9"
            ]
          }
        },
        "a497672500fc4ebd875ce3c4e90d38bc": {
          "model_module": "@jupyter-widgets/base",
          "model_name": "LayoutModel",
          "state": {
            "_view_name": "LayoutView",
            "grid_template_rows": null,
            "right": null,
            "justify_content": null,
            "_view_module": "@jupyter-widgets/base",
            "overflow": null,
            "_model_module_version": "1.2.0",
            "_view_count": null,
            "flex_flow": null,
            "width": null,
            "min_width": null,
            "border": null,
            "align_items": null,
            "bottom": null,
            "_model_module": "@jupyter-widgets/base",
            "top": null,
            "grid_column": null,
            "overflow_y": null,
            "overflow_x": null,
            "grid_auto_flow": null,
            "grid_area": null,
            "grid_template_columns": null,
            "flex": null,
            "_model_name": "LayoutModel",
            "justify_items": null,
            "grid_row": null,
            "max_height": null,
            "align_content": null,
            "visibility": null,
            "align_self": null,
            "height": null,
            "min_height": null,
            "padding": null,
            "grid_auto_rows": null,
            "grid_gap": null,
            "max_width": null,
            "order": null,
            "_view_module_version": "1.2.0",
            "grid_template_areas": null,
            "object_position": null,
            "object_fit": null,
            "grid_auto_columns": null,
            "margin": null,
            "display": null,
            "left": null
          }
        },
        "bbcd9558b3f84d28a0fb840d27fc75d5": {
          "model_module": "@jupyter-widgets/controls",
          "model_name": "FloatProgressModel",
          "state": {
            "_view_name": "ProgressView",
            "style": "IPY_MODEL_4d3e673d873d4aa388f76c8374f50975",
            "_dom_classes": [],
            "description": "Epoch 1: 100%",
            "_model_name": "FloatProgressModel",
            "bar_style": "",
            "max": 126,
            "_view_module": "@jupyter-widgets/controls",
            "_model_module_version": "1.5.0",
            "value": 126,
            "_view_count": null,
            "_view_module_version": "1.5.0",
            "orientation": "horizontal",
            "min": 0,
            "description_tooltip": null,
            "_model_module": "@jupyter-widgets/controls",
            "layout": "IPY_MODEL_5d632621759943bf836805e43b139b62"
          }
        },
        "adf722a7c1b14bd6b9cfcac5ad8200a9": {
          "model_module": "@jupyter-widgets/controls",
          "model_name": "HTMLModel",
          "state": {
            "_view_name": "HTMLView",
            "style": "IPY_MODEL_9d192c19ee964b7fa1ebcc6efa368336",
            "_dom_classes": [],
            "description": "",
            "_model_name": "HTMLModel",
            "placeholder": "​",
            "_view_module": "@jupyter-widgets/controls",
            "_model_module_version": "1.5.0",
            "value": " 126/126 [00:34&lt;00:00,  3.84it/s, training_loss=0.157]",
            "_view_count": null,
            "_view_module_version": "1.5.0",
            "description_tooltip": null,
            "_model_module": "@jupyter-widgets/controls",
            "layout": "IPY_MODEL_d2ca444e016742279b12e9bfa8d60031"
          }
        },
        "4d3e673d873d4aa388f76c8374f50975": {
          "model_module": "@jupyter-widgets/controls",
          "model_name": "ProgressStyleModel",
          "state": {
            "_view_name": "StyleView",
            "_model_name": "ProgressStyleModel",
            "description_width": "initial",
            "_view_module": "@jupyter-widgets/base",
            "_model_module_version": "1.5.0",
            "_view_count": null,
            "_view_module_version": "1.2.0",
            "bar_color": null,
            "_model_module": "@jupyter-widgets/controls"
          }
        },
        "5d632621759943bf836805e43b139b62": {
          "model_module": "@jupyter-widgets/base",
          "model_name": "LayoutModel",
          "state": {
            "_view_name": "LayoutView",
            "grid_template_rows": null,
            "right": null,
            "justify_content": null,
            "_view_module": "@jupyter-widgets/base",
            "overflow": null,
            "_model_module_version": "1.2.0",
            "_view_count": null,
            "flex_flow": null,
            "width": null,
            "min_width": null,
            "border": null,
            "align_items": null,
            "bottom": null,
            "_model_module": "@jupyter-widgets/base",
            "top": null,
            "grid_column": null,
            "overflow_y": null,
            "overflow_x": null,
            "grid_auto_flow": null,
            "grid_area": null,
            "grid_template_columns": null,
            "flex": null,
            "_model_name": "LayoutModel",
            "justify_items": null,
            "grid_row": null,
            "max_height": null,
            "align_content": null,
            "visibility": null,
            "align_self": null,
            "height": null,
            "min_height": null,
            "padding": null,
            "grid_auto_rows": null,
            "grid_gap": null,
            "max_width": null,
            "order": null,
            "_view_module_version": "1.2.0",
            "grid_template_areas": null,
            "object_position": null,
            "object_fit": null,
            "grid_auto_columns": null,
            "margin": null,
            "display": null,
            "left": null
          }
        },
        "9d192c19ee964b7fa1ebcc6efa368336": {
          "model_module": "@jupyter-widgets/controls",
          "model_name": "DescriptionStyleModel",
          "state": {
            "_view_name": "StyleView",
            "_model_name": "DescriptionStyleModel",
            "description_width": "",
            "_view_module": "@jupyter-widgets/base",
            "_model_module_version": "1.5.0",
            "_view_count": null,
            "_view_module_version": "1.2.0",
            "_model_module": "@jupyter-widgets/controls"
          }
        },
        "d2ca444e016742279b12e9bfa8d60031": {
          "model_module": "@jupyter-widgets/base",
          "model_name": "LayoutModel",
          "state": {
            "_view_name": "LayoutView",
            "grid_template_rows": null,
            "right": null,
            "justify_content": null,
            "_view_module": "@jupyter-widgets/base",
            "overflow": null,
            "_model_module_version": "1.2.0",
            "_view_count": null,
            "flex_flow": null,
            "width": null,
            "min_width": null,
            "border": null,
            "align_items": null,
            "bottom": null,
            "_model_module": "@jupyter-widgets/base",
            "top": null,
            "grid_column": null,
            "overflow_y": null,
            "overflow_x": null,
            "grid_auto_flow": null,
            "grid_area": null,
            "grid_template_columns": null,
            "flex": null,
            "_model_name": "LayoutModel",
            "justify_items": null,
            "grid_row": null,
            "max_height": null,
            "align_content": null,
            "visibility": null,
            "align_self": null,
            "height": null,
            "min_height": null,
            "padding": null,
            "grid_auto_rows": null,
            "grid_gap": null,
            "max_width": null,
            "order": null,
            "_view_module_version": "1.2.0",
            "grid_template_areas": null,
            "object_position": null,
            "object_fit": null,
            "grid_auto_columns": null,
            "margin": null,
            "display": null,
            "left": null
          }
        },
        "8470eccd57094091b71c9a4b83d2dd83": {
          "model_module": "@jupyter-widgets/controls",
          "model_name": "HBoxModel",
          "state": {
            "_view_name": "HBoxView",
            "_dom_classes": [],
            "_model_name": "HBoxModel",
            "_view_module": "@jupyter-widgets/controls",
            "_model_module_version": "1.5.0",
            "_view_count": null,
            "_view_module_version": "1.5.0",
            "box_style": "",
            "layout": "IPY_MODEL_6f81eb55495f4151962e3198b02847bd",
            "_model_module": "@jupyter-widgets/controls",
            "children": [
              "IPY_MODEL_5153d3d5f58f4e9da068a8eec51db47d",
              "IPY_MODEL_ff253bee514448c49e0d0c529d1ef2ae"
            ]
          }
        },
        "6f81eb55495f4151962e3198b02847bd": {
          "model_module": "@jupyter-widgets/base",
          "model_name": "LayoutModel",
          "state": {
            "_view_name": "LayoutView",
            "grid_template_rows": null,
            "right": null,
            "justify_content": null,
            "_view_module": "@jupyter-widgets/base",
            "overflow": null,
            "_model_module_version": "1.2.0",
            "_view_count": null,
            "flex_flow": null,
            "width": null,
            "min_width": null,
            "border": null,
            "align_items": null,
            "bottom": null,
            "_model_module": "@jupyter-widgets/base",
            "top": null,
            "grid_column": null,
            "overflow_y": null,
            "overflow_x": null,
            "grid_auto_flow": null,
            "grid_area": null,
            "grid_template_columns": null,
            "flex": null,
            "_model_name": "LayoutModel",
            "justify_items": null,
            "grid_row": null,
            "max_height": null,
            "align_content": null,
            "visibility": null,
            "align_self": null,
            "height": null,
            "min_height": null,
            "padding": null,
            "grid_auto_rows": null,
            "grid_gap": null,
            "max_width": null,
            "order": null,
            "_view_module_version": "1.2.0",
            "grid_template_areas": null,
            "object_position": null,
            "object_fit": null,
            "grid_auto_columns": null,
            "margin": null,
            "display": null,
            "left": null
          }
        },
        "5153d3d5f58f4e9da068a8eec51db47d": {
          "model_module": "@jupyter-widgets/controls",
          "model_name": "FloatProgressModel",
          "state": {
            "_view_name": "ProgressView",
            "style": "IPY_MODEL_1c9a84a696664d07b96b1e3d0795da9d",
            "_dom_classes": [],
            "description": "Epoch 2: 100%",
            "_model_name": "FloatProgressModel",
            "bar_style": "",
            "max": 126,
            "_view_module": "@jupyter-widgets/controls",
            "_model_module_version": "1.5.0",
            "value": 126,
            "_view_count": null,
            "_view_module_version": "1.5.0",
            "orientation": "horizontal",
            "min": 0,
            "description_tooltip": null,
            "_model_module": "@jupyter-widgets/controls",
            "layout": "IPY_MODEL_a03a6bb015294441a72592fac6379e72"
          }
        },
        "ff253bee514448c49e0d0c529d1ef2ae": {
          "model_module": "@jupyter-widgets/controls",
          "model_name": "HTMLModel",
          "state": {
            "_view_name": "HTMLView",
            "style": "IPY_MODEL_45abf77998cb406798100d340b72e465",
            "_dom_classes": [],
            "description": "",
            "_model_name": "HTMLModel",
            "placeholder": "​",
            "_view_module": "@jupyter-widgets/controls",
            "_model_module_version": "1.5.0",
            "value": " 126/126 [00:35&lt;00:00,  3.90it/s, training_loss=0.112]",
            "_view_count": null,
            "_view_module_version": "1.5.0",
            "description_tooltip": null,
            "_model_module": "@jupyter-widgets/controls",
            "layout": "IPY_MODEL_fe1c0ebdbc68406c87c74be9d1e98fc4"
          }
        },
        "1c9a84a696664d07b96b1e3d0795da9d": {
          "model_module": "@jupyter-widgets/controls",
          "model_name": "ProgressStyleModel",
          "state": {
            "_view_name": "StyleView",
            "_model_name": "ProgressStyleModel",
            "description_width": "initial",
            "_view_module": "@jupyter-widgets/base",
            "_model_module_version": "1.5.0",
            "_view_count": null,
            "_view_module_version": "1.2.0",
            "bar_color": null,
            "_model_module": "@jupyter-widgets/controls"
          }
        },
        "a03a6bb015294441a72592fac6379e72": {
          "model_module": "@jupyter-widgets/base",
          "model_name": "LayoutModel",
          "state": {
            "_view_name": "LayoutView",
            "grid_template_rows": null,
            "right": null,
            "justify_content": null,
            "_view_module": "@jupyter-widgets/base",
            "overflow": null,
            "_model_module_version": "1.2.0",
            "_view_count": null,
            "flex_flow": null,
            "width": null,
            "min_width": null,
            "border": null,
            "align_items": null,
            "bottom": null,
            "_model_module": "@jupyter-widgets/base",
            "top": null,
            "grid_column": null,
            "overflow_y": null,
            "overflow_x": null,
            "grid_auto_flow": null,
            "grid_area": null,
            "grid_template_columns": null,
            "flex": null,
            "_model_name": "LayoutModel",
            "justify_items": null,
            "grid_row": null,
            "max_height": null,
            "align_content": null,
            "visibility": null,
            "align_self": null,
            "height": null,
            "min_height": null,
            "padding": null,
            "grid_auto_rows": null,
            "grid_gap": null,
            "max_width": null,
            "order": null,
            "_view_module_version": "1.2.0",
            "grid_template_areas": null,
            "object_position": null,
            "object_fit": null,
            "grid_auto_columns": null,
            "margin": null,
            "display": null,
            "left": null
          }
        },
        "45abf77998cb406798100d340b72e465": {
          "model_module": "@jupyter-widgets/controls",
          "model_name": "DescriptionStyleModel",
          "state": {
            "_view_name": "StyleView",
            "_model_name": "DescriptionStyleModel",
            "description_width": "",
            "_view_module": "@jupyter-widgets/base",
            "_model_module_version": "1.5.0",
            "_view_count": null,
            "_view_module_version": "1.2.0",
            "_model_module": "@jupyter-widgets/controls"
          }
        },
        "fe1c0ebdbc68406c87c74be9d1e98fc4": {
          "model_module": "@jupyter-widgets/base",
          "model_name": "LayoutModel",
          "state": {
            "_view_name": "LayoutView",
            "grid_template_rows": null,
            "right": null,
            "justify_content": null,
            "_view_module": "@jupyter-widgets/base",
            "overflow": null,
            "_model_module_version": "1.2.0",
            "_view_count": null,
            "flex_flow": null,
            "width": null,
            "min_width": null,
            "border": null,
            "align_items": null,
            "bottom": null,
            "_model_module": "@jupyter-widgets/base",
            "top": null,
            "grid_column": null,
            "overflow_y": null,
            "overflow_x": null,
            "grid_auto_flow": null,
            "grid_area": null,
            "grid_template_columns": null,
            "flex": null,
            "_model_name": "LayoutModel",
            "justify_items": null,
            "grid_row": null,
            "max_height": null,
            "align_content": null,
            "visibility": null,
            "align_self": null,
            "height": null,
            "min_height": null,
            "padding": null,
            "grid_auto_rows": null,
            "grid_gap": null,
            "max_width": null,
            "order": null,
            "_view_module_version": "1.2.0",
            "grid_template_areas": null,
            "object_position": null,
            "object_fit": null,
            "grid_auto_columns": null,
            "margin": null,
            "display": null,
            "left": null
          }
        },
        "234c91fb81124f8fa8c0efc8e79cc001": {
          "model_module": "@jupyter-widgets/controls",
          "model_name": "HBoxModel",
          "state": {
            "_view_name": "HBoxView",
            "_dom_classes": [],
            "_model_name": "HBoxModel",
            "_view_module": "@jupyter-widgets/controls",
            "_model_module_version": "1.5.0",
            "_view_count": null,
            "_view_module_version": "1.5.0",
            "box_style": "",
            "layout": "IPY_MODEL_69a23181ed79402598eb7f35780c0d2a",
            "_model_module": "@jupyter-widgets/controls",
            "children": [
              "IPY_MODEL_5c7d0f33c3414e80a0bae8cf266562e2",
              "IPY_MODEL_af2aeccd17ec4f549292f2a3afc6df46"
            ]
          }
        },
        "69a23181ed79402598eb7f35780c0d2a": {
          "model_module": "@jupyter-widgets/base",
          "model_name": "LayoutModel",
          "state": {
            "_view_name": "LayoutView",
            "grid_template_rows": null,
            "right": null,
            "justify_content": null,
            "_view_module": "@jupyter-widgets/base",
            "overflow": null,
            "_model_module_version": "1.2.0",
            "_view_count": null,
            "flex_flow": null,
            "width": null,
            "min_width": null,
            "border": null,
            "align_items": null,
            "bottom": null,
            "_model_module": "@jupyter-widgets/base",
            "top": null,
            "grid_column": null,
            "overflow_y": null,
            "overflow_x": null,
            "grid_auto_flow": null,
            "grid_area": null,
            "grid_template_columns": null,
            "flex": null,
            "_model_name": "LayoutModel",
            "justify_items": null,
            "grid_row": null,
            "max_height": null,
            "align_content": null,
            "visibility": null,
            "align_self": null,
            "height": null,
            "min_height": null,
            "padding": null,
            "grid_auto_rows": null,
            "grid_gap": null,
            "max_width": null,
            "order": null,
            "_view_module_version": "1.2.0",
            "grid_template_areas": null,
            "object_position": null,
            "object_fit": null,
            "grid_auto_columns": null,
            "margin": null,
            "display": null,
            "left": null
          }
        },
        "5c7d0f33c3414e80a0bae8cf266562e2": {
          "model_module": "@jupyter-widgets/controls",
          "model_name": "FloatProgressModel",
          "state": {
            "_view_name": "ProgressView",
            "style": "IPY_MODEL_ec89f7e466874d5aae082f927c68ae10",
            "_dom_classes": [],
            "description": "100%",
            "_model_name": "FloatProgressModel",
            "bar_style": "success",
            "max": 2,
            "_view_module": "@jupyter-widgets/controls",
            "_model_module_version": "1.5.0",
            "value": 2,
            "_view_count": null,
            "_view_module_version": "1.5.0",
            "orientation": "horizontal",
            "min": 0,
            "description_tooltip": null,
            "_model_module": "@jupyter-widgets/controls",
            "layout": "IPY_MODEL_624457daf6eb4b32a8760d6a59d4b47c"
          }
        },
        "af2aeccd17ec4f549292f2a3afc6df46": {
          "model_module": "@jupyter-widgets/controls",
          "model_name": "HTMLModel",
          "state": {
            "_view_name": "HTMLView",
            "style": "IPY_MODEL_e02dbff9dda948fcbe6b0cc6a10c395d",
            "_dom_classes": [],
            "description": "",
            "_model_name": "HTMLModel",
            "placeholder": "​",
            "_view_module": "@jupyter-widgets/controls",
            "_model_module_version": "1.5.0",
            "value": " 2/2 [01:30&lt;00:00, 45.05s/it]",
            "_view_count": null,
            "_view_module_version": "1.5.0",
            "description_tooltip": null,
            "_model_module": "@jupyter-widgets/controls",
            "layout": "IPY_MODEL_b72f1a0ff4d341209087abfd7d3cf71f"
          }
        },
        "ec89f7e466874d5aae082f927c68ae10": {
          "model_module": "@jupyter-widgets/controls",
          "model_name": "ProgressStyleModel",
          "state": {
            "_view_name": "StyleView",
            "_model_name": "ProgressStyleModel",
            "description_width": "initial",
            "_view_module": "@jupyter-widgets/base",
            "_model_module_version": "1.5.0",
            "_view_count": null,
            "_view_module_version": "1.2.0",
            "bar_color": null,
            "_model_module": "@jupyter-widgets/controls"
          }
        },
        "624457daf6eb4b32a8760d6a59d4b47c": {
          "model_module": "@jupyter-widgets/base",
          "model_name": "LayoutModel",
          "state": {
            "_view_name": "LayoutView",
            "grid_template_rows": null,
            "right": null,
            "justify_content": null,
            "_view_module": "@jupyter-widgets/base",
            "overflow": null,
            "_model_module_version": "1.2.0",
            "_view_count": null,
            "flex_flow": null,
            "width": null,
            "min_width": null,
            "border": null,
            "align_items": null,
            "bottom": null,
            "_model_module": "@jupyter-widgets/base",
            "top": null,
            "grid_column": null,
            "overflow_y": null,
            "overflow_x": null,
            "grid_auto_flow": null,
            "grid_area": null,
            "grid_template_columns": null,
            "flex": null,
            "_model_name": "LayoutModel",
            "justify_items": null,
            "grid_row": null,
            "max_height": null,
            "align_content": null,
            "visibility": null,
            "align_self": null,
            "height": null,
            "min_height": null,
            "padding": null,
            "grid_auto_rows": null,
            "grid_gap": null,
            "max_width": null,
            "order": null,
            "_view_module_version": "1.2.0",
            "grid_template_areas": null,
            "object_position": null,
            "object_fit": null,
            "grid_auto_columns": null,
            "margin": null,
            "display": null,
            "left": null
          }
        },
        "e02dbff9dda948fcbe6b0cc6a10c395d": {
          "model_module": "@jupyter-widgets/controls",
          "model_name": "DescriptionStyleModel",
          "state": {
            "_view_name": "StyleView",
            "_model_name": "DescriptionStyleModel",
            "description_width": "",
            "_view_module": "@jupyter-widgets/base",
            "_model_module_version": "1.5.0",
            "_view_count": null,
            "_view_module_version": "1.2.0",
            "_model_module": "@jupyter-widgets/controls"
          }
        },
        "b72f1a0ff4d341209087abfd7d3cf71f": {
          "model_module": "@jupyter-widgets/base",
          "model_name": "LayoutModel",
          "state": {
            "_view_name": "LayoutView",
            "grid_template_rows": null,
            "right": null,
            "justify_content": null,
            "_view_module": "@jupyter-widgets/base",
            "overflow": null,
            "_model_module_version": "1.2.0",
            "_view_count": null,
            "flex_flow": null,
            "width": null,
            "min_width": null,
            "border": null,
            "align_items": null,
            "bottom": null,
            "_model_module": "@jupyter-widgets/base",
            "top": null,
            "grid_column": null,
            "overflow_y": null,
            "overflow_x": null,
            "grid_auto_flow": null,
            "grid_area": null,
            "grid_template_columns": null,
            "flex": null,
            "_model_name": "LayoutModel",
            "justify_items": null,
            "grid_row": null,
            "max_height": null,
            "align_content": null,
            "visibility": null,
            "align_self": null,
            "height": null,
            "min_height": null,
            "padding": null,
            "grid_auto_rows": null,
            "grid_gap": null,
            "max_width": null,
            "order": null,
            "_view_module_version": "1.2.0",
            "grid_template_areas": null,
            "object_position": null,
            "object_fit": null,
            "grid_auto_columns": null,
            "margin": null,
            "display": null,
            "left": null
          }
        },
        "077b30dcc7bc426da76ce0d337fdd886": {
          "model_module": "@jupyter-widgets/controls",
          "model_name": "HBoxModel",
          "state": {
            "_view_name": "HBoxView",
            "_dom_classes": [],
            "_model_name": "HBoxModel",
            "_view_module": "@jupyter-widgets/controls",
            "_model_module_version": "1.5.0",
            "_view_count": null,
            "_view_module_version": "1.5.0",
            "box_style": "",
            "layout": "IPY_MODEL_6851db4b5a2a46d0911bd2213b8c0a1c",
            "_model_module": "@jupyter-widgets/controls",
            "children": [
              "IPY_MODEL_eaf4090f832e46bfb071c11e8225a869",
              "IPY_MODEL_a45f14d68397455cbe2586c7f6bbb20e"
            ]
          }
        },
        "6851db4b5a2a46d0911bd2213b8c0a1c": {
          "model_module": "@jupyter-widgets/base",
          "model_name": "LayoutModel",
          "state": {
            "_view_name": "LayoutView",
            "grid_template_rows": null,
            "right": null,
            "justify_content": null,
            "_view_module": "@jupyter-widgets/base",
            "overflow": null,
            "_model_module_version": "1.2.0",
            "_view_count": null,
            "flex_flow": null,
            "width": null,
            "min_width": null,
            "border": null,
            "align_items": null,
            "bottom": null,
            "_model_module": "@jupyter-widgets/base",
            "top": null,
            "grid_column": null,
            "overflow_y": null,
            "overflow_x": null,
            "grid_auto_flow": null,
            "grid_area": null,
            "grid_template_columns": null,
            "flex": null,
            "_model_name": "LayoutModel",
            "justify_items": null,
            "grid_row": null,
            "max_height": null,
            "align_content": null,
            "visibility": null,
            "align_self": null,
            "height": null,
            "min_height": null,
            "padding": null,
            "grid_auto_rows": null,
            "grid_gap": null,
            "max_width": null,
            "order": null,
            "_view_module_version": "1.2.0",
            "grid_template_areas": null,
            "object_position": null,
            "object_fit": null,
            "grid_auto_columns": null,
            "margin": null,
            "display": null,
            "left": null
          }
        },
        "eaf4090f832e46bfb071c11e8225a869": {
          "model_module": "@jupyter-widgets/controls",
          "model_name": "FloatProgressModel",
          "state": {
            "_view_name": "ProgressView",
            "style": "IPY_MODEL_2ca5a01f27f34ff086605a0c6d1a7feb",
            "_dom_classes": [],
            "description": "Epoch 1: 100%",
            "_model_name": "FloatProgressModel",
            "bar_style": "",
            "max": 252,
            "_view_module": "@jupyter-widgets/controls",
            "_model_module_version": "1.5.0",
            "value": 252,
            "_view_count": null,
            "_view_module_version": "1.5.0",
            "orientation": "horizontal",
            "min": 0,
            "description_tooltip": null,
            "_model_module": "@jupyter-widgets/controls",
            "layout": "IPY_MODEL_18818163ba7b40a597b68c12967158f6"
          }
        },
        "a45f14d68397455cbe2586c7f6bbb20e": {
          "model_module": "@jupyter-widgets/controls",
          "model_name": "HTMLModel",
          "state": {
            "_view_name": "HTMLView",
            "style": "IPY_MODEL_0d051657b0cb41feb67b34c91c9fc88b",
            "_dom_classes": [],
            "description": "",
            "_model_name": "HTMLModel",
            "placeholder": "​",
            "_view_module": "@jupyter-widgets/controls",
            "_model_module_version": "1.5.0",
            "value": " 252/252 [00:41&lt;00:00,  6.60it/s, training_loss=0.194]",
            "_view_count": null,
            "_view_module_version": "1.5.0",
            "description_tooltip": null,
            "_model_module": "@jupyter-widgets/controls",
            "layout": "IPY_MODEL_b51c76ae0c2146b194d32da2943e8e2c"
          }
        },
        "2ca5a01f27f34ff086605a0c6d1a7feb": {
          "model_module": "@jupyter-widgets/controls",
          "model_name": "ProgressStyleModel",
          "state": {
            "_view_name": "StyleView",
            "_model_name": "ProgressStyleModel",
            "description_width": "initial",
            "_view_module": "@jupyter-widgets/base",
            "_model_module_version": "1.5.0",
            "_view_count": null,
            "_view_module_version": "1.2.0",
            "bar_color": null,
            "_model_module": "@jupyter-widgets/controls"
          }
        },
        "18818163ba7b40a597b68c12967158f6": {
          "model_module": "@jupyter-widgets/base",
          "model_name": "LayoutModel",
          "state": {
            "_view_name": "LayoutView",
            "grid_template_rows": null,
            "right": null,
            "justify_content": null,
            "_view_module": "@jupyter-widgets/base",
            "overflow": null,
            "_model_module_version": "1.2.0",
            "_view_count": null,
            "flex_flow": null,
            "width": null,
            "min_width": null,
            "border": null,
            "align_items": null,
            "bottom": null,
            "_model_module": "@jupyter-widgets/base",
            "top": null,
            "grid_column": null,
            "overflow_y": null,
            "overflow_x": null,
            "grid_auto_flow": null,
            "grid_area": null,
            "grid_template_columns": null,
            "flex": null,
            "_model_name": "LayoutModel",
            "justify_items": null,
            "grid_row": null,
            "max_height": null,
            "align_content": null,
            "visibility": null,
            "align_self": null,
            "height": null,
            "min_height": null,
            "padding": null,
            "grid_auto_rows": null,
            "grid_gap": null,
            "max_width": null,
            "order": null,
            "_view_module_version": "1.2.0",
            "grid_template_areas": null,
            "object_position": null,
            "object_fit": null,
            "grid_auto_columns": null,
            "margin": null,
            "display": null,
            "left": null
          }
        },
        "0d051657b0cb41feb67b34c91c9fc88b": {
          "model_module": "@jupyter-widgets/controls",
          "model_name": "DescriptionStyleModel",
          "state": {
            "_view_name": "StyleView",
            "_model_name": "DescriptionStyleModel",
            "description_width": "",
            "_view_module": "@jupyter-widgets/base",
            "_model_module_version": "1.5.0",
            "_view_count": null,
            "_view_module_version": "1.2.0",
            "_model_module": "@jupyter-widgets/controls"
          }
        },
        "b51c76ae0c2146b194d32da2943e8e2c": {
          "model_module": "@jupyter-widgets/base",
          "model_name": "LayoutModel",
          "state": {
            "_view_name": "LayoutView",
            "grid_template_rows": null,
            "right": null,
            "justify_content": null,
            "_view_module": "@jupyter-widgets/base",
            "overflow": null,
            "_model_module_version": "1.2.0",
            "_view_count": null,
            "flex_flow": null,
            "width": null,
            "min_width": null,
            "border": null,
            "align_items": null,
            "bottom": null,
            "_model_module": "@jupyter-widgets/base",
            "top": null,
            "grid_column": null,
            "overflow_y": null,
            "overflow_x": null,
            "grid_auto_flow": null,
            "grid_area": null,
            "grid_template_columns": null,
            "flex": null,
            "_model_name": "LayoutModel",
            "justify_items": null,
            "grid_row": null,
            "max_height": null,
            "align_content": null,
            "visibility": null,
            "align_self": null,
            "height": null,
            "min_height": null,
            "padding": null,
            "grid_auto_rows": null,
            "grid_gap": null,
            "max_width": null,
            "order": null,
            "_view_module_version": "1.2.0",
            "grid_template_areas": null,
            "object_position": null,
            "object_fit": null,
            "grid_auto_columns": null,
            "margin": null,
            "display": null,
            "left": null
          }
        },
        "8d08abc16e3e41f2bdb2c0b6836f6f0e": {
          "model_module": "@jupyter-widgets/controls",
          "model_name": "HBoxModel",
          "state": {
            "_view_name": "HBoxView",
            "_dom_classes": [],
            "_model_name": "HBoxModel",
            "_view_module": "@jupyter-widgets/controls",
            "_model_module_version": "1.5.0",
            "_view_count": null,
            "_view_module_version": "1.5.0",
            "box_style": "",
            "layout": "IPY_MODEL_259ecdaf1cfd4f5194f8bffa03421267",
            "_model_module": "@jupyter-widgets/controls",
            "children": [
              "IPY_MODEL_06a27f0121fa4013a11cd0d76f3a9718",
              "IPY_MODEL_22b0b4b9a830406789b1076faf3d831f"
            ]
          }
        },
        "259ecdaf1cfd4f5194f8bffa03421267": {
          "model_module": "@jupyter-widgets/base",
          "model_name": "LayoutModel",
          "state": {
            "_view_name": "LayoutView",
            "grid_template_rows": null,
            "right": null,
            "justify_content": null,
            "_view_module": "@jupyter-widgets/base",
            "overflow": null,
            "_model_module_version": "1.2.0",
            "_view_count": null,
            "flex_flow": null,
            "width": null,
            "min_width": null,
            "border": null,
            "align_items": null,
            "bottom": null,
            "_model_module": "@jupyter-widgets/base",
            "top": null,
            "grid_column": null,
            "overflow_y": null,
            "overflow_x": null,
            "grid_auto_flow": null,
            "grid_area": null,
            "grid_template_columns": null,
            "flex": null,
            "_model_name": "LayoutModel",
            "justify_items": null,
            "grid_row": null,
            "max_height": null,
            "align_content": null,
            "visibility": null,
            "align_self": null,
            "height": null,
            "min_height": null,
            "padding": null,
            "grid_auto_rows": null,
            "grid_gap": null,
            "max_width": null,
            "order": null,
            "_view_module_version": "1.2.0",
            "grid_template_areas": null,
            "object_position": null,
            "object_fit": null,
            "grid_auto_columns": null,
            "margin": null,
            "display": null,
            "left": null
          }
        },
        "06a27f0121fa4013a11cd0d76f3a9718": {
          "model_module": "@jupyter-widgets/controls",
          "model_name": "FloatProgressModel",
          "state": {
            "_view_name": "ProgressView",
            "style": "IPY_MODEL_f7c489ab787746ce9381d3b841ae4adb",
            "_dom_classes": [],
            "description": "Epoch 2: 100%",
            "_model_name": "FloatProgressModel",
            "bar_style": "",
            "max": 252,
            "_view_module": "@jupyter-widgets/controls",
            "_model_module_version": "1.5.0",
            "value": 252,
            "_view_count": null,
            "_view_module_version": "1.5.0",
            "orientation": "horizontal",
            "min": 0,
            "description_tooltip": null,
            "_model_module": "@jupyter-widgets/controls",
            "layout": "IPY_MODEL_b6a08e3d4e8a4d90a3668f50695527b4"
          }
        },
        "22b0b4b9a830406789b1076faf3d831f": {
          "model_module": "@jupyter-widgets/controls",
          "model_name": "HTMLModel",
          "state": {
            "_view_name": "HTMLView",
            "style": "IPY_MODEL_1a6ddf54644b4a58a701bab1613aaefe",
            "_dom_classes": [],
            "description": "",
            "_model_name": "HTMLModel",
            "placeholder": "​",
            "_view_module": "@jupyter-widgets/controls",
            "_model_module_version": "1.5.0",
            "value": " 252/252 [00:41&lt;00:00,  6.92it/s, training_loss=0.054]",
            "_view_count": null,
            "_view_module_version": "1.5.0",
            "description_tooltip": null,
            "_model_module": "@jupyter-widgets/controls",
            "layout": "IPY_MODEL_ed4385a4558143c8b60d1eb068204c64"
          }
        },
        "f7c489ab787746ce9381d3b841ae4adb": {
          "model_module": "@jupyter-widgets/controls",
          "model_name": "ProgressStyleModel",
          "state": {
            "_view_name": "StyleView",
            "_model_name": "ProgressStyleModel",
            "description_width": "initial",
            "_view_module": "@jupyter-widgets/base",
            "_model_module_version": "1.5.0",
            "_view_count": null,
            "_view_module_version": "1.2.0",
            "bar_color": null,
            "_model_module": "@jupyter-widgets/controls"
          }
        },
        "b6a08e3d4e8a4d90a3668f50695527b4": {
          "model_module": "@jupyter-widgets/base",
          "model_name": "LayoutModel",
          "state": {
            "_view_name": "LayoutView",
            "grid_template_rows": null,
            "right": null,
            "justify_content": null,
            "_view_module": "@jupyter-widgets/base",
            "overflow": null,
            "_model_module_version": "1.2.0",
            "_view_count": null,
            "flex_flow": null,
            "width": null,
            "min_width": null,
            "border": null,
            "align_items": null,
            "bottom": null,
            "_model_module": "@jupyter-widgets/base",
            "top": null,
            "grid_column": null,
            "overflow_y": null,
            "overflow_x": null,
            "grid_auto_flow": null,
            "grid_area": null,
            "grid_template_columns": null,
            "flex": null,
            "_model_name": "LayoutModel",
            "justify_items": null,
            "grid_row": null,
            "max_height": null,
            "align_content": null,
            "visibility": null,
            "align_self": null,
            "height": null,
            "min_height": null,
            "padding": null,
            "grid_auto_rows": null,
            "grid_gap": null,
            "max_width": null,
            "order": null,
            "_view_module_version": "1.2.0",
            "grid_template_areas": null,
            "object_position": null,
            "object_fit": null,
            "grid_auto_columns": null,
            "margin": null,
            "display": null,
            "left": null
          }
        },
        "1a6ddf54644b4a58a701bab1613aaefe": {
          "model_module": "@jupyter-widgets/controls",
          "model_name": "DescriptionStyleModel",
          "state": {
            "_view_name": "StyleView",
            "_model_name": "DescriptionStyleModel",
            "description_width": "",
            "_view_module": "@jupyter-widgets/base",
            "_model_module_version": "1.5.0",
            "_view_count": null,
            "_view_module_version": "1.2.0",
            "_model_module": "@jupyter-widgets/controls"
          }
        },
        "ed4385a4558143c8b60d1eb068204c64": {
          "model_module": "@jupyter-widgets/base",
          "model_name": "LayoutModel",
          "state": {
            "_view_name": "LayoutView",
            "grid_template_rows": null,
            "right": null,
            "justify_content": null,
            "_view_module": "@jupyter-widgets/base",
            "overflow": null,
            "_model_module_version": "1.2.0",
            "_view_count": null,
            "flex_flow": null,
            "width": null,
            "min_width": null,
            "border": null,
            "align_items": null,
            "bottom": null,
            "_model_module": "@jupyter-widgets/base",
            "top": null,
            "grid_column": null,
            "overflow_y": null,
            "overflow_x": null,
            "grid_auto_flow": null,
            "grid_area": null,
            "grid_template_columns": null,
            "flex": null,
            "_model_name": "LayoutModel",
            "justify_items": null,
            "grid_row": null,
            "max_height": null,
            "align_content": null,
            "visibility": null,
            "align_self": null,
            "height": null,
            "min_height": null,
            "padding": null,
            "grid_auto_rows": null,
            "grid_gap": null,
            "max_width": null,
            "order": null,
            "_view_module_version": "1.2.0",
            "grid_template_areas": null,
            "object_position": null,
            "object_fit": null,
            "grid_auto_columns": null,
            "margin": null,
            "display": null,
            "left": null
          }
        }
      }
    }
  },
  "cells": [
    {
      "cell_type": "code",
      "metadata": {
        "id": "HIJEjje19PXm"
      },
      "source": [
        "!pip install transformers datasets tweet-preprocessor ray[tune] hyperopt"
      ],
      "execution_count": null,
      "outputs": []
    },
    {
      "cell_type": "code",
      "metadata": {
        "id": "_guPtNMu1SKb"
      },
      "source": [
        "import pandas as pd\n",
        "import numpy as np\n",
        "import matplotlib.pyplot as plt\n",
        "import wordcloud\n",
        "import preprocessor as p # tweet-preprocessor\n",
        "import nltk\n",
        "import re\n",
        "import seaborn as sns\n",
        "import torch\n",
        "\n",
        "from transformers import BertTokenizer, BertForSequenceClassification, AdamW, get_linear_schedule_with_warmup\n",
        "from sklearn.metrics import accuracy_score, roc_auc_score, confusion_matrix\n",
        "from sklearn.model_selection import train_test_split, StratifiedKFold\n",
        "from scipy.special import softmax\n",
        "from torch.utils.data import TensorDataset, DataLoader, RandomSampler, SequentialSampler\n",
        "from tqdm.notebook import tqdm\n",
        "from ray import tune\n",
        "from ray.tune import CLIReporter\n",
        "from ray.tune.schedulers import ASHAScheduler\n",
        "from ray.tune.suggest.hyperopt import HyperOptSearch"
      ],
      "execution_count": 2,
      "outputs": []
    },
    {
      "cell_type": "code",
      "metadata": {
        "id": "3NoYbhabPHjf"
      },
      "source": [
        "dataset_dem = pd.read_csv('/content/drive/MyDrive/democrat_tweets_v2.csv')\n",
        "dataset_gop = pd.read_csv('/content/drive/MyDrive/republican_tweets_v2.csv')\n",
        "\n",
        "dataset_dem[\"label\"] = \"Democrat\"\n",
        "dataset_gop[\"label\"] = \"Republican\"\n",
        "\n",
        "dataset_final = pd.concat([dataset_dem, dataset_gop])\n",
        "dataset_final.reset_index(drop=True, inplace=True)"
      ],
      "execution_count": 3,
      "outputs": []
    },
    {
      "cell_type": "code",
      "metadata": {
        "id": "t-2XQbD631J9"
      },
      "source": [
        "LABEL_MAP = {\n",
        "    \"Democrat\": 0,\n",
        "    \"Republican\": 1\n",
        "}\n",
        "\n",
        "def buildLabels(row):\n",
        "    return LABEL_MAP.get(row[\"label\"])\n",
        "\n",
        "def cleanTweet(row):\n",
        "  tweet = row[\"text\"]\n",
        "  tweet = str(p.clean(tweet))\n",
        "  tweet = re.sub(r'[^\\w\\s]', '', tweet) # punctuation\n",
        "  tweet = re.sub(\"^\\d+\\s|\\s\\d+\\s|\\s\\d+$\", \" \", tweet) # numbers\n",
        "  return tweet\n",
        "\n",
        "  \n",
        "dataset_final[\"label\"] = dataset_final.apply(lambda row: buildLabels(row), axis=1)\n",
        "dataset_final[\"clean_text\"] = dataset_final.apply(lambda row: cleanTweet(row), \n",
        "                                                  axis=1)"
      ],
      "execution_count": 4,
      "outputs": []
    },
    {
      "cell_type": "code",
      "metadata": {
        "id": "C6JbCNxH6c9H"
      },
      "source": [
        "dataset_clf = dataset_final[[\"clean_text\", \"label\"]]\n",
        "dataset_clf.reset_index(drop=True, inplace=True)"
      ],
      "execution_count": 5,
      "outputs": []
    },
    {
      "cell_type": "code",
      "metadata": {
        "id": "BltNRZ4kVLEX",
        "colab": {
          "base_uri": "https://localhost:8080/"
        },
        "outputId": "63061220-a77e-4ca1-d627-f77d80c0b8d4"
      },
      "source": [
        "X_train, X_val, y_train, y_val = train_test_split(dataset_clf.index.values, \n",
        "                                                  dataset_clf.label.values, \n",
        "                                                  test_size=0.15, \n",
        "                                                  random_state=42, \n",
        "                                                  stratify=dataset_clf.label.values)\n",
        "\n",
        "dataset_clf['data_type'] = ['not_set']*dataset_final.shape[0]\n",
        "\n",
        "dataset_clf.loc[X_train, 'data_type'] = 'train'\n",
        "dataset_clf.loc[X_val, 'data_type'] = 'test'\n",
        "\n",
        "dataset_train = dataset_clf.loc[dataset_clf.data_type == 'train']\n",
        "dataset_test = dataset_clf.loc[dataset_clf.data_type == 'test']"
      ],
      "execution_count": 6,
      "outputs": [
        {
          "output_type": "stream",
          "text": [
            "/usr/local/lib/python3.6/dist-packages/ipykernel_launcher.py:7: SettingWithCopyWarning: \n",
            "A value is trying to be set on a copy of a slice from a DataFrame.\n",
            "Try using .loc[row_indexer,col_indexer] = value instead\n",
            "\n",
            "See the caveats in the documentation: https://pandas.pydata.org/pandas-docs/stable/user_guide/indexing.html#returning-a-view-versus-a-copy\n",
            "  import sys\n",
            "/usr/local/lib/python3.6/dist-packages/pandas/core/indexing.py:1763: SettingWithCopyWarning: \n",
            "A value is trying to be set on a copy of a slice from a DataFrame.\n",
            "Try using .loc[row_indexer,col_indexer] = value instead\n",
            "\n",
            "See the caveats in the documentation: https://pandas.pydata.org/pandas-docs/stable/user_guide/indexing.html#returning-a-view-versus-a-copy\n",
            "  isetter(loc, value)\n"
          ],
          "name": "stderr"
        }
      ]
    },
    {
      "cell_type": "code",
      "metadata": {
        "id": "PepEuSPxMxXB"
      },
      "source": [
        "def get_dataloaders(data, batch_size):\n",
        "  tokenizer = BertTokenizer.from_pretrained('bert-base-uncased', \n",
        "                                            do_lower_case=True)\n",
        "  # tokenize train and test data so BERT can understand it\n",
        "  encoded_data_train = tokenizer.batch_encode_plus(\n",
        "      data[data.data_type=='train'].clean_text.values, \n",
        "      add_special_tokens=True, \n",
        "      return_attention_mask=True, \n",
        "      padding=True,\n",
        "      max_length=64, \n",
        "      return_tensors='pt'\n",
        "  )\n",
        "\n",
        "  encoded_data_test = tokenizer.batch_encode_plus(\n",
        "      data[data.data_type=='test'].clean_text.values, \n",
        "      add_special_tokens=True, \n",
        "      return_attention_mask=True, \n",
        "      padding=True, \n",
        "      max_length=64, \n",
        "      return_tensors='pt'\n",
        "  )\n",
        "\n",
        "\n",
        "  # destructure out the input_ids, attention masks, and labels from tokenizer & encoder output\n",
        "  input_ids_train = encoded_data_train['input_ids']\n",
        "  attention_masks_train = encoded_data_train['attention_mask']\n",
        "  labels_train = torch.tensor(data[data.data_type=='train'].label.values)\n",
        "\n",
        "  input_ids_test = encoded_data_test['input_ids']\n",
        "  attention_masks_test = encoded_data_test['attention_mask']\n",
        "  labels_test = torch.tensor(data[data.data_type=='test'].label.values)\n",
        "\n",
        "  train_data = TensorDataset(input_ids_train, attention_masks_train, labels_train)\n",
        "  test_data = TensorDataset(input_ids_test, attention_masks_test, labels_test)\n",
        "\n",
        "  train_dataloader = DataLoader(train_data, \n",
        "                                sampler=RandomSampler(train_data), \n",
        "                                batch_size=batch_size)\n",
        "\n",
        "  test_dataloader = DataLoader(test_data,\n",
        "                              sampler=SequentialSampler(test_data),\n",
        "                              batch_size=batch_size)\n",
        "  \n",
        "  return train_dataloader, test_dataloader"
      ],
      "execution_count": 7,
      "outputs": []
    },
    {
      "cell_type": "code",
      "metadata": {
        "id": "RdmRjhMKPPzg"
      },
      "source": [
        "def auc_score(preds, labels):\n",
        "  soft_preds = softmax(preds, axis=1) # logit -> probability\n",
        "  if np.shape(preds)[1] > 2: # check for multi-class\n",
        "    return roc_auc_score(labels, soft_preds, multi_class='ovr')\n",
        "  else:\n",
        "    soft_preds = soft_preds[:,1]\n",
        "    return roc_auc_score(labels, soft_preds)\n",
        "\n",
        "def acc_score_by_class(preds, labels):\n",
        "  label_dict_inverse = {v: k for k, v in LABEL_MAP.items()} \n",
        "\n",
        "  preds_flat = np.argmax(preds, axis=1).flatten()\n",
        "  labels_flat = labels.flatten()\n",
        "\n",
        "  for label in np.unique(labels_flat):\n",
        "    y_preds = preds_flat[labels_flat==label]\n",
        "    y_true = labels_flat[labels_flat==label]\n",
        "    print(f'Class: {label_dict_inverse[label]}')\n",
        "    print(f'Accuracy: {len(y_preds[y_preds==label])}/{len(y_true)}\\n')"
      ],
      "execution_count": 8,
      "outputs": []
    },
    {
      "cell_type": "code",
      "metadata": {
        "id": "oQfxvBS6PSuc"
      },
      "source": [
        "def evaluate(model, dataloader, device):\n",
        "  model.eval()\n",
        "\n",
        "  loss_val_total = 0\n",
        "  predictions, true_vals = [], []\n",
        "  \n",
        "  for batch in dataloader:\n",
        "      \n",
        "      # convert data to CUDA\n",
        "      batch = tuple(b.to(device) for b in batch)\n",
        "      \n",
        "      inputs = {\n",
        "          'input_ids':      batch[0],\n",
        "          'attention_mask': batch[1],\n",
        "          'labels':         batch[2],\n",
        "      }\n",
        "\n",
        "      with torch.no_grad():        \n",
        "          outputs = model(**inputs) # get predictions\n",
        "          \n",
        "      loss = outputs[0]\n",
        "      logits = outputs[1]\n",
        "      loss_val_total += loss.item()\n",
        "\n",
        "      logits = logits.detach().cpu().numpy()\n",
        "      label_ids = inputs['labels'].cpu().numpy()\n",
        "      predictions.append(logits)\n",
        "      true_vals.append(label_ids)\n",
        "  \n",
        "  loss_val_avg = loss_val_total/len(dataloader) \n",
        "  \n",
        "  predictions = np.concatenate(predictions, axis=0)\n",
        "  true_vals = np.concatenate(true_vals, axis=0)\n",
        "          \n",
        "  return loss_val_avg, predictions, true_vals"
      ],
      "execution_count": 9,
      "outputs": []
    },
    {
      "cell_type": "code",
      "metadata": {
        "id": "GOZt7rnsXamy"
      },
      "source": [
        "def train_and_hyperparam_search(config,\n",
        "                                model_init, # function to init a clean version of the net\n",
        "                                data,       # data as Pandas array\n",
        "                                cv          # rounds of cross-validation\n",
        "                                ):\n",
        "  losses = []\n",
        "  aucs = []\n",
        "  skf = StratifiedKFold(n_splits=cv, shuffle=True)\n",
        "  for train_idx, test_idx in skf.split(data.clean_text, data.label):\n",
        "    model = model_init()\n",
        "    device = torch.device('cuda' if torch.cuda.is_available() else 'cpu')\n",
        "    model.to(device)\n",
        "    print(f\"Device: {device}\")\n",
        "\n",
        "    optimizer = AdamW(model.parameters(),\n",
        "                    lr=config['lr'],\n",
        "                    eps=1e-8) # keep this the same, just prevents exploding gradients\n",
        "    \n",
        "    data.loc[train_idx, 'data_type'] = 'train'\n",
        "    data.loc[test_idx, 'data_type'] = 'test'\n",
        "    \n",
        "    train_dataloader, test_dataloader = get_dataloaders(data,\n",
        "                                                        config['batch_size'])\n",
        "\n",
        "    for epoch in range(1, config['epochs']+1):\n",
        "      model.train() # enter training mode\n",
        "      loss_train_total = 0\n",
        "\n",
        "      for batch in train_dataloader:\n",
        "          model.zero_grad()\n",
        "          \n",
        "          # get CUDA data\n",
        "          batch = tuple(b.to(device) for b in batch)\n",
        "          \n",
        "          inputs = {\n",
        "              'input_ids':      batch[0],\n",
        "              'attention_mask': batch[1],\n",
        "              'labels':         batch[2],\n",
        "          }\n",
        "\n",
        "          outputs = model(**inputs) # evaluate\n",
        "          \n",
        "          # for reference, we are using cross-entropy loss here,\n",
        "          # as implemented in https://huggingface.co/transformers/_modules/transformers/modeling_bert.html\n",
        "          loss = outputs[0]\n",
        "          loss_train_total += loss.item()\n",
        "          loss.backward() # do backprop\n",
        "\n",
        "          torch.nn.utils.clip_grad_norm_(model.parameters(), 1.0)\n",
        "\n",
        "          optimizer.step()\n",
        "              \n",
        "      \n",
        "      loss_train_avg = loss_train_total/len(train_dataloader)    \n",
        "      print(f\"Training loss for epoch {epoch}: {loss_train_avg}\")        \n",
        "      \n",
        "      val_loss, predictions, true_vals = evaluate(model, test_dataloader, device)\n",
        "      auc = auc_score(predictions, true_vals)\n",
        "\n",
        "      losses.append(val_loss)\n",
        "      aucs.append(auc)\n",
        "\n",
        "  tune.report(loss=np.mean(losses), auc=np.mean(aucs))"
      ],
      "execution_count": 10,
      "outputs": []
    },
    {
      "cell_type": "code",
      "metadata": {
        "colab": {
          "base_uri": "https://localhost:8080/"
        },
        "id": "NZDqsHpBPJ0T",
        "outputId": "50c1db93-6be0-4c9c-96a3-015bb2c791c9"
      },
      "source": [
        "from functools import partial\n",
        "\n",
        "def model_init():\n",
        "   return BertForSequenceClassification.from_pretrained('bert-base-uncased',\n",
        "                                                        num_labels=2,\n",
        "                                                        output_attentions=False,\n",
        "                                                        output_hidden_states=False)   \n",
        "\n",
        "   \n",
        "config = {\n",
        "    \"lr\": tune.choice([5e-5, 3e-5, 1e-5, 2e-5]),\n",
        "    \"batch_size\": tune.choice([8, 16, 32]),\n",
        "    \"epochs\": tune.choice([2, 3, 4])\n",
        "}\n",
        "\n",
        "scheduler = ASHAScheduler(\n",
        "    metric=\"loss\",\n",
        "    mode=\"min\",\n",
        "    max_t=10,\n",
        "    grace_period=1,\n",
        "    reduction_factor=2\n",
        ")\n",
        "\n",
        "reporter = CLIReporter(metric_columns=[\"loss\", \"auc\", \"training_iteration\"])\n",
        "hyperopt_search = HyperOptSearch(metric=\"loss\", mode=\"min\")\n",
        "\n",
        "result = tune.run(\n",
        "    partial(train_and_hyperparam_search, model_init=model_init, data=dataset_clf, cv=3),\n",
        "    resources_per_trial={\"cpu\": 2, \"gpu\": 1},\n",
        "    config=config,\n",
        "    num_samples=8,\n",
        "    scheduler=scheduler,\n",
        "    search_alg=hyperopt_search,\n",
        "    progress_reporter=reporter\n",
        ")"
      ],
      "execution_count": 11,
      "outputs": [
        {
          "output_type": "stream",
          "text": [
            "2020-12-07 21:22:31,034\tINFO services.py:1092 -- View the Ray dashboard at \u001b[1m\u001b[32mhttp://127.0.0.1:8265\u001b[39m\u001b[22m\n",
            "2020-12-07 21:22:33,553\tWARNING experiment.py:274 -- No name detected on trainable. Using DEFAULT.\n",
            "2020-12-07 21:22:33,555\tINFO registry.py:65 -- Detected unknown callable for trainable. Converting to class.\n",
            "2020-12-07 21:22:33,561\tWARNING function_runner.py:540 -- Function checkpointing is disabled. This may result in unexpected behavior when using checkpointing features or certain schedulers. To enable, set the train function arguments to be `func(config, checkpoint_dir=None)`.\n"
          ],
          "name": "stderr"
        },
        {
          "output_type": "stream",
          "text": [
            "== Status ==\n",
            "Memory usage on this node: 1.4/12.7 GiB\n",
            "Using AsyncHyperBand: num_stopped=0\n",
            "Bracket: Iter 8.000: None | Iter 4.000: None | Iter 2.000: None | Iter 1.000: None\n",
            "Resources requested: 2/2 CPUs, 1/1 GPUs, 0.0/7.18 GiB heap, 0.0/2.44 GiB objects (0/1.0 accelerator_type:T4)\n",
            "Result logdir: /root/ray_results/DEFAULT_2020-12-07_21-22-33\n",
            "Number of trials: 1/8 (1 RUNNING)\n",
            "+------------------+----------+-------+--------------+----------+-------+\n",
            "| Trial name       | status   | loc   |   batch_size |   epochs |    lr |\n",
            "|------------------+----------+-------+--------------+----------+-------|\n",
            "| DEFAULT_521005aa | RUNNING  |       |           16 |        4 | 2e-05 |\n",
            "+------------------+----------+-------+--------------+----------+-------+\n",
            "\n",
            "\n"
          ],
          "name": "stdout"
        },
        {
          "output_type": "stream",
          "text": [
            "\u001b[2m\u001b[36m(pid=1120)\u001b[0m 2020-12-07 21:22:34.936266: I tensorflow/stream_executor/platform/default/dso_loader.cc:48] Successfully opened dynamic library libcudart.so.10.1\n",
            "\u001b[2m\u001b[36m(pid=1120)\u001b[0m Some weights of the model checkpoint at bert-base-uncased were not used when initializing BertForSequenceClassification: ['cls.predictions.bias', 'cls.predictions.transform.dense.weight', 'cls.predictions.transform.dense.bias', 'cls.predictions.decoder.weight', 'cls.seq_relationship.weight', 'cls.seq_relationship.bias', 'cls.predictions.transform.LayerNorm.weight', 'cls.predictions.transform.LayerNorm.bias']\n",
            "\u001b[2m\u001b[36m(pid=1120)\u001b[0m - This IS expected if you are initializing BertForSequenceClassification from the checkpoint of a model trained on another task or with another architecture (e.g. initializing a BertForSequenceClassification model from a BertForPreTraining model).\n",
            "\u001b[2m\u001b[36m(pid=1120)\u001b[0m - This IS NOT expected if you are initializing BertForSequenceClassification from the checkpoint of a model that you expect to be exactly identical (initializing a BertForSequenceClassification model from a BertForSequenceClassification model).\n",
            "\u001b[2m\u001b[36m(pid=1120)\u001b[0m Some weights of BertForSequenceClassification were not initialized from the model checkpoint at bert-base-uncased and are newly initialized: ['classifier.weight', 'classifier.bias']\n",
            "\u001b[2m\u001b[36m(pid=1120)\u001b[0m You should probably TRAIN this model on a down-stream task to be able to use it for predictions and inference.\n"
          ],
          "name": "stderr"
        },
        {
          "output_type": "stream",
          "text": [
            "\u001b[2m\u001b[36m(pid=1120)\u001b[0m Device: cuda\n",
            "\u001b[2m\u001b[36m(pid=1120)\u001b[0m Training loss for epoch 1: 0.6344756947623359\n",
            "\u001b[2m\u001b[36m(pid=1120)\u001b[0m Training loss for epoch 2: 0.4850283290701683\n",
            "\u001b[2m\u001b[36m(pid=1120)\u001b[0m Training loss for epoch 3: 0.3312927346036892\n",
            "\u001b[2m\u001b[36m(pid=1120)\u001b[0m Training loss for epoch 4: 0.19011070387381496\n"
          ],
          "name": "stdout"
        },
        {
          "output_type": "stream",
          "text": [
            "\u001b[2m\u001b[36m(pid=1120)\u001b[0m Some weights of the model checkpoint at bert-base-uncased were not used when initializing BertForSequenceClassification: ['cls.predictions.bias', 'cls.predictions.transform.dense.weight', 'cls.predictions.transform.dense.bias', 'cls.predictions.decoder.weight', 'cls.seq_relationship.weight', 'cls.seq_relationship.bias', 'cls.predictions.transform.LayerNorm.weight', 'cls.predictions.transform.LayerNorm.bias']\n",
            "\u001b[2m\u001b[36m(pid=1120)\u001b[0m - This IS expected if you are initializing BertForSequenceClassification from the checkpoint of a model trained on another task or with another architecture (e.g. initializing a BertForSequenceClassification model from a BertForPreTraining model).\n",
            "\u001b[2m\u001b[36m(pid=1120)\u001b[0m - This IS NOT expected if you are initializing BertForSequenceClassification from the checkpoint of a model that you expect to be exactly identical (initializing a BertForSequenceClassification model from a BertForSequenceClassification model).\n",
            "\u001b[2m\u001b[36m(pid=1120)\u001b[0m Some weights of BertForSequenceClassification were not initialized from the model checkpoint at bert-base-uncased and are newly initialized: ['classifier.weight', 'classifier.bias']\n",
            "\u001b[2m\u001b[36m(pid=1120)\u001b[0m You should probably TRAIN this model on a down-stream task to be able to use it for predictions and inference.\n"
          ],
          "name": "stderr"
        },
        {
          "output_type": "stream",
          "text": [
            "\u001b[2m\u001b[36m(pid=1120)\u001b[0m Device: cuda\n",
            "\u001b[2m\u001b[36m(pid=1120)\u001b[0m Training loss for epoch 1: 0.647163972108051\n",
            "\u001b[2m\u001b[36m(pid=1120)\u001b[0m Training loss for epoch 2: 0.4911114549396014\n",
            "\u001b[2m\u001b[36m(pid=1120)\u001b[0m Training loss for epoch 3: 0.30765219777822495\n",
            "\u001b[2m\u001b[36m(pid=1120)\u001b[0m Training loss for epoch 4: 0.1624445544386452\n"
          ],
          "name": "stdout"
        },
        {
          "output_type": "stream",
          "text": [
            "\u001b[2m\u001b[36m(pid=1120)\u001b[0m Some weights of the model checkpoint at bert-base-uncased were not used when initializing BertForSequenceClassification: ['cls.predictions.bias', 'cls.predictions.transform.dense.weight', 'cls.predictions.transform.dense.bias', 'cls.predictions.decoder.weight', 'cls.seq_relationship.weight', 'cls.seq_relationship.bias', 'cls.predictions.transform.LayerNorm.weight', 'cls.predictions.transform.LayerNorm.bias']\n",
            "\u001b[2m\u001b[36m(pid=1120)\u001b[0m - This IS expected if you are initializing BertForSequenceClassification from the checkpoint of a model trained on another task or with another architecture (e.g. initializing a BertForSequenceClassification model from a BertForPreTraining model).\n",
            "\u001b[2m\u001b[36m(pid=1120)\u001b[0m - This IS NOT expected if you are initializing BertForSequenceClassification from the checkpoint of a model that you expect to be exactly identical (initializing a BertForSequenceClassification model from a BertForSequenceClassification model).\n",
            "\u001b[2m\u001b[36m(pid=1120)\u001b[0m Some weights of BertForSequenceClassification were not initialized from the model checkpoint at bert-base-uncased and are newly initialized: ['classifier.weight', 'classifier.bias']\n",
            "\u001b[2m\u001b[36m(pid=1120)\u001b[0m You should probably TRAIN this model on a down-stream task to be able to use it for predictions and inference.\n"
          ],
          "name": "stderr"
        },
        {
          "output_type": "stream",
          "text": [
            "\u001b[2m\u001b[36m(pid=1120)\u001b[0m Device: cuda\n",
            "\u001b[2m\u001b[36m(pid=1120)\u001b[0m Training loss for epoch 1: 0.6538276925231471\n",
            "\u001b[2m\u001b[36m(pid=1120)\u001b[0m Training loss for epoch 2: 0.5087285366925326\n",
            "\u001b[2m\u001b[36m(pid=1120)\u001b[0m Training loss for epoch 3: 0.30577800682548323\n",
            "\u001b[2m\u001b[36m(pid=1120)\u001b[0m Training loss for epoch 4: 0.19240122441334104\n",
            "Result for DEFAULT_521005aa:\n",
            "  auc: 0.7897988565061524\n",
            "  date: 2020-12-07_21-28-32\n",
            "  done: false\n",
            "  experiment_id: 4b82b22abbe3444dbbc18ed05f0fc021\n",
            "  experiment_tag: 1_batch_size=16,epochs=4,lr=2e-05\n",
            "  hostname: 1a044ccbed2f\n",
            "  iterations_since_restore: 1\n",
            "  loss: 0.7237968415518602\n",
            "  node_ip: 172.28.0.2\n",
            "  pid: 1120\n",
            "  time_since_restore: 356.3485610485077\n",
            "  time_this_iter_s: 356.3485610485077\n",
            "  time_total_s: 356.3485610485077\n",
            "  timestamp: 1607376512\n",
            "  timesteps_since_restore: 0\n",
            "  training_iteration: 1\n",
            "  trial_id: 521005aa\n",
            "  \n",
            "== Status ==\n",
            "Memory usage on this node: 4.3/12.7 GiB\n",
            "Using AsyncHyperBand: num_stopped=0\n",
            "Bracket: Iter 8.000: None | Iter 4.000: None | Iter 2.000: None | Iter 1.000: -0.7237968415518602\n",
            "Resources requested: 2/2 CPUs, 1/1 GPUs, 0.0/7.18 GiB heap, 0.0/2.44 GiB objects (0/1.0 accelerator_type:T4)\n",
            "Result logdir: /root/ray_results/DEFAULT_2020-12-07_21-22-33\n",
            "Number of trials: 2/8 (1 PENDING, 1 RUNNING)\n",
            "+------------------+----------+-----------------+--------------+----------+-------+----------+----------+----------------------+\n",
            "| Trial name       | status   | loc             |   batch_size |   epochs |    lr |     loss |      auc |   training_iteration |\n",
            "|------------------+----------+-----------------+--------------+----------+-------+----------+----------+----------------------|\n",
            "| DEFAULT_521005aa | RUNNING  | 172.28.0.2:1120 |           16 |        4 | 2e-05 | 0.723797 | 0.789799 |                    1 |\n",
            "| DEFAULT_5224c030 | PENDING  |                 |           16 |        2 | 2e-05 |          |          |                      |\n",
            "+------------------+----------+-----------------+--------------+----------+-------+----------+----------+----------------------+\n",
            "\n",
            "\n"
          ],
          "name": "stdout"
        },
        {
          "output_type": "stream",
          "text": [
            "\u001b[2m\u001b[36m(pid=1119)\u001b[0m 2020-12-07 21:28:34.193059: I tensorflow/stream_executor/platform/default/dso_loader.cc:48] Successfully opened dynamic library libcudart.so.10.1\n",
            "\u001b[2m\u001b[36m(pid=1119)\u001b[0m Some weights of the model checkpoint at bert-base-uncased were not used when initializing BertForSequenceClassification: ['cls.predictions.bias', 'cls.predictions.transform.dense.weight', 'cls.predictions.transform.dense.bias', 'cls.predictions.decoder.weight', 'cls.seq_relationship.weight', 'cls.seq_relationship.bias', 'cls.predictions.transform.LayerNorm.weight', 'cls.predictions.transform.LayerNorm.bias']\n",
            "\u001b[2m\u001b[36m(pid=1119)\u001b[0m - This IS expected if you are initializing BertForSequenceClassification from the checkpoint of a model trained on another task or with another architecture (e.g. initializing a BertForSequenceClassification model from a BertForPreTraining model).\n",
            "\u001b[2m\u001b[36m(pid=1119)\u001b[0m - This IS NOT expected if you are initializing BertForSequenceClassification from the checkpoint of a model that you expect to be exactly identical (initializing a BertForSequenceClassification model from a BertForSequenceClassification model).\n",
            "\u001b[2m\u001b[36m(pid=1119)\u001b[0m Some weights of BertForSequenceClassification were not initialized from the model checkpoint at bert-base-uncased and are newly initialized: ['classifier.weight', 'classifier.bias']\n",
            "\u001b[2m\u001b[36m(pid=1119)\u001b[0m You should probably TRAIN this model on a down-stream task to be able to use it for predictions and inference.\n"
          ],
          "name": "stderr"
        },
        {
          "output_type": "stream",
          "text": [
            "\u001b[2m\u001b[36m(pid=1119)\u001b[0m Device: cuda\n",
            "\u001b[2m\u001b[36m(pid=1119)\u001b[0m Training loss for epoch 1: 0.6449412330232486\n",
            "\u001b[2m\u001b[36m(pid=1119)\u001b[0m Training loss for epoch 2: 0.4639995000278107\n"
          ],
          "name": "stdout"
        },
        {
          "output_type": "stream",
          "text": [
            "\u001b[2m\u001b[36m(pid=1119)\u001b[0m Some weights of the model checkpoint at bert-base-uncased were not used when initializing BertForSequenceClassification: ['cls.predictions.bias', 'cls.predictions.transform.dense.weight', 'cls.predictions.transform.dense.bias', 'cls.predictions.decoder.weight', 'cls.seq_relationship.weight', 'cls.seq_relationship.bias', 'cls.predictions.transform.LayerNorm.weight', 'cls.predictions.transform.LayerNorm.bias']\n",
            "\u001b[2m\u001b[36m(pid=1119)\u001b[0m - This IS expected if you are initializing BertForSequenceClassification from the checkpoint of a model trained on another task or with another architecture (e.g. initializing a BertForSequenceClassification model from a BertForPreTraining model).\n",
            "\u001b[2m\u001b[36m(pid=1119)\u001b[0m - This IS NOT expected if you are initializing BertForSequenceClassification from the checkpoint of a model that you expect to be exactly identical (initializing a BertForSequenceClassification model from a BertForSequenceClassification model).\n",
            "\u001b[2m\u001b[36m(pid=1119)\u001b[0m Some weights of BertForSequenceClassification were not initialized from the model checkpoint at bert-base-uncased and are newly initialized: ['classifier.weight', 'classifier.bias']\n",
            "\u001b[2m\u001b[36m(pid=1119)\u001b[0m You should probably TRAIN this model on a down-stream task to be able to use it for predictions and inference.\n"
          ],
          "name": "stderr"
        },
        {
          "output_type": "stream",
          "text": [
            "\u001b[2m\u001b[36m(pid=1119)\u001b[0m Device: cuda\n",
            "\u001b[2m\u001b[36m(pid=1119)\u001b[0m Training loss for epoch 1: 0.6801172807963207\n",
            "\u001b[2m\u001b[36m(pid=1119)\u001b[0m Training loss for epoch 2: 0.5532662931716803\n"
          ],
          "name": "stdout"
        },
        {
          "output_type": "stream",
          "text": [
            "\u001b[2m\u001b[36m(pid=1119)\u001b[0m Some weights of the model checkpoint at bert-base-uncased were not used when initializing BertForSequenceClassification: ['cls.predictions.bias', 'cls.predictions.transform.dense.weight', 'cls.predictions.transform.dense.bias', 'cls.predictions.decoder.weight', 'cls.seq_relationship.weight', 'cls.seq_relationship.bias', 'cls.predictions.transform.LayerNorm.weight', 'cls.predictions.transform.LayerNorm.bias']\n",
            "\u001b[2m\u001b[36m(pid=1119)\u001b[0m - This IS expected if you are initializing BertForSequenceClassification from the checkpoint of a model trained on another task or with another architecture (e.g. initializing a BertForSequenceClassification model from a BertForPreTraining model).\n",
            "\u001b[2m\u001b[36m(pid=1119)\u001b[0m - This IS NOT expected if you are initializing BertForSequenceClassification from the checkpoint of a model that you expect to be exactly identical (initializing a BertForSequenceClassification model from a BertForSequenceClassification model).\n",
            "\u001b[2m\u001b[36m(pid=1119)\u001b[0m Some weights of BertForSequenceClassification were not initialized from the model checkpoint at bert-base-uncased and are newly initialized: ['classifier.weight', 'classifier.bias']\n",
            "\u001b[2m\u001b[36m(pid=1119)\u001b[0m You should probably TRAIN this model on a down-stream task to be able to use it for predictions and inference.\n"
          ],
          "name": "stderr"
        },
        {
          "output_type": "stream",
          "text": [
            "\u001b[2m\u001b[36m(pid=1119)\u001b[0m Device: cuda\n",
            "\u001b[2m\u001b[36m(pid=1119)\u001b[0m Training loss for epoch 1: 0.6702775304967706\n",
            "\u001b[2m\u001b[36m(pid=1119)\u001b[0m Training loss for epoch 2: 0.5173599388864305\n",
            "Result for DEFAULT_5224c030:\n",
            "  auc: 0.796480368866903\n",
            "  date: 2020-12-07_21-31-42\n",
            "  done: false\n",
            "  experiment_id: 0277174ec3204e68b74e1b97935b53f1\n",
            "  experiment_tag: 2_batch_size=16,epochs=2,lr=2e-05\n",
            "  hostname: 1a044ccbed2f\n",
            "  iterations_since_restore: 1\n",
            "  loss: 0.568403833930691\n",
            "  node_ip: 172.28.0.2\n",
            "  pid: 1119\n",
            "  time_since_restore: 186.9030032157898\n",
            "  time_this_iter_s: 186.9030032157898\n",
            "  time_total_s: 186.9030032157898\n",
            "  timestamp: 1607376702\n",
            "  timesteps_since_restore: 0\n",
            "  training_iteration: 1\n",
            "  trial_id: 5224c030\n",
            "  \n",
            "== Status ==\n",
            "Memory usage on this node: 4.2/12.7 GiB\n",
            "Using AsyncHyperBand: num_stopped=0\n",
            "Bracket: Iter 8.000: None | Iter 4.000: None | Iter 2.000: None | Iter 1.000: -0.6461003377412756\n",
            "Resources requested: 2/2 CPUs, 1/1 GPUs, 0.0/7.18 GiB heap, 0.0/2.44 GiB objects (0/1.0 accelerator_type:T4)\n",
            "Result logdir: /root/ray_results/DEFAULT_2020-12-07_21-22-33\n",
            "Number of trials: 3/8 (1 PENDING, 1 RUNNING, 1 TERMINATED)\n",
            "+------------------+------------+-----------------+--------------+----------+-------+----------+----------+----------------------+\n",
            "| Trial name       | status     | loc             |   batch_size |   epochs |    lr |     loss |      auc |   training_iteration |\n",
            "|------------------+------------+-----------------+--------------+----------+-------+----------+----------+----------------------|\n",
            "| DEFAULT_5224c030 | RUNNING    | 172.28.0.2:1119 |           16 |        2 | 2e-05 | 0.568404 | 0.79648  |                    1 |\n",
            "| DEFAULT_2825ec9a | PENDING    |                 |           32 |        2 | 5e-05 |          |          |                      |\n",
            "| DEFAULT_521005aa | TERMINATED |                 |           16 |        4 | 2e-05 | 0.723797 | 0.789799 |                    1 |\n",
            "+------------------+------------+-----------------+--------------+----------+-------+----------+----------+----------------------+\n",
            "\n",
            "\n"
          ],
          "name": "stdout"
        },
        {
          "output_type": "stream",
          "text": [
            "\u001b[2m\u001b[36m(pid=1325)\u001b[0m 2020-12-07 21:31:44.514261: I tensorflow/stream_executor/platform/default/dso_loader.cc:48] Successfully opened dynamic library libcudart.so.10.1\n",
            "\u001b[2m\u001b[36m(pid=1325)\u001b[0m Some weights of the model checkpoint at bert-base-uncased were not used when initializing BertForSequenceClassification: ['cls.predictions.bias', 'cls.predictions.transform.dense.weight', 'cls.predictions.transform.dense.bias', 'cls.predictions.decoder.weight', 'cls.seq_relationship.weight', 'cls.seq_relationship.bias', 'cls.predictions.transform.LayerNorm.weight', 'cls.predictions.transform.LayerNorm.bias']\n",
            "\u001b[2m\u001b[36m(pid=1325)\u001b[0m - This IS expected if you are initializing BertForSequenceClassification from the checkpoint of a model trained on another task or with another architecture (e.g. initializing a BertForSequenceClassification model from a BertForPreTraining model).\n",
            "\u001b[2m\u001b[36m(pid=1325)\u001b[0m - This IS NOT expected if you are initializing BertForSequenceClassification from the checkpoint of a model that you expect to be exactly identical (initializing a BertForSequenceClassification model from a BertForSequenceClassification model).\n",
            "\u001b[2m\u001b[36m(pid=1325)\u001b[0m Some weights of BertForSequenceClassification were not initialized from the model checkpoint at bert-base-uncased and are newly initialized: ['classifier.weight', 'classifier.bias']\n",
            "\u001b[2m\u001b[36m(pid=1325)\u001b[0m You should probably TRAIN this model on a down-stream task to be able to use it for predictions and inference.\n"
          ],
          "name": "stderr"
        },
        {
          "output_type": "stream",
          "text": [
            "\u001b[2m\u001b[36m(pid=1325)\u001b[0m Device: cuda\n",
            "\u001b[2m\u001b[36m(pid=1325)\u001b[0m Training loss for epoch 1: 0.6524164843559265\n",
            "\u001b[2m\u001b[36m(pid=1325)\u001b[0m Training loss for epoch 2: 0.5297986179590225\n"
          ],
          "name": "stdout"
        },
        {
          "output_type": "stream",
          "text": [
            "\u001b[2m\u001b[36m(pid=1325)\u001b[0m Some weights of the model checkpoint at bert-base-uncased were not used when initializing BertForSequenceClassification: ['cls.predictions.bias', 'cls.predictions.transform.dense.weight', 'cls.predictions.transform.dense.bias', 'cls.predictions.decoder.weight', 'cls.seq_relationship.weight', 'cls.seq_relationship.bias', 'cls.predictions.transform.LayerNorm.weight', 'cls.predictions.transform.LayerNorm.bias']\n",
            "\u001b[2m\u001b[36m(pid=1325)\u001b[0m - This IS expected if you are initializing BertForSequenceClassification from the checkpoint of a model trained on another task or with another architecture (e.g. initializing a BertForSequenceClassification model from a BertForPreTraining model).\n",
            "\u001b[2m\u001b[36m(pid=1325)\u001b[0m - This IS NOT expected if you are initializing BertForSequenceClassification from the checkpoint of a model that you expect to be exactly identical (initializing a BertForSequenceClassification model from a BertForSequenceClassification model).\n",
            "\u001b[2m\u001b[36m(pid=1325)\u001b[0m Some weights of BertForSequenceClassification were not initialized from the model checkpoint at bert-base-uncased and are newly initialized: ['classifier.weight', 'classifier.bias']\n",
            "\u001b[2m\u001b[36m(pid=1325)\u001b[0m You should probably TRAIN this model on a down-stream task to be able to use it for predictions and inference.\n"
          ],
          "name": "stderr"
        },
        {
          "output_type": "stream",
          "text": [
            "\u001b[2m\u001b[36m(pid=1325)\u001b[0m Device: cuda\n",
            "\u001b[2m\u001b[36m(pid=1325)\u001b[0m Training loss for epoch 1: 0.626326152086258\n",
            "\u001b[2m\u001b[36m(pid=1325)\u001b[0m Training loss for epoch 2: 0.4502087497711182\n"
          ],
          "name": "stdout"
        },
        {
          "output_type": "stream",
          "text": [
            "\u001b[2m\u001b[36m(pid=1325)\u001b[0m Some weights of the model checkpoint at bert-base-uncased were not used when initializing BertForSequenceClassification: ['cls.predictions.bias', 'cls.predictions.transform.dense.weight', 'cls.predictions.transform.dense.bias', 'cls.predictions.decoder.weight', 'cls.seq_relationship.weight', 'cls.seq_relationship.bias', 'cls.predictions.transform.LayerNorm.weight', 'cls.predictions.transform.LayerNorm.bias']\n",
            "\u001b[2m\u001b[36m(pid=1325)\u001b[0m - This IS expected if you are initializing BertForSequenceClassification from the checkpoint of a model trained on another task or with another architecture (e.g. initializing a BertForSequenceClassification model from a BertForPreTraining model).\n",
            "\u001b[2m\u001b[36m(pid=1325)\u001b[0m - This IS NOT expected if you are initializing BertForSequenceClassification from the checkpoint of a model that you expect to be exactly identical (initializing a BertForSequenceClassification model from a BertForSequenceClassification model).\n",
            "\u001b[2m\u001b[36m(pid=1325)\u001b[0m Some weights of BertForSequenceClassification were not initialized from the model checkpoint at bert-base-uncased and are newly initialized: ['classifier.weight', 'classifier.bias']\n",
            "\u001b[2m\u001b[36m(pid=1325)\u001b[0m You should probably TRAIN this model on a down-stream task to be able to use it for predictions and inference.\n"
          ],
          "name": "stderr"
        },
        {
          "output_type": "stream",
          "text": [
            "\u001b[2m\u001b[36m(pid=1325)\u001b[0m Device: cuda\n",
            "\u001b[2m\u001b[36m(pid=1325)\u001b[0m Training loss for epoch 1: 0.6162830018997192\n",
            "\u001b[2m\u001b[36m(pid=1325)\u001b[0m Training loss for epoch 2: 0.4076379317045212\n",
            "Result for DEFAULT_2825ec9a:\n",
            "  auc: 0.7999167693411314\n",
            "  date: 2020-12-07_21-34-37\n",
            "  done: false\n",
            "  experiment_id: a5aa0311a3154fb7ad36938b93d58194\n",
            "  experiment_tag: 3_batch_size=32,epochs=2,lr=5e-05\n",
            "  hostname: 1a044ccbed2f\n",
            "  iterations_since_restore: 1\n",
            "  loss: 0.5963040275375048\n",
            "  node_ip: 172.28.0.2\n",
            "  pid: 1325\n",
            "  time_since_restore: 171.49289512634277\n",
            "  time_this_iter_s: 171.49289512634277\n",
            "  time_total_s: 171.49289512634277\n",
            "  timestamp: 1607376877\n",
            "  timesteps_since_restore: 0\n",
            "  training_iteration: 1\n",
            "  trial_id: 2825ec9a\n",
            "  \n",
            "== Status ==\n",
            "Memory usage on this node: 4.3/12.7 GiB\n",
            "Using AsyncHyperBand: num_stopped=0\n",
            "Bracket: Iter 8.000: None | Iter 4.000: None | Iter 2.000: None | Iter 1.000: -0.5963040275375048\n",
            "Resources requested: 2/2 CPUs, 1/1 GPUs, 0.0/7.18 GiB heap, 0.0/2.44 GiB objects (0/1.0 accelerator_type:T4)\n",
            "Result logdir: /root/ray_results/DEFAULT_2020-12-07_21-22-33\n",
            "Number of trials: 4/8 (1 PENDING, 1 RUNNING, 2 TERMINATED)\n",
            "+------------------+------------+-----------------+--------------+----------+-------+----------+----------+----------------------+\n",
            "| Trial name       | status     | loc             |   batch_size |   epochs |    lr |     loss |      auc |   training_iteration |\n",
            "|------------------+------------+-----------------+--------------+----------+-------+----------+----------+----------------------|\n",
            "| DEFAULT_2825ec9a | RUNNING    | 172.28.0.2:1325 |           32 |        2 | 5e-05 | 0.596304 | 0.799917 |                    1 |\n",
            "| DEFAULT_9947feae | PENDING    |                 |            8 |        4 | 3e-05 |          |          |                      |\n",
            "| DEFAULT_521005aa | TERMINATED |                 |           16 |        4 | 2e-05 | 0.723797 | 0.789799 |                    1 |\n",
            "| DEFAULT_5224c030 | TERMINATED |                 |           16 |        2 | 2e-05 | 0.568404 | 0.79648  |                    1 |\n",
            "+------------------+------------+-----------------+--------------+----------+-------+----------+----------+----------------------+\n",
            "\n",
            "\n"
          ],
          "name": "stdout"
        },
        {
          "output_type": "stream",
          "text": [
            "\u001b[2m\u001b[36m(pid=1389)\u001b[0m 2020-12-07 21:34:39.404653: I tensorflow/stream_executor/platform/default/dso_loader.cc:48] Successfully opened dynamic library libcudart.so.10.1\n",
            "\u001b[2m\u001b[36m(pid=1389)\u001b[0m Some weights of the model checkpoint at bert-base-uncased were not used when initializing BertForSequenceClassification: ['cls.predictions.bias', 'cls.predictions.transform.dense.weight', 'cls.predictions.transform.dense.bias', 'cls.predictions.decoder.weight', 'cls.seq_relationship.weight', 'cls.seq_relationship.bias', 'cls.predictions.transform.LayerNorm.weight', 'cls.predictions.transform.LayerNorm.bias']\n",
            "\u001b[2m\u001b[36m(pid=1389)\u001b[0m - This IS expected if you are initializing BertForSequenceClassification from the checkpoint of a model trained on another task or with another architecture (e.g. initializing a BertForSequenceClassification model from a BertForPreTraining model).\n",
            "\u001b[2m\u001b[36m(pid=1389)\u001b[0m - This IS NOT expected if you are initializing BertForSequenceClassification from the checkpoint of a model that you expect to be exactly identical (initializing a BertForSequenceClassification model from a BertForSequenceClassification model).\n",
            "\u001b[2m\u001b[36m(pid=1389)\u001b[0m Some weights of BertForSequenceClassification were not initialized from the model checkpoint at bert-base-uncased and are newly initialized: ['classifier.weight', 'classifier.bias']\n",
            "\u001b[2m\u001b[36m(pid=1389)\u001b[0m You should probably TRAIN this model on a down-stream task to be able to use it for predictions and inference.\n"
          ],
          "name": "stderr"
        },
        {
          "output_type": "stream",
          "text": [
            "\u001b[2m\u001b[36m(pid=1389)\u001b[0m Device: cuda\n",
            "\u001b[2m\u001b[36m(pid=1389)\u001b[0m Training loss for epoch 1: 0.6567918190149346\n",
            "\u001b[2m\u001b[36m(pid=1389)\u001b[0m Training loss for epoch 2: 0.4708369989136253\n",
            "\u001b[2m\u001b[36m(pid=1389)\u001b[0m Training loss for epoch 3: 0.3382879101807684\n",
            "\u001b[2m\u001b[36m(pid=1389)\u001b[0m Training loss for epoch 4: 0.22345347392062345\n"
          ],
          "name": "stdout"
        },
        {
          "output_type": "stream",
          "text": [
            "\u001b[2m\u001b[36m(pid=1389)\u001b[0m Some weights of the model checkpoint at bert-base-uncased were not used when initializing BertForSequenceClassification: ['cls.predictions.bias', 'cls.predictions.transform.dense.weight', 'cls.predictions.transform.dense.bias', 'cls.predictions.decoder.weight', 'cls.seq_relationship.weight', 'cls.seq_relationship.bias', 'cls.predictions.transform.LayerNorm.weight', 'cls.predictions.transform.LayerNorm.bias']\n",
            "\u001b[2m\u001b[36m(pid=1389)\u001b[0m - This IS expected if you are initializing BertForSequenceClassification from the checkpoint of a model trained on another task or with another architecture (e.g. initializing a BertForSequenceClassification model from a BertForPreTraining model).\n",
            "\u001b[2m\u001b[36m(pid=1389)\u001b[0m - This IS NOT expected if you are initializing BertForSequenceClassification from the checkpoint of a model that you expect to be exactly identical (initializing a BertForSequenceClassification model from a BertForSequenceClassification model).\n",
            "\u001b[2m\u001b[36m(pid=1389)\u001b[0m Some weights of BertForSequenceClassification were not initialized from the model checkpoint at bert-base-uncased and are newly initialized: ['classifier.weight', 'classifier.bias']\n",
            "\u001b[2m\u001b[36m(pid=1389)\u001b[0m You should probably TRAIN this model on a down-stream task to be able to use it for predictions and inference.\n"
          ],
          "name": "stderr"
        },
        {
          "output_type": "stream",
          "text": [
            "\u001b[2m\u001b[36m(pid=1389)\u001b[0m Device: cuda\n",
            "\u001b[2m\u001b[36m(pid=1389)\u001b[0m Training loss for epoch 1: 0.6292807711946844\n",
            "\u001b[2m\u001b[36m(pid=1389)\u001b[0m Training loss for epoch 2: 0.46356695670295844\n",
            "\u001b[2m\u001b[36m(pid=1389)\u001b[0m Training loss for epoch 3: 0.27738183209522055\n",
            "\u001b[2m\u001b[36m(pid=1389)\u001b[0m Training loss for epoch 4: 0.1497899397462136\n"
          ],
          "name": "stdout"
        },
        {
          "output_type": "stream",
          "text": [
            "\u001b[2m\u001b[36m(pid=1389)\u001b[0m Some weights of the model checkpoint at bert-base-uncased were not used when initializing BertForSequenceClassification: ['cls.predictions.bias', 'cls.predictions.transform.dense.weight', 'cls.predictions.transform.dense.bias', 'cls.predictions.decoder.weight', 'cls.seq_relationship.weight', 'cls.seq_relationship.bias', 'cls.predictions.transform.LayerNorm.weight', 'cls.predictions.transform.LayerNorm.bias']\n",
            "\u001b[2m\u001b[36m(pid=1389)\u001b[0m - This IS expected if you are initializing BertForSequenceClassification from the checkpoint of a model trained on another task or with another architecture (e.g. initializing a BertForSequenceClassification model from a BertForPreTraining model).\n",
            "\u001b[2m\u001b[36m(pid=1389)\u001b[0m - This IS NOT expected if you are initializing BertForSequenceClassification from the checkpoint of a model that you expect to be exactly identical (initializing a BertForSequenceClassification model from a BertForSequenceClassification model).\n",
            "\u001b[2m\u001b[36m(pid=1389)\u001b[0m Some weights of BertForSequenceClassification were not initialized from the model checkpoint at bert-base-uncased and are newly initialized: ['classifier.weight', 'classifier.bias']\n",
            "\u001b[2m\u001b[36m(pid=1389)\u001b[0m You should probably TRAIN this model on a down-stream task to be able to use it for predictions and inference.\n"
          ],
          "name": "stderr"
        },
        {
          "output_type": "stream",
          "text": [
            "\u001b[2m\u001b[36m(pid=1389)\u001b[0m Device: cuda\n",
            "\u001b[2m\u001b[36m(pid=1389)\u001b[0m Training loss for epoch 1: 0.639292995436023\n",
            "\u001b[2m\u001b[36m(pid=1389)\u001b[0m Training loss for epoch 2: 0.4393983995824149\n",
            "\u001b[2m\u001b[36m(pid=1389)\u001b[0m Training loss for epoch 3: 0.2181181340487768\n",
            "\u001b[2m\u001b[36m(pid=1389)\u001b[0m Training loss for epoch 4: 0.10801092401982375\n"
          ],
          "name": "stdout"
        },
        {
          "output_type": "stream",
          "text": [
            "2020-12-07 21:41:24,744\tWARNING worker.py:1091 -- The actor or task with ID ffffffffffffffffbd5c534001000000 is pending and cannot currently be scheduled. It requires {GPU: 1.000000}, {CPU: 2.000000} for execution and {GPU: 1.000000}, {CPU: 2.000000} for placement, but this node only has remaining {GPU: 1.000000}, {node:172.28.0.2: 1.000000}, {accelerator_type:T4: 1.000000}, {CPU: 2.000000}, {memory: 7.177734 GiB}, {object_store_memory: 2.441406 GiB}. In total there are 0 pending tasks and 1 pending actors on this node. This is likely due to all cluster resources being claimed by actors. To resolve the issue, consider creating fewer actors or increase the resources available to this Ray cluster. You can ignore this message if this Ray cluster is expected to auto-scale.\n"
          ],
          "name": "stderr"
        },
        {
          "output_type": "stream",
          "text": [
            "Result for DEFAULT_9947feae:\n",
            "  auc: 0.7964746723269617\n",
            "  date: 2020-12-07_21-41-24\n",
            "  done: true\n",
            "  experiment_id: 6f22707d4d57487981d754949e52ea6b\n",
            "  experiment_tag: 4_batch_size=8,epochs=4,lr=3e-05\n",
            "  hostname: 1a044ccbed2f\n",
            "  iterations_since_restore: 1\n",
            "  loss: 0.9422783949067962\n",
            "  node_ip: 172.28.0.2\n",
            "  pid: 1389\n",
            "  time_since_restore: 403.7108232975006\n",
            "  time_this_iter_s: 403.7108232975006\n",
            "  time_total_s: 403.7108232975006\n",
            "  timestamp: 1607377284\n",
            "  timesteps_since_restore: 0\n",
            "  training_iteration: 1\n",
            "  trial_id: 9947feae\n",
            "  \n",
            "== Status ==\n",
            "Memory usage on this node: 4.2/12.7 GiB\n",
            "Using AsyncHyperBand: num_stopped=1\n",
            "Bracket: Iter 8.000: None | Iter 4.000: None | Iter 2.000: None | Iter 1.000: -0.6600504345446825\n",
            "Resources requested: 0/2 CPUs, 0/1 GPUs, 0.0/7.18 GiB heap, 0.0/2.44 GiB objects (0/1.0 accelerator_type:T4)\n",
            "Result logdir: /root/ray_results/DEFAULT_2020-12-07_21-22-33\n",
            "Number of trials: 5/8 (1 PENDING, 4 TERMINATED)\n",
            "+------------------+------------+-------+--------------+----------+-------+----------+----------+----------------------+\n",
            "| Trial name       | status     | loc   |   batch_size |   epochs |    lr |     loss |      auc |   training_iteration |\n",
            "|------------------+------------+-------+--------------+----------+-------+----------+----------+----------------------|\n",
            "| DEFAULT_018b5aec | PENDING    |       |            8 |        2 | 2e-05 |          |          |                      |\n",
            "| DEFAULT_521005aa | TERMINATED |       |           16 |        4 | 2e-05 | 0.723797 | 0.789799 |                    1 |\n",
            "| DEFAULT_5224c030 | TERMINATED |       |           16 |        2 | 2e-05 | 0.568404 | 0.79648  |                    1 |\n",
            "| DEFAULT_2825ec9a | TERMINATED |       |           32 |        2 | 5e-05 | 0.596304 | 0.799917 |                    1 |\n",
            "| DEFAULT_9947feae | TERMINATED |       |            8 |        4 | 3e-05 | 0.942278 | 0.796475 |                    1 |\n",
            "+------------------+------------+-------+--------------+----------+-------+----------+----------+----------------------+\n",
            "\n",
            "\n"
          ],
          "name": "stdout"
        },
        {
          "output_type": "stream",
          "text": [
            "\u001b[2m\u001b[36m(pid=1487)\u001b[0m 2020-12-07 21:41:26.547564: I tensorflow/stream_executor/platform/default/dso_loader.cc:48] Successfully opened dynamic library libcudart.so.10.1\n",
            "\u001b[2m\u001b[36m(pid=1487)\u001b[0m Some weights of the model checkpoint at bert-base-uncased were not used when initializing BertForSequenceClassification: ['cls.predictions.bias', 'cls.predictions.transform.dense.weight', 'cls.predictions.transform.dense.bias', 'cls.predictions.decoder.weight', 'cls.seq_relationship.weight', 'cls.seq_relationship.bias', 'cls.predictions.transform.LayerNorm.weight', 'cls.predictions.transform.LayerNorm.bias']\n",
            "\u001b[2m\u001b[36m(pid=1487)\u001b[0m - This IS expected if you are initializing BertForSequenceClassification from the checkpoint of a model trained on another task or with another architecture (e.g. initializing a BertForSequenceClassification model from a BertForPreTraining model).\n",
            "\u001b[2m\u001b[36m(pid=1487)\u001b[0m - This IS NOT expected if you are initializing BertForSequenceClassification from the checkpoint of a model that you expect to be exactly identical (initializing a BertForSequenceClassification model from a BertForSequenceClassification model).\n",
            "\u001b[2m\u001b[36m(pid=1487)\u001b[0m Some weights of BertForSequenceClassification were not initialized from the model checkpoint at bert-base-uncased and are newly initialized: ['classifier.weight', 'classifier.bias']\n",
            "\u001b[2m\u001b[36m(pid=1487)\u001b[0m You should probably TRAIN this model on a down-stream task to be able to use it for predictions and inference.\n"
          ],
          "name": "stderr"
        },
        {
          "output_type": "stream",
          "text": [
            "\u001b[2m\u001b[36m(pid=1487)\u001b[0m Device: cuda\n",
            "\u001b[2m\u001b[36m(pid=1487)\u001b[0m Training loss for epoch 1: 0.6254799326862952\n",
            "\u001b[2m\u001b[36m(pid=1487)\u001b[0m Training loss for epoch 2: 0.4529098105061837\n"
          ],
          "name": "stdout"
        },
        {
          "output_type": "stream",
          "text": [
            "\u001b[2m\u001b[36m(pid=1487)\u001b[0m Some weights of the model checkpoint at bert-base-uncased were not used when initializing BertForSequenceClassification: ['cls.predictions.bias', 'cls.predictions.transform.dense.weight', 'cls.predictions.transform.dense.bias', 'cls.predictions.decoder.weight', 'cls.seq_relationship.weight', 'cls.seq_relationship.bias', 'cls.predictions.transform.LayerNorm.weight', 'cls.predictions.transform.LayerNorm.bias']\n",
            "\u001b[2m\u001b[36m(pid=1487)\u001b[0m - This IS expected if you are initializing BertForSequenceClassification from the checkpoint of a model trained on another task or with another architecture (e.g. initializing a BertForSequenceClassification model from a BertForPreTraining model).\n",
            "\u001b[2m\u001b[36m(pid=1487)\u001b[0m - This IS NOT expected if you are initializing BertForSequenceClassification from the checkpoint of a model that you expect to be exactly identical (initializing a BertForSequenceClassification model from a BertForSequenceClassification model).\n",
            "\u001b[2m\u001b[36m(pid=1487)\u001b[0m Some weights of BertForSequenceClassification were not initialized from the model checkpoint at bert-base-uncased and are newly initialized: ['classifier.weight', 'classifier.bias']\n",
            "\u001b[2m\u001b[36m(pid=1487)\u001b[0m You should probably TRAIN this model on a down-stream task to be able to use it for predictions and inference.\n"
          ],
          "name": "stderr"
        },
        {
          "output_type": "stream",
          "text": [
            "\u001b[2m\u001b[36m(pid=1487)\u001b[0m Device: cuda\n",
            "\u001b[2m\u001b[36m(pid=1487)\u001b[0m Training loss for epoch 1: 0.642683137132965\n",
            "\u001b[2m\u001b[36m(pid=1487)\u001b[0m Training loss for epoch 2: 0.4575235460969535\n"
          ],
          "name": "stdout"
        },
        {
          "output_type": "stream",
          "text": [
            "\u001b[2m\u001b[36m(pid=1487)\u001b[0m Some weights of the model checkpoint at bert-base-uncased were not used when initializing BertForSequenceClassification: ['cls.predictions.bias', 'cls.predictions.transform.dense.weight', 'cls.predictions.transform.dense.bias', 'cls.predictions.decoder.weight', 'cls.seq_relationship.weight', 'cls.seq_relationship.bias', 'cls.predictions.transform.LayerNorm.weight', 'cls.predictions.transform.LayerNorm.bias']\n",
            "\u001b[2m\u001b[36m(pid=1487)\u001b[0m - This IS expected if you are initializing BertForSequenceClassification from the checkpoint of a model trained on another task or with another architecture (e.g. initializing a BertForSequenceClassification model from a BertForPreTraining model).\n",
            "\u001b[2m\u001b[36m(pid=1487)\u001b[0m - This IS NOT expected if you are initializing BertForSequenceClassification from the checkpoint of a model that you expect to be exactly identical (initializing a BertForSequenceClassification model from a BertForSequenceClassification model).\n",
            "\u001b[2m\u001b[36m(pid=1487)\u001b[0m Some weights of BertForSequenceClassification were not initialized from the model checkpoint at bert-base-uncased and are newly initialized: ['classifier.weight', 'classifier.bias']\n",
            "\u001b[2m\u001b[36m(pid=1487)\u001b[0m You should probably TRAIN this model on a down-stream task to be able to use it for predictions and inference.\n"
          ],
          "name": "stderr"
        },
        {
          "output_type": "stream",
          "text": [
            "\u001b[2m\u001b[36m(pid=1487)\u001b[0m Device: cuda\n",
            "\u001b[2m\u001b[36m(pid=1487)\u001b[0m Training loss for epoch 1: 0.6366332465350025\n",
            "\u001b[2m\u001b[36m(pid=1487)\u001b[0m Training loss for epoch 2: 0.46718696327974096\n",
            "Result for DEFAULT_018b5aec:\n",
            "  auc: 0.8050686351375309\n",
            "  date: 2020-12-07_21-45-00\n",
            "  done: false\n",
            "  experiment_id: 723b45b90b624b37a68205ab4036eaf9\n",
            "  experiment_tag: 5_batch_size=8,epochs=2,lr=2e-05\n",
            "  hostname: 1a044ccbed2f\n",
            "  iterations_since_restore: 1\n",
            "  loss: 0.5747440671955898\n",
            "  node_ip: 172.28.0.2\n",
            "  pid: 1487\n",
            "  time_since_restore: 212.38935685157776\n",
            "  time_this_iter_s: 212.38935685157776\n",
            "  time_total_s: 212.38935685157776\n",
            "  timestamp: 1607377500\n",
            "  timesteps_since_restore: 0\n",
            "  training_iteration: 1\n",
            "  trial_id: 018b5aec\n",
            "  \n",
            "== Status ==\n",
            "Memory usage on this node: 4.2/12.7 GiB\n",
            "Using AsyncHyperBand: num_stopped=1\n",
            "Bracket: Iter 8.000: None | Iter 4.000: None | Iter 2.000: None | Iter 1.000: -0.5963040275375048\n",
            "Resources requested: 2/2 CPUs, 1/1 GPUs, 0.0/7.18 GiB heap, 0.0/2.44 GiB objects (0/1.0 accelerator_type:T4)\n",
            "Result logdir: /root/ray_results/DEFAULT_2020-12-07_21-22-33\n",
            "Number of trials: 6/8 (1 PENDING, 1 RUNNING, 4 TERMINATED)\n",
            "+------------------+------------+-----------------+--------------+----------+-------+----------+----------+----------------------+\n",
            "| Trial name       | status     | loc             |   batch_size |   epochs |    lr |     loss |      auc |   training_iteration |\n",
            "|------------------+------------+-----------------+--------------+----------+-------+----------+----------+----------------------|\n",
            "| DEFAULT_018b5aec | RUNNING    | 172.28.0.2:1487 |            8 |        2 | 2e-05 | 0.574744 | 0.805069 |                    1 |\n",
            "| DEFAULT_f42ecb76 | PENDING    |                 |            8 |        3 | 5e-05 |          |          |                      |\n",
            "| DEFAULT_521005aa | TERMINATED |                 |           16 |        4 | 2e-05 | 0.723797 | 0.789799 |                    1 |\n",
            "| DEFAULT_5224c030 | TERMINATED |                 |           16 |        2 | 2e-05 | 0.568404 | 0.79648  |                    1 |\n",
            "| DEFAULT_2825ec9a | TERMINATED |                 |           32 |        2 | 5e-05 | 0.596304 | 0.799917 |                    1 |\n",
            "| DEFAULT_9947feae | TERMINATED |                 |            8 |        4 | 3e-05 | 0.942278 | 0.796475 |                    1 |\n",
            "+------------------+------------+-----------------+--------------+----------+-------+----------+----------+----------------------+\n",
            "\n",
            "\n"
          ],
          "name": "stdout"
        },
        {
          "output_type": "stream",
          "text": [
            "\u001b[2m\u001b[36m(pid=1565)\u001b[0m 2020-12-07 21:45:02.276318: I tensorflow/stream_executor/platform/default/dso_loader.cc:48] Successfully opened dynamic library libcudart.so.10.1\n",
            "\u001b[2m\u001b[36m(pid=1565)\u001b[0m Some weights of the model checkpoint at bert-base-uncased were not used when initializing BertForSequenceClassification: ['cls.predictions.bias', 'cls.predictions.transform.dense.weight', 'cls.predictions.transform.dense.bias', 'cls.predictions.decoder.weight', 'cls.seq_relationship.weight', 'cls.seq_relationship.bias', 'cls.predictions.transform.LayerNorm.weight', 'cls.predictions.transform.LayerNorm.bias']\n",
            "\u001b[2m\u001b[36m(pid=1565)\u001b[0m - This IS expected if you are initializing BertForSequenceClassification from the checkpoint of a model trained on another task or with another architecture (e.g. initializing a BertForSequenceClassification model from a BertForPreTraining model).\n",
            "\u001b[2m\u001b[36m(pid=1565)\u001b[0m - This IS NOT expected if you are initializing BertForSequenceClassification from the checkpoint of a model that you expect to be exactly identical (initializing a BertForSequenceClassification model from a BertForSequenceClassification model).\n",
            "\u001b[2m\u001b[36m(pid=1565)\u001b[0m Some weights of BertForSequenceClassification were not initialized from the model checkpoint at bert-base-uncased and are newly initialized: ['classifier.weight', 'classifier.bias']\n",
            "\u001b[2m\u001b[36m(pid=1565)\u001b[0m You should probably TRAIN this model on a down-stream task to be able to use it for predictions and inference.\n"
          ],
          "name": "stderr"
        },
        {
          "output_type": "stream",
          "text": [
            "\u001b[2m\u001b[36m(pid=1565)\u001b[0m Device: cuda\n",
            "\u001b[2m\u001b[36m(pid=1565)\u001b[0m Training loss for epoch 1: 0.6305889517369897\n",
            "\u001b[2m\u001b[36m(pid=1565)\u001b[0m Training loss for epoch 2: 0.4355132859764677\n",
            "\u001b[2m\u001b[36m(pid=1565)\u001b[0m Training loss for epoch 3: 0.28478610796872716\n"
          ],
          "name": "stdout"
        },
        {
          "output_type": "stream",
          "text": [
            "\u001b[2m\u001b[36m(pid=1565)\u001b[0m Some weights of the model checkpoint at bert-base-uncased were not used when initializing BertForSequenceClassification: ['cls.predictions.bias', 'cls.predictions.transform.dense.weight', 'cls.predictions.transform.dense.bias', 'cls.predictions.decoder.weight', 'cls.seq_relationship.weight', 'cls.seq_relationship.bias', 'cls.predictions.transform.LayerNorm.weight', 'cls.predictions.transform.LayerNorm.bias']\n",
            "\u001b[2m\u001b[36m(pid=1565)\u001b[0m - This IS expected if you are initializing BertForSequenceClassification from the checkpoint of a model trained on another task or with another architecture (e.g. initializing a BertForSequenceClassification model from a BertForPreTraining model).\n",
            "\u001b[2m\u001b[36m(pid=1565)\u001b[0m - This IS NOT expected if you are initializing BertForSequenceClassification from the checkpoint of a model that you expect to be exactly identical (initializing a BertForSequenceClassification model from a BertForSequenceClassification model).\n",
            "\u001b[2m\u001b[36m(pid=1565)\u001b[0m Some weights of BertForSequenceClassification were not initialized from the model checkpoint at bert-base-uncased and are newly initialized: ['classifier.weight', 'classifier.bias']\n",
            "\u001b[2m\u001b[36m(pid=1565)\u001b[0m You should probably TRAIN this model on a down-stream task to be able to use it for predictions and inference.\n"
          ],
          "name": "stderr"
        },
        {
          "output_type": "stream",
          "text": [
            "\u001b[2m\u001b[36m(pid=1565)\u001b[0m Device: cuda\n",
            "\u001b[2m\u001b[36m(pid=1565)\u001b[0m Training loss for epoch 1: 0.6527667092253463\n",
            "\u001b[2m\u001b[36m(pid=1565)\u001b[0m Training loss for epoch 2: 0.5040295574475419\n",
            "\u001b[2m\u001b[36m(pid=1565)\u001b[0m Training loss for epoch 3: 0.34936021926643496\n"
          ],
          "name": "stdout"
        },
        {
          "output_type": "stream",
          "text": [
            "\u001b[2m\u001b[36m(pid=1565)\u001b[0m Some weights of the model checkpoint at bert-base-uncased were not used when initializing BertForSequenceClassification: ['cls.predictions.bias', 'cls.predictions.transform.dense.weight', 'cls.predictions.transform.dense.bias', 'cls.predictions.decoder.weight', 'cls.seq_relationship.weight', 'cls.seq_relationship.bias', 'cls.predictions.transform.LayerNorm.weight', 'cls.predictions.transform.LayerNorm.bias']\n",
            "\u001b[2m\u001b[36m(pid=1565)\u001b[0m - This IS expected if you are initializing BertForSequenceClassification from the checkpoint of a model trained on another task or with another architecture (e.g. initializing a BertForSequenceClassification model from a BertForPreTraining model).\n",
            "\u001b[2m\u001b[36m(pid=1565)\u001b[0m - This IS NOT expected if you are initializing BertForSequenceClassification from the checkpoint of a model that you expect to be exactly identical (initializing a BertForSequenceClassification model from a BertForSequenceClassification model).\n",
            "\u001b[2m\u001b[36m(pid=1565)\u001b[0m Some weights of BertForSequenceClassification were not initialized from the model checkpoint at bert-base-uncased and are newly initialized: ['classifier.weight', 'classifier.bias']\n",
            "\u001b[2m\u001b[36m(pid=1565)\u001b[0m You should probably TRAIN this model on a down-stream task to be able to use it for predictions and inference.\n"
          ],
          "name": "stderr"
        },
        {
          "output_type": "stream",
          "text": [
            "\u001b[2m\u001b[36m(pid=1565)\u001b[0m Device: cuda\n",
            "\u001b[2m\u001b[36m(pid=1565)\u001b[0m Training loss for epoch 1: 0.7127363072200255\n",
            "\u001b[2m\u001b[36m(pid=1565)\u001b[0m Training loss for epoch 2: 0.7042820664367291\n",
            "\u001b[2m\u001b[36m(pid=1565)\u001b[0m Training loss for epoch 3: 0.7051242014976463\n",
            "Result for DEFAULT_f42ecb76:\n",
            "  auc: 0.6939735650222766\n",
            "  date: 2020-12-07_21-50-09\n",
            "  done: true\n",
            "  experiment_id: b9e2b815d8374a1ea2563c20f2f48d60\n",
            "  experiment_tag: 6_batch_size=8,epochs=3,lr=5e-05\n",
            "  hostname: 1a044ccbed2f\n",
            "  iterations_since_restore: 1\n",
            "  loss: 0.7918491258965877\n",
            "  node_ip: 172.28.0.2\n",
            "  pid: 1565\n",
            "  time_since_restore: 306.2473108768463\n",
            "  time_this_iter_s: 306.2473108768463\n",
            "  time_total_s: 306.2473108768463\n",
            "  timestamp: 1607377809\n",
            "  timesteps_since_restore: 0\n",
            "  training_iteration: 1\n",
            "  trial_id: f42ecb76\n",
            "  \n",
            "== Status ==\n",
            "Memory usage on this node: 4.3/12.7 GiB\n",
            "Using AsyncHyperBand: num_stopped=2\n",
            "Bracket: Iter 8.000: None | Iter 4.000: None | Iter 2.000: None | Iter 1.000: -0.6600504345446825\n",
            "Resources requested: 0/2 CPUs, 0/1 GPUs, 0.0/7.18 GiB heap, 0.0/2.44 GiB objects (0/1.0 accelerator_type:T4)\n",
            "Result logdir: /root/ray_results/DEFAULT_2020-12-07_21-22-33\n",
            "Number of trials: 7/8 (1 PENDING, 6 TERMINATED)\n",
            "+------------------+------------+-------+--------------+----------+-------+----------+----------+----------------------+\n",
            "| Trial name       | status     | loc   |   batch_size |   epochs |    lr |     loss |      auc |   training_iteration |\n",
            "|------------------+------------+-------+--------------+----------+-------+----------+----------+----------------------|\n",
            "| DEFAULT_74ceb41c | PENDING    |       |           16 |        4 | 1e-05 |          |          |                      |\n",
            "| DEFAULT_521005aa | TERMINATED |       |           16 |        4 | 2e-05 | 0.723797 | 0.789799 |                    1 |\n",
            "| DEFAULT_5224c030 | TERMINATED |       |           16 |        2 | 2e-05 | 0.568404 | 0.79648  |                    1 |\n",
            "| DEFAULT_2825ec9a | TERMINATED |       |           32 |        2 | 5e-05 | 0.596304 | 0.799917 |                    1 |\n",
            "| DEFAULT_9947feae | TERMINATED |       |            8 |        4 | 3e-05 | 0.942278 | 0.796475 |                    1 |\n",
            "| DEFAULT_018b5aec | TERMINATED |       |            8 |        2 | 2e-05 | 0.574744 | 0.805069 |                    1 |\n",
            "| DEFAULT_f42ecb76 | TERMINATED |       |            8 |        3 | 5e-05 | 0.791849 | 0.693974 |                    1 |\n",
            "+------------------+------------+-------+--------------+----------+-------+----------+----------+----------------------+\n",
            "\n",
            "\n"
          ],
          "name": "stdout"
        },
        {
          "output_type": "stream",
          "text": [
            "\u001b[2m\u001b[36m(pid=1665)\u001b[0m 2020-12-07 21:50:11.864239: I tensorflow/stream_executor/platform/default/dso_loader.cc:48] Successfully opened dynamic library libcudart.so.10.1\n",
            "\u001b[2m\u001b[36m(pid=1665)\u001b[0m Some weights of the model checkpoint at bert-base-uncased were not used when initializing BertForSequenceClassification: ['cls.predictions.bias', 'cls.predictions.transform.dense.weight', 'cls.predictions.transform.dense.bias', 'cls.predictions.decoder.weight', 'cls.seq_relationship.weight', 'cls.seq_relationship.bias', 'cls.predictions.transform.LayerNorm.weight', 'cls.predictions.transform.LayerNorm.bias']\n",
            "\u001b[2m\u001b[36m(pid=1665)\u001b[0m - This IS expected if you are initializing BertForSequenceClassification from the checkpoint of a model trained on another task or with another architecture (e.g. initializing a BertForSequenceClassification model from a BertForPreTraining model).\n",
            "\u001b[2m\u001b[36m(pid=1665)\u001b[0m - This IS NOT expected if you are initializing BertForSequenceClassification from the checkpoint of a model that you expect to be exactly identical (initializing a BertForSequenceClassification model from a BertForSequenceClassification model).\n",
            "\u001b[2m\u001b[36m(pid=1665)\u001b[0m Some weights of BertForSequenceClassification were not initialized from the model checkpoint at bert-base-uncased and are newly initialized: ['classifier.weight', 'classifier.bias']\n",
            "\u001b[2m\u001b[36m(pid=1665)\u001b[0m You should probably TRAIN this model on a down-stream task to be able to use it for predictions and inference.\n"
          ],
          "name": "stderr"
        },
        {
          "output_type": "stream",
          "text": [
            "\u001b[2m\u001b[36m(pid=1665)\u001b[0m Device: cuda\n",
            "\u001b[2m\u001b[36m(pid=1665)\u001b[0m Training loss for epoch 1: 0.6745161582725216\n",
            "\u001b[2m\u001b[36m(pid=1665)\u001b[0m Training loss for epoch 2: 0.58263214128186\n",
            "\u001b[2m\u001b[36m(pid=1665)\u001b[0m Training loss for epoch 3: 0.47433577703707147\n",
            "\u001b[2m\u001b[36m(pid=1665)\u001b[0m Training loss for epoch 4: 0.35387815730740324\n"
          ],
          "name": "stdout"
        },
        {
          "output_type": "stream",
          "text": [
            "\u001b[2m\u001b[36m(pid=1665)\u001b[0m Some weights of the model checkpoint at bert-base-uncased were not used when initializing BertForSequenceClassification: ['cls.predictions.bias', 'cls.predictions.transform.dense.weight', 'cls.predictions.transform.dense.bias', 'cls.predictions.decoder.weight', 'cls.seq_relationship.weight', 'cls.seq_relationship.bias', 'cls.predictions.transform.LayerNorm.weight', 'cls.predictions.transform.LayerNorm.bias']\n",
            "\u001b[2m\u001b[36m(pid=1665)\u001b[0m - This IS expected if you are initializing BertForSequenceClassification from the checkpoint of a model trained on another task or with another architecture (e.g. initializing a BertForSequenceClassification model from a BertForPreTraining model).\n",
            "\u001b[2m\u001b[36m(pid=1665)\u001b[0m - This IS NOT expected if you are initializing BertForSequenceClassification from the checkpoint of a model that you expect to be exactly identical (initializing a BertForSequenceClassification model from a BertForSequenceClassification model).\n",
            "\u001b[2m\u001b[36m(pid=1665)\u001b[0m Some weights of BertForSequenceClassification were not initialized from the model checkpoint at bert-base-uncased and are newly initialized: ['classifier.weight', 'classifier.bias']\n",
            "\u001b[2m\u001b[36m(pid=1665)\u001b[0m You should probably TRAIN this model on a down-stream task to be able to use it for predictions and inference.\n"
          ],
          "name": "stderr"
        },
        {
          "output_type": "stream",
          "text": [
            "\u001b[2m\u001b[36m(pid=1665)\u001b[0m Device: cuda\n",
            "\u001b[2m\u001b[36m(pid=1665)\u001b[0m Training loss for epoch 1: 0.6741337216261661\n",
            "\u001b[2m\u001b[36m(pid=1665)\u001b[0m Training loss for epoch 2: 0.5670615838031576\n",
            "\u001b[2m\u001b[36m(pid=1665)\u001b[0m Training loss for epoch 3: 0.4313579820322268\n",
            "\u001b[2m\u001b[36m(pid=1665)\u001b[0m Training loss for epoch 4: 0.27681715658517797\n"
          ],
          "name": "stdout"
        },
        {
          "output_type": "stream",
          "text": [
            "\u001b[2m\u001b[36m(pid=1665)\u001b[0m Some weights of the model checkpoint at bert-base-uncased were not used when initializing BertForSequenceClassification: ['cls.predictions.bias', 'cls.predictions.transform.dense.weight', 'cls.predictions.transform.dense.bias', 'cls.predictions.decoder.weight', 'cls.seq_relationship.weight', 'cls.seq_relationship.bias', 'cls.predictions.transform.LayerNorm.weight', 'cls.predictions.transform.LayerNorm.bias']\n",
            "\u001b[2m\u001b[36m(pid=1665)\u001b[0m - This IS expected if you are initializing BertForSequenceClassification from the checkpoint of a model trained on another task or with another architecture (e.g. initializing a BertForSequenceClassification model from a BertForPreTraining model).\n",
            "\u001b[2m\u001b[36m(pid=1665)\u001b[0m - This IS NOT expected if you are initializing BertForSequenceClassification from the checkpoint of a model that you expect to be exactly identical (initializing a BertForSequenceClassification model from a BertForSequenceClassification model).\n",
            "\u001b[2m\u001b[36m(pid=1665)\u001b[0m Some weights of BertForSequenceClassification were not initialized from the model checkpoint at bert-base-uncased and are newly initialized: ['classifier.weight', 'classifier.bias']\n",
            "\u001b[2m\u001b[36m(pid=1665)\u001b[0m You should probably TRAIN this model on a down-stream task to be able to use it for predictions and inference.\n"
          ],
          "name": "stderr"
        },
        {
          "output_type": "stream",
          "text": [
            "\u001b[2m\u001b[36m(pid=1665)\u001b[0m Device: cuda\n",
            "\u001b[2m\u001b[36m(pid=1665)\u001b[0m Training loss for epoch 1: 0.6640467463117657\n",
            "\u001b[2m\u001b[36m(pid=1665)\u001b[0m Training loss for epoch 2: 0.5514544359963349\n",
            "\u001b[2m\u001b[36m(pid=1665)\u001b[0m Training loss for epoch 3: 0.42982620648061387\n",
            "\u001b[2m\u001b[36m(pid=1665)\u001b[0m Training loss for epoch 4: 0.32079635124013883\n",
            "Result for DEFAULT_74ceb41c:\n",
            "  auc: 0.7684222258419061\n",
            "  date: 2020-12-07_21-56-08\n",
            "  done: false\n",
            "  experiment_id: 6541a540e7594a918fc7448428f33228\n",
            "  experiment_tag: 7_batch_size=16,epochs=4,lr=1e-05\n",
            "  hostname: 1a044ccbed2f\n",
            "  iterations_since_restore: 1\n",
            "  loss: 0.6195048225546876\n",
            "  node_ip: 172.28.0.2\n",
            "  pid: 1665\n",
            "  time_since_restore: 354.8464059829712\n",
            "  time_this_iter_s: 354.8464059829712\n",
            "  time_total_s: 354.8464059829712\n",
            "  timestamp: 1607378168\n",
            "  timesteps_since_restore: 0\n",
            "  training_iteration: 1\n",
            "  trial_id: 74ceb41c\n",
            "  \n",
            "== Status ==\n",
            "Memory usage on this node: 4.2/12.7 GiB\n",
            "Using AsyncHyperBand: num_stopped=2\n",
            "Bracket: Iter 8.000: None | Iter 4.000: None | Iter 2.000: None | Iter 1.000: -0.6195048225546876\n",
            "Resources requested: 2/2 CPUs, 1/1 GPUs, 0.0/7.18 GiB heap, 0.0/2.44 GiB objects (0/1.0 accelerator_type:T4)\n",
            "Result logdir: /root/ray_results/DEFAULT_2020-12-07_21-22-33\n",
            "Number of trials: 8/8 (1 PENDING, 1 RUNNING, 6 TERMINATED)\n",
            "+------------------+------------+-----------------+--------------+----------+-------+----------+----------+----------------------+\n",
            "| Trial name       | status     | loc             |   batch_size |   epochs |    lr |     loss |      auc |   training_iteration |\n",
            "|------------------+------------+-----------------+--------------+----------+-------+----------+----------+----------------------|\n",
            "| DEFAULT_74ceb41c | RUNNING    | 172.28.0.2:1665 |           16 |        4 | 1e-05 | 0.619505 | 0.768422 |                    1 |\n",
            "| DEFAULT_2d5a4212 | PENDING    |                 |           16 |        3 | 3e-05 |          |          |                      |\n",
            "| DEFAULT_521005aa | TERMINATED |                 |           16 |        4 | 2e-05 | 0.723797 | 0.789799 |                    1 |\n",
            "| DEFAULT_5224c030 | TERMINATED |                 |           16 |        2 | 2e-05 | 0.568404 | 0.79648  |                    1 |\n",
            "| DEFAULT_2825ec9a | TERMINATED |                 |           32 |        2 | 5e-05 | 0.596304 | 0.799917 |                    1 |\n",
            "| DEFAULT_9947feae | TERMINATED |                 |            8 |        4 | 3e-05 | 0.942278 | 0.796475 |                    1 |\n",
            "| DEFAULT_018b5aec | TERMINATED |                 |            8 |        2 | 2e-05 | 0.574744 | 0.805069 |                    1 |\n",
            "| DEFAULT_f42ecb76 | TERMINATED |                 |            8 |        3 | 5e-05 | 0.791849 | 0.693974 |                    1 |\n",
            "+------------------+------------+-----------------+--------------+----------+-------+----------+----------+----------------------+\n",
            "\n",
            "\n"
          ],
          "name": "stdout"
        },
        {
          "output_type": "stream",
          "text": [
            "\u001b[2m\u001b[36m(pid=1721)\u001b[0m 2020-12-07 21:56:09.999956: I tensorflow/stream_executor/platform/default/dso_loader.cc:48] Successfully opened dynamic library libcudart.so.10.1\n",
            "\u001b[2m\u001b[36m(pid=1721)\u001b[0m Some weights of the model checkpoint at bert-base-uncased were not used when initializing BertForSequenceClassification: ['cls.predictions.bias', 'cls.predictions.transform.dense.weight', 'cls.predictions.transform.dense.bias', 'cls.predictions.decoder.weight', 'cls.seq_relationship.weight', 'cls.seq_relationship.bias', 'cls.predictions.transform.LayerNorm.weight', 'cls.predictions.transform.LayerNorm.bias']\n",
            "\u001b[2m\u001b[36m(pid=1721)\u001b[0m - This IS expected if you are initializing BertForSequenceClassification from the checkpoint of a model trained on another task or with another architecture (e.g. initializing a BertForSequenceClassification model from a BertForPreTraining model).\n",
            "\u001b[2m\u001b[36m(pid=1721)\u001b[0m - This IS NOT expected if you are initializing BertForSequenceClassification from the checkpoint of a model that you expect to be exactly identical (initializing a BertForSequenceClassification model from a BertForSequenceClassification model).\n",
            "\u001b[2m\u001b[36m(pid=1721)\u001b[0m Some weights of BertForSequenceClassification were not initialized from the model checkpoint at bert-base-uncased and are newly initialized: ['classifier.weight', 'classifier.bias']\n",
            "\u001b[2m\u001b[36m(pid=1721)\u001b[0m You should probably TRAIN this model on a down-stream task to be able to use it for predictions and inference.\n"
          ],
          "name": "stderr"
        },
        {
          "output_type": "stream",
          "text": [
            "\u001b[2m\u001b[36m(pid=1721)\u001b[0m Device: cuda\n",
            "\u001b[2m\u001b[36m(pid=1721)\u001b[0m Training loss for epoch 1: 0.6219169512541607\n",
            "\u001b[2m\u001b[36m(pid=1721)\u001b[0m Training loss for epoch 2: 0.43349605407377684\n",
            "\u001b[2m\u001b[36m(pid=1721)\u001b[0m Training loss for epoch 3: 0.24190773585378522\n"
          ],
          "name": "stdout"
        },
        {
          "output_type": "stream",
          "text": [
            "\u001b[2m\u001b[36m(pid=1721)\u001b[0m Some weights of the model checkpoint at bert-base-uncased were not used when initializing BertForSequenceClassification: ['cls.predictions.bias', 'cls.predictions.transform.dense.weight', 'cls.predictions.transform.dense.bias', 'cls.predictions.decoder.weight', 'cls.seq_relationship.weight', 'cls.seq_relationship.bias', 'cls.predictions.transform.LayerNorm.weight', 'cls.predictions.transform.LayerNorm.bias']\n",
            "\u001b[2m\u001b[36m(pid=1721)\u001b[0m - This IS expected if you are initializing BertForSequenceClassification from the checkpoint of a model trained on another task or with another architecture (e.g. initializing a BertForSequenceClassification model from a BertForPreTraining model).\n",
            "\u001b[2m\u001b[36m(pid=1721)\u001b[0m - This IS NOT expected if you are initializing BertForSequenceClassification from the checkpoint of a model that you expect to be exactly identical (initializing a BertForSequenceClassification model from a BertForSequenceClassification model).\n",
            "\u001b[2m\u001b[36m(pid=1721)\u001b[0m Some weights of BertForSequenceClassification were not initialized from the model checkpoint at bert-base-uncased and are newly initialized: ['classifier.weight', 'classifier.bias']\n",
            "\u001b[2m\u001b[36m(pid=1721)\u001b[0m You should probably TRAIN this model on a down-stream task to be able to use it for predictions and inference.\n"
          ],
          "name": "stderr"
        },
        {
          "output_type": "stream",
          "text": [
            "\u001b[2m\u001b[36m(pid=1721)\u001b[0m Device: cuda\n",
            "\u001b[2m\u001b[36m(pid=1721)\u001b[0m Training loss for epoch 1: 0.6424132425977727\n",
            "\u001b[2m\u001b[36m(pid=1721)\u001b[0m Training loss for epoch 2: 0.4624850241222767\n",
            "\u001b[2m\u001b[36m(pid=1721)\u001b[0m Training loss for epoch 3: 0.2629095058925826\n"
          ],
          "name": "stdout"
        },
        {
          "output_type": "stream",
          "text": [
            "\u001b[2m\u001b[36m(pid=1721)\u001b[0m Some weights of the model checkpoint at bert-base-uncased were not used when initializing BertForSequenceClassification: ['cls.predictions.bias', 'cls.predictions.transform.dense.weight', 'cls.predictions.transform.dense.bias', 'cls.predictions.decoder.weight', 'cls.seq_relationship.weight', 'cls.seq_relationship.bias', 'cls.predictions.transform.LayerNorm.weight', 'cls.predictions.transform.LayerNorm.bias']\n",
            "\u001b[2m\u001b[36m(pid=1721)\u001b[0m - This IS expected if you are initializing BertForSequenceClassification from the checkpoint of a model trained on another task or with another architecture (e.g. initializing a BertForSequenceClassification model from a BertForPreTraining model).\n",
            "\u001b[2m\u001b[36m(pid=1721)\u001b[0m - This IS NOT expected if you are initializing BertForSequenceClassification from the checkpoint of a model that you expect to be exactly identical (initializing a BertForSequenceClassification model from a BertForSequenceClassification model).\n",
            "\u001b[2m\u001b[36m(pid=1721)\u001b[0m Some weights of BertForSequenceClassification were not initialized from the model checkpoint at bert-base-uncased and are newly initialized: ['classifier.weight', 'classifier.bias']\n",
            "\u001b[2m\u001b[36m(pid=1721)\u001b[0m You should probably TRAIN this model on a down-stream task to be able to use it for predictions and inference.\n"
          ],
          "name": "stderr"
        },
        {
          "output_type": "stream",
          "text": [
            "\u001b[2m\u001b[36m(pid=1721)\u001b[0m Device: cuda\n",
            "\u001b[2m\u001b[36m(pid=1721)\u001b[0m Training loss for epoch 1: 0.6515685322910848\n",
            "\u001b[2m\u001b[36m(pid=1721)\u001b[0m Training loss for epoch 2: 0.4735053219277449\n",
            "\u001b[2m\u001b[36m(pid=1721)\u001b[0m Training loss for epoch 3: 0.2638683040635754\n"
          ],
          "name": "stdout"
        },
        {
          "output_type": "stream",
          "text": [
            "2020-12-07 22:00:43,753\tINFO tune.py:439 -- Total run time: 2293.49 seconds (2290.13 seconds for the tuning loop).\n"
          ],
          "name": "stderr"
        },
        {
          "output_type": "stream",
          "text": [
            "Result for DEFAULT_2d5a4212:\n",
            "  auc: 0.793940510936234\n",
            "  date: 2020-12-07_22-00-43\n",
            "  done: true\n",
            "  experiment_id: bb3b5d43ad8a423c9d85d986b06ecea1\n",
            "  experiment_tag: 8_batch_size=16,epochs=3,lr=3e-05\n",
            "  hostname: 1a044ccbed2f\n",
            "  iterations_since_restore: 1\n",
            "  loss: 0.6683696124785476\n",
            "  node_ip: 172.28.0.2\n",
            "  pid: 1721\n",
            "  time_since_restore: 272.3134183883667\n",
            "  time_this_iter_s: 272.3134183883667\n",
            "  time_total_s: 272.3134183883667\n",
            "  timestamp: 1607378443\n",
            "  timesteps_since_restore: 0\n",
            "  training_iteration: 1\n",
            "  trial_id: 2d5a4212\n",
            "  \n",
            "== Status ==\n",
            "Memory usage on this node: 4.2/12.7 GiB\n",
            "Using AsyncHyperBand: num_stopped=3\n",
            "Bracket: Iter 8.000: None | Iter 4.000: None | Iter 2.000: None | Iter 1.000: -0.6439372175166176\n",
            "Resources requested: 0/2 CPUs, 0/1 GPUs, 0.0/7.18 GiB heap, 0.0/2.44 GiB objects (0/1.0 accelerator_type:T4)\n",
            "Result logdir: /root/ray_results/DEFAULT_2020-12-07_21-22-33\n",
            "Number of trials: 8/8 (8 TERMINATED)\n",
            "+------------------+------------+-------+--------------+----------+-------+----------+----------+----------------------+\n",
            "| Trial name       | status     | loc   |   batch_size |   epochs |    lr |     loss |      auc |   training_iteration |\n",
            "|------------------+------------+-------+--------------+----------+-------+----------+----------+----------------------|\n",
            "| DEFAULT_521005aa | TERMINATED |       |           16 |        4 | 2e-05 | 0.723797 | 0.789799 |                    1 |\n",
            "| DEFAULT_5224c030 | TERMINATED |       |           16 |        2 | 2e-05 | 0.568404 | 0.79648  |                    1 |\n",
            "| DEFAULT_2825ec9a | TERMINATED |       |           32 |        2 | 5e-05 | 0.596304 | 0.799917 |                    1 |\n",
            "| DEFAULT_9947feae | TERMINATED |       |            8 |        4 | 3e-05 | 0.942278 | 0.796475 |                    1 |\n",
            "| DEFAULT_018b5aec | TERMINATED |       |            8 |        2 | 2e-05 | 0.574744 | 0.805069 |                    1 |\n",
            "| DEFAULT_f42ecb76 | TERMINATED |       |            8 |        3 | 5e-05 | 0.791849 | 0.693974 |                    1 |\n",
            "| DEFAULT_74ceb41c | TERMINATED |       |           16 |        4 | 1e-05 | 0.619505 | 0.768422 |                    1 |\n",
            "| DEFAULT_2d5a4212 | TERMINATED |       |           16 |        3 | 3e-05 | 0.66837  | 0.793941 |                    1 |\n",
            "+------------------+------------+-------+--------------+----------+-------+----------+----------+----------------------+\n",
            "\n",
            "\n",
            "== Status ==\n",
            "Memory usage on this node: 4.2/12.7 GiB\n",
            "Using AsyncHyperBand: num_stopped=3\n",
            "Bracket: Iter 8.000: None | Iter 4.000: None | Iter 2.000: None | Iter 1.000: -0.6439372175166176\n",
            "Resources requested: 0/2 CPUs, 0/1 GPUs, 0.0/7.18 GiB heap, 0.0/2.44 GiB objects (0/1.0 accelerator_type:T4)\n",
            "Result logdir: /root/ray_results/DEFAULT_2020-12-07_21-22-33\n",
            "Number of trials: 8/8 (8 TERMINATED)\n",
            "+------------------+------------+-------+--------------+----------+-------+----------+----------+----------------------+\n",
            "| Trial name       | status     | loc   |   batch_size |   epochs |    lr |     loss |      auc |   training_iteration |\n",
            "|------------------+------------+-------+--------------+----------+-------+----------+----------+----------------------|\n",
            "| DEFAULT_521005aa | TERMINATED |       |           16 |        4 | 2e-05 | 0.723797 | 0.789799 |                    1 |\n",
            "| DEFAULT_5224c030 | TERMINATED |       |           16 |        2 | 2e-05 | 0.568404 | 0.79648  |                    1 |\n",
            "| DEFAULT_2825ec9a | TERMINATED |       |           32 |        2 | 5e-05 | 0.596304 | 0.799917 |                    1 |\n",
            "| DEFAULT_9947feae | TERMINATED |       |            8 |        4 | 3e-05 | 0.942278 | 0.796475 |                    1 |\n",
            "| DEFAULT_018b5aec | TERMINATED |       |            8 |        2 | 2e-05 | 0.574744 | 0.805069 |                    1 |\n",
            "| DEFAULT_f42ecb76 | TERMINATED |       |            8 |        3 | 5e-05 | 0.791849 | 0.693974 |                    1 |\n",
            "| DEFAULT_74ceb41c | TERMINATED |       |           16 |        4 | 1e-05 | 0.619505 | 0.768422 |                    1 |\n",
            "| DEFAULT_2d5a4212 | TERMINATED |       |           16 |        3 | 3e-05 | 0.66837  | 0.793941 |                    1 |\n",
            "+------------------+------------+-------+--------------+----------+-------+----------+----------+----------------------+\n",
            "\n",
            "\n"
          ],
          "name": "stdout"
        }
      ]
    },
    {
      "cell_type": "code",
      "metadata": {
        "colab": {
          "base_uri": "https://localhost:8080/",
          "height": 296
        },
        "id": "uyn5bvPkOBKD",
        "outputId": "a9676b41-f8ad-4c3a-bb06-c1865013c737"
      },
      "source": [
        "dfs = result.fetch_trial_dataframes()\n",
        "\n",
        "aucs = []\n",
        "losses = []\n",
        "for d in dfs.values():\n",
        "  aucs.append(d.auc)\n",
        "  losses.append(d.loss)\n",
        "\n",
        "plt.plot(range(0, 8), aucs, label=\"AUC\")\n",
        "plt.plot(range(0, 8), losses, label=\"Loss\")\n",
        "plt.legend()\n",
        "plt.xlabel(\"Trial No.\")\n",
        "plt.ylabel(\"Score\")\n"
      ],
      "execution_count": 12,
      "outputs": [
        {
          "output_type": "execute_result",
          "data": {
            "text/plain": [
              "Text(0, 0.5, 'Score')"
            ]
          },
          "metadata": {
            "tags": []
          },
          "execution_count": 12
        },
        {
          "output_type": "display_data",
          "data": {
            "image/png": "[encoded data removed]",
            "text/plain": [
              "<Figure size 432x288 with 1 Axes>"
            ]
          },
          "metadata": {
            "tags": [],
            "needs_background": "light"
          }
        }
      ]
    },
    {
      "cell_type": "markdown",
      "metadata": {
        "id": "zJ_8nj1gQ-ZN"
      },
      "source": [
        "best candidates appear to come from trials 1 & 4.\n",
        "let's evaluate both"
      ]
    },
    {
      "cell_type": "code",
      "metadata": {
        "id": "YX_eyd6dRFIP"
      },
      "source": [
        "def train(model, epochs, train_dataloader, test_dataloader, optimizer, scheduler):\n",
        "  for epoch in tqdm(range(1, epochs+1)): # use tqdm for a progress bar\n",
        "    model.train() # enter training mode\n",
        "    loss_train_total = 0\n",
        "\n",
        "    progress_bar = tqdm(train_dataloader, desc=f'Epoch {epoch}', leave=False, disable=False)\n",
        "    for batch in progress_bar:\n",
        "        model.zero_grad()\n",
        "        \n",
        "        # get CUDA data\n",
        "        batch = tuple(b.to(device) for b in batch)\n",
        "        \n",
        "        inputs = {\n",
        "            'input_ids':      batch[0],\n",
        "            'attention_mask': batch[1],\n",
        "            'labels':         batch[2],\n",
        "        }\n",
        "\n",
        "        outputs = model(**inputs) # evaluate\n",
        "        \n",
        "        # for reference, we are using cross-entropy loss here,\n",
        "        # as implemented in https://huggingface.co/transformers/_modules/transformers/modeling_bert.html\n",
        "        loss = outputs[0]\n",
        "        loss_train_total += loss.item()\n",
        "        loss.backward() # do backprop\n",
        "\n",
        "        torch.nn.utils.clip_grad_norm_(model.parameters(), 1.0)\n",
        "\n",
        "        optimizer.step()\n",
        "        scheduler.step()\n",
        "        \n",
        "        progress_bar.set_postfix({'training_loss': '{:.3f}'.format(loss.item()/len(batch))})\n",
        "          \n",
        "        \n",
        "    torch.save(model.state_dict(), f'/content/drive/MyDrive/finetuned_BERT_epoch_{epoch}.model')\n",
        "        \n",
        "    tqdm.write(f'\\nEpoch {epoch}')\n",
        "    \n",
        "    loss_train_avg = loss_train_total/len(train_dataloader)            \n",
        "    tqdm.write(f'Training loss: {loss_train_avg}')\n",
        "    \n",
        "    val_loss, predictions, true_vals = evaluate(model, test_dataloader, device)\n",
        "    auc = auc_score(predictions, true_vals)\n",
        "    tqdm.write(f'Testing loss: {val_loss}')\n",
        "    tqdm.write(f'AUC: {auc}')\n",
        "\n",
        "tokenizer = BertTokenizer.from_pretrained('bert-base-uncased', \n",
        "                                          do_lower_case=True)"
      ],
      "execution_count": 13,
      "outputs": []
    },
    {
      "cell_type": "code",
      "metadata": {
        "id": "6lt5Tp79SaXm"
      },
      "source": [
        "def new_train_test_split(dataset_clf):\n",
        "  X_train, X_val, y_train, y_val = train_test_split(dataset_clf.index.values, \n",
        "                                                    dataset_clf.label.values, \n",
        "                                                    test_size=0.15, \n",
        "                                                    random_state=42, \n",
        "                                                    stratify=dataset_clf.label.values)\n",
        "\n",
        "  dataset_clf['data_type'] = ['not_set']*dataset_final.shape[0]\n",
        "\n",
        "  dataset_clf.loc[X_train, 'data_type'] = 'train'\n",
        "  dataset_clf.loc[X_val, 'data_type'] = 'test'\n",
        "\n",
        "  # dataset_train = dataset_clf.loc[dataset_clf.data_type == 'train']\n",
        "  # dataset_test = dataset_clf.loc[dataset_clf.data_type == 'test']"
      ],
      "execution_count": 17,
      "outputs": []
    },
    {
      "cell_type": "code",
      "metadata": {
        "colab": {
          "base_uri": "https://localhost:8080/"
        },
        "id": "-Gjc8Pg1XgjS",
        "outputId": "64c1f0e9-b328-4828-8ba7-44fb6aa3a5d9"
      },
      "source": [
        "new_train_test_split(dataset_clf)"
      ],
      "execution_count": 31,
      "outputs": [
        {
          "output_type": "stream",
          "text": [
            "/usr/local/lib/python3.6/dist-packages/ipykernel_launcher.py:8: SettingWithCopyWarning: \n",
            "A value is trying to be set on a copy of a slice from a DataFrame.\n",
            "Try using .loc[row_indexer,col_indexer] = value instead\n",
            "\n",
            "See the caveats in the documentation: https://pandas.pydata.org/pandas-docs/stable/user_guide/indexing.html#returning-a-view-versus-a-copy\n",
            "  \n",
            "/usr/local/lib/python3.6/dist-packages/pandas/core/indexing.py:1763: SettingWithCopyWarning: \n",
            "A value is trying to be set on a copy of a slice from a DataFrame.\n",
            "Try using .loc[row_indexer,col_indexer] = value instead\n",
            "\n",
            "See the caveats in the documentation: https://pandas.pydata.org/pandas-docs/stable/user_guide/indexing.html#returning-a-view-versus-a-copy\n",
            "  isetter(loc, value)\n"
          ],
          "name": "stderr"
        }
      ]
    },
    {
      "cell_type": "code",
      "metadata": {
        "colab": {
          "base_uri": "https://localhost:8080/",
          "height": 341,
          "referenced_widgets": [
            "ff073f8ba86c4b2bb38fc5bc0fbccf7e",
            "ab18698b5c4249cd9fd01356e6cb96c0",
            "49fd37b238094b3b83dbeae3683ce7cf",
            "938e35b03c194aa2887b74e0a3db34b5",
            "559e3b5ab8984b9bb8a5ff65079d1d6c",
            "38772bfa604a4b64956f65cf91bf890f",
            "74a49679c97d4375853b070d5079e336",
            "25a70c69e0f144ab9305c596291cbb22",
            "ce5ff017c53e448896e48fa6202ed538",
            "a497672500fc4ebd875ce3c4e90d38bc",
            "bbcd9558b3f84d28a0fb840d27fc75d5",
            "adf722a7c1b14bd6b9cfcac5ad8200a9",
            "4d3e673d873d4aa388f76c8374f50975",
            "5d632621759943bf836805e43b139b62",
            "9d192c19ee964b7fa1ebcc6efa368336",
            "d2ca444e016742279b12e9bfa8d60031",
            "8470eccd57094091b71c9a4b83d2dd83",
            "6f81eb55495f4151962e3198b02847bd",
            "5153d3d5f58f4e9da068a8eec51db47d",
            "ff253bee514448c49e0d0c529d1ef2ae",
            "1c9a84a696664d07b96b1e3d0795da9d",
            "a03a6bb015294441a72592fac6379e72",
            "45abf77998cb406798100d340b72e465",
            "fe1c0ebdbc68406c87c74be9d1e98fc4"
          ]
        },
        "id": "MCBTpyeZUees",
        "outputId": "a96890b1-06df-4bbe-fa1a-a363d01d8daa"
      },
      "source": [
        "# trial 1\n",
        "# |  batch_size |   epochs |          lr |\n",
        "# |          16 |        2 |       2e-05 |\n",
        "\n",
        "import random\n",
        "\n",
        "seed_val = 42\n",
        "random.seed(seed_val)\n",
        "np.random.seed(seed_val)\n",
        "torch.manual_seed(seed_val)\n",
        "torch.cuda.manual_seed_all(seed_val)\n",
        "\n",
        "device = torch.device('cuda' if torch.cuda.is_available() else 'cpu')\n",
        "\n",
        "EPOCHS = 2\n",
        "BATCH_SIZE = 16\n",
        "lr = 2e-5\n",
        "\n",
        "\n",
        "train_dataloader, test_dataloader = get_dataloaders(dataset_clf, BATCH_SIZE)\n",
        "\n",
        "model = BertForSequenceClassification.from_pretrained(\"bert-base-uncased\",\n",
        "                                                    num_labels=2,\n",
        "                                                    output_attentions=False,\n",
        "                                                    output_hidden_states=False)\n",
        "\n",
        "optimizer = AdamW(model.parameters(),\n",
        "                  lr=lr,\n",
        "                  eps=1e-8)\n",
        "scheduler = get_linear_schedule_with_warmup(optimizer,\n",
        "                                            num_warmup_steps=0, \n",
        "                                            num_training_steps=len(train_dataloader)*EPOCHS)\n",
        "model.to(device)\n",
        "\n",
        "train(model, EPOCHS, train_dataloader, test_dataloader, optimizer, scheduler)\n",
        "test_loss, preds, labels = evaluate(model, test_dataloader, device)"
      ],
      "execution_count": 32,
      "outputs": [
        {
          "output_type": "stream",
          "text": [
            "Some weights of the model checkpoint at bert-base-uncased were not used when initializing BertForSequenceClassification: ['cls.predictions.bias', 'cls.predictions.transform.dense.weight', 'cls.predictions.transform.dense.bias', 'cls.predictions.decoder.weight', 'cls.seq_relationship.weight', 'cls.seq_relationship.bias', 'cls.predictions.transform.LayerNorm.weight', 'cls.predictions.transform.LayerNorm.bias']\n",
            "- This IS expected if you are initializing BertForSequenceClassification from the checkpoint of a model trained on another task or with another architecture (e.g. initializing a BertForSequenceClassification model from a BertForPreTraining model).\n",
            "- This IS NOT expected if you are initializing BertForSequenceClassification from the checkpoint of a model that you expect to be exactly identical (initializing a BertForSequenceClassification model from a BertForSequenceClassification model).\n",
            "Some weights of BertForSequenceClassification were not initialized from the model checkpoint at bert-base-uncased and are newly initialized: ['classifier.weight', 'classifier.bias']\n",
            "You should probably TRAIN this model on a down-stream task to be able to use it for predictions and inference.\n"
          ],
          "name": "stderr"
        },
        {
          "output_type": "display_data",
          "data": {
            "application/vnd.jupyter.widget-view+json": {
              "model_id": "ff073f8ba86c4b2bb38fc5bc0fbccf7e",
              "version_minor": 0,
              "version_major": 2
            },
            "text/plain": [
              "HBox(children=(FloatProgress(value=0.0, max=2.0), HTML(value='')))"
            ]
          },
          "metadata": {
            "tags": []
          }
        },
        {
          "output_type": "display_data",
          "data": {
            "application/vnd.jupyter.widget-view+json": {
              "model_id": "ce5ff017c53e448896e48fa6202ed538",
              "version_minor": 0,
              "version_major": 2
            },
            "text/plain": [
              "HBox(children=(FloatProgress(value=0.0, description='Epoch 1', max=126.0, style=ProgressStyle(description_widt…"
            ]
          },
          "metadata": {
            "tags": []
          }
        },
        {
          "output_type": "stream",
          "text": [
            "\r\r\n",
            "Epoch 1\n",
            "Training loss: 0.6181272949491229\n",
            "Testing loss: 0.5496365648248921\n",
            "AUC: 0.8155716832187421\n"
          ],
          "name": "stdout"
        },
        {
          "output_type": "display_data",
          "data": {
            "application/vnd.jupyter.widget-view+json": {
              "model_id": "8470eccd57094091b71c9a4b83d2dd83",
              "version_minor": 0,
              "version_major": 2
            },
            "text/plain": [
              "HBox(children=(FloatProgress(value=0.0, description='Epoch 2', max=126.0, style=ProgressStyle(description_widt…"
            ]
          },
          "metadata": {
            "tags": []
          }
        },
        {
          "output_type": "stream",
          "text": [
            "\r\r\n",
            "Epoch 2\n",
            "Training loss: 0.47342666061151595\n",
            "Testing loss: 0.5491808601047682\n",
            "AUC: 0.8301502419149478\n",
            "\n"
          ],
          "name": "stdout"
        }
      ]
    },
    {
      "cell_type": "code",
      "metadata": {
        "colab": {
          "base_uri": "https://localhost:8080/",
          "height": 333
        },
        "id": "mHnh2DuhbXVH",
        "outputId": "a3a1fd95-1f5e-4102-e073-a5c69d6a67d4"
      },
      "source": [
        "print(f\"Accuracy: {accuracy_score(labels, np.argmax(preds, axis=1))}\")\n",
        "print(f\"AUC Score: {auc_score(preds, labels)}\")\n",
        "print(f\"Test loss: {test_loss}\")\n",
        "sns.heatmap(confusion_matrix(labels, np.argmax(preds, axis=1)), annot=True, fmt=\"d\")"
      ],
      "execution_count": 35,
      "outputs": [
        {
          "output_type": "stream",
          "text": [
            "Accuracy: 0.752112676056338\n",
            "AUC Score: 0.8301502419149478\n",
            "Test loss: 0.5491808601047682\n"
          ],
          "name": "stdout"
        },
        {
          "output_type": "execute_result",
          "data": {
            "text/plain": [
              "<matplotlib.axes._subplots.AxesSubplot at 0x7f3e6051d630>"
            ]
          },
          "metadata": {
            "tags": []
          },
          "execution_count": 35
        },
        {
          "output_type": "display_data",
          "data": {
            "image/png": "[encoded data removed]",
            "text/plain": [
              "<Figure size 432x288 with 2 Axes>"
            ]
          },
          "metadata": {
            "tags": [],
            "needs_background": "light"
          }
        }
      ]
    },
    {
      "cell_type": "code",
      "metadata": {
        "colab": {
          "base_uri": "https://localhost:8080/",
          "height": 341,
          "referenced_widgets": [
            "234c91fb81124f8fa8c0efc8e79cc001",
            "69a23181ed79402598eb7f35780c0d2a",
            "5c7d0f33c3414e80a0bae8cf266562e2",
            "af2aeccd17ec4f549292f2a3afc6df46",
            "ec89f7e466874d5aae082f927c68ae10",
            "624457daf6eb4b32a8760d6a59d4b47c",
            "e02dbff9dda948fcbe6b0cc6a10c395d",
            "b72f1a0ff4d341209087abfd7d3cf71f",
            "077b30dcc7bc426da76ce0d337fdd886",
            "6851db4b5a2a46d0911bd2213b8c0a1c",
            "eaf4090f832e46bfb071c11e8225a869",
            "a45f14d68397455cbe2586c7f6bbb20e",
            "2ca5a01f27f34ff086605a0c6d1a7feb",
            "18818163ba7b40a597b68c12967158f6",
            "0d051657b0cb41feb67b34c91c9fc88b",
            "b51c76ae0c2146b194d32da2943e8e2c",
            "8d08abc16e3e41f2bdb2c0b6836f6f0e",
            "259ecdaf1cfd4f5194f8bffa03421267",
            "06a27f0121fa4013a11cd0d76f3a9718",
            "22b0b4b9a830406789b1076faf3d831f",
            "f7c489ab787746ce9381d3b841ae4adb",
            "b6a08e3d4e8a4d90a3668f50695527b4",
            "1a6ddf54644b4a58a701bab1613aaefe",
            "ed4385a4558143c8b60d1eb068204c64"
          ]
        },
        "id": "2mD-hJ9hV0Hp",
        "outputId": "d731715b-2aef-4c84-fea2-e4dd6cb0830f"
      },
      "source": [
        "# trial 4\n",
        "# |  batch_size |   epochs |          lr |\n",
        "# |           8 |        2 |       2e-05 |\n",
        "\n",
        "import random\n",
        "\n",
        "seed_val = 42\n",
        "random.seed(seed_val)\n",
        "np.random.seed(seed_val)\n",
        "torch.manual_seed(seed_val)\n",
        "torch.cuda.manual_seed_all(seed_val)\n",
        "\n",
        "device = torch.device('cuda' if torch.cuda.is_available() else 'cpu')\n",
        "\n",
        "EPOCHS = 2\n",
        "BATCH_SIZE = 8\n",
        "lr = 2e-5\n",
        "\n",
        "\n",
        "train_dataloader, test_dataloader = get_dataloaders(dataset_clf, BATCH_SIZE)\n",
        "\n",
        "model = BertForSequenceClassification.from_pretrained(\"bert-base-uncased\",\n",
        "                                                    num_labels=2,\n",
        "                                                    output_attentions=False,\n",
        "                                                    output_hidden_states=False)\n",
        "\n",
        "optimizer = AdamW(model.parameters(),\n",
        "                  lr=lr,\n",
        "                  eps=1e-8)\n",
        "scheduler = get_linear_schedule_with_warmup(optimizer,\n",
        "                                            num_warmup_steps=0, \n",
        "                                            num_training_steps=len(train_dataloader)*EPOCHS)\n",
        "model.to(device)\n",
        "\n",
        "train(model, EPOCHS, train_dataloader, test_dataloader, optimizer, scheduler)\n",
        "test_loss, preds, labels = evaluate(model, test_dataloader, device)"
      ],
      "execution_count": 36,
      "outputs": [
        {
          "output_type": "stream",
          "text": [
            "Some weights of the model checkpoint at bert-base-uncased were not used when initializing BertForSequenceClassification: ['cls.predictions.bias', 'cls.predictions.transform.dense.weight', 'cls.predictions.transform.dense.bias', 'cls.predictions.decoder.weight', 'cls.seq_relationship.weight', 'cls.seq_relationship.bias', 'cls.predictions.transform.LayerNorm.weight', 'cls.predictions.transform.LayerNorm.bias']\n",
            "- This IS expected if you are initializing BertForSequenceClassification from the checkpoint of a model trained on another task or with another architecture (e.g. initializing a BertForSequenceClassification model from a BertForPreTraining model).\n",
            "- This IS NOT expected if you are initializing BertForSequenceClassification from the checkpoint of a model that you expect to be exactly identical (initializing a BertForSequenceClassification model from a BertForSequenceClassification model).\n",
            "Some weights of BertForSequenceClassification were not initialized from the model checkpoint at bert-base-uncased and are newly initialized: ['classifier.weight', 'classifier.bias']\n",
            "You should probably TRAIN this model on a down-stream task to be able to use it for predictions and inference.\n"
          ],
          "name": "stderr"
        },
        {
          "output_type": "display_data",
          "data": {
            "application/vnd.jupyter.widget-view+json": {
              "model_id": "234c91fb81124f8fa8c0efc8e79cc001",
              "version_minor": 0,
              "version_major": 2
            },
            "text/plain": [
              "HBox(children=(FloatProgress(value=0.0, max=2.0), HTML(value='')))"
            ]
          },
          "metadata": {
            "tags": []
          }
        },
        {
          "output_type": "display_data",
          "data": {
            "application/vnd.jupyter.widget-view+json": {
              "model_id": "077b30dcc7bc426da76ce0d337fdd886",
              "version_minor": 0,
              "version_major": 2
            },
            "text/plain": [
              "HBox(children=(FloatProgress(value=0.0, description='Epoch 1', max=252.0, style=ProgressStyle(description_widt…"
            ]
          },
          "metadata": {
            "tags": []
          }
        },
        {
          "output_type": "stream",
          "text": [
            "\r\r\n",
            "Epoch 1\n",
            "Training loss: 0.6135795188565103\n",
            "Testing loss: 0.5813115573591656\n",
            "AUC: 0.7883562515915457\n"
          ],
          "name": "stdout"
        },
        {
          "output_type": "display_data",
          "data": {
            "application/vnd.jupyter.widget-view+json": {
              "model_id": "8d08abc16e3e41f2bdb2c0b6836f6f0e",
              "version_minor": 0,
              "version_major": 2
            },
            "text/plain": [
              "HBox(children=(FloatProgress(value=0.0, description='Epoch 2', max=252.0, style=ProgressStyle(description_widt…"
            ]
          },
          "metadata": {
            "tags": []
          }
        },
        {
          "output_type": "stream",
          "text": [
            "\r\r\n",
            "Epoch 2\n",
            "Training loss: 0.4359586609616166\n",
            "Testing loss: 0.5673864609665341\n",
            "AUC: 0.8205373058314235\n",
            "\n"
          ],
          "name": "stdout"
        }
      ]
    },
    {
      "cell_type": "code",
      "metadata": {
        "colab": {
          "base_uri": "https://localhost:8080/",
          "height": 333
        },
        "id": "THIjCQJoV0Hr",
        "outputId": "19d15abb-18b6-4dc6-a8e3-b5a4a978c49e"
      },
      "source": [
        "print(f\"Accuracy: {accuracy_score(labels, np.argmax(preds, axis=1))}\")\n",
        "print(f\"AUC Score: {auc_score(preds, labels)}\")\n",
        "print(f\"Test loss: {test_loss}\")\n",
        "sns.heatmap(confusion_matrix(labels, np.argmax(preds, axis=1)), annot=True, fmt=\"d\")"
      ],
      "execution_count": 38,
      "outputs": [
        {
          "output_type": "stream",
          "text": [
            "Accuracy: 0.7323943661971831\n",
            "AUC Score: 0.8205373058314235\n",
            "Test loss: 0.5673864609665341\n"
          ],
          "name": "stdout"
        },
        {
          "output_type": "execute_result",
          "data": {
            "text/plain": [
              "<matplotlib.axes._subplots.AxesSubplot at 0x7f3d68ce6eb8>"
            ]
          },
          "metadata": {
            "tags": []
          },
          "execution_count": 38
        },
        {
          "output_type": "display_data",
          "data": {
            "image/png": "[encoded data removed]",
            "text/plain": [
              "<Figure size 432x288 with 2 Axes>"
            ]
          },
          "metadata": {
            "tags": [],
            "needs_background": "light"
          }
        }
      ]
    },
    {
      "cell_type": "markdown",
      "metadata": {
        "id": "xaBmAqQhZyGC"
      },
      "source": [
        "Trial # 1 seemed to go better (at least on the train-test split we evaluated both models on). Therefore, we will pick that trial as our winner and have the following hyperparameters:\n",
        "\n",
        "- Batch Size: 16\n",
        "- Epochs: 2\n",
        "- Learning rate: 2e-5"
      ]
    }
  ]
}