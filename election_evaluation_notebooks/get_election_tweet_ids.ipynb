{
 "cells": [
  {
   "cell_type": "markdown",
   "metadata": {},
   "source": [
    "We used this file for getting tweet_ids related to the election in order to hydrate them.\n",
    "We used the data from 22 days before the election all the way to the election because 22 days before the election is the average start day of early voting (https://www.ncsl.org/research/elections-and-campaigns/early-voting-in-state-elections.aspx) and we wanted to classify tweets based on what people were saying around the time voting started to see if classifying these tweets could help predict state election winners."
   ]
  },
  {
   "cell_type": "code",
   "execution_count": 1,
   "metadata": {},
   "outputs": [],
   "source": [
    "import pandas as pd\n",
    "import numpy as np"
   ]
  },
  {
   "cell_type": "code",
   "execution_count": 4,
   "metadata": {},
   "outputs": [
    {
     "name": "stdout",
     "output_type": "stream",
     "text": [
      "['10/12/20', '10/13/20', '10/14/20', '10/15/20', '10/16/20', '10/17/20', '10/18/20', '10/19/20', '10/20/20', '10/21/20', '10/22/20', '10/23/20', '10/24/20', '10/25/20', '10/26/20', '10/27/20', '10/28/20', '10/29/20', '10/30/20', '10/31/20', '11/1/20', '11/2/20', '11/3/20']\n"
     ]
    }
   ],
   "source": [
    "date_list = []\n",
    "for x in range (12,32):\n",
    "    date_list.append(\"10/{}/20\".format(x))\n",
    "for x in range (1,4):\n",
    "    date_list.append(\"11/{}/20\".format(x)) \n",
    "print(date_list)"
   ]
  },
  {
   "cell_type": "code",
   "execution_count": 5,
   "metadata": {},
   "outputs": [
    {
     "data": {
      "text/html": [
       "<div>\n",
       "<style scoped>\n",
       "    .dataframe tbody tr th:only-of-type {\n",
       "        vertical-align: middle;\n",
       "    }\n",
       "\n",
       "    .dataframe tbody tr th {\n",
       "        vertical-align: top;\n",
       "    }\n",
       "\n",
       "    .dataframe thead th {\n",
       "        text-align: right;\n",
       "    }\n",
       "</style>\n",
       "<table border=\"1\" class=\"dataframe\">\n",
       "  <thead>\n",
       "    <tr style=\"text-align: right;\">\n",
       "      <th></th>\n",
       "      <th>Id</th>\n",
       "    </tr>\n",
       "  </thead>\n",
       "  <tbody>\n",
       "    <tr>\n",
       "      <th>13579275</th>\n",
       "      <td>1315398407775756289</td>\n",
       "    </tr>\n",
       "    <tr>\n",
       "      <th>13579276</th>\n",
       "      <td>1315398407712800769</td>\n",
       "    </tr>\n",
       "    <tr>\n",
       "      <th>13579277</th>\n",
       "      <td>1315398407670951939</td>\n",
       "    </tr>\n",
       "    <tr>\n",
       "      <th>13579278</th>\n",
       "      <td>1315398407616262144</td>\n",
       "    </tr>\n",
       "    <tr>\n",
       "      <th>13579279</th>\n",
       "      <td>1315398407612137477</td>\n",
       "    </tr>\n",
       "    <tr>\n",
       "      <th>...</th>\n",
       "      <td>...</td>\n",
       "    </tr>\n",
       "    <tr>\n",
       "      <th>20720620</th>\n",
       "      <td>1323728933460664321</td>\n",
       "    </tr>\n",
       "    <tr>\n",
       "      <th>20720621</th>\n",
       "      <td>1323728933305671682</td>\n",
       "    </tr>\n",
       "    <tr>\n",
       "      <th>20720622</th>\n",
       "      <td>1323728933292961792</td>\n",
       "    </tr>\n",
       "    <tr>\n",
       "      <th>20720623</th>\n",
       "      <td>1323728933246808064</td>\n",
       "    </tr>\n",
       "    <tr>\n",
       "      <th>20720624</th>\n",
       "      <td>1323728933146251266</td>\n",
       "    </tr>\n",
       "  </tbody>\n",
       "</table>\n",
       "<p>7141350 rows × 1 columns</p>\n",
       "</div>"
      ],
      "text/plain": [
       "                           Id\n",
       "13579275  1315398407775756289\n",
       "13579276  1315398407712800769\n",
       "13579277  1315398407670951939\n",
       "13579278  1315398407616262144\n",
       "13579279  1315398407612137477\n",
       "...                       ...\n",
       "20720620  1323728933460664321\n",
       "20720621  1323728933305671682\n",
       "20720622  1323728933292961792\n",
       "20720623  1323728933246808064\n",
       "20720624  1323728933146251266\n",
       "\n",
       "[7141350 rows x 1 columns]"
      ]
     },
     "metadata": {},
     "output_type": "display_data"
    }
   ],
   "source": [
    "filename = \"uselection_tweets_1jul_11nov.csv\"\n",
    "chunksize = 10 ** 6\n",
    "df_main = pd.DataFrame()\n",
    "for chunk in pd.read_csv(filename, chunksize=chunksize, sep=';', usecols=['Created-At', 'Id']):\n",
    "    df = chunk\n",
    "    df = df[(df['Created-At'].str.contains('|'.join(date_list)))]\n",
    "    df_main = pd.concat([df_main,df])\n",
    "#     display(df)\n",
    "df_main.drop(columns=['Created-At'], inplace=True)\n",
    "display(df_main)"
   ]
  },
  {
   "cell_type": "code",
   "execution_count": 7,
   "metadata": {},
   "outputs": [],
   "source": [
    "def save_tweet_ids(number_of_tweets, filename):\n",
    "    df_main_random = df_main.sample(n=number_of_tweets)\n",
    "    election_tweet_ids_path = filename\n",
    "    with open(election_tweet_ids_path, 'w') as f:\n",
    "        for index,row in df_main_random.iterrows():\n",
    "            f.write(\"%s\\n\" % str(row[\"Id\"]))"
   ]
  },
  {
   "cell_type": "code",
   "execution_count": 8,
   "metadata": {},
   "outputs": [],
   "source": [
    "save_tweet_ids(10000, \"sample_10k_tweets.txt\")"
   ]
  }
 ],
 "metadata": {
  "kernelspec": {
   "display_name": "myenv",
   "language": "python",
   "name": "myenv"
  },
  "language_info": {
   "codemirror_mode": {
    "name": "ipython",
    "version": 3
   },
   "file_extension": ".py",
   "mimetype": "text/x-python",
   "name": "python",
   "nbconvert_exporter": "python",
   "pygments_lexer": "ipython3",
   "version": "3.8.5"
  }
 },
 "nbformat": 4,
 "nbformat_minor": 4
}
