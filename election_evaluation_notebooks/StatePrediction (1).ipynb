{
  "nbformat": 4,
  "nbformat_minor": 0,
  "metadata": {
    "colab": {
      "name": "StatePrediction.ipynb",
      "provenance": [],
      "toc_visible": true
    },
    "kernelspec": {
      "name": "python3",
      "display_name": "Python 3"
    },
    "accelerator": "GPU"
  },
  "cells": [
    {
      "cell_type": "code",
      "metadata": {
        "colab": {
          "base_uri": "https://localhost:8080/"
        },
        "id": "XXAIQvn6xKMk",
        "outputId": "2556c1d3-75dc-4a3d-9f77-fe4ef6df25ff"
      },
      "source": [
        "!pip install transformers tweet-preprocessor "
      ],
      "execution_count": null,
      "outputs": [
        {
          "output_type": "stream",
          "text": [
            "Collecting transformers\n",
            "\u001b[?25l  Downloading https://files.pythonhosted.org/packages/ed/db/98c3ea1a78190dac41c0127a063abf92bd01b4b0b6970a6db1c2f5b66fa0/transformers-4.0.1-py3-none-any.whl (1.4MB)\n",
            "\r\u001b[K     |▎                               | 10kB 21.0MB/s eta 0:00:01\r\u001b[K     |▌                               | 20kB 15.6MB/s eta 0:00:01\r\u001b[K     |▊                               | 30kB 15.0MB/s eta 0:00:01\r\u001b[K     |█                               | 40kB 14.8MB/s eta 0:00:01\r\u001b[K     |█▏                              | 51kB 11.5MB/s eta 0:00:01\r\u001b[K     |█▌                              | 61kB 11.6MB/s eta 0:00:01\r\u001b[K     |█▊                              | 71kB 11.2MB/s eta 0:00:01\r\u001b[K     |██                              | 81kB 12.3MB/s eta 0:00:01\r\u001b[K     |██▏                             | 92kB 13.1MB/s eta 0:00:01\r\u001b[K     |██▍                             | 102kB 12.3MB/s eta 0:00:01\r\u001b[K     |██▋                             | 112kB 12.3MB/s eta 0:00:01\r\u001b[K     |███                             | 122kB 12.3MB/s eta 0:00:01\r\u001b[K     |███▏                            | 133kB 12.3MB/s eta 0:00:01\r\u001b[K     |███▍                            | 143kB 12.3MB/s eta 0:00:01\r\u001b[K     |███▋                            | 153kB 12.3MB/s eta 0:00:01\r\u001b[K     |███▉                            | 163kB 12.3MB/s eta 0:00:01\r\u001b[K     |████▏                           | 174kB 12.3MB/s eta 0:00:01\r\u001b[K     |████▍                           | 184kB 12.3MB/s eta 0:00:01\r\u001b[K     |████▋                           | 194kB 12.3MB/s eta 0:00:01\r\u001b[K     |████▉                           | 204kB 12.3MB/s eta 0:00:01\r\u001b[K     |█████                           | 215kB 12.3MB/s eta 0:00:01\r\u001b[K     |█████▎                          | 225kB 12.3MB/s eta 0:00:01\r\u001b[K     |█████▋                          | 235kB 12.3MB/s eta 0:00:01\r\u001b[K     |█████▉                          | 245kB 12.3MB/s eta 0:00:01\r\u001b[K     |██████                          | 256kB 12.3MB/s eta 0:00:01\r\u001b[K     |██████▎                         | 266kB 12.3MB/s eta 0:00:01\r\u001b[K     |██████▌                         | 276kB 12.3MB/s eta 0:00:01\r\u001b[K     |██████▉                         | 286kB 12.3MB/s eta 0:00:01\r\u001b[K     |███████                         | 296kB 12.3MB/s eta 0:00:01\r\u001b[K     |███████▎                        | 307kB 12.3MB/s eta 0:00:01\r\u001b[K     |███████▌                        | 317kB 12.3MB/s eta 0:00:01\r\u001b[K     |███████▊                        | 327kB 12.3MB/s eta 0:00:01\r\u001b[K     |████████                        | 337kB 12.3MB/s eta 0:00:01\r\u001b[K     |████████▎                       | 348kB 12.3MB/s eta 0:00:01\r\u001b[K     |████████▌                       | 358kB 12.3MB/s eta 0:00:01\r\u001b[K     |████████▊                       | 368kB 12.3MB/s eta 0:00:01\r\u001b[K     |█████████                       | 378kB 12.3MB/s eta 0:00:01\r\u001b[K     |█████████▏                      | 389kB 12.3MB/s eta 0:00:01\r\u001b[K     |█████████▌                      | 399kB 12.3MB/s eta 0:00:01\r\u001b[K     |█████████▊                      | 409kB 12.3MB/s eta 0:00:01\r\u001b[K     |██████████                      | 419kB 12.3MB/s eta 0:00:01\r\u001b[K     |██████████▏                     | 430kB 12.3MB/s eta 0:00:01\r\u001b[K     |██████████▍                     | 440kB 12.3MB/s eta 0:00:01\r\u001b[K     |██████████▋                     | 450kB 12.3MB/s eta 0:00:01\r\u001b[K     |███████████                     | 460kB 12.3MB/s eta 0:00:01\r\u001b[K     |███████████▏                    | 471kB 12.3MB/s eta 0:00:01\r\u001b[K     |███████████▍                    | 481kB 12.3MB/s eta 0:00:01\r\u001b[K     |███████████▋                    | 491kB 12.3MB/s eta 0:00:01\r\u001b[K     |███████████▉                    | 501kB 12.3MB/s eta 0:00:01\r\u001b[K     |████████████▏                   | 512kB 12.3MB/s eta 0:00:01\r\u001b[K     |████████████▍                   | 522kB 12.3MB/s eta 0:00:01\r\u001b[K     |████████████▋                   | 532kB 12.3MB/s eta 0:00:01\r\u001b[K     |████████████▉                   | 542kB 12.3MB/s eta 0:00:01\r\u001b[K     |█████████████                   | 552kB 12.3MB/s eta 0:00:01\r\u001b[K     |█████████████▎                  | 563kB 12.3MB/s eta 0:00:01\r\u001b[K     |█████████████▋                  | 573kB 12.3MB/s eta 0:00:01\r\u001b[K     |█████████████▉                  | 583kB 12.3MB/s eta 0:00:01\r\u001b[K     |██████████████                  | 593kB 12.3MB/s eta 0:00:01\r\u001b[K     |██████████████▎                 | 604kB 12.3MB/s eta 0:00:01\r\u001b[K     |██████████████▌                 | 614kB 12.3MB/s eta 0:00:01\r\u001b[K     |██████████████▉                 | 624kB 12.3MB/s eta 0:00:01\r\u001b[K     |███████████████                 | 634kB 12.3MB/s eta 0:00:01\r\u001b[K     |███████████████▎                | 645kB 12.3MB/s eta 0:00:01\r\u001b[K     |███████████████▌                | 655kB 12.3MB/s eta 0:00:01\r\u001b[K     |███████████████▊                | 665kB 12.3MB/s eta 0:00:01\r\u001b[K     |████████████████                | 675kB 12.3MB/s eta 0:00:01\r\u001b[K     |████████████████▎               | 686kB 12.3MB/s eta 0:00:01\r\u001b[K     |████████████████▌               | 696kB 12.3MB/s eta 0:00:01\r\u001b[K     |████████████████▊               | 706kB 12.3MB/s eta 0:00:01\r\u001b[K     |█████████████████               | 716kB 12.3MB/s eta 0:00:01\r\u001b[K     |█████████████████▏              | 727kB 12.3MB/s eta 0:00:01\r\u001b[K     |█████████████████▌              | 737kB 12.3MB/s eta 0:00:01\r\u001b[K     |█████████████████▊              | 747kB 12.3MB/s eta 0:00:01\r\u001b[K     |██████████████████              | 757kB 12.3MB/s eta 0:00:01\r\u001b[K     |██████████████████▏             | 768kB 12.3MB/s eta 0:00:01\r\u001b[K     |██████████████████▍             | 778kB 12.3MB/s eta 0:00:01\r\u001b[K     |██████████████████▋             | 788kB 12.3MB/s eta 0:00:01\r\u001b[K     |███████████████████             | 798kB 12.3MB/s eta 0:00:01\r\u001b[K     |███████████████████▏            | 808kB 12.3MB/s eta 0:00:01\r\u001b[K     |███████████████████▍            | 819kB 12.3MB/s eta 0:00:01\r\u001b[K     |███████████████████▋            | 829kB 12.3MB/s eta 0:00:01\r\u001b[K     |███████████████████▉            | 839kB 12.3MB/s eta 0:00:01\r\u001b[K     |████████████████████▏           | 849kB 12.3MB/s eta 0:00:01\r\u001b[K     |████████████████████▍           | 860kB 12.3MB/s eta 0:00:01\r\u001b[K     |████████████████████▋           | 870kB 12.3MB/s eta 0:00:01\r\u001b[K     |████████████████████▉           | 880kB 12.3MB/s eta 0:00:01\r\u001b[K     |█████████████████████           | 890kB 12.3MB/s eta 0:00:01\r\u001b[K     |█████████████████████▎          | 901kB 12.3MB/s eta 0:00:01\r\u001b[K     |█████████████████████▋          | 911kB 12.3MB/s eta 0:00:01\r\u001b[K     |█████████████████████▉          | 921kB 12.3MB/s eta 0:00:01\r\u001b[K     |██████████████████████          | 931kB 12.3MB/s eta 0:00:01\r\u001b[K     |██████████████████████▎         | 942kB 12.3MB/s eta 0:00:01\r\u001b[K     |██████████████████████▌         | 952kB 12.3MB/s eta 0:00:01\r\u001b[K     |██████████████████████▊         | 962kB 12.3MB/s eta 0:00:01\r\u001b[K     |███████████████████████         | 972kB 12.3MB/s eta 0:00:01\r\u001b[K     |███████████████████████▎        | 983kB 12.3MB/s eta 0:00:01\r\u001b[K     |███████████████████████▌        | 993kB 12.3MB/s eta 0:00:01\r\u001b[K     |███████████████████████▊        | 1.0MB 12.3MB/s eta 0:00:01\r\u001b[K     |████████████████████████        | 1.0MB 12.3MB/s eta 0:00:01\r\u001b[K     |████████████████████████▎       | 1.0MB 12.3MB/s eta 0:00:01\r\u001b[K     |████████████████████████▌       | 1.0MB 12.3MB/s eta 0:00:01\r\u001b[K     |████████████████████████▊       | 1.0MB 12.3MB/s eta 0:00:01\r\u001b[K     |█████████████████████████       | 1.1MB 12.3MB/s eta 0:00:01\r\u001b[K     |█████████████████████████▏      | 1.1MB 12.3MB/s eta 0:00:01\r\u001b[K     |█████████████████████████▍      | 1.1MB 12.3MB/s eta 0:00:01\r\u001b[K     |█████████████████████████▊      | 1.1MB 12.3MB/s eta 0:00:01\r\u001b[K     |██████████████████████████      | 1.1MB 12.3MB/s eta 0:00:01\r\u001b[K     |██████████████████████████▏     | 1.1MB 12.3MB/s eta 0:00:01\r\u001b[K     |██████████████████████████▍     | 1.1MB 12.3MB/s eta 0:00:01\r\u001b[K     |██████████████████████████▋     | 1.1MB 12.3MB/s eta 0:00:01\r\u001b[K     |███████████████████████████     | 1.1MB 12.3MB/s eta 0:00:01\r\u001b[K     |███████████████████████████▏    | 1.1MB 12.3MB/s eta 0:00:01\r\u001b[K     |███████████████████████████▍    | 1.2MB 12.3MB/s eta 0:00:01\r\u001b[K     |███████████████████████████▋    | 1.2MB 12.3MB/s eta 0:00:01\r\u001b[K     |███████████████████████████▉    | 1.2MB 12.3MB/s eta 0:00:01\r\u001b[K     |████████████████████████████    | 1.2MB 12.3MB/s eta 0:00:01\r\u001b[K     |████████████████████████████▍   | 1.2MB 12.3MB/s eta 0:00:01\r\u001b[K     |████████████████████████████▋   | 1.2MB 12.3MB/s eta 0:00:01\r\u001b[K     |████████████████████████████▉   | 1.2MB 12.3MB/s eta 0:00:01\r\u001b[K     |█████████████████████████████   | 1.2MB 12.3MB/s eta 0:00:01\r\u001b[K     |█████████████████████████████▎  | 1.2MB 12.3MB/s eta 0:00:01\r\u001b[K     |█████████████████████████████▋  | 1.2MB 12.3MB/s eta 0:00:01\r\u001b[K     |█████████████████████████████▉  | 1.3MB 12.3MB/s eta 0:00:01\r\u001b[K     |██████████████████████████████  | 1.3MB 12.3MB/s eta 0:00:01\r\u001b[K     |██████████████████████████████▎ | 1.3MB 12.3MB/s eta 0:00:01\r\u001b[K     |██████████████████████████████▌ | 1.3MB 12.3MB/s eta 0:00:01\r\u001b[K     |██████████████████████████████▊ | 1.3MB 12.3MB/s eta 0:00:01\r\u001b[K     |███████████████████████████████ | 1.3MB 12.3MB/s eta 0:00:01\r\u001b[K     |███████████████████████████████▎| 1.3MB 12.3MB/s eta 0:00:01\r\u001b[K     |███████████████████████████████▌| 1.3MB 12.3MB/s eta 0:00:01\r\u001b[K     |███████████████████████████████▊| 1.3MB 12.3MB/s eta 0:00:01\r\u001b[K     |████████████████████████████████| 1.4MB 12.3MB/s eta 0:00:01\r\u001b[K     |████████████████████████████████| 1.4MB 12.3MB/s \n",
            "\u001b[?25hCollecting tweet-preprocessor\n",
            "  Downloading https://files.pythonhosted.org/packages/17/9d/71bd016a9edcef8860c607e531f30bd09b13103c7951ae73dd2bf174163c/tweet_preprocessor-0.6.0-py3-none-any.whl\n",
            "Requirement already satisfied: dataclasses; python_version < \"3.7\" in /usr/local/lib/python3.6/dist-packages (from transformers) (0.8)\n",
            "Requirement already satisfied: packaging in /usr/local/lib/python3.6/dist-packages (from transformers) (20.4)\n",
            "Collecting tokenizers==0.9.4\n",
            "\u001b[?25l  Downloading https://files.pythonhosted.org/packages/0f/1c/e789a8b12e28be5bc1ce2156cf87cb522b379be9cadc7ad8091a4cc107c4/tokenizers-0.9.4-cp36-cp36m-manylinux2010_x86_64.whl (2.9MB)\n",
            "\u001b[K     |████████████████████████████████| 2.9MB 57.5MB/s \n",
            "\u001b[?25hRequirement already satisfied: tqdm>=4.27 in /usr/local/lib/python3.6/dist-packages (from transformers) (4.41.1)\n",
            "Collecting sacremoses\n",
            "\u001b[?25l  Downloading https://files.pythonhosted.org/packages/7d/34/09d19aff26edcc8eb2a01bed8e98f13a1537005d31e95233fd48216eed10/sacremoses-0.0.43.tar.gz (883kB)\n",
            "\u001b[K     |████████████████████████████████| 890kB 54.0MB/s \n",
            "\u001b[?25hRequirement already satisfied: regex!=2019.12.17 in /usr/local/lib/python3.6/dist-packages (from transformers) (2019.12.20)\n",
            "Requirement already satisfied: filelock in /usr/local/lib/python3.6/dist-packages (from transformers) (3.0.12)\n",
            "Requirement already satisfied: requests in /usr/local/lib/python3.6/dist-packages (from transformers) (2.23.0)\n",
            "Requirement already satisfied: numpy in /usr/local/lib/python3.6/dist-packages (from transformers) (1.18.5)\n",
            "Requirement already satisfied: pyparsing>=2.0.2 in /usr/local/lib/python3.6/dist-packages (from packaging->transformers) (2.4.7)\n",
            "Requirement already satisfied: six in /usr/local/lib/python3.6/dist-packages (from packaging->transformers) (1.15.0)\n",
            "Requirement already satisfied: click in /usr/local/lib/python3.6/dist-packages (from sacremoses->transformers) (7.1.2)\n",
            "Requirement already satisfied: joblib in /usr/local/lib/python3.6/dist-packages (from sacremoses->transformers) (0.17.0)\n",
            "Requirement already satisfied: certifi>=2017.4.17 in /usr/local/lib/python3.6/dist-packages (from requests->transformers) (2020.11.8)\n",
            "Requirement already satisfied: idna<3,>=2.5 in /usr/local/lib/python3.6/dist-packages (from requests->transformers) (2.10)\n",
            "Requirement already satisfied: chardet<4,>=3.0.2 in /usr/local/lib/python3.6/dist-packages (from requests->transformers) (3.0.4)\n",
            "Requirement already satisfied: urllib3!=1.25.0,!=1.25.1,<1.26,>=1.21.1 in /usr/local/lib/python3.6/dist-packages (from requests->transformers) (1.24.3)\n",
            "Building wheels for collected packages: sacremoses\n",
            "  Building wheel for sacremoses (setup.py) ... \u001b[?25l\u001b[?25hdone\n",
            "  Created wheel for sacremoses: filename=sacremoses-0.0.43-cp36-none-any.whl size=893257 sha256=f77ca05520a84f5ca10a9b36be14824dca1f77ea23628567943709e4f26f7109\n",
            "  Stored in directory: /root/.cache/pip/wheels/29/3c/fd/7ce5c3f0666dab31a50123635e6fb5e19ceb42ce38d4e58f45\n",
            "Successfully built sacremoses\n",
            "Installing collected packages: tokenizers, sacremoses, transformers, tweet-preprocessor\n",
            "Successfully installed sacremoses-0.0.43 tokenizers-0.9.4 transformers-4.0.1 tweet-preprocessor-0.6.0\n"
          ],
          "name": "stdout"
        }
      ]
    },
    {
      "cell_type": "code",
      "metadata": {
        "id": "BFMbYORz3AKF"
      },
      "source": [
        "import pandas as pd\n",
        "import numpy as np\n",
        "import matplotlib.pyplot as plt\n",
        "import preprocessor as p # tweet-preprocessor\n",
        "import nltk\n",
        "import re\n",
        "import seaborn as sns\n",
        "import torch\n",
        "\n",
        "from transformers import BertTokenizer, BertForSequenceClassification, AdamW, get_linear_schedule_with_warmup\n",
        "from torch.utils.data import TensorDataset, DataLoader, RandomSampler, SequentialSampler"
      ],
      "execution_count": null,
      "outputs": []
    },
    {
      "cell_type": "code",
      "metadata": {
        "colab": {
          "base_uri": "https://localhost:8080/",
          "height": 504
        },
        "id": "gUiPP5o88dcn",
        "outputId": "8fbcdadb-dd26-4717-964d-4329b4f89c33"
      },
      "source": [
        "# Give colab access to drive to load csv file\n",
        "filename = \"/content/drive/MyDrive/Junior Year/DSP Final Project/election_tweets_1M.csv\"\n",
        "chunksize = 10 ** 6\n",
        "df_main_analysis = pd.DataFrame()\n",
        "for chunk in pd.read_csv(filename, chunksize=chunksize, usecols=['created_at','user_location', 'text']):\n",
        "    df = chunk\n",
        "    df_main_analysis = pd.concat([df_main_analysis,df])\n",
        "    \n",
        "    \n",
        "df_main_analysis.rename(columns={\"user_location\": \"location\", \"text\": \"full_text\"}, inplace=True)\n",
        "df_main_analysis.drop_duplicates(inplace=True)\n",
        "df_main_analysis.reset_index(inplace=True)\n",
        "df_main_analysis['location'] = df_main_analysis['location'].astype(str)\n",
        "df_main_analysis['full_text'] = df_main_analysis['full_text'].astype(str)\n",
        "df_main_analysis['created_at'] = df_main_analysis['created_at'].astype(str)\n",
        "display(df_main_analysis)\n",
        "display(df_main_analysis.dtypes)"
      ],
      "execution_count": null,
      "outputs": [
        {
          "output_type": "display_data",
          "data": {
            "text/html": [
              "<div>\n",
              "<style scoped>\n",
              "    .dataframe tbody tr th:only-of-type {\n",
              "        vertical-align: middle;\n",
              "    }\n",
              "\n",
              "    .dataframe tbody tr th {\n",
              "        vertical-align: top;\n",
              "    }\n",
              "\n",
              "    .dataframe thead th {\n",
              "        text-align: right;\n",
              "    }\n",
              "</style>\n",
              "<table border=\"1\" class=\"dataframe\">\n",
              "  <thead>\n",
              "    <tr style=\"text-align: right;\">\n",
              "      <th></th>\n",
              "      <th>index</th>\n",
              "      <th>created_at</th>\n",
              "      <th>full_text</th>\n",
              "      <th>location</th>\n",
              "    </tr>\n",
              "  </thead>\n",
              "  <tbody>\n",
              "    <tr>\n",
              "      <th>0</th>\n",
              "      <td>0</td>\n",
              "      <td>Sat Oct 24 05:43:05 +0000 2020</td>\n",
              "      <td>RT @MeidasTouch: I already voted for Joe Biden...</td>\n",
              "      <td>nan</td>\n",
              "    </tr>\n",
              "    <tr>\n",
              "      <th>1</th>\n",
              "      <td>1</td>\n",
              "      <td>Sat Oct 24 06:16:50 +0000 2020</td>\n",
              "      <td>RT @poutydobrik: THIS IS A REMINDER THAT KANYE...</td>\n",
              "      <td>Tucson, AZ</td>\n",
              "    </tr>\n",
              "    <tr>\n",
              "      <th>2</th>\n",
              "      <td>2</td>\n",
              "      <td>Thu Oct 22 10:24:17 +0000 2020</td>\n",
              "      <td>@Thorsha07820326 @Baddiel @realDonaldTrump Are...</td>\n",
              "      <td>South West, England</td>\n",
              "    </tr>\n",
              "    <tr>\n",
              "      <th>3</th>\n",
              "      <td>3</td>\n",
              "      <td>Tue Oct 13 04:00:04 +0000 2020</td>\n",
              "      <td>RT @RVAT2020: NEW AD: Former Director of the C...</td>\n",
              "      <td>Third rock from the sun</td>\n",
              "    </tr>\n",
              "    <tr>\n",
              "      <th>4</th>\n",
              "      <td>4</td>\n",
              "      <td>Sat Oct 31 08:44:41 +0000 2020</td>\n",
              "      <td>RT @tribelaw: “America has to be a functioning...</td>\n",
              "      <td>Georgia, USA</td>\n",
              "    </tr>\n",
              "    <tr>\n",
              "      <th>...</th>\n",
              "      <td>...</td>\n",
              "      <td>...</td>\n",
              "      <td>...</td>\n",
              "      <td>...</td>\n",
              "    </tr>\n",
              "    <tr>\n",
              "      <th>882953</th>\n",
              "      <td>948788</td>\n",
              "      <td>Sat Oct 17 19:15:14 +0000 2020</td>\n",
              "      <td>RT @WeHave2BeBetter: This dude every day is in...</td>\n",
              "      <td>nan</td>\n",
              "    </tr>\n",
              "    <tr>\n",
              "      <th>882954</th>\n",
              "      <td>948789</td>\n",
              "      <td>Tue Oct 27 04:09:33 +0000 2020</td>\n",
              "      <td>RT @SenRubioPress: El sen Rubio le envió una c...</td>\n",
              "      <td>Pembroke Pines, FL</td>\n",
              "    </tr>\n",
              "    <tr>\n",
              "      <th>882955</th>\n",
              "      <td>948790</td>\n",
              "      <td>Fri Oct 16 15:02:18 +0000 2020</td>\n",
              "      <td>RT @JoeBiden: President Obama and I left Donal...</td>\n",
              "      <td>nan</td>\n",
              "    </tr>\n",
              "    <tr>\n",
              "      <th>882956</th>\n",
              "      <td>948791</td>\n",
              "      <td>Tue Nov 03 14:22:26 +0000 2020</td>\n",
              "      <td>RT @JTHVerhovek: .@JoeBiden is stopping by Car...</td>\n",
              "      <td>Illinois</td>\n",
              "    </tr>\n",
              "    <tr>\n",
              "      <th>882957</th>\n",
              "      <td>948792</td>\n",
              "      <td>Sat Oct 17 04:02:22 +0000 2020</td>\n",
              "      <td>@benshapiro this is a serious question and I h...</td>\n",
              "      <td>nan</td>\n",
              "    </tr>\n",
              "  </tbody>\n",
              "</table>\n",
              "<p>882958 rows × 4 columns</p>\n",
              "</div>"
            ],
            "text/plain": [
              "         index  ...                 location\n",
              "0            0  ...                      nan\n",
              "1            1  ...               Tucson, AZ\n",
              "2            2  ...      South West, England\n",
              "3            3  ...  Third rock from the sun\n",
              "4            4  ...             Georgia, USA\n",
              "...        ...  ...                      ...\n",
              "882953  948788  ...                      nan\n",
              "882954  948789  ...       Pembroke Pines, FL\n",
              "882955  948790  ...                      nan\n",
              "882956  948791  ...                Illinois \n",
              "882957  948792  ...                      nan\n",
              "\n",
              "[882958 rows x 4 columns]"
            ]
          },
          "metadata": {
            "tags": []
          }
        },
        {
          "output_type": "display_data",
          "data": {
            "text/plain": [
              "index          int64\n",
              "created_at    object\n",
              "full_text     object\n",
              "location      object\n",
              "dtype: object"
            ]
          },
          "metadata": {
            "tags": []
          }
        }
      ]
    },
    {
      "cell_type": "code",
      "metadata": {
        "id": "sM24sHdix5fE"
      },
      "source": [
        "STATES_ABBREVIATIONS = [\"AL\", \"AK\", \"AZ\", \"AR\", \"CA\", \"CO\", \"CT\", \"DC\", \"DE\", \"FL\", \"GA\", \n",
        "          \"HI\", \"ID\", \"IL\", \"IN\", \"IA\", \"KS\", \"KY\", \"LA\", \"ME\", \"MD\", \n",
        "          \"MA\", \"MI\", \"MN\", \"MS\", \"MO\", \"MT\", \"NE\", \"NV\", \"NH\", \"NJ\", \n",
        "          \"NM\", \"NY\", \"NC\", \"ND\", \"OH\", \"OK\", \"OR\", \"PA\", \"RI\", \"SC\", \n",
        "          \"SD\", \"TN\", \"TX\", \"UT\", \"VT\", \"VA\", \"WA\", \"WV\", \"WI\", \"WY\"]\n",
        "\n",
        "STATE_NAMES = [\"Alaska\", \"Alabama\", \"Arkansas\", \"Arizona\", \n",
        "               \"California\", \"Colorado\", \"Connecticut\", \"Delaware\", \n",
        "               \"Florida\", \"Georgia\", \"Hawaii\", \"Iowa\", \"Idaho\", \n",
        "               \"Illinois\", \"Indiana\", \"Kansas\", \"Kentucky\", \"Louisiana\", \n",
        "               \"Massachusetts\", \"Maryland\", \"Maine\", \"Michigan\", \"Minnesota\", \n",
        "               \"Missouri\", \"Mississippi\", \"Montana\", \"North Carolina\", \n",
        "               \"North Dakota\", \"Nebraska\", \"New Hampshire\", \"New Jersey\", \n",
        "               \"New Mexico\", \"Nevada\", \"New York\", \"Ohio\", \"Oklahoma\", \"Oregon\", \n",
        "               \"Pennsylvania\", \"Rhode Island\", \"South Carolina\", \n",
        "               \"South Dakota\", \"Tennessee\", \"Texas\", \"Utah\", \"Virginia\", \n",
        "               \"Vermont\", \"Washington\", \"Wisconsin\", \"West Virginia\", \"Wyoming\"]\n",
        "\n",
        "STATES_FULL = {\"AL\":\"Alabama\",\"AK\":\"Alaska\",\"AZ\":\"Arizona\",\"AR\":\"Arkansas\",\n",
        "                        \"CA\":\"California\",\"CO\":\"Colorado\",\"CT\":\"Connecticut\",\n",
        "                        \"DE\":\"Delaware\", \"FL\":\"Florida\",\"GA\":\"Georgia\",\"HI\":\"Hawaii\",\n",
        "                        \"ID\":\"Idaho\",\"IL\":\"Illinois\",\"IN\":\"Indiana\",\"IA\":\"Iowa\",\n",
        "                        \"KS\":\"Kansas\",\"KY\":\"Kentucky\",\"LA\":\"Louisiana\",\"ME\":\"Maine\",\n",
        "                        \"MD\":\"Maryland\",\"MA\":\"Massachusetts\",\"MI\":\"Michigan\",\n",
        "                        \"MN\":\"Minnesota\",\"MS\":\"Mississippi\",\"MO\":\"Missouri\",\n",
        "                        \"MT\":\"Montana\",\"NE\":\"Nebraska\",\"NV\":\"Nevada\",\n",
        "                        \"NH\":\"New Hampshire\",\"NJ\":\"New Jersey\",\"NM\":\"New Mexico\",\n",
        "                        \"NY\":\"New York\",\"NC\":\"North Carolina\",\"ND\":\"North Dakota\",\n",
        "                        \"OH\":\"Ohio\",\"OK\":\"Oklahoma\",\"OR\":\"Oregon\",\"PA\":\"Pennsylvania\",\n",
        "                        \"RI\":\"Rhode Island\",\"SC\":\"South Carolina\",\"SD\":\"South Dakota\",\n",
        "                        \"TN\":\"Tennessee\",\"TX\":\"Texas\",\"UT\":\"Utah\",\"VT\":\"Vermont\",\n",
        "                        \"VA\":\"Virginia\",\"WA\":\"Washington\",\"WV\":\"West Virginia\",\n",
        "                        \"WI\":\"Wisconsin\",\"WY\":\"Wyoming\"}\n",
        "\n",
        "state_regex = re.compile('|'.join(STATES_ABBREVIATIONS + STATE_NAMES))\n",
        "STATES_ABBREVIATIONS = set(STATES_ABBREVIATIONS)"
      ],
      "execution_count": null,
      "outputs": []
    },
    {
      "cell_type": "code",
      "metadata": {
        "id": "sMp2hzRwzjGu"
      },
      "source": [
        "for idx, row in df_main_analysis.iterrows():\n",
        "    state_match = state_regex.search(row[\"location\"])\n",
        "    if state_match:\n",
        "        df_main_analysis.at[idx, \"state\"] = state_match.group(0)\n",
        "#     else:\n",
        "#         df_main_analysis.at[idx, \"state\"] = state_match.group(0)\n",
        "\n",
        "        \n",
        "df_main_analysis.drop(df_main_analysis.index[df_main_analysis[\"state\"] == None], inplace=True)\n",
        "df_main_analysis.reset_index(drop=True, inplace=True)\n",
        "\n",
        "for idx, row in df_main_analysis.iterrows():\n",
        "    if row[\"state\"] in STATES_ABBREVIATIONS:\n",
        "        df_main_analysis.at[idx, \"state\"] = STATES_FULL.get(row[\"state\"], \"\")"
      ],
      "execution_count": null,
      "outputs": []
    },
    {
      "cell_type": "code",
      "metadata": {
        "id": "LPirLgQq868o",
        "colab": {
          "base_uri": "https://localhost:8080/",
          "height": 419
        },
        "outputId": "b17e60ee-bc3c-4599-a1ff-7c4b2759ac35"
      },
      "source": [
        "df_main_analysis.dropna(inplace=True)\n",
        "df_main_analysis.reset_index(drop=True, inplace=True)\n",
        "\n",
        "df_main_analysis.drop(columns=[\"location\"], inplace=True)\n",
        "display(df_main_analysis)"
      ],
      "execution_count": null,
      "outputs": [
        {
          "output_type": "display_data",
          "data": {
            "text/html": [
              "<div>\n",
              "<style scoped>\n",
              "    .dataframe tbody tr th:only-of-type {\n",
              "        vertical-align: middle;\n",
              "    }\n",
              "\n",
              "    .dataframe tbody tr th {\n",
              "        vertical-align: top;\n",
              "    }\n",
              "\n",
              "    .dataframe thead th {\n",
              "        text-align: right;\n",
              "    }\n",
              "</style>\n",
              "<table border=\"1\" class=\"dataframe\">\n",
              "  <thead>\n",
              "    <tr style=\"text-align: right;\">\n",
              "      <th></th>\n",
              "      <th>index</th>\n",
              "      <th>created_at</th>\n",
              "      <th>full_text</th>\n",
              "      <th>state</th>\n",
              "    </tr>\n",
              "  </thead>\n",
              "  <tbody>\n",
              "    <tr>\n",
              "      <th>0</th>\n",
              "      <td>1</td>\n",
              "      <td>Sat Oct 24 06:16:50 +0000 2020</td>\n",
              "      <td>RT @poutydobrik: THIS IS A REMINDER THAT KANYE...</td>\n",
              "      <td>Arizona</td>\n",
              "    </tr>\n",
              "    <tr>\n",
              "      <th>1</th>\n",
              "      <td>4</td>\n",
              "      <td>Sat Oct 31 08:44:41 +0000 2020</td>\n",
              "      <td>RT @tribelaw: “America has to be a functioning...</td>\n",
              "      <td>Georgia</td>\n",
              "    </tr>\n",
              "    <tr>\n",
              "      <th>2</th>\n",
              "      <td>6</td>\n",
              "      <td>Tue Oct 13 21:38:18 +0000 2020</td>\n",
              "      <td>@Cockofthewalk00 @ericsslater @ChuckGrassley @...</td>\n",
              "      <td>Indiana</td>\n",
              "    </tr>\n",
              "    <tr>\n",
              "      <th>3</th>\n",
              "      <td>7</td>\n",
              "      <td>Sun Nov 01 16:37:38 +0000 2020</td>\n",
              "      <td>RT @444findinghope: According to public record...</td>\n",
              "      <td>Maryland</td>\n",
              "    </tr>\n",
              "    <tr>\n",
              "      <th>4</th>\n",
              "      <td>9</td>\n",
              "      <td>Mon Oct 26 20:10:39 +0000 2020</td>\n",
              "      <td>RT @ProjectLincoln: This is Joe Biden’s moment...</td>\n",
              "      <td>North Carolina</td>\n",
              "    </tr>\n",
              "    <tr>\n",
              "      <th>...</th>\n",
              "      <td>...</td>\n",
              "      <td>...</td>\n",
              "      <td>...</td>\n",
              "      <td>...</td>\n",
              "    </tr>\n",
              "    <tr>\n",
              "      <th>281741</th>\n",
              "      <td>948777</td>\n",
              "      <td>Tue Oct 13 14:52:54 +0000 2020</td>\n",
              "      <td>RT @Jord_45: @JoeBiden China sure hopes so.</td>\n",
              "      <td>West Virginia</td>\n",
              "    </tr>\n",
              "    <tr>\n",
              "      <th>281742</th>\n",
              "      <td>948779</td>\n",
              "      <td>Sat Oct 17 14:54:19 +0000 2020</td>\n",
              "      <td>The man is delusional and should be removed fr...</td>\n",
              "      <td>Washington</td>\n",
              "    </tr>\n",
              "    <tr>\n",
              "      <th>281743</th>\n",
              "      <td>948784</td>\n",
              "      <td>Wed Oct 14 17:51:39 +0000 2020</td>\n",
              "      <td>@Adam_Puzio @ErrolWebber Riiiight, yet you’re ...</td>\n",
              "      <td>California</td>\n",
              "    </tr>\n",
              "    <tr>\n",
              "      <th>281744</th>\n",
              "      <td>948789</td>\n",
              "      <td>Tue Oct 27 04:09:33 +0000 2020</td>\n",
              "      <td>RT @SenRubioPress: El sen Rubio le envió una c...</td>\n",
              "      <td>Florida</td>\n",
              "    </tr>\n",
              "    <tr>\n",
              "      <th>281745</th>\n",
              "      <td>948791</td>\n",
              "      <td>Tue Nov 03 14:22:26 +0000 2020</td>\n",
              "      <td>RT @JTHVerhovek: .@JoeBiden is stopping by Car...</td>\n",
              "      <td>Illinois</td>\n",
              "    </tr>\n",
              "  </tbody>\n",
              "</table>\n",
              "<p>281746 rows × 4 columns</p>\n",
              "</div>"
            ],
            "text/plain": [
              "         index  ...           state\n",
              "0            1  ...         Arizona\n",
              "1            4  ...         Georgia\n",
              "2            6  ...         Indiana\n",
              "3            7  ...        Maryland\n",
              "4            9  ...  North Carolina\n",
              "...        ...  ...             ...\n",
              "281741  948777  ...   West Virginia\n",
              "281742  948779  ...      Washington\n",
              "281743  948784  ...      California\n",
              "281744  948789  ...         Florida\n",
              "281745  948791  ...        Illinois\n",
              "\n",
              "[281746 rows x 4 columns]"
            ]
          },
          "metadata": {
            "tags": []
          }
        }
      ]
    },
    {
      "cell_type": "code",
      "metadata": {
        "colab": {
          "base_uri": "https://localhost:8080/",
          "height": 221
        },
        "id": "VMQEgOn4zvNC",
        "outputId": "3cfbdbd4-bfb3-4cc5-83db-5dba9131a25a"
      },
      "source": [
        "def cleanTweet(row):\n",
        "    tweet = row[\"full_text\"]\n",
        "    tweet = str(p.clean(tweet))\n",
        "    tweet = re.sub(r'[^\\w\\s]', '', tweet) # punctuation\n",
        "    tweet = re.sub(\"^\\d+\\s|\\s\\d+\\s|\\s\\d+$\", \" \", tweet) # numbers\n",
        "    return tweet\n",
        "\n",
        "\n",
        "df_main_analysis[\"clean_text\"] = df_main_analysis.apply(lambda row: cleanTweet(row), axis=1)\n",
        "df_main_analysis['data_type'] = 'test'\n",
        "df_main_analysis['label'] = 'Democrat'\n",
        "display(df_main_analysis[\"clean_text\"])"
      ],
      "execution_count": null,
      "outputs": [
        {
          "output_type": "display_data",
          "data": {
            "text/plain": [
              "0          THIS IS A REMINDER THAT KANYE WEST ADMITTED T...\n",
              "1          America has to be a functioning democracy bef...\n",
              "2                                                      True\n",
              "3          According to public record the big black truc...\n",
              "4                                 This is Joe Bidens moment\n",
              "                                ...                        \n",
              "281741                                  China sure hopes so\n",
              "281742    The man is delusional and should be removed fr...\n",
              "281743    Riiiight yet youre not citing your sources eit...\n",
              "281744     El sen Rubio le envi una carta a instndolo a ...\n",
              "281745      is stopping by Carpenters Local Union Hall i...\n",
              "Name: clean_text, Length: 281746, dtype: object"
            ]
          },
          "metadata": {
            "tags": []
          }
        }
      ]
    },
    {
      "cell_type": "code",
      "metadata": {
        "id": "_tE6C4XSz09I"
      },
      "source": [
        "LABEL_MAP = {\n",
        "    \"Democrat\": 0,\n",
        "    \"Republican\": 1\n",
        "}\n",
        "\n",
        "def buildLabels(row):\n",
        "    return LABEL_MAP.get(row[\"label\"])\n",
        "\n",
        "df_main_analysis[\"label\"] = df_main_analysis.apply(lambda row: buildLabels(row), axis=1)"
      ],
      "execution_count": null,
      "outputs": []
    },
    {
      "cell_type": "code",
      "metadata": {
        "id": "qGcqr5lF4FcU"
      },
      "source": [
        "def get_dataloaders(data, batch_size):\n",
        "    tokenizer = BertTokenizer.from_pretrained('bert-base-uncased', \n",
        "                                            do_lower_case=True)\n",
        "    # tokenize train and test data so BERT can understand it\n",
        "\n",
        "    encoded_data_test = tokenizer.batch_encode_plus(\n",
        "      data[data.data_type=='test'].clean_text.values, \n",
        "      add_special_tokens=True, \n",
        "      return_attention_mask=True, \n",
        "      padding=True, \n",
        "      max_length=64, \n",
        "      return_tensors='pt'\n",
        "    )\n",
        "\n",
        "\n",
        "\n",
        "    input_ids_test = encoded_data_test['input_ids']\n",
        "    attention_masks_test = encoded_data_test['attention_mask']\n",
        "    labels_test = torch.tensor(data[data.data_type=='test'].label.values)\n",
        "\n",
        "    test_data = TensorDataset(input_ids_test, attention_masks_test, labels_test)\n",
        "\n",
        "    test_dataloader = DataLoader(test_data,\n",
        "                              sampler=SequentialSampler(test_data),\n",
        "                              batch_size=batch_size)\n",
        "\n",
        "    return test_dataloader"
      ],
      "execution_count": null,
      "outputs": []
    },
    {
      "cell_type": "code",
      "metadata": {
        "id": "r-kYTPzQ4KGw"
      },
      "source": [
        "def evaluate(model, dataloader, device):\n",
        "    model.eval()\n",
        "\n",
        "    loss_val_total = 0\n",
        "    predictions, true_vals = [], []\n",
        "\n",
        "    for batch in dataloader:\n",
        "\n",
        "      # convert data to CUDA\n",
        "        batch = tuple(b.to(device) for b in batch)\n",
        "\n",
        "        inputs = {\n",
        "          'input_ids':      batch[0],\n",
        "          'attention_mask': batch[1],\n",
        "          'labels':         batch[2],\n",
        "        }\n",
        "        \n",
        "        with torch.no_grad():        \n",
        "            outputs = model(**inputs) # get predictions\n",
        "\n",
        "        loss = outputs[0]\n",
        "        logits = outputs[1]\n",
        "        loss_val_total += loss.item()\n",
        "\n",
        "        logits = logits.detach().cpu().numpy()\n",
        "        label_ids = inputs['labels'].cpu().numpy()\n",
        "        predictions.append(logits)\n",
        "        true_vals.append(label_ids)\n",
        "\n",
        "    loss_val_avg = loss_val_total/len(dataloader) \n",
        "\n",
        "    predictions = np.concatenate(predictions, axis=0)\n",
        "    true_vals = np.concatenate(true_vals, axis=0)\n",
        "\n",
        "    return predictions, true_vals"
      ],
      "execution_count": null,
      "outputs": []
    },
    {
      "cell_type": "code",
      "metadata": {
        "colab": {
          "base_uri": "https://localhost:8080/",
          "height": 139
        },
        "id": "sYPqMdnA0FNE",
        "outputId": "c08bbd59-6308-491c-9f5a-0eae58acf251"
      },
      "source": [
        "model = BertForSequenceClassification.from_pretrained('bert-base-uncased',\n",
        "                                                        num_labels=2,\n",
        "                                                        output_attentions=False,\n",
        "                                                        output_hidden_states=False)   \n",
        "model.load_state_dict(torch.load(\"/content/drive/MyDrive/Junior Year/DSP Final Project/new_50k_tweets_model.model\", map_location=torch.device('cuda')))\n",
        "model.to(device)\n",
        "BATCH_SIZE = 16\n",
        "device = torch.device('cuda' if torch.cuda.is_available() else 'cpu')\n",
        "display(device)\n",
        "test_dataloader = get_dataloaders(df_main_analysis, BATCH_SIZE)\n",
        "\n",
        "preds, labels = evaluate(model, test_dataloader, device)"
      ],
      "execution_count": null,
      "outputs": [
        {
          "output_type": "stream",
          "text": [
            "Some weights of the model checkpoint at bert-base-uncased were not used when initializing BertForSequenceClassification: ['cls.predictions.bias', 'cls.predictions.transform.dense.weight', 'cls.predictions.transform.dense.bias', 'cls.predictions.decoder.weight', 'cls.seq_relationship.weight', 'cls.seq_relationship.bias', 'cls.predictions.transform.LayerNorm.weight', 'cls.predictions.transform.LayerNorm.bias']\n",
            "- This IS expected if you are initializing BertForSequenceClassification from the checkpoint of a model trained on another task or with another architecture (e.g. initializing a BertForSequenceClassification model from a BertForPreTraining model).\n",
            "- This IS NOT expected if you are initializing BertForSequenceClassification from the checkpoint of a model that you expect to be exactly identical (initializing a BertForSequenceClassification model from a BertForSequenceClassification model).\n",
            "Some weights of BertForSequenceClassification were not initialized from the model checkpoint at bert-base-uncased and are newly initialized: ['classifier.weight', 'classifier.bias']\n",
            "You should probably TRAIN this model on a down-stream task to be able to use it for predictions and inference.\n"
          ],
          "name": "stderr"
        },
        {
          "output_type": "display_data",
          "data": {
            "text/plain": [
              "device(type='cuda')"
            ]
          },
          "metadata": {
            "tags": []
          }
        }
      ]
    },
    {
      "cell_type": "code",
      "metadata": {
        "colab": {
          "base_uri": "https://localhost:8080/",
          "height": 419
        },
        "id": "ZT8Z7gSc0OHW",
        "outputId": "01a90428-f82f-4dc6-89fc-1d872ec1e200"
      },
      "source": [
        "df_main_analysis[\"label\"] = np.argmax(preds,axis=1)\n",
        "\n",
        "LABEL_MAP_REVERSED = {\n",
        "    0: \"Democrat\",\n",
        "    1: \"Republican\"\n",
        "}\n",
        "\n",
        "def buildLabelsReversed(row):\n",
        "    return LABEL_MAP_REVERSED.get(row[\"label\"])\n",
        "\n",
        "df_results = pd.DataFrame()\n",
        "df_results[\"clean_text\"] = df_main_analysis[\"clean_text\"]\n",
        "df_results[\"label\"] = df_main_analysis.apply(lambda row: buildLabelsReversed(row), axis=1)\n",
        "df_results[\"state\"] = df_main_analysis[\"state\"]\n",
        "display(df_results)"
      ],
      "execution_count": null,
      "outputs": [
        {
          "output_type": "display_data",
          "data": {
            "text/html": [
              "<div>\n",
              "<style scoped>\n",
              "    .dataframe tbody tr th:only-of-type {\n",
              "        vertical-align: middle;\n",
              "    }\n",
              "\n",
              "    .dataframe tbody tr th {\n",
              "        vertical-align: top;\n",
              "    }\n",
              "\n",
              "    .dataframe thead th {\n",
              "        text-align: right;\n",
              "    }\n",
              "</style>\n",
              "<table border=\"1\" class=\"dataframe\">\n",
              "  <thead>\n",
              "    <tr style=\"text-align: right;\">\n",
              "      <th></th>\n",
              "      <th>clean_text</th>\n",
              "      <th>label</th>\n",
              "      <th>state</th>\n",
              "    </tr>\n",
              "  </thead>\n",
              "  <tbody>\n",
              "    <tr>\n",
              "      <th>0</th>\n",
              "      <td>THIS IS A REMINDER THAT KANYE WEST ADMITTED T...</td>\n",
              "      <td>Democrat</td>\n",
              "      <td>Arizona</td>\n",
              "    </tr>\n",
              "    <tr>\n",
              "      <th>1</th>\n",
              "      <td>America has to be a functioning democracy bef...</td>\n",
              "      <td>Democrat</td>\n",
              "      <td>Georgia</td>\n",
              "    </tr>\n",
              "    <tr>\n",
              "      <th>2</th>\n",
              "      <td>True</td>\n",
              "      <td>Republican</td>\n",
              "      <td>Indiana</td>\n",
              "    </tr>\n",
              "    <tr>\n",
              "      <th>3</th>\n",
              "      <td>According to public record the big black truc...</td>\n",
              "      <td>Republican</td>\n",
              "      <td>Maryland</td>\n",
              "    </tr>\n",
              "    <tr>\n",
              "      <th>4</th>\n",
              "      <td>This is Joe Bidens moment</td>\n",
              "      <td>Republican</td>\n",
              "      <td>North Carolina</td>\n",
              "    </tr>\n",
              "    <tr>\n",
              "      <th>...</th>\n",
              "      <td>...</td>\n",
              "      <td>...</td>\n",
              "      <td>...</td>\n",
              "    </tr>\n",
              "    <tr>\n",
              "      <th>281741</th>\n",
              "      <td>China sure hopes so</td>\n",
              "      <td>Republican</td>\n",
              "      <td>West Virginia</td>\n",
              "    </tr>\n",
              "    <tr>\n",
              "      <th>281742</th>\n",
              "      <td>The man is delusional and should be removed fr...</td>\n",
              "      <td>Democrat</td>\n",
              "      <td>Washington</td>\n",
              "    </tr>\n",
              "    <tr>\n",
              "      <th>281743</th>\n",
              "      <td>Riiiight yet youre not citing your sources eit...</td>\n",
              "      <td>Republican</td>\n",
              "      <td>California</td>\n",
              "    </tr>\n",
              "    <tr>\n",
              "      <th>281744</th>\n",
              "      <td>El sen Rubio le envi una carta a instndolo a ...</td>\n",
              "      <td>Republican</td>\n",
              "      <td>Florida</td>\n",
              "    </tr>\n",
              "    <tr>\n",
              "      <th>281745</th>\n",
              "      <td>is stopping by Carpenters Local Union Hall i...</td>\n",
              "      <td>Republican</td>\n",
              "      <td>Illinois</td>\n",
              "    </tr>\n",
              "  </tbody>\n",
              "</table>\n",
              "<p>281746 rows × 3 columns</p>\n",
              "</div>"
            ],
            "text/plain": [
              "                                               clean_text  ...           state\n",
              "0        THIS IS A REMINDER THAT KANYE WEST ADMITTED T...  ...         Arizona\n",
              "1        America has to be a functioning democracy bef...  ...         Georgia\n",
              "2                                                    True  ...         Indiana\n",
              "3        According to public record the big black truc...  ...        Maryland\n",
              "4                               This is Joe Bidens moment  ...  North Carolina\n",
              "...                                                   ...  ...             ...\n",
              "281741                                China sure hopes so  ...   West Virginia\n",
              "281742  The man is delusional and should be removed fr...  ...      Washington\n",
              "281743  Riiiight yet youre not citing your sources eit...  ...      California\n",
              "281744   El sen Rubio le envi una carta a instndolo a ...  ...         Florida\n",
              "281745    is stopping by Carpenters Local Union Hall i...  ...        Illinois\n",
              "\n",
              "[281746 rows x 3 columns]"
            ]
          },
          "metadata": {
            "tags": []
          }
        }
      ]
    },
    {
      "cell_type": "code",
      "metadata": {
        "id": "r3mHBI9FzBGj"
      },
      "source": [
        "df_results.to_csv(\"/content/drive/MyDrive/Junior Year/DSP Final Project/labeled_tweets_model3.csv\")"
      ],
      "execution_count": null,
      "outputs": []
    },
    {
      "cell_type": "code",
      "metadata": {
        "colab": {
          "base_uri": "https://localhost:8080/",
          "height": 1000
        },
        "id": "HWDO2FRy0am0",
        "outputId": "b65b4f15-1e2b-44f5-f0fd-ed27d237c569"
      },
      "source": [
        "#create unique list of names\n",
        "uniqueStates = df_results.state.unique()\n",
        "\n",
        "#create a data frame dictionary to store your data frames\n",
        "DataFrameDict = {elem : pd.DataFrame for elem in uniqueStates}\n",
        "\n",
        "for key in DataFrameDict.keys():\n",
        "    DataFrameDict[key] = df_results[:][df_results.state == key]\n",
        "    \n",
        "for state in STATE_NAMES:\n",
        "    value_counts = DataFrameDict[state][\"label\"].value_counts(normalize=True)\n",
        "#     if value_counts[\"Republican\"] > value_counts[\"Democrat\"]:\n",
        "    display(state, value_counts)"
      ],
      "execution_count": null,
      "outputs": [
        {
          "output_type": "display_data",
          "data": {
            "application/vnd.google.colaboratory.intrinsic+json": {
              "type": "string"
            },
            "text/plain": [
              "'Alaska'"
            ]
          },
          "metadata": {
            "tags": []
          }
        },
        {
          "output_type": "display_data",
          "data": {
            "text/plain": [
              "Democrat      0.594438\n",
              "Republican    0.405562\n",
              "Name: label, dtype: float64"
            ]
          },
          "metadata": {
            "tags": []
          }
        },
        {
          "output_type": "display_data",
          "data": {
            "application/vnd.google.colaboratory.intrinsic+json": {
              "type": "string"
            },
            "text/plain": [
              "'Alabama'"
            ]
          },
          "metadata": {
            "tags": []
          }
        },
        {
          "output_type": "display_data",
          "data": {
            "text/plain": [
              "Democrat      0.559662\n",
              "Republican    0.440338\n",
              "Name: label, dtype: float64"
            ]
          },
          "metadata": {
            "tags": []
          }
        },
        {
          "output_type": "display_data",
          "data": {
            "application/vnd.google.colaboratory.intrinsic+json": {
              "type": "string"
            },
            "text/plain": [
              "'Arkansas'"
            ]
          },
          "metadata": {
            "tags": []
          }
        },
        {
          "output_type": "display_data",
          "data": {
            "text/plain": [
              "Democrat      0.59845\n",
              "Republican    0.40155\n",
              "Name: label, dtype: float64"
            ]
          },
          "metadata": {
            "tags": []
          }
        },
        {
          "output_type": "display_data",
          "data": {
            "application/vnd.google.colaboratory.intrinsic+json": {
              "type": "string"
            },
            "text/plain": [
              "'Arizona'"
            ]
          },
          "metadata": {
            "tags": []
          }
        },
        {
          "output_type": "display_data",
          "data": {
            "text/plain": [
              "Democrat      0.598114\n",
              "Republican    0.401886\n",
              "Name: label, dtype: float64"
            ]
          },
          "metadata": {
            "tags": []
          }
        },
        {
          "output_type": "display_data",
          "data": {
            "application/vnd.google.colaboratory.intrinsic+json": {
              "type": "string"
            },
            "text/plain": [
              "'California'"
            ]
          },
          "metadata": {
            "tags": []
          }
        },
        {
          "output_type": "display_data",
          "data": {
            "text/plain": [
              "Democrat      0.627544\n",
              "Republican    0.372456\n",
              "Name: label, dtype: float64"
            ]
          },
          "metadata": {
            "tags": []
          }
        },
        {
          "output_type": "display_data",
          "data": {
            "application/vnd.google.colaboratory.intrinsic+json": {
              "type": "string"
            },
            "text/plain": [
              "'Colorado'"
            ]
          },
          "metadata": {
            "tags": []
          }
        },
        {
          "output_type": "display_data",
          "data": {
            "text/plain": [
              "Democrat      0.625366\n",
              "Republican    0.374634\n",
              "Name: label, dtype: float64"
            ]
          },
          "metadata": {
            "tags": []
          }
        },
        {
          "output_type": "display_data",
          "data": {
            "application/vnd.google.colaboratory.intrinsic+json": {
              "type": "string"
            },
            "text/plain": [
              "'Connecticut'"
            ]
          },
          "metadata": {
            "tags": []
          }
        },
        {
          "output_type": "display_data",
          "data": {
            "text/plain": [
              "Democrat      0.623911\n",
              "Republican    0.376089\n",
              "Name: label, dtype: float64"
            ]
          },
          "metadata": {
            "tags": []
          }
        },
        {
          "output_type": "display_data",
          "data": {
            "application/vnd.google.colaboratory.intrinsic+json": {
              "type": "string"
            },
            "text/plain": [
              "'Delaware'"
            ]
          },
          "metadata": {
            "tags": []
          }
        },
        {
          "output_type": "display_data",
          "data": {
            "text/plain": [
              "Democrat      0.640324\n",
              "Republican    0.359676\n",
              "Name: label, dtype: float64"
            ]
          },
          "metadata": {
            "tags": []
          }
        },
        {
          "output_type": "display_data",
          "data": {
            "application/vnd.google.colaboratory.intrinsic+json": {
              "type": "string"
            },
            "text/plain": [
              "'Florida'"
            ]
          },
          "metadata": {
            "tags": []
          }
        },
        {
          "output_type": "display_data",
          "data": {
            "text/plain": [
              "Democrat      0.579698\n",
              "Republican    0.420302\n",
              "Name: label, dtype: float64"
            ]
          },
          "metadata": {
            "tags": []
          }
        },
        {
          "output_type": "display_data",
          "data": {
            "application/vnd.google.colaboratory.intrinsic+json": {
              "type": "string"
            },
            "text/plain": [
              "'Georgia'"
            ]
          },
          "metadata": {
            "tags": []
          }
        },
        {
          "output_type": "display_data",
          "data": {
            "text/plain": [
              "Democrat      0.579892\n",
              "Republican    0.420108\n",
              "Name: label, dtype: float64"
            ]
          },
          "metadata": {
            "tags": []
          }
        },
        {
          "output_type": "display_data",
          "data": {
            "application/vnd.google.colaboratory.intrinsic+json": {
              "type": "string"
            },
            "text/plain": [
              "'Hawaii'"
            ]
          },
          "metadata": {
            "tags": []
          }
        },
        {
          "output_type": "display_data",
          "data": {
            "text/plain": [
              "Democrat      0.623179\n",
              "Republican    0.376821\n",
              "Name: label, dtype: float64"
            ]
          },
          "metadata": {
            "tags": []
          }
        },
        {
          "output_type": "display_data",
          "data": {
            "application/vnd.google.colaboratory.intrinsic+json": {
              "type": "string"
            },
            "text/plain": [
              "'Iowa'"
            ]
          },
          "metadata": {
            "tags": []
          }
        },
        {
          "output_type": "display_data",
          "data": {
            "text/plain": [
              "Democrat      0.586945\n",
              "Republican    0.413055\n",
              "Name: label, dtype: float64"
            ]
          },
          "metadata": {
            "tags": []
          }
        },
        {
          "output_type": "display_data",
          "data": {
            "application/vnd.google.colaboratory.intrinsic+json": {
              "type": "string"
            },
            "text/plain": [
              "'Idaho'"
            ]
          },
          "metadata": {
            "tags": []
          }
        },
        {
          "output_type": "display_data",
          "data": {
            "text/plain": [
              "Democrat      0.552727\n",
              "Republican    0.447273\n",
              "Name: label, dtype: float64"
            ]
          },
          "metadata": {
            "tags": []
          }
        },
        {
          "output_type": "display_data",
          "data": {
            "application/vnd.google.colaboratory.intrinsic+json": {
              "type": "string"
            },
            "text/plain": [
              "'Illinois'"
            ]
          },
          "metadata": {
            "tags": []
          }
        },
        {
          "output_type": "display_data",
          "data": {
            "text/plain": [
              "Democrat      0.636218\n",
              "Republican    0.363782\n",
              "Name: label, dtype: float64"
            ]
          },
          "metadata": {
            "tags": []
          }
        },
        {
          "output_type": "display_data",
          "data": {
            "application/vnd.google.colaboratory.intrinsic+json": {
              "type": "string"
            },
            "text/plain": [
              "'Indiana'"
            ]
          },
          "metadata": {
            "tags": []
          }
        },
        {
          "output_type": "display_data",
          "data": {
            "text/plain": [
              "Democrat      0.569762\n",
              "Republican    0.430238\n",
              "Name: label, dtype: float64"
            ]
          },
          "metadata": {
            "tags": []
          }
        },
        {
          "output_type": "display_data",
          "data": {
            "application/vnd.google.colaboratory.intrinsic+json": {
              "type": "string"
            },
            "text/plain": [
              "'Kansas'"
            ]
          },
          "metadata": {
            "tags": []
          }
        },
        {
          "output_type": "display_data",
          "data": {
            "text/plain": [
              "Democrat      0.587308\n",
              "Republican    0.412692\n",
              "Name: label, dtype: float64"
            ]
          },
          "metadata": {
            "tags": []
          }
        },
        {
          "output_type": "display_data",
          "data": {
            "application/vnd.google.colaboratory.intrinsic+json": {
              "type": "string"
            },
            "text/plain": [
              "'Kentucky'"
            ]
          },
          "metadata": {
            "tags": []
          }
        },
        {
          "output_type": "display_data",
          "data": {
            "text/plain": [
              "Democrat      0.577019\n",
              "Republican    0.422981\n",
              "Name: label, dtype: float64"
            ]
          },
          "metadata": {
            "tags": []
          }
        },
        {
          "output_type": "display_data",
          "data": {
            "application/vnd.google.colaboratory.intrinsic+json": {
              "type": "string"
            },
            "text/plain": [
              "'Louisiana'"
            ]
          },
          "metadata": {
            "tags": []
          }
        },
        {
          "output_type": "display_data",
          "data": {
            "text/plain": [
              "Democrat      0.574281\n",
              "Republican    0.425719\n",
              "Name: label, dtype: float64"
            ]
          },
          "metadata": {
            "tags": []
          }
        },
        {
          "output_type": "display_data",
          "data": {
            "application/vnd.google.colaboratory.intrinsic+json": {
              "type": "string"
            },
            "text/plain": [
              "'Massachusetts'"
            ]
          },
          "metadata": {
            "tags": []
          }
        },
        {
          "output_type": "display_data",
          "data": {
            "text/plain": [
              "Democrat      0.620015\n",
              "Republican    0.379985\n",
              "Name: label, dtype: float64"
            ]
          },
          "metadata": {
            "tags": []
          }
        },
        {
          "output_type": "display_data",
          "data": {
            "application/vnd.google.colaboratory.intrinsic+json": {
              "type": "string"
            },
            "text/plain": [
              "'Maryland'"
            ]
          },
          "metadata": {
            "tags": []
          }
        },
        {
          "output_type": "display_data",
          "data": {
            "text/plain": [
              "Democrat      0.63578\n",
              "Republican    0.36422\n",
              "Name: label, dtype: float64"
            ]
          },
          "metadata": {
            "tags": []
          }
        },
        {
          "output_type": "display_data",
          "data": {
            "application/vnd.google.colaboratory.intrinsic+json": {
              "type": "string"
            },
            "text/plain": [
              "'Maine'"
            ]
          },
          "metadata": {
            "tags": []
          }
        },
        {
          "output_type": "display_data",
          "data": {
            "text/plain": [
              "Democrat      0.594229\n",
              "Republican    0.405771\n",
              "Name: label, dtype: float64"
            ]
          },
          "metadata": {
            "tags": []
          }
        },
        {
          "output_type": "display_data",
          "data": {
            "application/vnd.google.colaboratory.intrinsic+json": {
              "type": "string"
            },
            "text/plain": [
              "'Michigan'"
            ]
          },
          "metadata": {
            "tags": []
          }
        },
        {
          "output_type": "display_data",
          "data": {
            "text/plain": [
              "Democrat      0.610008\n",
              "Republican    0.389992\n",
              "Name: label, dtype: float64"
            ]
          },
          "metadata": {
            "tags": []
          }
        },
        {
          "output_type": "display_data",
          "data": {
            "application/vnd.google.colaboratory.intrinsic+json": {
              "type": "string"
            },
            "text/plain": [
              "'Minnesota'"
            ]
          },
          "metadata": {
            "tags": []
          }
        },
        {
          "output_type": "display_data",
          "data": {
            "text/plain": [
              "Democrat      0.623658\n",
              "Republican    0.376342\n",
              "Name: label, dtype: float64"
            ]
          },
          "metadata": {
            "tags": []
          }
        },
        {
          "output_type": "display_data",
          "data": {
            "application/vnd.google.colaboratory.intrinsic+json": {
              "type": "string"
            },
            "text/plain": [
              "'Missouri'"
            ]
          },
          "metadata": {
            "tags": []
          }
        },
        {
          "output_type": "display_data",
          "data": {
            "text/plain": [
              "Democrat      0.581824\n",
              "Republican    0.418176\n",
              "Name: label, dtype: float64"
            ]
          },
          "metadata": {
            "tags": []
          }
        },
        {
          "output_type": "display_data",
          "data": {
            "application/vnd.google.colaboratory.intrinsic+json": {
              "type": "string"
            },
            "text/plain": [
              "'Mississippi'"
            ]
          },
          "metadata": {
            "tags": []
          }
        },
        {
          "output_type": "display_data",
          "data": {
            "text/plain": [
              "Democrat      0.56058\n",
              "Republican    0.43942\n",
              "Name: label, dtype: float64"
            ]
          },
          "metadata": {
            "tags": []
          }
        },
        {
          "output_type": "display_data",
          "data": {
            "application/vnd.google.colaboratory.intrinsic+json": {
              "type": "string"
            },
            "text/plain": [
              "'Montana'"
            ]
          },
          "metadata": {
            "tags": []
          }
        },
        {
          "output_type": "display_data",
          "data": {
            "text/plain": [
              "Democrat      0.594595\n",
              "Republican    0.405405\n",
              "Name: label, dtype: float64"
            ]
          },
          "metadata": {
            "tags": []
          }
        },
        {
          "output_type": "display_data",
          "data": {
            "application/vnd.google.colaboratory.intrinsic+json": {
              "type": "string"
            },
            "text/plain": [
              "'North Carolina'"
            ]
          },
          "metadata": {
            "tags": []
          }
        },
        {
          "output_type": "display_data",
          "data": {
            "text/plain": [
              "Democrat      0.591253\n",
              "Republican    0.408747\n",
              "Name: label, dtype: float64"
            ]
          },
          "metadata": {
            "tags": []
          }
        },
        {
          "output_type": "display_data",
          "data": {
            "application/vnd.google.colaboratory.intrinsic+json": {
              "type": "string"
            },
            "text/plain": [
              "'North Dakota'"
            ]
          },
          "metadata": {
            "tags": []
          }
        },
        {
          "output_type": "display_data",
          "data": {
            "text/plain": [
              "Democrat      0.600515\n",
              "Republican    0.399485\n",
              "Name: label, dtype: float64"
            ]
          },
          "metadata": {
            "tags": []
          }
        },
        {
          "output_type": "display_data",
          "data": {
            "application/vnd.google.colaboratory.intrinsic+json": {
              "type": "string"
            },
            "text/plain": [
              "'Nebraska'"
            ]
          },
          "metadata": {
            "tags": []
          }
        },
        {
          "output_type": "display_data",
          "data": {
            "text/plain": [
              "Democrat      0.607143\n",
              "Republican    0.392857\n",
              "Name: label, dtype: float64"
            ]
          },
          "metadata": {
            "tags": []
          }
        },
        {
          "output_type": "display_data",
          "data": {
            "application/vnd.google.colaboratory.intrinsic+json": {
              "type": "string"
            },
            "text/plain": [
              "'New Hampshire'"
            ]
          },
          "metadata": {
            "tags": []
          }
        },
        {
          "output_type": "display_data",
          "data": {
            "text/plain": [
              "Democrat      0.615443\n",
              "Republican    0.384557\n",
              "Name: label, dtype: float64"
            ]
          },
          "metadata": {
            "tags": []
          }
        },
        {
          "output_type": "display_data",
          "data": {
            "application/vnd.google.colaboratory.intrinsic+json": {
              "type": "string"
            },
            "text/plain": [
              "'New Jersey'"
            ]
          },
          "metadata": {
            "tags": []
          }
        },
        {
          "output_type": "display_data",
          "data": {
            "text/plain": [
              "Democrat      0.609515\n",
              "Republican    0.390485\n",
              "Name: label, dtype: float64"
            ]
          },
          "metadata": {
            "tags": []
          }
        },
        {
          "output_type": "display_data",
          "data": {
            "application/vnd.google.colaboratory.intrinsic+json": {
              "type": "string"
            },
            "text/plain": [
              "'New Mexico'"
            ]
          },
          "metadata": {
            "tags": []
          }
        },
        {
          "output_type": "display_data",
          "data": {
            "text/plain": [
              "Democrat      0.634402\n",
              "Republican    0.365598\n",
              "Name: label, dtype: float64"
            ]
          },
          "metadata": {
            "tags": []
          }
        },
        {
          "output_type": "display_data",
          "data": {
            "application/vnd.google.colaboratory.intrinsic+json": {
              "type": "string"
            },
            "text/plain": [
              "'Nevada'"
            ]
          },
          "metadata": {
            "tags": []
          }
        },
        {
          "output_type": "display_data",
          "data": {
            "text/plain": [
              "Democrat      0.601472\n",
              "Republican    0.398528\n",
              "Name: label, dtype: float64"
            ]
          },
          "metadata": {
            "tags": []
          }
        },
        {
          "output_type": "display_data",
          "data": {
            "application/vnd.google.colaboratory.intrinsic+json": {
              "type": "string"
            },
            "text/plain": [
              "'New York'"
            ]
          },
          "metadata": {
            "tags": []
          }
        },
        {
          "output_type": "display_data",
          "data": {
            "text/plain": [
              "Democrat      0.622343\n",
              "Republican    0.377657\n",
              "Name: label, dtype: float64"
            ]
          },
          "metadata": {
            "tags": []
          }
        },
        {
          "output_type": "display_data",
          "data": {
            "application/vnd.google.colaboratory.intrinsic+json": {
              "type": "string"
            },
            "text/plain": [
              "'Ohio'"
            ]
          },
          "metadata": {
            "tags": []
          }
        },
        {
          "output_type": "display_data",
          "data": {
            "text/plain": [
              "Democrat      0.594721\n",
              "Republican    0.405279\n",
              "Name: label, dtype: float64"
            ]
          },
          "metadata": {
            "tags": []
          }
        },
        {
          "output_type": "display_data",
          "data": {
            "application/vnd.google.colaboratory.intrinsic+json": {
              "type": "string"
            },
            "text/plain": [
              "'Oklahoma'"
            ]
          },
          "metadata": {
            "tags": []
          }
        },
        {
          "output_type": "display_data",
          "data": {
            "text/plain": [
              "Democrat      0.581297\n",
              "Republican    0.418703\n",
              "Name: label, dtype: float64"
            ]
          },
          "metadata": {
            "tags": []
          }
        },
        {
          "output_type": "display_data",
          "data": {
            "application/vnd.google.colaboratory.intrinsic+json": {
              "type": "string"
            },
            "text/plain": [
              "'Oregon'"
            ]
          },
          "metadata": {
            "tags": []
          }
        },
        {
          "output_type": "display_data",
          "data": {
            "text/plain": [
              "Democrat      0.637631\n",
              "Republican    0.362369\n",
              "Name: label, dtype: float64"
            ]
          },
          "metadata": {
            "tags": []
          }
        },
        {
          "output_type": "display_data",
          "data": {
            "application/vnd.google.colaboratory.intrinsic+json": {
              "type": "string"
            },
            "text/plain": [
              "'Pennsylvania'"
            ]
          },
          "metadata": {
            "tags": []
          }
        },
        {
          "output_type": "display_data",
          "data": {
            "text/plain": [
              "Democrat      0.610971\n",
              "Republican    0.389029\n",
              "Name: label, dtype: float64"
            ]
          },
          "metadata": {
            "tags": []
          }
        },
        {
          "output_type": "display_data",
          "data": {
            "application/vnd.google.colaboratory.intrinsic+json": {
              "type": "string"
            },
            "text/plain": [
              "'Rhode Island'"
            ]
          },
          "metadata": {
            "tags": []
          }
        },
        {
          "output_type": "display_data",
          "data": {
            "text/plain": [
              "Democrat      0.609562\n",
              "Republican    0.390438\n",
              "Name: label, dtype: float64"
            ]
          },
          "metadata": {
            "tags": []
          }
        },
        {
          "output_type": "display_data",
          "data": {
            "application/vnd.google.colaboratory.intrinsic+json": {
              "type": "string"
            },
            "text/plain": [
              "'South Carolina'"
            ]
          },
          "metadata": {
            "tags": []
          }
        },
        {
          "output_type": "display_data",
          "data": {
            "text/plain": [
              "Democrat      0.560934\n",
              "Republican    0.439066\n",
              "Name: label, dtype: float64"
            ]
          },
          "metadata": {
            "tags": []
          }
        },
        {
          "output_type": "display_data",
          "data": {
            "application/vnd.google.colaboratory.intrinsic+json": {
              "type": "string"
            },
            "text/plain": [
              "'South Dakota'"
            ]
          },
          "metadata": {
            "tags": []
          }
        },
        {
          "output_type": "display_data",
          "data": {
            "text/plain": [
              "Democrat      0.600928\n",
              "Republican    0.399072\n",
              "Name: label, dtype: float64"
            ]
          },
          "metadata": {
            "tags": []
          }
        },
        {
          "output_type": "display_data",
          "data": {
            "application/vnd.google.colaboratory.intrinsic+json": {
              "type": "string"
            },
            "text/plain": [
              "'Tennessee'"
            ]
          },
          "metadata": {
            "tags": []
          }
        },
        {
          "output_type": "display_data",
          "data": {
            "text/plain": [
              "Democrat      0.573683\n",
              "Republican    0.426317\n",
              "Name: label, dtype: float64"
            ]
          },
          "metadata": {
            "tags": []
          }
        },
        {
          "output_type": "display_data",
          "data": {
            "application/vnd.google.colaboratory.intrinsic+json": {
              "type": "string"
            },
            "text/plain": [
              "'Texas'"
            ]
          },
          "metadata": {
            "tags": []
          }
        },
        {
          "output_type": "display_data",
          "data": {
            "text/plain": [
              "Democrat      0.576453\n",
              "Republican    0.423547\n",
              "Name: label, dtype: float64"
            ]
          },
          "metadata": {
            "tags": []
          }
        },
        {
          "output_type": "display_data",
          "data": {
            "application/vnd.google.colaboratory.intrinsic+json": {
              "type": "string"
            },
            "text/plain": [
              "'Utah'"
            ]
          },
          "metadata": {
            "tags": []
          }
        },
        {
          "output_type": "display_data",
          "data": {
            "text/plain": [
              "Democrat      0.588413\n",
              "Republican    0.411587\n",
              "Name: label, dtype: float64"
            ]
          },
          "metadata": {
            "tags": []
          }
        },
        {
          "output_type": "display_data",
          "data": {
            "application/vnd.google.colaboratory.intrinsic+json": {
              "type": "string"
            },
            "text/plain": [
              "'Virginia'"
            ]
          },
          "metadata": {
            "tags": []
          }
        },
        {
          "output_type": "display_data",
          "data": {
            "text/plain": [
              "Democrat      0.619196\n",
              "Republican    0.380804\n",
              "Name: label, dtype: float64"
            ]
          },
          "metadata": {
            "tags": []
          }
        },
        {
          "output_type": "display_data",
          "data": {
            "application/vnd.google.colaboratory.intrinsic+json": {
              "type": "string"
            },
            "text/plain": [
              "'Vermont'"
            ]
          },
          "metadata": {
            "tags": []
          }
        },
        {
          "output_type": "display_data",
          "data": {
            "text/plain": [
              "Democrat      0.632479\n",
              "Republican    0.367521\n",
              "Name: label, dtype: float64"
            ]
          },
          "metadata": {
            "tags": []
          }
        },
        {
          "output_type": "display_data",
          "data": {
            "application/vnd.google.colaboratory.intrinsic+json": {
              "type": "string"
            },
            "text/plain": [
              "'Washington'"
            ]
          },
          "metadata": {
            "tags": []
          }
        },
        {
          "output_type": "display_data",
          "data": {
            "text/plain": [
              "Democrat      0.633385\n",
              "Republican    0.366615\n",
              "Name: label, dtype: float64"
            ]
          },
          "metadata": {
            "tags": []
          }
        },
        {
          "output_type": "display_data",
          "data": {
            "application/vnd.google.colaboratory.intrinsic+json": {
              "type": "string"
            },
            "text/plain": [
              "'Wisconsin'"
            ]
          },
          "metadata": {
            "tags": []
          }
        },
        {
          "output_type": "display_data",
          "data": {
            "text/plain": [
              "Democrat      0.610198\n",
              "Republican    0.389802\n",
              "Name: label, dtype: float64"
            ]
          },
          "metadata": {
            "tags": []
          }
        },
        {
          "output_type": "display_data",
          "data": {
            "application/vnd.google.colaboratory.intrinsic+json": {
              "type": "string"
            },
            "text/plain": [
              "'West Virginia'"
            ]
          },
          "metadata": {
            "tags": []
          }
        },
        {
          "output_type": "display_data",
          "data": {
            "text/plain": [
              "Democrat      0.597031\n",
              "Republican    0.402969\n",
              "Name: label, dtype: float64"
            ]
          },
          "metadata": {
            "tags": []
          }
        },
        {
          "output_type": "display_data",
          "data": {
            "application/vnd.google.colaboratory.intrinsic+json": {
              "type": "string"
            },
            "text/plain": [
              "'Wyoming'"
            ]
          },
          "metadata": {
            "tags": []
          }
        },
        {
          "output_type": "display_data",
          "data": {
            "text/plain": [
              "Democrat      0.623907\n",
              "Republican    0.376093\n",
              "Name: label, dtype: float64"
            ]
          },
          "metadata": {
            "tags": []
          }
        }
      ]
    },
    {
      "cell_type": "code",
      "metadata": {
        "colab": {
          "base_uri": "https://localhost:8080/",
          "height": 1000
        },
        "id": "Wb3n-2Tw2shS",
        "outputId": "bb640d1f-2f90-47e5-a216-e13338b6d772"
      },
      "source": [
        "df_state_results = pd.DataFrame(columns=['State','Democrat','Republican'])\n",
        "rows_list = []\n",
        "for state in STATE_NAMES:\n",
        "    value_counts = DataFrameDict[state][\"label\"].value_counts()\n",
        "#     if value_counts[\"Republican\"] > value_counts[\"Democrat\"]:\n",
        "    # df_temp = pd.DataFrame(columns=['State','Democrat','Republican'])\n",
        "    # df_temp['State'] = state\n",
        "    # df_temp['Democrat'] = value_counts['Democrat']\n",
        "    # df_temp['Republican'] = value_counts['Republican']\n",
        "    # display(df_temp)\n",
        "    # df_state_results = pd.concat([df_state_results,df_temp])\n",
        "    # display(state, value_counts)\n",
        "    rows_list.append({'State': state, \"Democrat\": value_counts['Democrat'], \"Republican\": value_counts['Republican']})\n",
        "\n",
        "df_state_results = pd.DataFrame(rows_list)\n",
        "df_state_results[\"Republican_percentage\"] = df_state_results[\"Republican\"]/(df_state_results[\"Democrat\"] + df_state_results[\"Republican\"])\n",
        "df_state_results[\"Democrat_percentage\"] = df_state_results[\"Democrat\"]/(df_state_results[\"Democrat\"] + df_state_results[\"Republican\"])\n",
        "display(df_state_results)\n"
      ],
      "execution_count": null,
      "outputs": [
        {
          "output_type": "display_data",
          "data": {
            "text/html": [
              "<div>\n",
              "<style scoped>\n",
              "    .dataframe tbody tr th:only-of-type {\n",
              "        vertical-align: middle;\n",
              "    }\n",
              "\n",
              "    .dataframe tbody tr th {\n",
              "        vertical-align: top;\n",
              "    }\n",
              "\n",
              "    .dataframe thead th {\n",
              "        text-align: right;\n",
              "    }\n",
              "</style>\n",
              "<table border=\"1\" class=\"dataframe\">\n",
              "  <thead>\n",
              "    <tr style=\"text-align: right;\">\n",
              "      <th></th>\n",
              "      <th>State</th>\n",
              "      <th>Democrat</th>\n",
              "      <th>Republican</th>\n",
              "      <th>Republican_percentage</th>\n",
              "      <th>Democrat_percentage</th>\n",
              "    </tr>\n",
              "  </thead>\n",
              "  <tbody>\n",
              "    <tr>\n",
              "      <th>0</th>\n",
              "      <td>Alaska</td>\n",
              "      <td>513</td>\n",
              "      <td>350</td>\n",
              "      <td>0.405562</td>\n",
              "      <td>0.594438</td>\n",
              "    </tr>\n",
              "    <tr>\n",
              "      <th>1</th>\n",
              "      <td>Alabama</td>\n",
              "      <td>1590</td>\n",
              "      <td>1251</td>\n",
              "      <td>0.440338</td>\n",
              "      <td>0.559662</td>\n",
              "    </tr>\n",
              "    <tr>\n",
              "      <th>2</th>\n",
              "      <td>Arkansas</td>\n",
              "      <td>1158</td>\n",
              "      <td>777</td>\n",
              "      <td>0.401550</td>\n",
              "      <td>0.598450</td>\n",
              "    </tr>\n",
              "    <tr>\n",
              "      <th>3</th>\n",
              "      <td>Arizona</td>\n",
              "      <td>4630</td>\n",
              "      <td>3111</td>\n",
              "      <td>0.401886</td>\n",
              "      <td>0.598114</td>\n",
              "    </tr>\n",
              "    <tr>\n",
              "      <th>4</th>\n",
              "      <td>California</td>\n",
              "      <td>24173</td>\n",
              "      <td>14347</td>\n",
              "      <td>0.372456</td>\n",
              "      <td>0.627544</td>\n",
              "    </tr>\n",
              "    <tr>\n",
              "      <th>5</th>\n",
              "      <td>Colorado</td>\n",
              "      <td>3629</td>\n",
              "      <td>2174</td>\n",
              "      <td>0.374634</td>\n",
              "      <td>0.625366</td>\n",
              "    </tr>\n",
              "    <tr>\n",
              "      <th>6</th>\n",
              "      <td>Connecticut</td>\n",
              "      <td>1790</td>\n",
              "      <td>1079</td>\n",
              "      <td>0.376089</td>\n",
              "      <td>0.623911</td>\n",
              "    </tr>\n",
              "    <tr>\n",
              "      <th>7</th>\n",
              "      <td>Delaware</td>\n",
              "      <td>632</td>\n",
              "      <td>355</td>\n",
              "      <td>0.359676</td>\n",
              "      <td>0.640324</td>\n",
              "    </tr>\n",
              "    <tr>\n",
              "      <th>8</th>\n",
              "      <td>Florida</td>\n",
              "      <td>13700</td>\n",
              "      <td>9933</td>\n",
              "      <td>0.420302</td>\n",
              "      <td>0.579698</td>\n",
              "    </tr>\n",
              "    <tr>\n",
              "      <th>9</th>\n",
              "      <td>Georgia</td>\n",
              "      <td>4297</td>\n",
              "      <td>3113</td>\n",
              "      <td>0.420108</td>\n",
              "      <td>0.579892</td>\n",
              "    </tr>\n",
              "    <tr>\n",
              "      <th>10</th>\n",
              "      <td>Hawaii</td>\n",
              "      <td>984</td>\n",
              "      <td>595</td>\n",
              "      <td>0.376821</td>\n",
              "      <td>0.623179</td>\n",
              "    </tr>\n",
              "    <tr>\n",
              "      <th>11</th>\n",
              "      <td>Iowa</td>\n",
              "      <td>1097</td>\n",
              "      <td>772</td>\n",
              "      <td>0.413055</td>\n",
              "      <td>0.586945</td>\n",
              "    </tr>\n",
              "    <tr>\n",
              "      <th>12</th>\n",
              "      <td>Idaho</td>\n",
              "      <td>608</td>\n",
              "      <td>492</td>\n",
              "      <td>0.447273</td>\n",
              "      <td>0.552727</td>\n",
              "    </tr>\n",
              "    <tr>\n",
              "      <th>13</th>\n",
              "      <td>Illinois</td>\n",
              "      <td>5168</td>\n",
              "      <td>2955</td>\n",
              "      <td>0.363782</td>\n",
              "      <td>0.636218</td>\n",
              "    </tr>\n",
              "    <tr>\n",
              "      <th>14</th>\n",
              "      <td>Indiana</td>\n",
              "      <td>2295</td>\n",
              "      <td>1733</td>\n",
              "      <td>0.430238</td>\n",
              "      <td>0.569762</td>\n",
              "    </tr>\n",
              "    <tr>\n",
              "      <th>15</th>\n",
              "      <td>Kansas</td>\n",
              "      <td>1416</td>\n",
              "      <td>995</td>\n",
              "      <td>0.412692</td>\n",
              "      <td>0.587308</td>\n",
              "    </tr>\n",
              "    <tr>\n",
              "      <th>16</th>\n",
              "      <td>Kentucky</td>\n",
              "      <td>1622</td>\n",
              "      <td>1189</td>\n",
              "      <td>0.422981</td>\n",
              "      <td>0.577019</td>\n",
              "    </tr>\n",
              "    <tr>\n",
              "      <th>17</th>\n",
              "      <td>Louisiana</td>\n",
              "      <td>1697</td>\n",
              "      <td>1258</td>\n",
              "      <td>0.425719</td>\n",
              "      <td>0.574281</td>\n",
              "    </tr>\n",
              "    <tr>\n",
              "      <th>18</th>\n",
              "      <td>Massachusetts</td>\n",
              "      <td>4120</td>\n",
              "      <td>2525</td>\n",
              "      <td>0.379985</td>\n",
              "      <td>0.620015</td>\n",
              "    </tr>\n",
              "    <tr>\n",
              "      <th>19</th>\n",
              "      <td>Maryland</td>\n",
              "      <td>2676</td>\n",
              "      <td>1533</td>\n",
              "      <td>0.364220</td>\n",
              "      <td>0.635780</td>\n",
              "    </tr>\n",
              "    <tr>\n",
              "      <th>20</th>\n",
              "      <td>Maine</td>\n",
              "      <td>1009</td>\n",
              "      <td>689</td>\n",
              "      <td>0.405771</td>\n",
              "      <td>0.594229</td>\n",
              "    </tr>\n",
              "    <tr>\n",
              "      <th>21</th>\n",
              "      <td>Michigan</td>\n",
              "      <td>4852</td>\n",
              "      <td>3102</td>\n",
              "      <td>0.389992</td>\n",
              "      <td>0.610008</td>\n",
              "    </tr>\n",
              "    <tr>\n",
              "      <th>22</th>\n",
              "      <td>Minnesota</td>\n",
              "      <td>2789</td>\n",
              "      <td>1683</td>\n",
              "      <td>0.376342</td>\n",
              "      <td>0.623658</td>\n",
              "    </tr>\n",
              "    <tr>\n",
              "      <th>23</th>\n",
              "      <td>Missouri</td>\n",
              "      <td>1863</td>\n",
              "      <td>1339</td>\n",
              "      <td>0.418176</td>\n",
              "      <td>0.581824</td>\n",
              "    </tr>\n",
              "    <tr>\n",
              "      <th>24</th>\n",
              "      <td>Mississippi</td>\n",
              "      <td>657</td>\n",
              "      <td>515</td>\n",
              "      <td>0.439420</td>\n",
              "      <td>0.560580</td>\n",
              "    </tr>\n",
              "    <tr>\n",
              "      <th>25</th>\n",
              "      <td>Montana</td>\n",
              "      <td>462</td>\n",
              "      <td>315</td>\n",
              "      <td>0.405405</td>\n",
              "      <td>0.594595</td>\n",
              "    </tr>\n",
              "    <tr>\n",
              "      <th>26</th>\n",
              "      <td>North Carolina</td>\n",
              "      <td>4610</td>\n",
              "      <td>3187</td>\n",
              "      <td>0.408747</td>\n",
              "      <td>0.591253</td>\n",
              "    </tr>\n",
              "    <tr>\n",
              "      <th>27</th>\n",
              "      <td>North Dakota</td>\n",
              "      <td>233</td>\n",
              "      <td>155</td>\n",
              "      <td>0.399485</td>\n",
              "      <td>0.600515</td>\n",
              "    </tr>\n",
              "    <tr>\n",
              "      <th>28</th>\n",
              "      <td>Nebraska</td>\n",
              "      <td>969</td>\n",
              "      <td>627</td>\n",
              "      <td>0.392857</td>\n",
              "      <td>0.607143</td>\n",
              "    </tr>\n",
              "    <tr>\n",
              "      <th>29</th>\n",
              "      <td>New Hampshire</td>\n",
              "      <td>813</td>\n",
              "      <td>508</td>\n",
              "      <td>0.384557</td>\n",
              "      <td>0.615443</td>\n",
              "    </tr>\n",
              "    <tr>\n",
              "      <th>30</th>\n",
              "      <td>New Jersey</td>\n",
              "      <td>4010</td>\n",
              "      <td>2569</td>\n",
              "      <td>0.390485</td>\n",
              "      <td>0.609515</td>\n",
              "    </tr>\n",
              "    <tr>\n",
              "      <th>31</th>\n",
              "      <td>New Mexico</td>\n",
              "      <td>1029</td>\n",
              "      <td>593</td>\n",
              "      <td>0.365598</td>\n",
              "      <td>0.634402</td>\n",
              "    </tr>\n",
              "    <tr>\n",
              "      <th>32</th>\n",
              "      <td>Nevada</td>\n",
              "      <td>1879</td>\n",
              "      <td>1245</td>\n",
              "      <td>0.398528</td>\n",
              "      <td>0.601472</td>\n",
              "    </tr>\n",
              "    <tr>\n",
              "      <th>33</th>\n",
              "      <td>New York</td>\n",
              "      <td>14523</td>\n",
              "      <td>8813</td>\n",
              "      <td>0.377657</td>\n",
              "      <td>0.622343</td>\n",
              "    </tr>\n",
              "    <tr>\n",
              "      <th>34</th>\n",
              "      <td>Ohio</td>\n",
              "      <td>4957</td>\n",
              "      <td>3378</td>\n",
              "      <td>0.405279</td>\n",
              "      <td>0.594721</td>\n",
              "    </tr>\n",
              "    <tr>\n",
              "      <th>35</th>\n",
              "      <td>Oklahoma</td>\n",
              "      <td>1380</td>\n",
              "      <td>994</td>\n",
              "      <td>0.418703</td>\n",
              "      <td>0.581297</td>\n",
              "    </tr>\n",
              "    <tr>\n",
              "      <th>36</th>\n",
              "      <td>Oregon</td>\n",
              "      <td>3660</td>\n",
              "      <td>2080</td>\n",
              "      <td>0.362369</td>\n",
              "      <td>0.637631</td>\n",
              "    </tr>\n",
              "    <tr>\n",
              "      <th>37</th>\n",
              "      <td>Pennsylvania</td>\n",
              "      <td>6293</td>\n",
              "      <td>4007</td>\n",
              "      <td>0.389029</td>\n",
              "      <td>0.610971</td>\n",
              "    </tr>\n",
              "    <tr>\n",
              "      <th>38</th>\n",
              "      <td>Rhode Island</td>\n",
              "      <td>612</td>\n",
              "      <td>392</td>\n",
              "      <td>0.390438</td>\n",
              "      <td>0.609562</td>\n",
              "    </tr>\n",
              "    <tr>\n",
              "      <th>39</th>\n",
              "      <td>South Carolina</td>\n",
              "      <td>1970</td>\n",
              "      <td>1542</td>\n",
              "      <td>0.439066</td>\n",
              "      <td>0.560934</td>\n",
              "    </tr>\n",
              "    <tr>\n",
              "      <th>40</th>\n",
              "      <td>South Dakota</td>\n",
              "      <td>259</td>\n",
              "      <td>172</td>\n",
              "      <td>0.399072</td>\n",
              "      <td>0.600928</td>\n",
              "    </tr>\n",
              "    <tr>\n",
              "      <th>41</th>\n",
              "      <td>Tennessee</td>\n",
              "      <td>2799</td>\n",
              "      <td>2080</td>\n",
              "      <td>0.426317</td>\n",
              "      <td>0.573683</td>\n",
              "    </tr>\n",
              "    <tr>\n",
              "      <th>42</th>\n",
              "      <td>Texas</td>\n",
              "      <td>14277</td>\n",
              "      <td>10490</td>\n",
              "      <td>0.423547</td>\n",
              "      <td>0.576453</td>\n",
              "    </tr>\n",
              "    <tr>\n",
              "      <th>43</th>\n",
              "      <td>Utah</td>\n",
              "      <td>975</td>\n",
              "      <td>682</td>\n",
              "      <td>0.411587</td>\n",
              "      <td>0.588413</td>\n",
              "    </tr>\n",
              "    <tr>\n",
              "      <th>44</th>\n",
              "      <td>Virginia</td>\n",
              "      <td>3974</td>\n",
              "      <td>2444</td>\n",
              "      <td>0.380804</td>\n",
              "      <td>0.619196</td>\n",
              "    </tr>\n",
              "    <tr>\n",
              "      <th>45</th>\n",
              "      <td>Vermont</td>\n",
              "      <td>370</td>\n",
              "      <td>215</td>\n",
              "      <td>0.367521</td>\n",
              "      <td>0.632479</td>\n",
              "    </tr>\n",
              "    <tr>\n",
              "      <th>46</th>\n",
              "      <td>Washington</td>\n",
              "      <td>8120</td>\n",
              "      <td>4700</td>\n",
              "      <td>0.366615</td>\n",
              "      <td>0.633385</td>\n",
              "    </tr>\n",
              "    <tr>\n",
              "      <th>47</th>\n",
              "      <td>Wisconsin</td>\n",
              "      <td>2154</td>\n",
              "      <td>1376</td>\n",
              "      <td>0.389802</td>\n",
              "      <td>0.610198</td>\n",
              "    </tr>\n",
              "    <tr>\n",
              "      <th>48</th>\n",
              "      <td>West Virginia</td>\n",
              "      <td>563</td>\n",
              "      <td>380</td>\n",
              "      <td>0.402969</td>\n",
              "      <td>0.597031</td>\n",
              "    </tr>\n",
              "    <tr>\n",
              "      <th>49</th>\n",
              "      <td>Wyoming</td>\n",
              "      <td>214</td>\n",
              "      <td>129</td>\n",
              "      <td>0.376093</td>\n",
              "      <td>0.623907</td>\n",
              "    </tr>\n",
              "  </tbody>\n",
              "</table>\n",
              "</div>"
            ],
            "text/plain": [
              "             State  Democrat  ...  Republican_percentage  Democrat_percentage\n",
              "0           Alaska       513  ...               0.405562             0.594438\n",
              "1          Alabama      1590  ...               0.440338             0.559662\n",
              "2         Arkansas      1158  ...               0.401550             0.598450\n",
              "3          Arizona      4630  ...               0.401886             0.598114\n",
              "4       California     24173  ...               0.372456             0.627544\n",
              "5         Colorado      3629  ...               0.374634             0.625366\n",
              "6      Connecticut      1790  ...               0.376089             0.623911\n",
              "7         Delaware       632  ...               0.359676             0.640324\n",
              "8          Florida     13700  ...               0.420302             0.579698\n",
              "9          Georgia      4297  ...               0.420108             0.579892\n",
              "10          Hawaii       984  ...               0.376821             0.623179\n",
              "11            Iowa      1097  ...               0.413055             0.586945\n",
              "12           Idaho       608  ...               0.447273             0.552727\n",
              "13        Illinois      5168  ...               0.363782             0.636218\n",
              "14         Indiana      2295  ...               0.430238             0.569762\n",
              "15          Kansas      1416  ...               0.412692             0.587308\n",
              "16        Kentucky      1622  ...               0.422981             0.577019\n",
              "17       Louisiana      1697  ...               0.425719             0.574281\n",
              "18   Massachusetts      4120  ...               0.379985             0.620015\n",
              "19        Maryland      2676  ...               0.364220             0.635780\n",
              "20           Maine      1009  ...               0.405771             0.594229\n",
              "21        Michigan      4852  ...               0.389992             0.610008\n",
              "22       Minnesota      2789  ...               0.376342             0.623658\n",
              "23        Missouri      1863  ...               0.418176             0.581824\n",
              "24     Mississippi       657  ...               0.439420             0.560580\n",
              "25         Montana       462  ...               0.405405             0.594595\n",
              "26  North Carolina      4610  ...               0.408747             0.591253\n",
              "27    North Dakota       233  ...               0.399485             0.600515\n",
              "28        Nebraska       969  ...               0.392857             0.607143\n",
              "29   New Hampshire       813  ...               0.384557             0.615443\n",
              "30      New Jersey      4010  ...               0.390485             0.609515\n",
              "31      New Mexico      1029  ...               0.365598             0.634402\n",
              "32          Nevada      1879  ...               0.398528             0.601472\n",
              "33        New York     14523  ...               0.377657             0.622343\n",
              "34            Ohio      4957  ...               0.405279             0.594721\n",
              "35        Oklahoma      1380  ...               0.418703             0.581297\n",
              "36          Oregon      3660  ...               0.362369             0.637631\n",
              "37    Pennsylvania      6293  ...               0.389029             0.610971\n",
              "38    Rhode Island       612  ...               0.390438             0.609562\n",
              "39  South Carolina      1970  ...               0.439066             0.560934\n",
              "40    South Dakota       259  ...               0.399072             0.600928\n",
              "41       Tennessee      2799  ...               0.426317             0.573683\n",
              "42           Texas     14277  ...               0.423547             0.576453\n",
              "43            Utah       975  ...               0.411587             0.588413\n",
              "44        Virginia      3974  ...               0.380804             0.619196\n",
              "45         Vermont       370  ...               0.367521             0.632479\n",
              "46      Washington      8120  ...               0.366615             0.633385\n",
              "47       Wisconsin      2154  ...               0.389802             0.610198\n",
              "48   West Virginia       563  ...               0.402969             0.597031\n",
              "49         Wyoming       214  ...               0.376093             0.623907\n",
              "\n",
              "[50 rows x 5 columns]"
            ]
          },
          "metadata": {
            "tags": []
          }
        }
      ]
    },
    {
      "cell_type": "code",
      "metadata": {
        "colab": {
          "base_uri": "https://localhost:8080/",
          "height": 1000
        },
        "id": "hfRhD4fxqSJ_",
        "outputId": "fa3b6c04-af60-43e2-a992-87c8027304e1"
      },
      "source": [
        "df_repub_percentage_sorted = df_state_results.sort_values(by=['Republican_percentage'])\n",
        "display(df_repub_percentage_sorted)"
      ],
      "execution_count": null,
      "outputs": [
        {
          "output_type": "display_data",
          "data": {
            "text/html": [
              "<div>\n",
              "<style scoped>\n",
              "    .dataframe tbody tr th:only-of-type {\n",
              "        vertical-align: middle;\n",
              "    }\n",
              "\n",
              "    .dataframe tbody tr th {\n",
              "        vertical-align: top;\n",
              "    }\n",
              "\n",
              "    .dataframe thead th {\n",
              "        text-align: right;\n",
              "    }\n",
              "</style>\n",
              "<table border=\"1\" class=\"dataframe\">\n",
              "  <thead>\n",
              "    <tr style=\"text-align: right;\">\n",
              "      <th></th>\n",
              "      <th>State</th>\n",
              "      <th>Democrat</th>\n",
              "      <th>Republican</th>\n",
              "      <th>Republican_percentage</th>\n",
              "      <th>Democrat_percentage</th>\n",
              "    </tr>\n",
              "  </thead>\n",
              "  <tbody>\n",
              "    <tr>\n",
              "      <th>7</th>\n",
              "      <td>Delaware</td>\n",
              "      <td>632</td>\n",
              "      <td>355</td>\n",
              "      <td>0.359676</td>\n",
              "      <td>0.640324</td>\n",
              "    </tr>\n",
              "    <tr>\n",
              "      <th>36</th>\n",
              "      <td>Oregon</td>\n",
              "      <td>3660</td>\n",
              "      <td>2080</td>\n",
              "      <td>0.362369</td>\n",
              "      <td>0.637631</td>\n",
              "    </tr>\n",
              "    <tr>\n",
              "      <th>13</th>\n",
              "      <td>Illinois</td>\n",
              "      <td>5168</td>\n",
              "      <td>2955</td>\n",
              "      <td>0.363782</td>\n",
              "      <td>0.636218</td>\n",
              "    </tr>\n",
              "    <tr>\n",
              "      <th>19</th>\n",
              "      <td>Maryland</td>\n",
              "      <td>2676</td>\n",
              "      <td>1533</td>\n",
              "      <td>0.364220</td>\n",
              "      <td>0.635780</td>\n",
              "    </tr>\n",
              "    <tr>\n",
              "      <th>31</th>\n",
              "      <td>New Mexico</td>\n",
              "      <td>1029</td>\n",
              "      <td>593</td>\n",
              "      <td>0.365598</td>\n",
              "      <td>0.634402</td>\n",
              "    </tr>\n",
              "    <tr>\n",
              "      <th>46</th>\n",
              "      <td>Washington</td>\n",
              "      <td>8120</td>\n",
              "      <td>4700</td>\n",
              "      <td>0.366615</td>\n",
              "      <td>0.633385</td>\n",
              "    </tr>\n",
              "    <tr>\n",
              "      <th>45</th>\n",
              "      <td>Vermont</td>\n",
              "      <td>370</td>\n",
              "      <td>215</td>\n",
              "      <td>0.367521</td>\n",
              "      <td>0.632479</td>\n",
              "    </tr>\n",
              "    <tr>\n",
              "      <th>4</th>\n",
              "      <td>California</td>\n",
              "      <td>24173</td>\n",
              "      <td>14347</td>\n",
              "      <td>0.372456</td>\n",
              "      <td>0.627544</td>\n",
              "    </tr>\n",
              "    <tr>\n",
              "      <th>5</th>\n",
              "      <td>Colorado</td>\n",
              "      <td>3629</td>\n",
              "      <td>2174</td>\n",
              "      <td>0.374634</td>\n",
              "      <td>0.625366</td>\n",
              "    </tr>\n",
              "    <tr>\n",
              "      <th>6</th>\n",
              "      <td>Connecticut</td>\n",
              "      <td>1790</td>\n",
              "      <td>1079</td>\n",
              "      <td>0.376089</td>\n",
              "      <td>0.623911</td>\n",
              "    </tr>\n",
              "    <tr>\n",
              "      <th>49</th>\n",
              "      <td>Wyoming</td>\n",
              "      <td>214</td>\n",
              "      <td>129</td>\n",
              "      <td>0.376093</td>\n",
              "      <td>0.623907</td>\n",
              "    </tr>\n",
              "    <tr>\n",
              "      <th>22</th>\n",
              "      <td>Minnesota</td>\n",
              "      <td>2789</td>\n",
              "      <td>1683</td>\n",
              "      <td>0.376342</td>\n",
              "      <td>0.623658</td>\n",
              "    </tr>\n",
              "    <tr>\n",
              "      <th>10</th>\n",
              "      <td>Hawaii</td>\n",
              "      <td>984</td>\n",
              "      <td>595</td>\n",
              "      <td>0.376821</td>\n",
              "      <td>0.623179</td>\n",
              "    </tr>\n",
              "    <tr>\n",
              "      <th>33</th>\n",
              "      <td>New York</td>\n",
              "      <td>14523</td>\n",
              "      <td>8813</td>\n",
              "      <td>0.377657</td>\n",
              "      <td>0.622343</td>\n",
              "    </tr>\n",
              "    <tr>\n",
              "      <th>18</th>\n",
              "      <td>Massachusetts</td>\n",
              "      <td>4120</td>\n",
              "      <td>2525</td>\n",
              "      <td>0.379985</td>\n",
              "      <td>0.620015</td>\n",
              "    </tr>\n",
              "    <tr>\n",
              "      <th>44</th>\n",
              "      <td>Virginia</td>\n",
              "      <td>3974</td>\n",
              "      <td>2444</td>\n",
              "      <td>0.380804</td>\n",
              "      <td>0.619196</td>\n",
              "    </tr>\n",
              "    <tr>\n",
              "      <th>29</th>\n",
              "      <td>New Hampshire</td>\n",
              "      <td>813</td>\n",
              "      <td>508</td>\n",
              "      <td>0.384557</td>\n",
              "      <td>0.615443</td>\n",
              "    </tr>\n",
              "    <tr>\n",
              "      <th>37</th>\n",
              "      <td>Pennsylvania</td>\n",
              "      <td>6293</td>\n",
              "      <td>4007</td>\n",
              "      <td>0.389029</td>\n",
              "      <td>0.610971</td>\n",
              "    </tr>\n",
              "    <tr>\n",
              "      <th>47</th>\n",
              "      <td>Wisconsin</td>\n",
              "      <td>2154</td>\n",
              "      <td>1376</td>\n",
              "      <td>0.389802</td>\n",
              "      <td>0.610198</td>\n",
              "    </tr>\n",
              "    <tr>\n",
              "      <th>21</th>\n",
              "      <td>Michigan</td>\n",
              "      <td>4852</td>\n",
              "      <td>3102</td>\n",
              "      <td>0.389992</td>\n",
              "      <td>0.610008</td>\n",
              "    </tr>\n",
              "    <tr>\n",
              "      <th>38</th>\n",
              "      <td>Rhode Island</td>\n",
              "      <td>612</td>\n",
              "      <td>392</td>\n",
              "      <td>0.390438</td>\n",
              "      <td>0.609562</td>\n",
              "    </tr>\n",
              "    <tr>\n",
              "      <th>30</th>\n",
              "      <td>New Jersey</td>\n",
              "      <td>4010</td>\n",
              "      <td>2569</td>\n",
              "      <td>0.390485</td>\n",
              "      <td>0.609515</td>\n",
              "    </tr>\n",
              "    <tr>\n",
              "      <th>28</th>\n",
              "      <td>Nebraska</td>\n",
              "      <td>969</td>\n",
              "      <td>627</td>\n",
              "      <td>0.392857</td>\n",
              "      <td>0.607143</td>\n",
              "    </tr>\n",
              "    <tr>\n",
              "      <th>32</th>\n",
              "      <td>Nevada</td>\n",
              "      <td>1879</td>\n",
              "      <td>1245</td>\n",
              "      <td>0.398528</td>\n",
              "      <td>0.601472</td>\n",
              "    </tr>\n",
              "    <tr>\n",
              "      <th>40</th>\n",
              "      <td>South Dakota</td>\n",
              "      <td>259</td>\n",
              "      <td>172</td>\n",
              "      <td>0.399072</td>\n",
              "      <td>0.600928</td>\n",
              "    </tr>\n",
              "    <tr>\n",
              "      <th>27</th>\n",
              "      <td>North Dakota</td>\n",
              "      <td>233</td>\n",
              "      <td>155</td>\n",
              "      <td>0.399485</td>\n",
              "      <td>0.600515</td>\n",
              "    </tr>\n",
              "    <tr>\n",
              "      <th>2</th>\n",
              "      <td>Arkansas</td>\n",
              "      <td>1158</td>\n",
              "      <td>777</td>\n",
              "      <td>0.401550</td>\n",
              "      <td>0.598450</td>\n",
              "    </tr>\n",
              "    <tr>\n",
              "      <th>3</th>\n",
              "      <td>Arizona</td>\n",
              "      <td>4630</td>\n",
              "      <td>3111</td>\n",
              "      <td>0.401886</td>\n",
              "      <td>0.598114</td>\n",
              "    </tr>\n",
              "    <tr>\n",
              "      <th>48</th>\n",
              "      <td>West Virginia</td>\n",
              "      <td>563</td>\n",
              "      <td>380</td>\n",
              "      <td>0.402969</td>\n",
              "      <td>0.597031</td>\n",
              "    </tr>\n",
              "    <tr>\n",
              "      <th>34</th>\n",
              "      <td>Ohio</td>\n",
              "      <td>4957</td>\n",
              "      <td>3378</td>\n",
              "      <td>0.405279</td>\n",
              "      <td>0.594721</td>\n",
              "    </tr>\n",
              "    <tr>\n",
              "      <th>25</th>\n",
              "      <td>Montana</td>\n",
              "      <td>462</td>\n",
              "      <td>315</td>\n",
              "      <td>0.405405</td>\n",
              "      <td>0.594595</td>\n",
              "    </tr>\n",
              "    <tr>\n",
              "      <th>0</th>\n",
              "      <td>Alaska</td>\n",
              "      <td>513</td>\n",
              "      <td>350</td>\n",
              "      <td>0.405562</td>\n",
              "      <td>0.594438</td>\n",
              "    </tr>\n",
              "    <tr>\n",
              "      <th>20</th>\n",
              "      <td>Maine</td>\n",
              "      <td>1009</td>\n",
              "      <td>689</td>\n",
              "      <td>0.405771</td>\n",
              "      <td>0.594229</td>\n",
              "    </tr>\n",
              "    <tr>\n",
              "      <th>26</th>\n",
              "      <td>North Carolina</td>\n",
              "      <td>4610</td>\n",
              "      <td>3187</td>\n",
              "      <td>0.408747</td>\n",
              "      <td>0.591253</td>\n",
              "    </tr>\n",
              "    <tr>\n",
              "      <th>43</th>\n",
              "      <td>Utah</td>\n",
              "      <td>975</td>\n",
              "      <td>682</td>\n",
              "      <td>0.411587</td>\n",
              "      <td>0.588413</td>\n",
              "    </tr>\n",
              "    <tr>\n",
              "      <th>15</th>\n",
              "      <td>Kansas</td>\n",
              "      <td>1416</td>\n",
              "      <td>995</td>\n",
              "      <td>0.412692</td>\n",
              "      <td>0.587308</td>\n",
              "    </tr>\n",
              "    <tr>\n",
              "      <th>11</th>\n",
              "      <td>Iowa</td>\n",
              "      <td>1097</td>\n",
              "      <td>772</td>\n",
              "      <td>0.413055</td>\n",
              "      <td>0.586945</td>\n",
              "    </tr>\n",
              "    <tr>\n",
              "      <th>23</th>\n",
              "      <td>Missouri</td>\n",
              "      <td>1863</td>\n",
              "      <td>1339</td>\n",
              "      <td>0.418176</td>\n",
              "      <td>0.581824</td>\n",
              "    </tr>\n",
              "    <tr>\n",
              "      <th>35</th>\n",
              "      <td>Oklahoma</td>\n",
              "      <td>1380</td>\n",
              "      <td>994</td>\n",
              "      <td>0.418703</td>\n",
              "      <td>0.581297</td>\n",
              "    </tr>\n",
              "    <tr>\n",
              "      <th>9</th>\n",
              "      <td>Georgia</td>\n",
              "      <td>4297</td>\n",
              "      <td>3113</td>\n",
              "      <td>0.420108</td>\n",
              "      <td>0.579892</td>\n",
              "    </tr>\n",
              "    <tr>\n",
              "      <th>8</th>\n",
              "      <td>Florida</td>\n",
              "      <td>13700</td>\n",
              "      <td>9933</td>\n",
              "      <td>0.420302</td>\n",
              "      <td>0.579698</td>\n",
              "    </tr>\n",
              "    <tr>\n",
              "      <th>16</th>\n",
              "      <td>Kentucky</td>\n",
              "      <td>1622</td>\n",
              "      <td>1189</td>\n",
              "      <td>0.422981</td>\n",
              "      <td>0.577019</td>\n",
              "    </tr>\n",
              "    <tr>\n",
              "      <th>42</th>\n",
              "      <td>Texas</td>\n",
              "      <td>14277</td>\n",
              "      <td>10490</td>\n",
              "      <td>0.423547</td>\n",
              "      <td>0.576453</td>\n",
              "    </tr>\n",
              "    <tr>\n",
              "      <th>17</th>\n",
              "      <td>Louisiana</td>\n",
              "      <td>1697</td>\n",
              "      <td>1258</td>\n",
              "      <td>0.425719</td>\n",
              "      <td>0.574281</td>\n",
              "    </tr>\n",
              "    <tr>\n",
              "      <th>41</th>\n",
              "      <td>Tennessee</td>\n",
              "      <td>2799</td>\n",
              "      <td>2080</td>\n",
              "      <td>0.426317</td>\n",
              "      <td>0.573683</td>\n",
              "    </tr>\n",
              "    <tr>\n",
              "      <th>14</th>\n",
              "      <td>Indiana</td>\n",
              "      <td>2295</td>\n",
              "      <td>1733</td>\n",
              "      <td>0.430238</td>\n",
              "      <td>0.569762</td>\n",
              "    </tr>\n",
              "    <tr>\n",
              "      <th>39</th>\n",
              "      <td>South Carolina</td>\n",
              "      <td>1970</td>\n",
              "      <td>1542</td>\n",
              "      <td>0.439066</td>\n",
              "      <td>0.560934</td>\n",
              "    </tr>\n",
              "    <tr>\n",
              "      <th>24</th>\n",
              "      <td>Mississippi</td>\n",
              "      <td>657</td>\n",
              "      <td>515</td>\n",
              "      <td>0.439420</td>\n",
              "      <td>0.560580</td>\n",
              "    </tr>\n",
              "    <tr>\n",
              "      <th>1</th>\n",
              "      <td>Alabama</td>\n",
              "      <td>1590</td>\n",
              "      <td>1251</td>\n",
              "      <td>0.440338</td>\n",
              "      <td>0.559662</td>\n",
              "    </tr>\n",
              "    <tr>\n",
              "      <th>12</th>\n",
              "      <td>Idaho</td>\n",
              "      <td>608</td>\n",
              "      <td>492</td>\n",
              "      <td>0.447273</td>\n",
              "      <td>0.552727</td>\n",
              "    </tr>\n",
              "  </tbody>\n",
              "</table>\n",
              "</div>"
            ],
            "text/plain": [
              "             State  Democrat  ...  Republican_percentage  Democrat_percentage\n",
              "7         Delaware       632  ...               0.359676             0.640324\n",
              "36          Oregon      3660  ...               0.362369             0.637631\n",
              "13        Illinois      5168  ...               0.363782             0.636218\n",
              "19        Maryland      2676  ...               0.364220             0.635780\n",
              "31      New Mexico      1029  ...               0.365598             0.634402\n",
              "46      Washington      8120  ...               0.366615             0.633385\n",
              "45         Vermont       370  ...               0.367521             0.632479\n",
              "4       California     24173  ...               0.372456             0.627544\n",
              "5         Colorado      3629  ...               0.374634             0.625366\n",
              "6      Connecticut      1790  ...               0.376089             0.623911\n",
              "49         Wyoming       214  ...               0.376093             0.623907\n",
              "22       Minnesota      2789  ...               0.376342             0.623658\n",
              "10          Hawaii       984  ...               0.376821             0.623179\n",
              "33        New York     14523  ...               0.377657             0.622343\n",
              "18   Massachusetts      4120  ...               0.379985             0.620015\n",
              "44        Virginia      3974  ...               0.380804             0.619196\n",
              "29   New Hampshire       813  ...               0.384557             0.615443\n",
              "37    Pennsylvania      6293  ...               0.389029             0.610971\n",
              "47       Wisconsin      2154  ...               0.389802             0.610198\n",
              "21        Michigan      4852  ...               0.389992             0.610008\n",
              "38    Rhode Island       612  ...               0.390438             0.609562\n",
              "30      New Jersey      4010  ...               0.390485             0.609515\n",
              "28        Nebraska       969  ...               0.392857             0.607143\n",
              "32          Nevada      1879  ...               0.398528             0.601472\n",
              "40    South Dakota       259  ...               0.399072             0.600928\n",
              "27    North Dakota       233  ...               0.399485             0.600515\n",
              "2         Arkansas      1158  ...               0.401550             0.598450\n",
              "3          Arizona      4630  ...               0.401886             0.598114\n",
              "48   West Virginia       563  ...               0.402969             0.597031\n",
              "34            Ohio      4957  ...               0.405279             0.594721\n",
              "25         Montana       462  ...               0.405405             0.594595\n",
              "0           Alaska       513  ...               0.405562             0.594438\n",
              "20           Maine      1009  ...               0.405771             0.594229\n",
              "26  North Carolina      4610  ...               0.408747             0.591253\n",
              "43            Utah       975  ...               0.411587             0.588413\n",
              "15          Kansas      1416  ...               0.412692             0.587308\n",
              "11            Iowa      1097  ...               0.413055             0.586945\n",
              "23        Missouri      1863  ...               0.418176             0.581824\n",
              "35        Oklahoma      1380  ...               0.418703             0.581297\n",
              "9          Georgia      4297  ...               0.420108             0.579892\n",
              "8          Florida     13700  ...               0.420302             0.579698\n",
              "16        Kentucky      1622  ...               0.422981             0.577019\n",
              "42           Texas     14277  ...               0.423547             0.576453\n",
              "17       Louisiana      1697  ...               0.425719             0.574281\n",
              "41       Tennessee      2799  ...               0.426317             0.573683\n",
              "14         Indiana      2295  ...               0.430238             0.569762\n",
              "39  South Carolina      1970  ...               0.439066             0.560934\n",
              "24     Mississippi       657  ...               0.439420             0.560580\n",
              "1          Alabama      1590  ...               0.440338             0.559662\n",
              "12           Idaho       608  ...               0.447273             0.552727\n",
              "\n",
              "[50 rows x 5 columns]"
            ]
          },
          "metadata": {
            "tags": []
          }
        }
      ]
    },
    {
      "cell_type": "code",
      "metadata": {
        "id": "hfo0XpJ7wtK2"
      },
      "source": [
        "df_state_results.to_csv(\"/content/drive/MyDrive/Junior Year/DSP Final Project/state_winners_model3.csv\")"
      ],
      "execution_count": null,
      "outputs": []
    }
  ]
}